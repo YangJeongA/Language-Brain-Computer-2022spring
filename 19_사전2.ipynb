{
  "nbformat": 4,
  "nbformat_minor": 0,
  "metadata": {
    "colab": {
      "provenance": [],
      "include_colab_link": true
    },
    "kernelspec": {
      "name": "python3",
      "display_name": "Python 3"
    },
    "language_info": {
      "name": "python"
    }
  },
  "cells": [
    {
      "cell_type": "markdown",
      "metadata": {
        "id": "view-in-github",
        "colab_type": "text"
      },
      "source": [
        "<a href=\"https://colab.research.google.com/github/YangJeongA/Language-Brain-Computer-2022spring/blob/main/19_%EC%82%AC%EC%A0%842.ipynb\" target=\"_parent\"><img src=\"https://colab.research.google.com/assets/colab-badge.svg\" alt=\"Open In Colab\"/></a>"
      ]
    },
    {
      "cell_type": "markdown",
      "source": [
        "# 함수 collections.Counter \n",
        "- 대문자 주의!\n",
        "- 내가 다루고 있는 데이터의 모든 원소별 빈도값을 간편하게 산출하기 위해서는 collections 모듈의 Counter 함수를 사용하는 게 좋음 "
      ],
      "metadata": {
        "id": "X1GC4gpwl8x6"
      }
    },
    {
      "cell_type": "code",
      "execution_count": 1,
      "metadata": {
        "id": "Z4CKw3QdW5Tq"
      },
      "outputs": [],
      "source": [
        "import collections"
      ]
    },
    {
      "cell_type": "code",
      "source": [
        "a = 'apple\\tapple\\tbanana'"
      ],
      "metadata": {
        "id": "qAl_MUeBmMmv"
      },
      "execution_count": 2,
      "outputs": []
    },
    {
      "cell_type": "code",
      "source": [
        "collections.Counter(a)\n",
        "\n",
        "# 각 원소별 빈도값이 dictionary 형태로 출력됨 -> 원소의 기존 순서대로 출력됨 (버전에 따로 다르기도 함. 상관x)"
      ],
      "metadata": {
        "colab": {
          "base_uri": "https://localhost:8080/"
        },
        "id": "uN40b_UMmRuR",
        "outputId": "5eac9845-5bb6-473b-da7d-3e50d1bb2535"
      },
      "execution_count": 3,
      "outputs": [
        {
          "output_type": "execute_result",
          "data": {
            "text/plain": [
              "Counter({'a': 5, 'p': 4, 'l': 2, 'e': 2, '\\t': 2, 'b': 1, 'n': 2})"
            ]
          },
          "metadata": {},
          "execution_count": 3
        }
      ]
    },
    {
      "cell_type": "code",
      "source": [
        "type(collections.Counter(a))"
      ],
      "metadata": {
        "colab": {
          "base_uri": "https://localhost:8080/"
        },
        "id": "yAcgLSgAmn1Q",
        "outputId": "acb20c2a-4fca-4d67-de21-3a802371d49e"
      },
      "execution_count": 4,
      "outputs": [
        {
          "output_type": "execute_result",
          "data": {
            "text/plain": [
              "collections.Counter"
            ]
          },
          "metadata": {},
          "execution_count": 4
        }
      ]
    },
    {
      "cell_type": "code",
      "source": [
        "collections.Counter(a).most_common()\n",
        "\n",
        "# dictionary였던 내부구조가 \"list\"로 바뀌고, key와 값의 쌍으로 구성되는 tuple이 원소로 출력됨 + 빈도 내림차순으로 정렬!(동일한 경우 기존 순서대로)"
      ],
      "metadata": {
        "colab": {
          "base_uri": "https://localhost:8080/"
        },
        "id": "tR8CH7ifmoDN",
        "outputId": "c7f0e00a-e4e4-4e34-99c7-c17adde68588"
      },
      "execution_count": 5,
      "outputs": [
        {
          "output_type": "execute_result",
          "data": {
            "text/plain": [
              "[('a', 5), ('p', 4), ('l', 2), ('e', 2), ('\\t', 2), ('n', 2), ('b', 1)]"
            ]
          },
          "metadata": {},
          "execution_count": 5
        }
      ]
    },
    {
      "cell_type": "code",
      "source": [
        "from collections import Counter"
      ],
      "metadata": {
        "id": "5bmEq4bEm5aG"
      },
      "execution_count": 6,
      "outputs": []
    },
    {
      "cell_type": "code",
      "source": [
        "a = 'apple\\tapple\\tbanana'"
      ],
      "metadata": {
        "id": "C2lzdK2Ym_ZP"
      },
      "execution_count": 7,
      "outputs": []
    },
    {
      "cell_type": "code",
      "source": [
        "Counter(a)"
      ],
      "metadata": {
        "colab": {
          "base_uri": "https://localhost:8080/"
        },
        "id": "JY0fvSXtnAev",
        "outputId": "47eb2f42-a5f6-45ab-f1c1-d10afe4709c4"
      },
      "execution_count": 8,
      "outputs": [
        {
          "output_type": "execute_result",
          "data": {
            "text/plain": [
              "Counter({'a': 5, 'p': 4, 'l': 2, 'e': 2, '\\t': 2, 'b': 1, 'n': 2})"
            ]
          },
          "metadata": {},
          "execution_count": 8
        }
      ]
    },
    {
      "cell_type": "code",
      "source": [
        "Counter(a).most_common(4)\n",
        "\n",
        "# 논항에 숫자 -> 몇개를 출력할 것인지 결정해줌 (고빈도 순으로)"
      ],
      "metadata": {
        "colab": {
          "base_uri": "https://localhost:8080/"
        },
        "id": "2USYHkXAnCNj",
        "outputId": "ef207c1e-034c-4013-a386-559dd95981b9"
      },
      "execution_count": 9,
      "outputs": [
        {
          "output_type": "execute_result",
          "data": {
            "text/plain": [
              "[('a', 5), ('p', 4), ('l', 2), ('e', 2)]"
            ]
          },
          "metadata": {},
          "execution_count": 9
        }
      ]
    },
    {
      "cell_type": "code",
      "source": [
        "dict(Counter(a))"
      ],
      "metadata": {
        "colab": {
          "base_uri": "https://localhost:8080/"
        },
        "id": "BvsURtgQnLs-",
        "outputId": "8d245b31-0000-40d3-8b07-9df5e01e4bfa"
      },
      "execution_count": 10,
      "outputs": [
        {
          "output_type": "execute_result",
          "data": {
            "text/plain": [
              "{'a': 5, 'p': 4, 'l': 2, 'e': 2, '\\t': 2, 'b': 1, 'n': 2}"
            ]
          },
          "metadata": {},
          "execution_count": 10
        }
      ]
    },
    {
      "cell_type": "code",
      "source": [
        "dict(Counter(a)).most_common()\n",
        "\n",
        "\n",
        "# 오류발생 -> most_common method는 collections.Counter datatype에 적용 가능!"
      ],
      "metadata": {
        "id": "wFMTAB0RnSV3",
        "colab": {
          "base_uri": "https://localhost:8080/",
          "height": 241
        },
        "outputId": "3a447218-9635-441d-a575-32857b2d3fd4"
      },
      "execution_count": 11,
      "outputs": [
        {
          "output_type": "error",
          "ename": "AttributeError",
          "evalue": "ignored",
          "traceback": [
            "\u001b[0;31m---------------------------------------------------------------------------\u001b[0m",
            "\u001b[0;31mAttributeError\u001b[0m                            Traceback (most recent call last)",
            "\u001b[0;32m<ipython-input-11-9dea4775aef5>\u001b[0m in \u001b[0;36m<module>\u001b[0;34m\u001b[0m\n\u001b[0;32m----> 1\u001b[0;31m \u001b[0mdict\u001b[0m\u001b[0;34m(\u001b[0m\u001b[0mCounter\u001b[0m\u001b[0;34m(\u001b[0m\u001b[0ma\u001b[0m\u001b[0;34m)\u001b[0m\u001b[0;34m)\u001b[0m\u001b[0;34m.\u001b[0m\u001b[0mmost_common\u001b[0m\u001b[0;34m(\u001b[0m\u001b[0;34m)\u001b[0m\u001b[0;34m\u001b[0m\u001b[0;34m\u001b[0m\u001b[0m\n\u001b[0m\u001b[1;32m      2\u001b[0m \u001b[0;34m\u001b[0m\u001b[0m\n\u001b[1;32m      3\u001b[0m \u001b[0;34m\u001b[0m\u001b[0m\n\u001b[1;32m      4\u001b[0m \u001b[0;31m# 오류발생 -> most_common method는 collections.Counter datatype에 적용 가능!\u001b[0m\u001b[0;34m\u001b[0m\u001b[0;34m\u001b[0m\u001b[0;34m\u001b[0m\u001b[0m\n",
            "\u001b[0;31mAttributeError\u001b[0m: 'dict' object has no attribute 'most_common'"
          ]
        }
      ]
    },
    {
      "cell_type": "markdown",
      "source": [
        "- Counter 함수: seqence data type의 원소를 분리해서 원소별 빈도를 출력하되, 왼쪽의 원소부터 시작해서 그것의 빈도값을 나열"
      ],
      "metadata": {
        "id": "FD7Ve4ECneVR"
      }
    },
    {
      "cell_type": "code",
      "source": [
        "Counter(['ab', 'bc', 'bc', 'ab','bc','ab'])"
      ],
      "metadata": {
        "colab": {
          "base_uri": "https://localhost:8080/"
        },
        "id": "fKEYnrOenlXV",
        "outputId": "24e857b8-e042-497a-fefb-a36368c4ec38"
      },
      "execution_count": 13,
      "outputs": [
        {
          "output_type": "execute_result",
          "data": {
            "text/plain": [
              "Counter({'ab': 3, 'bc': 3})"
            ]
          },
          "metadata": {},
          "execution_count": 13
        }
      ]
    },
    {
      "cell_type": "code",
      "source": [
        "Counter(['ab', 'bc', 'bc', 'ab','bc','ab']).most_common"
      ],
      "metadata": {
        "colab": {
          "base_uri": "https://localhost:8080/"
        },
        "id": "FYtJW04Gnld9",
        "outputId": "f166cd8b-37eb-48da-fe7e-7556203cd14f"
      },
      "execution_count": 14,
      "outputs": [
        {
          "output_type": "execute_result",
          "data": {
            "text/plain": [
              "<bound method Counter.most_common of Counter({'ab': 3, 'bc': 3})>"
            ]
          },
          "metadata": {},
          "execution_count": 14
        }
      ]
    },
    {
      "cell_type": "code",
      "source": [
        "Counter(('bc', 'ab', 'bc', 'ab', 'bc', 'ab'))"
      ],
      "metadata": {
        "colab": {
          "base_uri": "https://localhost:8080/"
        },
        "id": "2dI9L74Jn0mr",
        "outputId": "d3acf311-ac8a-4207-fb19-447c94d13a10"
      },
      "execution_count": 15,
      "outputs": [
        {
          "output_type": "execute_result",
          "data": {
            "text/plain": [
              "Counter({'bc': 3, 'ab': 3})"
            ]
          },
          "metadata": {},
          "execution_count": 15
        }
      ]
    },
    {
      "cell_type": "code",
      "source": [
        "Counter(('bc', 'ab', 'bc', 'ab', 'bc', 'ab')).most_common()"
      ],
      "metadata": {
        "colab": {
          "base_uri": "https://localhost:8080/"
        },
        "id": "MbeYbwkxn88W",
        "outputId": "4963ce81-f26d-41c0-d346-ba11a93c2595"
      },
      "execution_count": 16,
      "outputs": [
        {
          "output_type": "execute_result",
          "data": {
            "text/plain": [
              "[('bc', 3), ('ab', 3)]"
            ]
          },
          "metadata": {},
          "execution_count": 16
        }
      ]
    },
    {
      "cell_type": "markdown",
      "source": [
        "# 함수 sorted\n",
        "- 다양한 datatype에 적용 가능 -> 원소를 **오름차순**으로 정렬\n",
        "- 출력결과가 output cell에 list로 출력됨"
      ],
      "metadata": {
        "id": "0jap0aSeoPGR"
      }
    },
    {
      "cell_type": "markdown",
      "source": [
        "#### sort method (list에 적용 가능한 method)"
      ],
      "metadata": {
        "id": "2Og6vyC9o-Ei"
      }
    },
    {
      "cell_type": "code",
      "source": [
        "a = 'apple\\tapplt\\tbanana'\n",
        "b = Counter(a)\n",
        "c = b.most_common()"
      ],
      "metadata": {
        "id": "b9XBwVp8oUyl"
      },
      "execution_count": 17,
      "outputs": []
    },
    {
      "cell_type": "code",
      "source": [
        "b.sort()\n",
        "\n",
        "# sort() -> list에만 적용가능. 선행변수에 출력값 저장"
      ],
      "metadata": {
        "colab": {
          "base_uri": "https://localhost:8080/",
          "height": 206
        },
        "id": "PEy42eEioa-G",
        "outputId": "db2248e2-fc7f-499a-c033-dc4ed3cf5e84"
      },
      "execution_count": 18,
      "outputs": [
        {
          "output_type": "error",
          "ename": "AttributeError",
          "evalue": "ignored",
          "traceback": [
            "\u001b[0;31m---------------------------------------------------------------------------\u001b[0m",
            "\u001b[0;31mAttributeError\u001b[0m                            Traceback (most recent call last)",
            "\u001b[0;32m<ipython-input-18-25f1ac06f1ce>\u001b[0m in \u001b[0;36m<module>\u001b[0;34m\u001b[0m\n\u001b[0;32m----> 1\u001b[0;31m \u001b[0mb\u001b[0m\u001b[0;34m.\u001b[0m\u001b[0msort\u001b[0m\u001b[0;34m(\u001b[0m\u001b[0;34m)\u001b[0m\u001b[0;34m\u001b[0m\u001b[0;34m\u001b[0m\u001b[0m\n\u001b[0m\u001b[1;32m      2\u001b[0m \u001b[0;34m\u001b[0m\u001b[0m\n\u001b[1;32m      3\u001b[0m \u001b[0;31m# sort() -> list에만 적용가능. 선행변수에 출력값 저장\u001b[0m\u001b[0;34m\u001b[0m\u001b[0;34m\u001b[0m\u001b[0;34m\u001b[0m\u001b[0m\n",
            "\u001b[0;31mAttributeError\u001b[0m: 'Counter' object has no attribute 'sort'"
          ]
        }
      ]
    },
    {
      "cell_type": "code",
      "source": [
        "c.sort()\n",
        "c"
      ],
      "metadata": {
        "colab": {
          "base_uri": "https://localhost:8080/"
        },
        "id": "PxuNHM9vowc1",
        "outputId": "c7e5be4d-d2d7-4c5a-ed56-d4d5504affd2"
      },
      "execution_count": 19,
      "outputs": [
        {
          "output_type": "execute_result",
          "data": {
            "text/plain": [
              "[('\\t', 2),\n",
              " ('a', 5),\n",
              " ('b', 1),\n",
              " ('e', 1),\n",
              " ('l', 2),\n",
              " ('n', 2),\n",
              " ('p', 4),\n",
              " ('t', 1)]"
            ]
          },
          "metadata": {},
          "execution_count": 19
        }
      ]
    },
    {
      "cell_type": "markdown",
      "source": [
        "### sorted 함수 (논항에 모든 datatype의 값 들어갈 수 있음)"
      ],
      "metadata": {
        "id": "B301JYL3pB-n"
      }
    },
    {
      "cell_type": "code",
      "source": [
        "a = 'apple\\tbanana'\n",
        "b = Counter(a)\n",
        "c = b.most_common()"
      ],
      "metadata": {
        "id": "GfHTpFqgo4bQ"
      },
      "execution_count": 20,
      "outputs": []
    },
    {
      "cell_type": "code",
      "source": [
        "sorted(a)"
      ],
      "metadata": {
        "colab": {
          "base_uri": "https://localhost:8080/"
        },
        "id": "khzlOTIopTH7",
        "outputId": "4358e9f8-d88a-47ab-c916-49a4992f541a"
      },
      "execution_count": 21,
      "outputs": [
        {
          "output_type": "execute_result",
          "data": {
            "text/plain": [
              "['\\t', 'a', 'a', 'a', 'a', 'b', 'e', 'l', 'n', 'n', 'p', 'p']"
            ]
          },
          "metadata": {},
          "execution_count": 21
        }
      ]
    },
    {
      "cell_type": "code",
      "source": [
        "sorted(b)"
      ],
      "metadata": {
        "colab": {
          "base_uri": "https://localhost:8080/"
        },
        "id": "ZyNGAF8bpUcL",
        "outputId": "d11ff4d9-191a-49ee-c849-854a666e845f"
      },
      "execution_count": 22,
      "outputs": [
        {
          "output_type": "execute_result",
          "data": {
            "text/plain": [
              "['\\t', 'a', 'b', 'e', 'l', 'n', 'p']"
            ]
          },
          "metadata": {},
          "execution_count": 22
        }
      ]
    },
    {
      "cell_type": "code",
      "source": [
        "sorted(c)"
      ],
      "metadata": {
        "colab": {
          "base_uri": "https://localhost:8080/"
        },
        "id": "gkKvf8n2pVma",
        "outputId": "13375d59-3377-4296-9666-2dcb04cae5e9"
      },
      "execution_count": 23,
      "outputs": [
        {
          "output_type": "execute_result",
          "data": {
            "text/plain": [
              "[('\\t', 1), ('a', 4), ('b', 1), ('e', 1), ('l', 1), ('n', 2), ('p', 2)]"
            ]
          },
          "metadata": {},
          "execution_count": 23
        }
      ]
    },
    {
      "cell_type": "markdown",
      "source": [
        "- sorted 함수도 reverse, key 사용 가능"
      ],
      "metadata": {
        "id": "8duiY15dpaoO"
      }
    },
    {
      "cell_type": "code",
      "source": [
        "a = 'apple\\tbanana'\n",
        "b = Counter(a)\n",
        "c = b.most_common()"
      ],
      "metadata": {
        "id": "tg6Zyp6HpdXV"
      },
      "execution_count": 24,
      "outputs": []
    },
    {
      "cell_type": "code",
      "source": [
        "sorted(a, reverse=True)"
      ],
      "metadata": {
        "colab": {
          "base_uri": "https://localhost:8080/"
        },
        "id": "7P1K3WU_pgxl",
        "outputId": "aaa69de8-a29c-4303-d0ba-0eb9e663269a"
      },
      "execution_count": 25,
      "outputs": [
        {
          "output_type": "execute_result",
          "data": {
            "text/plain": [
              "['p', 'p', 'n', 'n', 'l', 'e', 'b', 'a', 'a', 'a', 'a', '\\t']"
            ]
          },
          "metadata": {},
          "execution_count": 25
        }
      ]
    },
    {
      "cell_type": "code",
      "source": [
        "sorted(dict(b), reverse=True)"
      ],
      "metadata": {
        "colab": {
          "base_uri": "https://localhost:8080/"
        },
        "id": "4Qg2agnypje5",
        "outputId": "3b147b7f-96bd-4729-eb61-bf44a4a4f0a7"
      },
      "execution_count": 26,
      "outputs": [
        {
          "output_type": "execute_result",
          "data": {
            "text/plain": [
              "['p', 'n', 'l', 'e', 'b', 'a', '\\t']"
            ]
          },
          "metadata": {},
          "execution_count": 26
        }
      ]
    },
    {
      "cell_type": "code",
      "source": [
        "sorted(c, key=lambda x:x[1])"
      ],
      "metadata": {
        "colab": {
          "base_uri": "https://localhost:8080/"
        },
        "id": "94YruV71pmvl",
        "outputId": "2eff9b8f-47bc-469f-94f6-58abe1fd5fc6"
      },
      "execution_count": 27,
      "outputs": [
        {
          "output_type": "execute_result",
          "data": {
            "text/plain": [
              "[('l', 1), ('e', 1), ('\\t', 1), ('b', 1), ('p', 2), ('n', 2), ('a', 4)]"
            ]
          },
          "metadata": {},
          "execution_count": 27
        }
      ]
    },
    {
      "cell_type": "markdown",
      "source": [
        "# Counter와 사전 메쏘드"
      ],
      "metadata": {
        "id": "eV0LNG4QptPh"
      }
    },
    {
      "cell_type": "code",
      "source": [
        "b = Counter('apple\\tapple\\tbanana')\n",
        "b"
      ],
      "metadata": {
        "colab": {
          "base_uri": "https://localhost:8080/"
        },
        "id": "AUN0GaGGpvYo",
        "outputId": "3e197e8e-dc2e-48ba-fc14-d83f6c4efe1a"
      },
      "execution_count": 28,
      "outputs": [
        {
          "output_type": "execute_result",
          "data": {
            "text/plain": [
              "Counter({'a': 5, 'p': 4, 'l': 2, 'e': 2, '\\t': 2, 'b': 1, 'n': 2})"
            ]
          },
          "metadata": {},
          "execution_count": 28
        }
      ]
    },
    {
      "cell_type": "code",
      "source": [
        "b.items()"
      ],
      "metadata": {
        "colab": {
          "base_uri": "https://localhost:8080/"
        },
        "id": "CoZ4cld8p0FV",
        "outputId": "d6a1d972-4753-4cb3-c82a-b2d92d303b18"
      },
      "execution_count": 29,
      "outputs": [
        {
          "output_type": "execute_result",
          "data": {
            "text/plain": [
              "dict_items([('a', 5), ('p', 4), ('l', 2), ('e', 2), ('\\t', 2), ('b', 1), ('n', 2)])"
            ]
          },
          "metadata": {},
          "execution_count": 29
        }
      ]
    },
    {
      "cell_type": "code",
      "source": [
        "b.keys()"
      ],
      "metadata": {
        "colab": {
          "base_uri": "https://localhost:8080/"
        },
        "id": "cInXzSxIp2jx",
        "outputId": "3c89062a-c909-4ca5-86d6-34e8125f18e9"
      },
      "execution_count": 30,
      "outputs": [
        {
          "output_type": "execute_result",
          "data": {
            "text/plain": [
              "dict_keys(['a', 'p', 'l', 'e', '\\t', 'b', 'n'])"
            ]
          },
          "metadata": {},
          "execution_count": 30
        }
      ]
    },
    {
      "cell_type": "code",
      "source": [
        "b.values()"
      ],
      "metadata": {
        "colab": {
          "base_uri": "https://localhost:8080/"
        },
        "id": "ydT371S6p3zO",
        "outputId": "3f390630-91da-431c-a743-2dd15406fa8b"
      },
      "execution_count": 31,
      "outputs": [
        {
          "output_type": "execute_result",
          "data": {
            "text/plain": [
              "dict_values([5, 4, 2, 2, 2, 1, 2])"
            ]
          },
          "metadata": {},
          "execution_count": 31
        }
      ]
    },
    {
      "cell_type": "code",
      "source": [
        "sum(b.values())"
      ],
      "metadata": {
        "colab": {
          "base_uri": "https://localhost:8080/"
        },
        "id": "xDPRIcP0p5K-",
        "outputId": "cf376ec7-9689-43aa-d42a-488d3b026b9a"
      },
      "execution_count": 32,
      "outputs": [
        {
          "output_type": "execute_result",
          "data": {
            "text/plain": [
              "18"
            ]
          },
          "metadata": {},
          "execution_count": 32
        }
      ]
    },
    {
      "cell_type": "code",
      "source": [
        "b.update({'z':1})\n",
        "b"
      ],
      "metadata": {
        "colab": {
          "base_uri": "https://localhost:8080/"
        },
        "id": "I5MOcs6QqDt5",
        "outputId": "4f658225-1f85-475f-b91f-7c5153f570bf"
      },
      "execution_count": 33,
      "outputs": [
        {
          "output_type": "execute_result",
          "data": {
            "text/plain": [
              "Counter({'a': 5, 'p': 4, 'l': 2, 'e': 2, '\\t': 2, 'b': 1, 'n': 2, 'z': 1})"
            ]
          },
          "metadata": {},
          "execution_count": 33
        }
      ]
    },
    {
      "cell_type": "code",
      "source": [
        "b.pop('z')\n",
        "b"
      ],
      "metadata": {
        "colab": {
          "base_uri": "https://localhost:8080/"
        },
        "id": "u4MMCxFNqHbJ",
        "outputId": "5025e324-22d0-4921-dd30-004dadbd2445"
      },
      "execution_count": 34,
      "outputs": [
        {
          "output_type": "execute_result",
          "data": {
            "text/plain": [
              "Counter({'a': 5, 'p': 4, 'l': 2, 'e': 2, '\\t': 2, 'b': 1, 'n': 2})"
            ]
          },
          "metadata": {},
          "execution_count": 34
        }
      ]
    },
    {
      "cell_type": "code",
      "source": [
        "del b['n']\n",
        "b"
      ],
      "metadata": {
        "colab": {
          "base_uri": "https://localhost:8080/"
        },
        "id": "bpQumHX3qK6D",
        "outputId": "1da0418c-1691-4d53-ddb6-55a31e01f52a"
      },
      "execution_count": 35,
      "outputs": [
        {
          "output_type": "execute_result",
          "data": {
            "text/plain": [
              "Counter({'a': 5, 'p': 4, 'l': 2, 'e': 2, '\\t': 2, 'b': 1})"
            ]
          },
          "metadata": {},
          "execution_count": 35
        }
      ]
    },
    {
      "cell_type": "markdown",
      "source": [
        "# Counter와 사전"
      ],
      "metadata": {
        "id": "80aWGiuWqN9Q"
      }
    },
    {
      "cell_type": "code",
      "source": [
        "b = Counter({'\\t': 2, 'a': 5, 'b': 1, 'e': 2, 'l': 2, 'p': 4})\n",
        "b"
      ],
      "metadata": {
        "colab": {
          "base_uri": "https://localhost:8080/"
        },
        "id": "f8s1DXEjqPDh",
        "outputId": "5fe9cf87-9460-4e89-f887-da4f0954b492"
      },
      "execution_count": 36,
      "outputs": [
        {
          "output_type": "execute_result",
          "data": {
            "text/plain": [
              "Counter({'\\t': 2, 'a': 5, 'b': 1, 'e': 2, 'l': 2, 'p': 4})"
            ]
          },
          "metadata": {},
          "execution_count": 36
        }
      ]
    },
    {
      "cell_type": "code",
      "source": [
        "b['z'] = 2\n",
        "b"
      ],
      "metadata": {
        "colab": {
          "base_uri": "https://localhost:8080/"
        },
        "id": "8p62RjbFqSPF",
        "outputId": "ca0e1a80-88aa-40e5-b050-c3c2f09d90c1"
      },
      "execution_count": 37,
      "outputs": [
        {
          "output_type": "execute_result",
          "data": {
            "text/plain": [
              "Counter({'\\t': 2, 'a': 5, 'b': 1, 'e': 2, 'l': 2, 'p': 4, 'z': 2})"
            ]
          },
          "metadata": {},
          "execution_count": 37
        }
      ]
    },
    {
      "cell_type": "code",
      "source": [
        "b['p'] = 6\n",
        "b"
      ],
      "metadata": {
        "colab": {
          "base_uri": "https://localhost:8080/"
        },
        "id": "keIcCYUQqZiW",
        "outputId": "71fab9df-58ed-4cc9-b93a-ea3740160f6c"
      },
      "execution_count": 38,
      "outputs": [
        {
          "output_type": "execute_result",
          "data": {
            "text/plain": [
              "Counter({'\\t': 2, 'a': 5, 'b': 1, 'e': 2, 'l': 2, 'p': 6, 'z': 2})"
            ]
          },
          "metadata": {},
          "execution_count": 38
        }
      ]
    },
    {
      "cell_type": "code",
      "source": [
        "len(b)"
      ],
      "metadata": {
        "colab": {
          "base_uri": "https://localhost:8080/"
        },
        "id": "3rpIulP3qdqx",
        "outputId": "77c09924-cebe-4a38-df95-13140cc35277"
      },
      "execution_count": 39,
      "outputs": [
        {
          "output_type": "execute_result",
          "data": {
            "text/plain": [
              "7"
            ]
          },
          "metadata": {},
          "execution_count": 39
        }
      ]
    },
    {
      "cell_type": "code",
      "source": [
        "'a' in b"
      ],
      "metadata": {
        "colab": {
          "base_uri": "https://localhost:8080/"
        },
        "id": "AN3HTDoOquFy",
        "outputId": "8056f85e-bfc5-458d-b865-2aec6421c7aa"
      },
      "execution_count": 40,
      "outputs": [
        {
          "output_type": "execute_result",
          "data": {
            "text/plain": [
              "True"
            ]
          },
          "metadata": {},
          "execution_count": 40
        }
      ]
    },
    {
      "cell_type": "code",
      "source": [
        "for i in b:\n",
        "  print(i)"
      ],
      "metadata": {
        "colab": {
          "base_uri": "https://localhost:8080/"
        },
        "id": "vqq6nhnLqyiP",
        "outputId": "505accf7-0599-4c47-e618-4b33cce0be3d"
      },
      "execution_count": 41,
      "outputs": [
        {
          "output_type": "stream",
          "name": "stdout",
          "text": [
            "\t\n",
            "a\n",
            "b\n",
            "e\n",
            "l\n",
            "p\n",
            "z\n"
          ]
        }
      ]
    },
    {
      "cell_type": "code",
      "source": [
        "c = b\n",
        "c"
      ],
      "metadata": {
        "colab": {
          "base_uri": "https://localhost:8080/"
        },
        "id": "f4ltMJIPq0ke",
        "outputId": "bc8f9ef0-3791-44fd-e9c4-570a08ff5e60"
      },
      "execution_count": 42,
      "outputs": [
        {
          "output_type": "execute_result",
          "data": {
            "text/plain": [
              "Counter({'\\t': 2, 'a': 5, 'b': 1, 'e': 2, 'l': 2, 'p': 6, 'z': 2})"
            ]
          },
          "metadata": {},
          "execution_count": 42
        }
      ]
    },
    {
      "cell_type": "code",
      "source": [
        "b['ZZ'] = 5\n",
        "b"
      ],
      "metadata": {
        "colab": {
          "base_uri": "https://localhost:8080/"
        },
        "id": "LXwqxxpzq4yj",
        "outputId": "b3df5a25-8750-49d4-88b6-7f6a4266d9a9"
      },
      "execution_count": 43,
      "outputs": [
        {
          "output_type": "execute_result",
          "data": {
            "text/plain": [
              "Counter({'\\t': 2, 'a': 5, 'b': 1, 'e': 2, 'l': 2, 'p': 6, 'z': 2, 'ZZ': 5})"
            ]
          },
          "metadata": {},
          "execution_count": 43
        }
      ]
    },
    {
      "cell_type": "code",
      "source": [
        "c"
      ],
      "metadata": {
        "colab": {
          "base_uri": "https://localhost:8080/"
        },
        "id": "wqRMuO4lq7J9",
        "outputId": "bc7177ff-6e3b-427e-e498-034905c102af"
      },
      "execution_count": 44,
      "outputs": [
        {
          "output_type": "execute_result",
          "data": {
            "text/plain": [
              "Counter({'\\t': 2, 'a': 5, 'b': 1, 'e': 2, 'l': 2, 'p': 6, 'z': 2, 'ZZ': 5})"
            ]
          },
          "metadata": {},
          "execution_count": 44
        }
      ]
    },
    {
      "cell_type": "code",
      "source": [
        "cnt = Counter()\n",
        "for i in ['r', 'b', 'a', 'b', 'r']:\n",
        "  cnt[i] += 1\n",
        "cnt"
      ],
      "metadata": {
        "colab": {
          "base_uri": "https://localhost:8080/"
        },
        "id": "Zw19Rrtbq_lS",
        "outputId": "3798a690-7091-43f6-984f-72083466f6ce"
      },
      "execution_count": 45,
      "outputs": [
        {
          "output_type": "execute_result",
          "data": {
            "text/plain": [
              "Counter({'r': 2, 'b': 2, 'a': 1})"
            ]
          },
          "metadata": {},
          "execution_count": 45
        }
      ]
    },
    {
      "cell_type": "code",
      "source": [
        "cnt = {}\n",
        "for i in ['r', 'b', 'a', 'b', 'r']:\n",
        "  cnt[i] += 1\n",
        "cnt\n",
        "\n",
        "# 서로 다른 datatype끼리 연산 x"
      ],
      "metadata": {
        "colab": {
          "base_uri": "https://localhost:8080/",
          "height": 241
        },
        "id": "wBCGBVucrGUH",
        "outputId": "c1a37934-9dcb-491b-b19b-c33da035c6ad"
      },
      "execution_count": 46,
      "outputs": [
        {
          "output_type": "error",
          "ename": "KeyError",
          "evalue": "ignored",
          "traceback": [
            "\u001b[0;31m---------------------------------------------------------------------------\u001b[0m",
            "\u001b[0;31mKeyError\u001b[0m                                  Traceback (most recent call last)",
            "\u001b[0;32m<ipython-input-46-643f67d0d293>\u001b[0m in \u001b[0;36m<module>\u001b[0;34m\u001b[0m\n\u001b[1;32m      1\u001b[0m \u001b[0mcnt\u001b[0m \u001b[0;34m=\u001b[0m \u001b[0;34m{\u001b[0m\u001b[0;34m}\u001b[0m\u001b[0;34m\u001b[0m\u001b[0;34m\u001b[0m\u001b[0m\n\u001b[1;32m      2\u001b[0m \u001b[0;32mfor\u001b[0m \u001b[0mi\u001b[0m \u001b[0;32min\u001b[0m \u001b[0;34m[\u001b[0m\u001b[0;34m'r'\u001b[0m\u001b[0;34m,\u001b[0m \u001b[0;34m'b'\u001b[0m\u001b[0;34m,\u001b[0m \u001b[0;34m'a'\u001b[0m\u001b[0;34m,\u001b[0m \u001b[0;34m'b'\u001b[0m\u001b[0;34m,\u001b[0m \u001b[0;34m'r'\u001b[0m\u001b[0;34m]\u001b[0m\u001b[0;34m:\u001b[0m\u001b[0;34m\u001b[0m\u001b[0;34m\u001b[0m\u001b[0m\n\u001b[0;32m----> 3\u001b[0;31m   \u001b[0mcnt\u001b[0m\u001b[0;34m[\u001b[0m\u001b[0mi\u001b[0m\u001b[0;34m]\u001b[0m \u001b[0;34m+=\u001b[0m \u001b[0;36m1\u001b[0m\u001b[0;34m\u001b[0m\u001b[0;34m\u001b[0m\u001b[0m\n\u001b[0m\u001b[1;32m      4\u001b[0m \u001b[0mcnt\u001b[0m\u001b[0;34m\u001b[0m\u001b[0;34m\u001b[0m\u001b[0m\n\u001b[1;32m      5\u001b[0m \u001b[0;34m\u001b[0m\u001b[0m\n",
            "\u001b[0;31mKeyError\u001b[0m: 'r'"
          ]
        }
      ]
    }
  ]
}