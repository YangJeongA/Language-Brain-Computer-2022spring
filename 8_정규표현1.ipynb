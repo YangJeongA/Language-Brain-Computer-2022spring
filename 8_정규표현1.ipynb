{
  "nbformat": 4,
  "nbformat_minor": 0,
  "metadata": {
    "colab": {
      "provenance": [],
      "include_colab_link": true
    },
    "kernelspec": {
      "name": "python3",
      "display_name": "Python 3"
    },
    "language_info": {
      "name": "python"
    }
  },
  "cells": [
    {
      "cell_type": "markdown",
      "metadata": {
        "id": "view-in-github",
        "colab_type": "text"
      },
      "source": [
        "<a href=\"https://colab.research.google.com/github/YangJeongA/Language-Brain-Computer-2022spring/blob/main/8_%EC%A0%95%EA%B7%9C%ED%91%9C%ED%98%841.ipynb\" target=\"_parent\"><img src=\"https://colab.research.google.com/assets/colab-badge.svg\" alt=\"Open In Colab\"/></a>"
      ]
    },
    {
      "cell_type": "markdown",
      "source": [
        "# 정규표현(regular expression)\n",
        "\n",
        "- 문자열을 다룰 때만 사용 가능한 코드형식 (텍스트 데이터에만 사용 가능)\n",
        "- 텍스트 편집기 또는 프로그래밍 언어에서 특정 유형의 문자열을 검색 또는 치환할 때 사용\n",
        "- 문자열의 검색, 치환 외에도 텍스트 처리의 핵심"
      ],
      "metadata": {
        "id": "_nw6Gt3RVBwb"
      }
    },
    {
      "cell_type": "markdown",
      "source": [
        "# 반복 메타 문자\n",
        ": 반복 횟수와 관련있는 메타문자"
      ],
      "metadata": {
        "id": "Azp_ch3IVrVH"
      }
    },
    {
      "cell_type": "code",
      "execution_count": null,
      "metadata": {
        "id": "YF9z5CpJUfuv"
      },
      "outputs": [],
      "source": [
        "*     #선행 문자가 0회 또는 1회 이상 반복\n",
        "+     #선행 문자가 1회 이상 반복\n",
        "?     #선행 문자가 0회 또는 1회 반복\n",
        "{m}   #선행 문자가 m회 반복\n",
        "{m,n} #선행 문자가 m회~n회 사이 반복\n",
        "{m,}  #선행 문자가 m회 이상 반복\n",
        "{,n}  #선행 문자가 n회 이하 반복\n",
        "\n",
        "\n",
        "# {}형식 사용 시 내부에 스페이스 사용금지"
      ]
    },
    {
      "cell_type": "code",
      "source": [
        "'ca*t'      #'ct', 'cat', 'caat', 'caaaaaaat' 등과 매치\n",
        "'ca+t'      #'cat', 'caat', 'caaaaaaat' 등과 매치\n",
        "'ca?t'      #'ct', 'cat'와 매치\n",
        "'ca{3}t'    #'caaat'와 매치\n",
        "'ca{2,4}t'  #'caat', 'caaat', 'caaaat'와 매치"
      ],
      "metadata": {
        "id": "ZVliwXwcWi0R"
      },
      "execution_count": null,
      "outputs": []
    },
    {
      "cell_type": "markdown",
      "source": [
        "# 매칭 및 기타 메타 문자\n",
        ": 위치와 관련된 메타문자"
      ],
      "metadata": {
        "id": "ICmTsHqZZ8By"
      }
    },
    {
      "cell_type": "code",
      "source": [
        ".   # '\\n'을 제외한 어떠한 문자이든 하나의 문자와 매치\n",
        "^   # 문자열의 시작과 매치\n",
        "$   # 문자열의 끝과 매치 또는 문자열 마지막 문자가 '\\n'인 경우 그 왼쪽과 매치\n",
        "[]  # 문자 목록의 집합. [abc]는 \"a\", \"b\", \"c\" 중 하나의 문자. 또는 [a-zA-Z0-9가-힣]와 같이 문자 목록의 범위를 나타낼 수 있음 \n",
        "|   # \"a|b\"와 같이 \"a\" 또는 \"b\"\n",
        "()  # 정규표현을 그룹화"
      ],
      "metadata": {
        "id": "lRN-_zTEaF3E"
      },
      "execution_count": null,
      "outputs": []
    },
    {
      "cell_type": "markdown",
      "source": [
        "# 정규표현 이스케이프 문자\n",
        "\n",
        "- 정규표현이 적용되는 위치는 정규표현이 적용되는 함수의 첫번째 논항\n",
        "- 두번째 논항에 사용되면 그냥 문자열로 인식됨 "
      ],
      "metadata": {
        "id": "Mossb28o8B8r"
      }
    },
    {
      "cell_type": "code",
      "source": [
        "\\d  # 모든 숫자 문자와 매치  [0-9]\n",
        "\\D  # 숫자문자 외 문자와 매치  [^0-9]\n",
        "\\s  # 화이트 스페이스와 매치  [\\t\\n]\n",
        "\\S  # 화이트 스페이스 외 문자와 매치  [^\\t\\n]\n",
        "\\w  # 숫자문자 또는 자연어(한글, 알파벳 등) 문자와 매치\n",
        "\\W  # 숫자문자 또는 자연어 외 문자와 매치\n",
        "\\\\b # 어휘경계. \\w와 \\W 사이 또는 문자열 시작 또는 끝과 \\w사이\n",
        "\\\\B # 비어휘경계. \\\\b가 아닌 경계\n",
        "\n",
        "\n",
        "pf) 문자열(어휘 시작) 바로 뒤에 whitespace나 문장부호가 오게 되면 이 둘의 사이 자리는 어휘 경계가 아님"
      ],
      "metadata": {
        "id": "c7X14Y8maVx6"
      },
      "execution_count": null,
      "outputs": []
    }
  ]
}