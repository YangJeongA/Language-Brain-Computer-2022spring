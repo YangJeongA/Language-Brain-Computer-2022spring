{
  "nbformat": 4,
  "nbformat_minor": 0,
  "metadata": {
    "colab": {
      "provenance": [],
      "include_colab_link": true
    },
    "kernelspec": {
      "name": "python3",
      "display_name": "Python 3"
    },
    "language_info": {
      "name": "python"
    }
  },
  "cells": [
    {
      "cell_type": "markdown",
      "metadata": {
        "id": "view-in-github",
        "colab_type": "text"
      },
      "source": [
        "<a href=\"https://colab.research.google.com/github/YangJeongA/Language-Brain-Computer-2022spring/blob/main/16_list_comprehension.ipynb\" target=\"_parent\"><img src=\"https://colab.research.google.com/assets/colab-badge.svg\" alt=\"Open In Colab\"/></a>"
      ]
    },
    {
      "cell_type": "markdown",
      "source": [
        "#리스트 내장 list comprehension\n",
        "- 코드라인수 절약 가능, 변수 줄일 수 있음 -> 속도 빨라짐\n",
        "- list comprehension 내에는 치환문 사용 불가능"
      ],
      "metadata": {
        "id": "oNHYg8Z5yR3N"
      }
    },
    {
      "cell_type": "code",
      "source": [
        "[k * k for k in range(10)]"
      ],
      "metadata": {
        "colab": {
          "base_uri": "https://localhost:8080/"
        },
        "id": "yZPG1MT2Wemr",
        "outputId": "38a637a5-29cf-4730-f461-a7b2474baba8"
      },
      "execution_count": 1,
      "outputs": [
        {
          "output_type": "execute_result",
          "data": {
            "text/plain": [
              "[0, 1, 4, 9, 16, 25, 36, 49, 64, 81]"
            ]
          },
          "metadata": {},
          "execution_count": 1
        }
      ]
    },
    {
      "cell_type": "code",
      "source": [
        "L = []\n",
        "for k in range(10):\n",
        "  L.append(k * k)\n",
        "L"
      ],
      "metadata": {
        "colab": {
          "base_uri": "https://localhost:8080/"
        },
        "id": "ecI0QOIfWjYD",
        "outputId": "1cc6fce3-23c3-4863-bd72-1968b8a0bb61"
      },
      "execution_count": 2,
      "outputs": [
        {
          "output_type": "execute_result",
          "data": {
            "text/plain": [
              "[0, 1, 4, 9, 16, 25, 36, 49, 64, 81]"
            ]
          },
          "metadata": {},
          "execution_count": 2
        }
      ]
    },
    {
      "cell_type": "code",
      "source": [
        "[k * k for k in range(10) if k % 2 == 1]\n",
        "\n",
        "# if는 한 번만 사용 가능"
      ],
      "metadata": {
        "colab": {
          "base_uri": "https://localhost:8080/"
        },
        "id": "Kfv6jM2yWqX5",
        "outputId": "b1af539b-4606-42d7-cba8-1708b0d458df"
      },
      "execution_count": 3,
      "outputs": [
        {
          "output_type": "execute_result",
          "data": {
            "text/plain": [
              "[1, 9, 25, 49, 81]"
            ]
          },
          "metadata": {},
          "execution_count": 3
        }
      ]
    },
    {
      "cell_type": "code",
      "source": [
        "[(x, y) for x in range(1, 5) for y in 'abc']\n",
        "\n",
        "# for 뒤에 for 한번 더 사용 가능"
      ],
      "metadata": {
        "colab": {
          "base_uri": "https://localhost:8080/"
        },
        "id": "n247rWe8W0X0",
        "outputId": "203b1a3e-c421-45bd-f59d-8f823833ef75"
      },
      "execution_count": 4,
      "outputs": [
        {
          "output_type": "execute_result",
          "data": {
            "text/plain": [
              "[(1, 'a'),\n",
              " (1, 'b'),\n",
              " (1, 'c'),\n",
              " (2, 'a'),\n",
              " (2, 'b'),\n",
              " (2, 'c'),\n",
              " (3, 'a'),\n",
              " (3, 'b'),\n",
              " (3, 'c'),\n",
              " (4, 'a'),\n",
              " (4, 'b'),\n",
              " (4, 'c')]"
            ]
          },
          "metadata": {},
          "execution_count": 4
        }
      ]
    },
    {
      "cell_type": "markdown",
      "source": [
        "# 사용 형식"
      ],
      "metadata": {
        "id": "pnyVq9yeXIV9"
      }
    },
    {
      "cell_type": "code",
      "execution_count": 21,
      "metadata": {
        "id": "7eoHdP1Nx88Y"
      },
      "outputs": [],
      "source": [
        "# 사용 형식\n",
        "\n",
        "[출력식 for 변수명1 in 객체1 (if조건식1)\n",
        "        for 변수명2 in 객체2 (if조건식2)\n",
        "        ...\n",
        "        for 변수명n in 객체n (if조건식n)]\n",
        "\n",
        "\n",
        "# 출력식은 한번만 사용가능\n",
        "# if를 쓴다면 for구문 하나당 한개만 사용가능"
      ]
    },
    {
      "cell_type": "code",
      "source": [
        "[k*k for k in range(10)]"
      ],
      "metadata": {
        "colab": {
          "base_uri": "https://localhost:8080/"
        },
        "id": "B0XhShH1yRg1",
        "outputId": "3d87150c-a6b4-447e-cd26-a381a1356c9f"
      },
      "execution_count": 22,
      "outputs": [
        {
          "output_type": "execute_result",
          "data": {
            "text/plain": [
              "[0, 1, 4, 9, 16, 25, 36, 49, 64, 81]"
            ]
          },
          "metadata": {},
          "execution_count": 22
        }
      ]
    },
    {
      "cell_type": "code",
      "source": [
        "[(x, y) for x in range(1, 5) if x % 2 == 1 for y in 'abc']"
      ],
      "metadata": {
        "colab": {
          "base_uri": "https://localhost:8080/"
        },
        "id": "TNz6xXQ4zBUc",
        "outputId": "0c8eeec3-dc8c-4f52-8ce9-ff9f8bd87b4e"
      },
      "execution_count": 23,
      "outputs": [
        {
          "output_type": "execute_result",
          "data": {
            "text/plain": [
              "[(1, 'a'), (1, 'b'), (1, 'c'), (3, 'a'), (3, 'b'), (3, 'c')]"
            ]
          },
          "metadata": {},
          "execution_count": 23
        }
      ]
    },
    {
      "cell_type": "code",
      "source": [
        "[(x, y) for x in range(1, 5) for y in 'abc' if x % 2 == 1]"
      ],
      "metadata": {
        "colab": {
          "base_uri": "https://localhost:8080/"
        },
        "id": "5HunRgK_zLbk",
        "outputId": "faca095f-3697-482f-b3ac-0e9b66da04b3"
      },
      "execution_count": 24,
      "outputs": [
        {
          "output_type": "execute_result",
          "data": {
            "text/plain": [
              "[(1, 'a'), (1, 'b'), (1, 'c'), (3, 'a'), (3, 'b'), (3, 'c')]"
            ]
          },
          "metadata": {},
          "execution_count": 24
        }
      ]
    },
    {
      "cell_type": "code",
      "source": [
        "[(x, y) for x in range(1, 5) for y in 'abc' if 'b' in y]"
      ],
      "metadata": {
        "colab": {
          "base_uri": "https://localhost:8080/"
        },
        "id": "UoFKBSR4zTd_",
        "outputId": "fdad9743-acf4-4a76-9389-34f4124008b9"
      },
      "execution_count": 25,
      "outputs": [
        {
          "output_type": "execute_result",
          "data": {
            "text/plain": [
              "[(1, 'b'), (2, 'b'), (3, 'b'), (4, 'b')]"
            ]
          },
          "metadata": {},
          "execution_count": 25
        }
      ]
    },
    {
      "cell_type": "code",
      "source": [
        "[(x, y) for x in range(1, 5) if x % 2 ==1 for y in 'abc' if 'b' in y]"
      ],
      "metadata": {
        "colab": {
          "base_uri": "https://localhost:8080/"
        },
        "id": "QwzGjDm7zZzy",
        "outputId": "8646e9e0-4b4d-4adf-d648-7f6efd41585f"
      },
      "execution_count": 26,
      "outputs": [
        {
          "output_type": "execute_result",
          "data": {
            "text/plain": [
              "[(1, 'b'), (3, 'b')]"
            ]
          },
          "metadata": {},
          "execution_count": 26
        }
      ]
    },
    {
      "cell_type": "code",
      "source": [
        "# for구문과 if구문의 순서 중요\n",
        "\n",
        "[(x, y) for x in range(1, 5) if 'b' in y for y in 'abc' ]"
      ],
      "metadata": {
        "id": "O7O9ZrsJz3R9",
        "colab": {
          "base_uri": "https://localhost:8080/",
          "height": 295
        },
        "outputId": "917b05a7-e276-49ed-a753-359306696829"
      },
      "execution_count": 27,
      "outputs": [
        {
          "output_type": "error",
          "ename": "UnboundLocalError",
          "evalue": "ignored",
          "traceback": [
            "\u001b[0;31m---------------------------------------------------------------------------\u001b[0m",
            "\u001b[0;31mUnboundLocalError\u001b[0m                         Traceback (most recent call last)",
            "\u001b[0;32m<ipython-input-27-a2427e983f1b>\u001b[0m in \u001b[0;36m<module>\u001b[0;34m\u001b[0m\n\u001b[1;32m      1\u001b[0m \u001b[0;31m# for구문과 if구문의 순서 중요\u001b[0m\u001b[0;34m\u001b[0m\u001b[0;34m\u001b[0m\u001b[0;34m\u001b[0m\u001b[0m\n\u001b[1;32m      2\u001b[0m \u001b[0;34m\u001b[0m\u001b[0m\n\u001b[0;32m----> 3\u001b[0;31m \u001b[0;34m[\u001b[0m\u001b[0;34m(\u001b[0m\u001b[0mx\u001b[0m\u001b[0;34m,\u001b[0m \u001b[0my\u001b[0m\u001b[0;34m)\u001b[0m \u001b[0;32mfor\u001b[0m \u001b[0mx\u001b[0m \u001b[0;32min\u001b[0m \u001b[0mrange\u001b[0m\u001b[0;34m(\u001b[0m\u001b[0;36m1\u001b[0m\u001b[0;34m,\u001b[0m \u001b[0;36m5\u001b[0m\u001b[0;34m)\u001b[0m \u001b[0;32mif\u001b[0m \u001b[0;34m'b'\u001b[0m \u001b[0;32min\u001b[0m \u001b[0my\u001b[0m \u001b[0;32mfor\u001b[0m \u001b[0my\u001b[0m \u001b[0;32min\u001b[0m \u001b[0;34m'abc'\u001b[0m \u001b[0;34m]\u001b[0m\u001b[0;34m\u001b[0m\u001b[0;34m\u001b[0m\u001b[0m\n\u001b[0m",
            "\u001b[0;32m<ipython-input-27-a2427e983f1b>\u001b[0m in \u001b[0;36m<listcomp>\u001b[0;34m(.0)\u001b[0m\n\u001b[1;32m      1\u001b[0m \u001b[0;31m# for구문과 if구문의 순서 중요\u001b[0m\u001b[0;34m\u001b[0m\u001b[0;34m\u001b[0m\u001b[0;34m\u001b[0m\u001b[0m\n\u001b[1;32m      2\u001b[0m \u001b[0;34m\u001b[0m\u001b[0m\n\u001b[0;32m----> 3\u001b[0;31m \u001b[0;34m[\u001b[0m\u001b[0;34m(\u001b[0m\u001b[0mx\u001b[0m\u001b[0;34m,\u001b[0m \u001b[0my\u001b[0m\u001b[0;34m)\u001b[0m \u001b[0;32mfor\u001b[0m \u001b[0mx\u001b[0m \u001b[0;32min\u001b[0m \u001b[0mrange\u001b[0m\u001b[0;34m(\u001b[0m\u001b[0;36m1\u001b[0m\u001b[0;34m,\u001b[0m \u001b[0;36m5\u001b[0m\u001b[0;34m)\u001b[0m \u001b[0;32mif\u001b[0m \u001b[0;34m'b'\u001b[0m \u001b[0;32min\u001b[0m \u001b[0my\u001b[0m \u001b[0;32mfor\u001b[0m \u001b[0my\u001b[0m \u001b[0;32min\u001b[0m \u001b[0;34m'abc'\u001b[0m \u001b[0;34m]\u001b[0m\u001b[0;34m\u001b[0m\u001b[0;34m\u001b[0m\u001b[0m\n\u001b[0m",
            "\u001b[0;31mUnboundLocalError\u001b[0m: local variable 'y' referenced before assignment"
          ]
        }
      ]
    },
    {
      "cell_type": "code",
      "source": [
        "# for 앞에 if 선행 불가능\n",
        "\n",
        "[(x, y) if x % 2 == 1 for x in range(1, 5)]"
      ],
      "metadata": {
        "colab": {
          "base_uri": "https://localhost:8080/",
          "height": 134
        },
        "id": "BT3pgu-JzxIn",
        "outputId": "72a31f91-87ff-4502-8097-9edefd9c15a7"
      },
      "execution_count": 28,
      "outputs": [
        {
          "output_type": "error",
          "ename": "SyntaxError",
          "evalue": "ignored",
          "traceback": [
            "\u001b[0;36m  File \u001b[0;32m\"<ipython-input-28-55cf311d872e>\"\u001b[0;36m, line \u001b[0;32m3\u001b[0m\n\u001b[0;31m    [(x, y) if x % 2 == 1 for x in range(1, 5)]\u001b[0m\n\u001b[0m                          ^\u001b[0m\n\u001b[0;31mSyntaxError\u001b[0m\u001b[0;31m:\u001b[0m invalid syntax\n"
          ]
        }
      ]
    },
    {
      "cell_type": "markdown",
      "source": [
        "# 리스트 내장에서 출력식 조건"
      ],
      "metadata": {
        "id": "Qh1uEMpuz-Hm"
      }
    },
    {
      "cell_type": "code",
      "source": [
        "[print(k * k) for k in range(10)]"
      ],
      "metadata": {
        "colab": {
          "base_uri": "https://localhost:8080/"
        },
        "id": "mHPE7kZtz_94",
        "outputId": "ef2d706e-085b-46d4-a32f-719889694f82"
      },
      "execution_count": 29,
      "outputs": [
        {
          "output_type": "stream",
          "name": "stdout",
          "text": [
            "0\n",
            "1\n",
            "4\n",
            "9\n",
            "16\n",
            "25\n",
            "36\n",
            "49\n",
            "64\n",
            "81\n"
          ]
        },
        {
          "output_type": "execute_result",
          "data": {
            "text/plain": [
              "[None, None, None, None, None, None, None, None, None, None]"
            ]
          },
          "metadata": {},
          "execution_count": 29
        }
      ]
    },
    {
      "cell_type": "markdown",
      "source": [
        "####1"
      ],
      "metadata": {
        "id": "jq4fHb7P0ooQ"
      }
    },
    {
      "cell_type": "code",
      "source": [
        "a = []\n",
        "[a.append(k*k) for k in range(10)]\n",
        "\n",
        "\n",
        "# append 값은 선행하는 변수에 출력되기 때문"
      ],
      "metadata": {
        "colab": {
          "base_uri": "https://localhost:8080/"
        },
        "id": "WLrRKnih0Jeq",
        "outputId": "69ffb939-e5e8-49f2-e47c-f76152f4289a"
      },
      "execution_count": 30,
      "outputs": [
        {
          "output_type": "execute_result",
          "data": {
            "text/plain": [
              "[None, None, None, None, None, None, None, None, None, None]"
            ]
          },
          "metadata": {},
          "execution_count": 30
        }
      ]
    },
    {
      "cell_type": "code",
      "source": [
        "a"
      ],
      "metadata": {
        "colab": {
          "base_uri": "https://localhost:8080/"
        },
        "id": "tL_BNER60OrQ",
        "outputId": "d7b2f409-3787-4216-f8f3-611be5f96c6b"
      },
      "execution_count": 31,
      "outputs": [
        {
          "output_type": "execute_result",
          "data": {
            "text/plain": [
              "[0, 1, 4, 9, 16, 25, 36, 49, 64, 81]"
            ]
          },
          "metadata": {},
          "execution_count": 31
        }
      ]
    },
    {
      "cell_type": "code",
      "source": [
        "a = print(3)"
      ],
      "metadata": {
        "colab": {
          "base_uri": "https://localhost:8080/"
        },
        "id": "SgYgYldl0TzQ",
        "outputId": "ce4a7786-15e0-4967-d254-2ab63705b7cd"
      },
      "execution_count": 32,
      "outputs": [
        {
          "output_type": "stream",
          "name": "stdout",
          "text": [
            "3\n"
          ]
        }
      ]
    },
    {
      "cell_type": "code",
      "source": [
        "a"
      ],
      "metadata": {
        "id": "8KdP9KN10Waz"
      },
      "execution_count": 33,
      "outputs": []
    },
    {
      "cell_type": "code",
      "source": [
        "a = []\n",
        "b = a.append(3)\n",
        "b\n",
        "\n",
        "# 여기에서 b는 nonetype값을 할당받는 것이랑 같음"
      ],
      "metadata": {
        "id": "1nIB9nFV0X12"
      },
      "execution_count": 34,
      "outputs": []
    },
    {
      "cell_type": "markdown",
      "source": [
        "###return"
      ],
      "metadata": {
        "id": "cE1hn6GI0v1o"
      }
    },
    {
      "cell_type": "code",
      "source": [
        "def square(x):\n",
        "  return x * x\n",
        "[square(k) for k in range(10)]"
      ],
      "metadata": {
        "colab": {
          "base_uri": "https://localhost:8080/"
        },
        "id": "ID5HNkxv0xpr",
        "outputId": "6fc64770-b160-472c-86e6-8ff11d6f9631"
      },
      "execution_count": 35,
      "outputs": [
        {
          "output_type": "execute_result",
          "data": {
            "text/plain": [
              "[0, 1, 4, 9, 16, 25, 36, 49, 64, 81]"
            ]
          },
          "metadata": {},
          "execution_count": 35
        }
      ]
    },
    {
      "cell_type": "code",
      "source": [
        "def square(x):\n",
        "  x * x\n",
        "[square(k) for k in range(10)]\n",
        "\n",
        "# return이 없으므로 None 값 출력"
      ],
      "metadata": {
        "colab": {
          "base_uri": "https://localhost:8080/"
        },
        "id": "QeKYLvSg06gO",
        "outputId": "63f6f9d8-ecd8-44b9-fd5b-90b0301c09b5"
      },
      "execution_count": 36,
      "outputs": [
        {
          "output_type": "execute_result",
          "data": {
            "text/plain": [
              "[None, None, None, None, None, None, None, None, None, None]"
            ]
          },
          "metadata": {},
          "execution_count": 36
        }
      ]
    },
    {
      "cell_type": "code",
      "source": [
        "def square(x):\n",
        "  return x * x\n",
        "square(3)"
      ],
      "metadata": {
        "colab": {
          "base_uri": "https://localhost:8080/"
        },
        "id": "BIS6wLpw1DP2",
        "outputId": "e52f696f-682d-4850-9487-6c8760adca0d"
      },
      "execution_count": 37,
      "outputs": [
        {
          "output_type": "execute_result",
          "data": {
            "text/plain": [
              "9"
            ]
          },
          "metadata": {},
          "execution_count": 37
        }
      ]
    },
    {
      "cell_type": "code",
      "source": [
        "def square(x):\n",
        "  x * x\n",
        "square(3)"
      ],
      "metadata": {
        "id": "qv8SgjdG1xtk"
      },
      "execution_count": 38,
      "outputs": []
    },
    {
      "cell_type": "code",
      "source": [
        "def square(x):\n",
        "  print(x * x)\n",
        "square(3)"
      ],
      "metadata": {
        "colab": {
          "base_uri": "https://localhost:8080/"
        },
        "id": "zTP-442B11N3",
        "outputId": "526f38a0-9c0a-401f-8aff-e667e53142f4"
      },
      "execution_count": 39,
      "outputs": [
        {
          "output_type": "stream",
          "name": "stdout",
          "text": [
            "9\n"
          ]
        }
      ]
    },
    {
      "cell_type": "markdown",
      "source": [
        "list comprehension을 사용할 때는 값이 output cell에 출력되는지를 항상 주의해야 함"
      ],
      "metadata": {
        "id": "1CHE4WeWXx3H"
      }
    },
    {
      "cell_type": "markdown",
      "source": [
        "#lambda함수\n",
        "(시험은 x)"
      ],
      "metadata": {
        "id": "srV-O9Zf1IsO"
      }
    },
    {
      "cell_type": "code",
      "source": [
        "lambda x: float(x)\n",
        "\n",
        "# lambda함수 코드를 메모리에 저장 "
      ],
      "metadata": {
        "colab": {
          "base_uri": "https://localhost:8080/"
        },
        "id": "US6nc90O1LMA",
        "outputId": "6538a18c-1560-4428-febc-45097fa7803f"
      },
      "execution_count": 40,
      "outputs": [
        {
          "output_type": "execute_result",
          "data": {
            "text/plain": [
              "<function __main__.<lambda>(x)>"
            ]
          },
          "metadata": {},
          "execution_count": 40
        }
      ]
    },
    {
      "cell_type": "code",
      "source": [
        "(lambda x: float(x))(3)\n",
        "\n",
        "# lambda함수 실행"
      ],
      "metadata": {
        "colab": {
          "base_uri": "https://localhost:8080/"
        },
        "id": "31-pLiLV1Tje",
        "outputId": "85388a3e-8262-489b-a17b-55a329d83f27"
      },
      "execution_count": 41,
      "outputs": [
        {
          "output_type": "execute_result",
          "data": {
            "text/plain": [
              "3.0"
            ]
          },
          "metadata": {},
          "execution_count": 41
        }
      ]
    },
    {
      "cell_type": "code",
      "source": [
        "a = lambda x: float(x)"
      ],
      "metadata": {
        "id": "XEdEqcX31Zxg"
      },
      "execution_count": 42,
      "outputs": []
    },
    {
      "cell_type": "code",
      "source": [
        "a"
      ],
      "metadata": {
        "colab": {
          "base_uri": "https://localhost:8080/"
        },
        "id": "aeO2lY921cSl",
        "outputId": "a467a457-db55-427c-e520-fc2d131d16c9"
      },
      "execution_count": 43,
      "outputs": [
        {
          "output_type": "execute_result",
          "data": {
            "text/plain": [
              "<function __main__.<lambda>(x)>"
            ]
          },
          "metadata": {},
          "execution_count": 43
        }
      ]
    },
    {
      "cell_type": "code",
      "source": [
        "a(3)"
      ],
      "metadata": {
        "colab": {
          "base_uri": "https://localhost:8080/"
        },
        "id": "4JarZTEK1h1s",
        "outputId": "d1e5daf7-3766-4d4e-c6d7-f30c68b43f69"
      },
      "execution_count": 44,
      "outputs": [
        {
          "output_type": "execute_result",
          "data": {
            "text/plain": [
              "3.0"
            ]
          },
          "metadata": {},
          "execution_count": 44
        }
      ]
    },
    {
      "cell_type": "code",
      "source": [
        "[(lambda x: float(x))(x) for x in range(10)]"
      ],
      "metadata": {
        "colab": {
          "base_uri": "https://localhost:8080/"
        },
        "id": "LzfnEzsm1jGY",
        "outputId": "1d6f2f89-5243-473a-cb0c-36549e4cbfca"
      },
      "execution_count": 45,
      "outputs": [
        {
          "output_type": "execute_result",
          "data": {
            "text/plain": [
              "[0.0, 1.0, 2.0, 3.0, 4.0, 5.0, 6.0, 7.0, 8.0, 9.0]"
            ]
          },
          "metadata": {},
          "execution_count": 45
        }
      ]
    },
    {
      "cell_type": "markdown",
      "source": [
        "# if else\n",
        "- if else 함수라고 생각하면 됨 -> output cell에 출력 o\n",
        "- if구문 아님!\n",
        "- list comprehension에서 적절히 사용하면 if구문의 한계 극복 가능"
      ],
      "metadata": {
        "id": "EVrE5BQX2DnU"
      }
    },
    {
      "cell_type": "code",
      "source": [
        "[x * x if % 2 == 1 for x in range(1, 5)]\n",
        "\n",
        "# for앞에 if 사용 불가능"
      ],
      "metadata": {
        "colab": {
          "base_uri": "https://localhost:8080/",
          "height": 134
        },
        "id": "rsoRP5mX2C1N",
        "outputId": "c2ac904e-b530-41c5-a31c-d74d93a552af"
      },
      "execution_count": 46,
      "outputs": [
        {
          "output_type": "error",
          "ename": "SyntaxError",
          "evalue": "ignored",
          "traceback": [
            "\u001b[0;36m  File \u001b[0;32m\"<ipython-input-46-edf0cca816f8>\"\u001b[0;36m, line \u001b[0;32m1\u001b[0m\n\u001b[0;31m    [x * x if % 2 == 1 for x in range(1, 5)]\u001b[0m\n\u001b[0m              ^\u001b[0m\n\u001b[0;31mSyntaxError\u001b[0m\u001b[0;31m:\u001b[0m invalid syntax\n"
          ]
        }
      ]
    },
    {
      "cell_type": "code",
      "source": [
        "[x * x if x % 2 == 1 else x for x in range(1, 5)]"
      ],
      "metadata": {
        "colab": {
          "base_uri": "https://localhost:8080/"
        },
        "id": "CW0kpOnD2Szy",
        "outputId": "89d518bb-d5ee-4969-c892-bdcab73b4b95"
      },
      "execution_count": 47,
      "outputs": [
        {
          "output_type": "execute_result",
          "data": {
            "text/plain": [
              "[1, 2, 9, 4]"
            ]
          },
          "metadata": {},
          "execution_count": 47
        }
      ]
    },
    {
      "cell_type": "code",
      "source": [
        "[x[:-3] if x.endswith('ing') else x for x in ['going', 'went', 'doing', 'did']]"
      ],
      "metadata": {
        "colab": {
          "base_uri": "https://localhost:8080/"
        },
        "id": "6-fho93_2n8g",
        "outputId": "07b6087f-32ed-4f27-dab7-c0968c41bad4"
      },
      "execution_count": 48,
      "outputs": [
        {
          "output_type": "execute_result",
          "data": {
            "text/plain": [
              "['go', 'went', 'do', 'did']"
            ]
          },
          "metadata": {},
          "execution_count": 48
        }
      ]
    },
    {
      "cell_type": "code",
      "source": [
        "[x[:-1] if x.endswith('s') else x[:-2] if x.endswith('ed') else x for x in ['walks', 'walked', 'walk']]"
      ],
      "metadata": {
        "colab": {
          "base_uri": "https://localhost:8080/"
        },
        "id": "MSRdX7KM2zpJ",
        "outputId": "661d1d21-fb29-4e8b-f908-e1028eda7535"
      },
      "execution_count": 49,
      "outputs": [
        {
          "output_type": "execute_result",
          "data": {
            "text/plain": [
              "['walk', 'walk', 'walk']"
            ]
          },
          "metadata": {},
          "execution_count": 49
        }
      ]
    },
    {
      "cell_type": "markdown",
      "source": [
        "# 연습문제"
      ],
      "metadata": {
        "id": "phbpL8t_3P9Z"
      }
    },
    {
      "cell_type": "code",
      "source": [
        "#1\n",
        "\n",
        "a = [2.4, 2, 4.5, 6.7, 9, 11]\n",
        "b = [float(i) if type(i) == int else int(i) for i in a]\n",
        "b"
      ],
      "metadata": {
        "colab": {
          "base_uri": "https://localhost:8080/"
        },
        "id": "3zOnLSyQ3R6V",
        "outputId": "26d81414-e077-4cd3-f3db-e9359df1dba2"
      },
      "execution_count": 50,
      "outputs": [
        {
          "output_type": "execute_result",
          "data": {
            "text/plain": [
              "[2, 2.0, 4, 6, 9.0, 11.0]"
            ]
          },
          "metadata": {},
          "execution_count": 50
        }
      ]
    },
    {
      "cell_type": "markdown",
      "source": [
        "# 중첩(nested) 리스트 내장\n",
        "- 중첩리스트를 list comprehension을 통해 처리"
      ],
      "metadata": {
        "id": "ce_8TVtuYLR3"
      }
    },
    {
      "cell_type": "code",
      "source": [
        "a = [[1, 2, 3], list('abc')]"
      ],
      "metadata": {
        "id": "QavZirYwYQT0"
      },
      "execution_count": 51,
      "outputs": []
    },
    {
      "cell_type": "code",
      "source": [
        "a\n",
        "\n",
        "# 2차원의 데이터구조"
      ],
      "metadata": {
        "colab": {
          "base_uri": "https://localhost:8080/"
        },
        "id": "6SAsDiLCYzf6",
        "outputId": "8b61b341-f0b4-42f8-b07d-6ee6c607db88"
      },
      "execution_count": 52,
      "outputs": [
        {
          "output_type": "execute_result",
          "data": {
            "text/plain": [
              "[[1, 2, 3], ['a', 'b', 'c']]"
            ]
          },
          "metadata": {},
          "execution_count": 52
        }
      ]
    },
    {
      "cell_type": "code",
      "source": [
        "[y for x in a for y in x]\n",
        "\n",
        "# 출력값 1차원의 데이터구조 -> 2차원의 데이터구조인 a를 1차원의 데이터 구조로 만든 예시 \n",
        "# 내장되어있는 2개의 리스트를 분해해서 인출하기 위해서는 for구문 2개 필요"
      ],
      "metadata": {
        "colab": {
          "base_uri": "https://localhost:8080/"
        },
        "id": "YizDV1OQY0Z_",
        "outputId": "b44eeafa-d975-4b10-ffa2-031ec980a9ac"
      },
      "execution_count": 53,
      "outputs": [
        {
          "output_type": "execute_result",
          "data": {
            "text/plain": [
              "[1, 2, 3, 'a', 'b', 'c']"
            ]
          },
          "metadata": {},
          "execution_count": 53
        }
      ]
    },
    {
      "cell_type": "code",
      "source": [
        "[[x, y] for x in [1, 2, 3] for y in 'abc']\n",
        "\n",
        "# 1차원의 데이터 구조에서 2차원의 데이터 구조를 생성한 예시"
      ],
      "metadata": {
        "colab": {
          "base_uri": "https://localhost:8080/"
        },
        "id": "70wWnxzWZDZp",
        "outputId": "5ce511d0-2e0f-43f7-f000-a6eb3dba680a"
      },
      "execution_count": 54,
      "outputs": [
        {
          "output_type": "execute_result",
          "data": {
            "text/plain": [
              "[[1, 'a'],\n",
              " [1, 'b'],\n",
              " [1, 'c'],\n",
              " [2, 'a'],\n",
              " [2, 'b'],\n",
              " [2, 'c'],\n",
              " [3, 'a'],\n",
              " [3, 'b'],\n",
              " [3, 'c']]"
            ]
          },
          "metadata": {},
          "execution_count": 54
        }
      ]
    },
    {
      "cell_type": "code",
      "source": [
        "[[y for y in x] for x in ['abc', 'def', 'ghi']]"
      ],
      "metadata": {
        "colab": {
          "base_uri": "https://localhost:8080/"
        },
        "id": "XQcaPV0CZK48",
        "outputId": "299395cb-cfc4-4ac5-f88b-ba96f055a9f7"
      },
      "execution_count": 55,
      "outputs": [
        {
          "output_type": "execute_result",
          "data": {
            "text/plain": [
              "[['a', 'b', 'c'], ['d', 'e', 'f'], ['g', 'h', 'i']]"
            ]
          },
          "metadata": {},
          "execution_count": 55
        }
      ]
    },
    {
      "cell_type": "markdown",
      "source": [
        "# 데이터 구조와 내장\n",
        "\n",
        "- 문자열을 제외한 대부분의 데이터 구조에는 comprehension 기법 사용 가능\n"
      ],
      "metadata": {
        "id": "6muTP3qIZbDL"
      }
    },
    {
      "cell_type": "code",
      "source": [
        "(i for i in range(5))\n",
        "\n",
        "# generator"
      ],
      "metadata": {
        "colab": {
          "base_uri": "https://localhost:8080/"
        },
        "id": "RD_eX2OwZcLL",
        "outputId": "80f0ca21-0f5a-4b57-d944-33b948c5e2e6"
      },
      "execution_count": 56,
      "outputs": [
        {
          "output_type": "execute_result",
          "data": {
            "text/plain": [
              "<generator object <genexpr> at 0x7fa884243eb0>"
            ]
          },
          "metadata": {},
          "execution_count": 56
        }
      ]
    },
    {
      "cell_type": "code",
      "source": [
        "tuple(i for i in range(5))\n",
        "\n",
        "# tuple"
      ],
      "metadata": {
        "colab": {
          "base_uri": "https://localhost:8080/"
        },
        "id": "cde3lOyHZmYt",
        "outputId": "77d4a80d-b15e-4cf4-aab9-13d398714f47"
      },
      "execution_count": 57,
      "outputs": [
        {
          "output_type": "execute_result",
          "data": {
            "text/plain": [
              "(0, 1, 2, 3, 4)"
            ]
          },
          "metadata": {},
          "execution_count": 57
        }
      ]
    },
    {
      "cell_type": "code",
      "source": [
        "{i for i in range(5)}\n",
        "\n",
        "# set"
      ],
      "metadata": {
        "colab": {
          "base_uri": "https://localhost:8080/"
        },
        "id": "xr-Cj0azZrMN",
        "outputId": "cb49cc27-3a5f-4a60-fc47-c0438b656324"
      },
      "execution_count": 58,
      "outputs": [
        {
          "output_type": "execute_result",
          "data": {
            "text/plain": [
              "{0, 1, 2, 3, 4}"
            ]
          },
          "metadata": {},
          "execution_count": 58
        }
      ]
    },
    {
      "cell_type": "code",
      "source": [
        "{i: i * i for i in range(5)}\n",
        "\n",
        "# dictionary"
      ],
      "metadata": {
        "colab": {
          "base_uri": "https://localhost:8080/"
        },
        "id": "MpNTixv5ZtEF",
        "outputId": "bd4da9d3-c7b3-4d5a-b3ed-1d543262ab3c"
      },
      "execution_count": 59,
      "outputs": [
        {
          "output_type": "execute_result",
          "data": {
            "text/plain": [
              "{0: 0, 1: 1, 2: 4, 3: 9, 4: 16}"
            ]
          },
          "metadata": {},
          "execution_count": 59
        }
      ]
    }
  ]
}