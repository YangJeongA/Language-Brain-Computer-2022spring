{
  "nbformat": 4,
  "nbformat_minor": 0,
  "metadata": {
    "colab": {
      "provenance": [],
      "include_colab_link": true
    },
    "kernelspec": {
      "name": "python3",
      "display_name": "Python 3"
    },
    "language_info": {
      "name": "python"
    }
  },
  "cells": [
    {
      "cell_type": "markdown",
      "metadata": {
        "id": "view-in-github",
        "colab_type": "text"
      },
      "source": [
        "<a href=\"https://colab.research.google.com/github/YangJeongA/Language-Brain-Computer-2022spring/blob/main/12_%EC%A0%95%EA%B7%9C%ED%91%9C%ED%98%844.ipynb\" target=\"_parent\"><img src=\"https://colab.research.google.com/assets/colab-badge.svg\" alt=\"Open In Colab\"/></a>"
      ]
    },
    {
      "cell_type": "markdown",
      "source": [
        "# 정규표현과 조건문"
      ],
      "metadata": {
        "id": "VwoEh4gOE_A2"
      }
    },
    {
      "cell_type": "code",
      "execution_count": 8,
      "metadata": {
        "id": "yeY7bsmRE6ee"
      },
      "outputs": [],
      "source": [
        "a = ['abc', 'bcd103', '103abc']"
      ]
    },
    {
      "cell_type": "code",
      "source": [
        "import re"
      ],
      "metadata": {
        "id": "19KSzs4_ihkQ"
      },
      "execution_count": 10,
      "outputs": []
    },
    {
      "cell_type": "code",
      "source": [
        "re.search('\\w+', a)\n",
        "\n",
        "# 정규표현함수의 두번째 논항에 리스트 올 수 x"
      ],
      "metadata": {
        "id": "JcNu8fBsFD7F",
        "colab": {
          "base_uri": "https://localhost:8080/",
          "height": 349
        },
        "outputId": "994690b8-a11f-44a0-aad6-7fb6e445b552"
      },
      "execution_count": 11,
      "outputs": [
        {
          "output_type": "error",
          "ename": "TypeError",
          "evalue": "ignored",
          "traceback": [
            "\u001b[0;31m---------------------------------------------------------------------------\u001b[0m",
            "\u001b[0;31mTypeError\u001b[0m                                 Traceback (most recent call last)",
            "\u001b[0;32m<ipython-input-11-31bb53a58162>\u001b[0m in \u001b[0;36m<module>\u001b[0;34m\u001b[0m\n\u001b[0;32m----> 1\u001b[0;31m \u001b[0mre\u001b[0m\u001b[0;34m.\u001b[0m\u001b[0msearch\u001b[0m\u001b[0;34m(\u001b[0m\u001b[0;34m'\\w+'\u001b[0m\u001b[0;34m,\u001b[0m \u001b[0ma\u001b[0m\u001b[0;34m)\u001b[0m\u001b[0;34m\u001b[0m\u001b[0;34m\u001b[0m\u001b[0m\n\u001b[0m\u001b[1;32m      2\u001b[0m \u001b[0;34m\u001b[0m\u001b[0m\n\u001b[1;32m      3\u001b[0m \u001b[0;31m# 정규표현함수의 두번째 논항에 리스트 올 수 x\u001b[0m\u001b[0;34m\u001b[0m\u001b[0;34m\u001b[0m\u001b[0;34m\u001b[0m\u001b[0m\n",
            "\u001b[0;32m/usr/lib/python3.8/re.py\u001b[0m in \u001b[0;36msearch\u001b[0;34m(pattern, string, flags)\u001b[0m\n\u001b[1;32m    199\u001b[0m     \"\"\"Scan through string looking for a match to the pattern, returning\n\u001b[1;32m    200\u001b[0m     a Match object, or None if no match was found.\"\"\"\n\u001b[0;32m--> 201\u001b[0;31m     \u001b[0;32mreturn\u001b[0m \u001b[0m_compile\u001b[0m\u001b[0;34m(\u001b[0m\u001b[0mpattern\u001b[0m\u001b[0;34m,\u001b[0m \u001b[0mflags\u001b[0m\u001b[0;34m)\u001b[0m\u001b[0;34m.\u001b[0m\u001b[0msearch\u001b[0m\u001b[0;34m(\u001b[0m\u001b[0mstring\u001b[0m\u001b[0;34m)\u001b[0m\u001b[0;34m\u001b[0m\u001b[0;34m\u001b[0m\u001b[0m\n\u001b[0m\u001b[1;32m    202\u001b[0m \u001b[0;34m\u001b[0m\u001b[0m\n\u001b[1;32m    203\u001b[0m \u001b[0;32mdef\u001b[0m \u001b[0msub\u001b[0m\u001b[0;34m(\u001b[0m\u001b[0mpattern\u001b[0m\u001b[0;34m,\u001b[0m \u001b[0mrepl\u001b[0m\u001b[0;34m,\u001b[0m \u001b[0mstring\u001b[0m\u001b[0;34m,\u001b[0m \u001b[0mcount\u001b[0m\u001b[0;34m=\u001b[0m\u001b[0;36m0\u001b[0m\u001b[0;34m,\u001b[0m \u001b[0mflags\u001b[0m\u001b[0;34m=\u001b[0m\u001b[0;36m0\u001b[0m\u001b[0;34m)\u001b[0m\u001b[0;34m:\u001b[0m\u001b[0;34m\u001b[0m\u001b[0;34m\u001b[0m\u001b[0m\n",
            "\u001b[0;31mTypeError\u001b[0m: expected string or bytes-like object"
          ]
        }
      ]
    },
    {
      "cell_type": "code",
      "source": [
        "for i in a:\n",
        "  if re.search('\\d+', i):\n",
        "    print(i, re.search('\\d+', i).group())\n",
        "\n",
        "\n",
        "#re.search에 의한 출력값이 있는 경우 True (코드 처리o), 없는 경우 False (코드 진행x)"
      ],
      "metadata": {
        "id": "_oTmSPzfFGWS",
        "colab": {
          "base_uri": "https://localhost:8080/"
        },
        "outputId": "f145ab0e-d9cf-457c-b503-16f1544c2b89"
      },
      "execution_count": 12,
      "outputs": [
        {
          "output_type": "stream",
          "name": "stdout",
          "text": [
            "bcd103 103\n",
            "103abc 103\n"
          ]
        }
      ]
    },
    {
      "cell_type": "markdown",
      "source": [
        "# 불 자료형 Bool Type\n",
        "- True: 1\n",
        "- False: 0"
      ],
      "metadata": {
        "id": "H6PyPQ2SFJYK"
      }
    },
    {
      "cell_type": "code",
      "source": [
        "True + True"
      ],
      "metadata": {
        "id": "MYnh9SJMFrI6",
        "colab": {
          "base_uri": "https://localhost:8080/"
        },
        "outputId": "318c55fa-7689-46ad-e2a1-076f1b23603f"
      },
      "execution_count": 13,
      "outputs": [
        {
          "output_type": "execute_result",
          "data": {
            "text/plain": [
              "2"
            ]
          },
          "metadata": {},
          "execution_count": 13
        }
      ]
    },
    {
      "cell_type": "code",
      "source": [
        "True + 3"
      ],
      "metadata": {
        "id": "svbLPIvQFt0i",
        "colab": {
          "base_uri": "https://localhost:8080/"
        },
        "outputId": "34abc24b-5069-478e-97d3-2b1c38105cbf"
      },
      "execution_count": 14,
      "outputs": [
        {
          "output_type": "execute_result",
          "data": {
            "text/plain": [
              "4"
            ]
          },
          "metadata": {},
          "execution_count": 14
        }
      ]
    },
    {
      "cell_type": "code",
      "source": [
        "False + False"
      ],
      "metadata": {
        "id": "DrtBefmwFvFb",
        "colab": {
          "base_uri": "https://localhost:8080/"
        },
        "outputId": "0b8a6b4d-a2cf-419e-b39e-949068dcdc2a"
      },
      "execution_count": 15,
      "outputs": [
        {
          "output_type": "execute_result",
          "data": {
            "text/plain": [
              "0"
            ]
          },
          "metadata": {},
          "execution_count": 15
        }
      ]
    },
    {
      "cell_type": "code",
      "source": [
        "# 어떤 유형의 값이 True로 처리되고 어떤 유형의 값이 False로 처리되는지 알아보기 위한 것\n",
        "\n",
        "for i in [0, 1, -2, 3, '', 'a', [], [0], (), (1,), None]:\n",
        "  if i:\n",
        "    print(i)\n",
        "\n",
        "\n",
        "# 숫자값은 0인 경우 False, 그 외는 True\n",
        "# 빈 문자열/리스트/튜플 등: False\n",
        "# 원소가 하나 이상 있는 문자열/리스트/튜플 등: True\n",
        "# NoneType값: False"
      ],
      "metadata": {
        "colab": {
          "base_uri": "https://localhost:8080/"
        },
        "id": "N8zjBlCqFy89",
        "outputId": "d917f8e3-eece-43c2-e19a-05c909f6e59c"
      },
      "execution_count": 16,
      "outputs": [
        {
          "output_type": "stream",
          "name": "stdout",
          "text": [
            "1\n",
            "-2\n",
            "3\n",
            "a\n",
            "[0]\n",
            "(1,)\n"
          ]
        }
      ]
    }
  ]
}