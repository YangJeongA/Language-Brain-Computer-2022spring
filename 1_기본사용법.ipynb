{
  "nbformat": 4,
  "nbformat_minor": 0,
  "metadata": {
    "colab": {
      "provenance": [],
      "include_colab_link": true
    },
    "kernelspec": {
      "name": "python3",
      "display_name": "Python 3"
    },
    "language_info": {
      "name": "python"
    }
  },
  "cells": [
    {
      "cell_type": "markdown",
      "metadata": {
        "id": "view-in-github",
        "colab_type": "text"
      },
      "source": [
        "<a href=\"https://colab.research.google.com/github/YangJeongA/Language-Brain-Computer-2022spring/blob/main/1_%EA%B8%B0%EB%B3%B8%EC%82%AC%EC%9A%A9%EB%B2%95.ipynb\" target=\"_parent\"><img src=\"https://colab.research.google.com/assets/colab-badge.svg\" alt=\"Open In Colab\"/></a>"
      ]
    },
    {
      "cell_type": "markdown",
      "source": [
        "# 문자열"
      ],
      "metadata": {
        "id": "Fbuwe2qxPOzE"
      }
    },
    {
      "cell_type": "code",
      "source": [
        "'apple'"
      ],
      "metadata": {
        "colab": {
          "base_uri": "https://localhost:8080/",
          "height": 36
        },
        "id": "B3zaIN-5PRBU",
        "outputId": "1fc3d811-65ba-4097-a39f-fc556b367d0c"
      },
      "execution_count": null,
      "outputs": [
        {
          "output_type": "execute_result",
          "data": {
            "text/plain": [
              "'apple'"
            ],
            "application/vnd.google.colaboratory.intrinsic+json": {
              "type": "string"
            }
          },
          "metadata": {},
          "execution_count": 32
        }
      ]
    },
    {
      "cell_type": "code",
      "source": [
        "\"John's\""
      ],
      "metadata": {
        "id": "4QWE4rLgPYC0",
        "colab": {
          "base_uri": "https://localhost:8080/",
          "height": 36
        },
        "outputId": "0e2fbb72-fd20-4143-bca2-ec6aaf7273fb"
      },
      "execution_count": null,
      "outputs": [
        {
          "output_type": "execute_result",
          "data": {
            "text/plain": [
              "\"John's\""
            ],
            "application/vnd.google.colaboratory.intrinsic+json": {
              "type": "string"
            }
          },
          "metadata": {},
          "execution_count": 33
        }
      ]
    },
    {
      "cell_type": "code",
      "source": [
        "'John's'\n",
        "\n",
        "#잘못된 표기"
      ],
      "metadata": {
        "id": "NlyV81afPZ06",
        "colab": {
          "base_uri": "https://localhost:8080/",
          "height": 134
        },
        "outputId": "756f808e-ef52-4c00-d0f6-55050a9bc33e"
      },
      "execution_count": null,
      "outputs": [
        {
          "output_type": "error",
          "ename": "SyntaxError",
          "evalue": "ignored",
          "traceback": [
            "\u001b[0;36m  File \u001b[0;32m\"<ipython-input-35-d0ae84066000>\"\u001b[0;36m, line \u001b[0;32m1\u001b[0m\n\u001b[0;31m    'John's'\u001b[0m\n\u001b[0m          ^\u001b[0m\n\u001b[0;31mSyntaxError\u001b[0m\u001b[0;31m:\u001b[0m invalid syntax\n"
          ]
        }
      ]
    },
    {
      "cell_type": "markdown",
      "source": [
        "# 변수"
      ],
      "metadata": {
        "id": "DVpeJfr3O_A_"
      }
    },
    {
      "cell_type": "code",
      "execution_count": null,
      "metadata": {
        "id": "9UFzBFQFJyOy"
      },
      "outputs": [],
      "source": [
        "X = 10"
      ]
    },
    {
      "cell_type": "code",
      "source": [
        "X"
      ],
      "metadata": {
        "id": "O4JJTfuNQu4G",
        "colab": {
          "base_uri": "https://localhost:8080/"
        },
        "outputId": "90b9decf-d9c5-40f9-8e6c-fbf9b0c3166f"
      },
      "execution_count": null,
      "outputs": [
        {
          "output_type": "execute_result",
          "data": {
            "text/plain": [
              "10"
            ]
          },
          "metadata": {},
          "execution_count": 6
        }
      ]
    },
    {
      "cell_type": "code",
      "source": [
        "X = X + 10"
      ],
      "metadata": {
        "id": "iaPSumd5Qv7u"
      },
      "execution_count": null,
      "outputs": []
    },
    {
      "cell_type": "code",
      "source": [
        "X"
      ],
      "metadata": {
        "colab": {
          "base_uri": "https://localhost:8080/"
        },
        "id": "c26WJs_sQyMd",
        "outputId": "1692820b-a445-49d9-a107-1eeec0fa642d"
      },
      "execution_count": null,
      "outputs": [
        {
          "output_type": "execute_result",
          "data": {
            "text/plain": [
              "20"
            ]
          },
          "metadata": {},
          "execution_count": 8
        }
      ]
    },
    {
      "cell_type": "code",
      "source": [
        "X = \"프로그래밍언어\""
      ],
      "metadata": {
        "id": "OGzUrr_HQ1D8"
      },
      "execution_count": null,
      "outputs": []
    },
    {
      "cell_type": "code",
      "source": [
        "Y = 'Python'"
      ],
      "metadata": {
        "id": "6GNJ_jhNRogZ"
      },
      "execution_count": null,
      "outputs": []
    },
    {
      "cell_type": "code",
      "source": [
        "X + Y"
      ],
      "metadata": {
        "colab": {
          "base_uri": "https://localhost:8080/",
          "height": 36
        },
        "id": "S69EUFUaRqhJ",
        "outputId": "ed721b6b-6655-4f42-fbe7-3215ef11b457"
      },
      "execution_count": null,
      "outputs": [
        {
          "output_type": "execute_result",
          "data": {
            "text/plain": [
              "'프로그래밍언어Python'"
            ],
            "application/vnd.google.colaboratory.intrinsic+json": {
              "type": "string"
            }
          },
          "metadata": {},
          "execution_count": 11
        }
      ]
    },
    {
      "cell_type": "markdown",
      "source": [
        "#### bool type 값도 연산 가능\n",
        "\n",
        "- True는 1, False는 0"
      ],
      "metadata": {
        "id": "Nz-R_aMYR0zf"
      }
    },
    {
      "cell_type": "code",
      "source": [
        "X = True"
      ],
      "metadata": {
        "id": "P89H9yk6Rs4C"
      },
      "execution_count": null,
      "outputs": []
    },
    {
      "cell_type": "code",
      "source": [
        "X + X "
      ],
      "metadata": {
        "colab": {
          "base_uri": "https://localhost:8080/"
        },
        "id": "m28IB1BVRwaK",
        "outputId": "04741185-3c04-4a57-c7d0-0d17c1df6e7d"
      },
      "execution_count": null,
      "outputs": [
        {
          "output_type": "execute_result",
          "data": {
            "text/plain": [
              "2"
            ]
          },
          "metadata": {},
          "execution_count": 13
        }
      ]
    },
    {
      "cell_type": "code",
      "source": [
        "Y = False"
      ],
      "metadata": {
        "id": "t9lUR8_PSBso"
      },
      "execution_count": null,
      "outputs": []
    },
    {
      "cell_type": "code",
      "source": [
        "X + Y"
      ],
      "metadata": {
        "colab": {
          "base_uri": "https://localhost:8080/"
        },
        "id": "VfT_-wlpSHC3",
        "outputId": "87676810-f4f5-42da-dc70-121c1839803b"
      },
      "execution_count": null,
      "outputs": [
        {
          "output_type": "execute_result",
          "data": {
            "text/plain": [
              "1"
            ]
          },
          "metadata": {},
          "execution_count": 15
        }
      ]
    },
    {
      "cell_type": "code",
      "source": [
        "X * Y"
      ],
      "metadata": {
        "colab": {
          "base_uri": "https://localhost:8080/"
        },
        "id": "IYHE8gVkSI33",
        "outputId": "56bf5c2d-4ed9-4c0d-bb7e-efaa9baef01f"
      },
      "execution_count": null,
      "outputs": [
        {
          "output_type": "execute_result",
          "data": {
            "text/plain": [
              "0"
            ]
          },
          "metadata": {},
          "execution_count": 16
        }
      ]
    },
    {
      "cell_type": "code",
      "source": [
        "X * X"
      ],
      "metadata": {
        "colab": {
          "base_uri": "https://localhost:8080/"
        },
        "id": "0XRK4x9ESKYw",
        "outputId": "b616b114-36ce-40fe-d865-de8eab066c14"
      },
      "execution_count": null,
      "outputs": [
        {
          "output_type": "execute_result",
          "data": {
            "text/plain": [
              "1"
            ]
          },
          "metadata": {},
          "execution_count": 17
        }
      ]
    },
    {
      "cell_type": "code",
      "source": [
        "'X' + 'X'"
      ],
      "metadata": {
        "colab": {
          "base_uri": "https://localhost:8080/",
          "height": 36
        },
        "id": "5jM3FvxSSPWk",
        "outputId": "03495843-5936-41ee-99b9-fa73de555a68"
      },
      "execution_count": null,
      "outputs": [
        {
          "output_type": "execute_result",
          "data": {
            "text/plain": [
              "'XX'"
            ],
            "application/vnd.google.colaboratory.intrinsic+json": {
              "type": "string"
            }
          },
          "metadata": {},
          "execution_count": 18
        }
      ]
    },
    {
      "cell_type": "code",
      "source": [
        "X = 'True'"
      ],
      "metadata": {
        "id": "MZyNWbDsSTCR"
      },
      "execution_count": null,
      "outputs": []
    },
    {
      "cell_type": "code",
      "source": [
        "X + X"
      ],
      "metadata": {
        "colab": {
          "base_uri": "https://localhost:8080/",
          "height": 36
        },
        "id": "1vK-EGFFSUKQ",
        "outputId": "1cf3ea0d-3e43-4bd5-bb1a-320ae0d7ac18"
      },
      "execution_count": null,
      "outputs": [
        {
          "output_type": "execute_result",
          "data": {
            "text/plain": [
              "'TrueTrue'"
            ],
            "application/vnd.google.colaboratory.intrinsic+json": {
              "type": "string"
            }
          },
          "metadata": {},
          "execution_count": 20
        }
      ]
    },
    {
      "cell_type": "code",
      "source": [
        "True + False"
      ],
      "metadata": {
        "colab": {
          "base_uri": "https://localhost:8080/"
        },
        "id": "uqnBr0q2fTBu",
        "outputId": "44ff2ad4-67d8-4281-84a6-37e9c5df1ad4"
      },
      "execution_count": null,
      "outputs": [
        {
          "output_type": "execute_result",
          "data": {
            "text/plain": [
              "1"
            ]
          },
          "metadata": {},
          "execution_count": 21
        }
      ]
    },
    {
      "cell_type": "markdown",
      "source": [
        "# 산술연산자"
      ],
      "metadata": {
        "id": "bzQAnJjdSXf5"
      }
    },
    {
      "cell_type": "code",
      "source": [
        "a = 10\n",
        "b = 2"
      ],
      "metadata": {
        "id": "xXavMLaNSYV1"
      },
      "execution_count": null,
      "outputs": []
    },
    {
      "cell_type": "code",
      "source": [
        "a + b"
      ],
      "metadata": {
        "id": "1l1ImJmgSbaj",
        "colab": {
          "base_uri": "https://localhost:8080/"
        },
        "outputId": "bdbfa8cf-0bdb-45e8-9a32-0e639d4890b0"
      },
      "execution_count": null,
      "outputs": [
        {
          "output_type": "execute_result",
          "data": {
            "text/plain": [
              "12"
            ]
          },
          "metadata": {},
          "execution_count": 23
        }
      ]
    },
    {
      "cell_type": "code",
      "source": [
        "a - b"
      ],
      "metadata": {
        "id": "jg23nbStScCN",
        "colab": {
          "base_uri": "https://localhost:8080/"
        },
        "outputId": "2a1faefd-b5e8-45be-84c4-f4a70a37eee4"
      },
      "execution_count": null,
      "outputs": [
        {
          "output_type": "execute_result",
          "data": {
            "text/plain": [
              "8"
            ]
          },
          "metadata": {},
          "execution_count": 24
        }
      ]
    },
    {
      "cell_type": "code",
      "source": [
        "a / b\n",
        "\n",
        "# 나누기 하면 실수형으로 출력"
      ],
      "metadata": {
        "id": "TYKi_cvbSczc",
        "colab": {
          "base_uri": "https://localhost:8080/"
        },
        "outputId": "7be3f7c9-dffe-4e6e-c7dd-745890f1a0a8"
      },
      "execution_count": null,
      "outputs": [
        {
          "output_type": "execute_result",
          "data": {
            "text/plain": [
              "5.0"
            ]
          },
          "metadata": {},
          "execution_count": 25
        }
      ]
    },
    {
      "cell_type": "code",
      "source": [
        "a * b"
      ],
      "metadata": {
        "colab": {
          "base_uri": "https://localhost:8080/"
        },
        "id": "wWIbGvN0T539",
        "outputId": "5960bdfe-37d1-46e1-f2ee-8c36f3b9cbe7"
      },
      "execution_count": null,
      "outputs": [
        {
          "output_type": "execute_result",
          "data": {
            "text/plain": [
              "20"
            ]
          },
          "metadata": {},
          "execution_count": 26
        }
      ]
    },
    {
      "cell_type": "code",
      "source": [
        "a ** b\n",
        "\n",
        "# 거듭제곱"
      ],
      "metadata": {
        "id": "lvyvTlKHT8JE",
        "colab": {
          "base_uri": "https://localhost:8080/"
        },
        "outputId": "536de820-a86a-4452-ba39-c507e2c36c93"
      },
      "execution_count": null,
      "outputs": [
        {
          "output_type": "execute_result",
          "data": {
            "text/plain": [
              "100"
            ]
          },
          "metadata": {},
          "execution_count": 27
        }
      ]
    },
    {
      "cell_type": "code",
      "source": [
        "a % b\n",
        "\n",
        "# 나머지"
      ],
      "metadata": {
        "id": "FRta7h1fT-UU",
        "colab": {
          "base_uri": "https://localhost:8080/"
        },
        "outputId": "06049a2d-a2d1-4319-a4ae-bef14dac52dc"
      },
      "execution_count": null,
      "outputs": [
        {
          "output_type": "execute_result",
          "data": {
            "text/plain": [
              "0"
            ]
          },
          "metadata": {},
          "execution_count": 28
        }
      ]
    },
    {
      "cell_type": "code",
      "source": [
        "a // b\n",
        "\n",
        "# 몫"
      ],
      "metadata": {
        "id": "-gcwO8xsUA8f",
        "colab": {
          "base_uri": "https://localhost:8080/"
        },
        "outputId": "3b88665f-b0de-4046-d32b-620436a4498f"
      },
      "execution_count": null,
      "outputs": [
        {
          "output_type": "execute_result",
          "data": {
            "text/plain": [
              "5"
            ]
          },
          "metadata": {},
          "execution_count": 29
        }
      ]
    },
    {
      "cell_type": "markdown",
      "source": [
        "#### datatype 주의하기"
      ],
      "metadata": {
        "id": "bg4GLUv1Uptc"
      }
    },
    {
      "cell_type": "code",
      "source": [
        "c = '프로그래밍'\n",
        "d = 'Python'"
      ],
      "metadata": {
        "id": "3tJofifLUIad"
      },
      "execution_count": null,
      "outputs": []
    },
    {
      "cell_type": "code",
      "source": [
        "c - d\n",
        "\n",
        "# - 연산자 문자열에 적용 불가능"
      ],
      "metadata": {
        "colab": {
          "base_uri": "https://localhost:8080/",
          "height": 206
        },
        "id": "JOySFfSXUFVZ",
        "outputId": "caad11c7-d442-42d6-8a27-b33d0c5b39dc"
      },
      "execution_count": null,
      "outputs": [
        {
          "output_type": "error",
          "ename": "TypeError",
          "evalue": "ignored",
          "traceback": [
            "\u001b[0;31m---------------------------------------------------------------------------\u001b[0m",
            "\u001b[0;31mTypeError\u001b[0m                                 Traceback (most recent call last)",
            "\u001b[0;32m<ipython-input-37-5f954b5d64e8>\u001b[0m in \u001b[0;36m<module>\u001b[0;34m\u001b[0m\n\u001b[0;32m----> 1\u001b[0;31m \u001b[0mc\u001b[0m \u001b[0;34m-\u001b[0m \u001b[0md\u001b[0m\u001b[0;34m\u001b[0m\u001b[0;34m\u001b[0m\u001b[0m\n\u001b[0m\u001b[1;32m      2\u001b[0m \u001b[0;34m\u001b[0m\u001b[0m\n\u001b[1;32m      3\u001b[0m \u001b[0;31m# - 연산자 문자열에 적용 불가능\u001b[0m\u001b[0;34m\u001b[0m\u001b[0;34m\u001b[0m\u001b[0;34m\u001b[0m\u001b[0m\n",
            "\u001b[0;31mTypeError\u001b[0m: unsupported operand type(s) for -: 'str' and 'str'"
          ]
        }
      ]
    },
    {
      "cell_type": "code",
      "source": [
        "c / d\n",
        "\n",
        "# /연산자는 문자열에 적용 불가능"
      ],
      "metadata": {
        "id": "OWFIBS5yUs_b",
        "colab": {
          "base_uri": "https://localhost:8080/",
          "height": 206
        },
        "outputId": "3b4c124c-0826-44cb-c5a3-1b92e1890501"
      },
      "execution_count": null,
      "outputs": [
        {
          "output_type": "error",
          "ename": "TypeError",
          "evalue": "ignored",
          "traceback": [
            "\u001b[0;31m---------------------------------------------------------------------------\u001b[0m",
            "\u001b[0;31mTypeError\u001b[0m                                 Traceback (most recent call last)",
            "\u001b[0;32m<ipython-input-38-25ae6de57655>\u001b[0m in \u001b[0;36m<module>\u001b[0;34m\u001b[0m\n\u001b[0;32m----> 1\u001b[0;31m \u001b[0mc\u001b[0m \u001b[0;34m/\u001b[0m \u001b[0md\u001b[0m\u001b[0;34m\u001b[0m\u001b[0;34m\u001b[0m\u001b[0m\n\u001b[0m\u001b[1;32m      2\u001b[0m \u001b[0;34m\u001b[0m\u001b[0m\n\u001b[1;32m      3\u001b[0m \u001b[0;31m# /연산자는 문자열에 적용 불가능\u001b[0m\u001b[0;34m\u001b[0m\u001b[0;34m\u001b[0m\u001b[0;34m\u001b[0m\u001b[0m\n",
            "\u001b[0;31mTypeError\u001b[0m: unsupported operand type(s) for /: 'str' and 'str'"
          ]
        }
      ]
    },
    {
      "cell_type": "code",
      "source": [
        "c * 3"
      ],
      "metadata": {
        "colab": {
          "base_uri": "https://localhost:8080/",
          "height": 36
        },
        "id": "rJvorxucU6uL",
        "outputId": "60e36e93-72e3-4ce0-ef3d-e004a0332899"
      },
      "execution_count": null,
      "outputs": [
        {
          "output_type": "execute_result",
          "data": {
            "text/plain": [
              "'프로그래밍프로그래밍프로그래밍'"
            ],
            "application/vnd.google.colaboratory.intrinsic+json": {
              "type": "string"
            }
          },
          "metadata": {},
          "execution_count": 39
        }
      ]
    },
    {
      "cell_type": "code",
      "source": [
        "c + c"
      ],
      "metadata": {
        "colab": {
          "base_uri": "https://localhost:8080/",
          "height": 36
        },
        "id": "ZywCMnD-U_Ul",
        "outputId": "a3c3dbb0-47b9-40ce-ab27-01f8e6e36aba"
      },
      "execution_count": null,
      "outputs": [
        {
          "output_type": "execute_result",
          "data": {
            "text/plain": [
              "'프로그래밍프로그래밍'"
            ],
            "application/vnd.google.colaboratory.intrinsic+json": {
              "type": "string"
            }
          },
          "metadata": {},
          "execution_count": 40
        }
      ]
    },
    {
      "cell_type": "code",
      "source": [
        "c + 3\n",
        "\n",
        "# 문자열 + 숫자 불가능"
      ],
      "metadata": {
        "colab": {
          "base_uri": "https://localhost:8080/",
          "height": 206
        },
        "id": "09Eag6IdU8XD",
        "outputId": "1f543953-7103-4ead-8495-7fb9345144f5"
      },
      "execution_count": null,
      "outputs": [
        {
          "output_type": "error",
          "ename": "TypeError",
          "evalue": "ignored",
          "traceback": [
            "\u001b[0;31m---------------------------------------------------------------------------\u001b[0m",
            "\u001b[0;31mTypeError\u001b[0m                                 Traceback (most recent call last)",
            "\u001b[0;32m<ipython-input-41-e6217afe3d24>\u001b[0m in \u001b[0;36m<module>\u001b[0;34m\u001b[0m\n\u001b[0;32m----> 1\u001b[0;31m \u001b[0mc\u001b[0m \u001b[0;34m+\u001b[0m \u001b[0;36m3\u001b[0m\u001b[0;34m\u001b[0m\u001b[0;34m\u001b[0m\u001b[0m\n\u001b[0m\u001b[1;32m      2\u001b[0m \u001b[0;34m\u001b[0m\u001b[0m\n\u001b[1;32m      3\u001b[0m \u001b[0;31m# 문자열 + 숫자 불가능\u001b[0m\u001b[0;34m\u001b[0m\u001b[0;34m\u001b[0m\u001b[0;34m\u001b[0m\u001b[0m\n",
            "\u001b[0;31mTypeError\u001b[0m: can only concatenate str (not \"int\") to str"
          ]
        }
      ]
    },
    {
      "cell_type": "code",
      "source": [
        "c * c\n",
        "\n",
        "# 문자열 * 문자열 불가능"
      ],
      "metadata": {
        "colab": {
          "base_uri": "https://localhost:8080/",
          "height": 206
        },
        "id": "fzVl2UqvU930",
        "outputId": "09fbab1e-64ba-4984-e3a7-7cfe7342e3c3"
      },
      "execution_count": null,
      "outputs": [
        {
          "output_type": "error",
          "ename": "TypeError",
          "evalue": "ignored",
          "traceback": [
            "\u001b[0;31m---------------------------------------------------------------------------\u001b[0m",
            "\u001b[0;31mTypeError\u001b[0m                                 Traceback (most recent call last)",
            "\u001b[0;32m<ipython-input-42-211beeb35ae0>\u001b[0m in \u001b[0;36m<module>\u001b[0;34m\u001b[0m\n\u001b[0;32m----> 1\u001b[0;31m \u001b[0mc\u001b[0m \u001b[0;34m*\u001b[0m \u001b[0mc\u001b[0m\u001b[0;34m\u001b[0m\u001b[0;34m\u001b[0m\u001b[0m\n\u001b[0m\u001b[1;32m      2\u001b[0m \u001b[0;34m\u001b[0m\u001b[0m\n\u001b[1;32m      3\u001b[0m \u001b[0;31m# 문자열 * 문자열 불가능\u001b[0m\u001b[0;34m\u001b[0m\u001b[0;34m\u001b[0m\u001b[0;34m\u001b[0m\u001b[0m\n",
            "\u001b[0;31mTypeError\u001b[0m: can't multiply sequence by non-int of type 'str'"
          ]
        }
      ]
    },
    {
      "cell_type": "markdown",
      "source": [
        "# 치환문 (assignment) ="
      ],
      "metadata": {
        "id": "QjTznwDfWCnG"
      }
    },
    {
      "cell_type": "code",
      "source": [
        "A = 2"
      ],
      "metadata": {
        "id": "j-6ZBnlKWFr8"
      },
      "execution_count": null,
      "outputs": []
    },
    {
      "cell_type": "code",
      "source": [
        "A"
      ],
      "metadata": {
        "id": "E5sK_i4XWHJ_",
        "colab": {
          "base_uri": "https://localhost:8080/"
        },
        "outputId": "20785d23-4eb9-4d83-f377-c037bfb6ce8c"
      },
      "execution_count": null,
      "outputs": [
        {
          "output_type": "execute_result",
          "data": {
            "text/plain": [
              "2"
            ]
          },
          "metadata": {},
          "execution_count": 44
        }
      ]
    },
    {
      "cell_type": "code",
      "source": [
        "B = 2 + A"
      ],
      "metadata": {
        "id": "iCtYxsf5WHk4"
      },
      "execution_count": null,
      "outputs": []
    },
    {
      "cell_type": "code",
      "source": [
        "B"
      ],
      "metadata": {
        "id": "12nvZI1xWJg_",
        "colab": {
          "base_uri": "https://localhost:8080/"
        },
        "outputId": "1b582b7d-162a-4c52-9d8e-9bef795d4aeb"
      },
      "execution_count": null,
      "outputs": [
        {
          "output_type": "execute_result",
          "data": {
            "text/plain": [
              "4"
            ]
          },
          "metadata": {},
          "execution_count": 46
        }
      ]
    },
    {
      "cell_type": "code",
      "source": [
        "B = 5"
      ],
      "metadata": {
        "id": "C09qcTtxWKBl"
      },
      "execution_count": null,
      "outputs": []
    },
    {
      "cell_type": "code",
      "source": [
        "6 = A\n",
        "\n",
        "# 불가능 -> 등호 왼쪽에 변수명, 오른쪽에 할당할 값이 와야 함"
      ],
      "metadata": {
        "id": "pKKBW2pmWM2d",
        "colab": {
          "base_uri": "https://localhost:8080/",
          "height": 134
        },
        "outputId": "1dca0922-8808-47f0-b377-2c0ac9e74ce8"
      },
      "execution_count": null,
      "outputs": [
        {
          "output_type": "error",
          "ename": "SyntaxError",
          "evalue": "ignored",
          "traceback": [
            "\u001b[0;36m  File \u001b[0;32m\"<ipython-input-50-bfe21d36d6f6>\"\u001b[0;36m, line \u001b[0;32m1\u001b[0m\n\u001b[0;31m    6 = A\u001b[0m\n\u001b[0m    ^\u001b[0m\n\u001b[0;31mSyntaxError\u001b[0m\u001b[0;31m:\u001b[0m cannot assign to literal\n"
          ]
        }
      ]
    },
    {
      "cell_type": "code",
      "source": [
        "A = B"
      ],
      "metadata": {
        "id": "Fw3aJLGOWSSf"
      },
      "execution_count": null,
      "outputs": []
    },
    {
      "cell_type": "code",
      "source": [
        "A = C\n",
        "\n",
        "# C에 할당된 값이 없으므로 오류 발생"
      ],
      "metadata": {
        "id": "38ThDp0lWUcq",
        "colab": {
          "base_uri": "https://localhost:8080/",
          "height": 206
        },
        "outputId": "a157e31f-86e6-451e-9a76-3e0bf06cc68b"
      },
      "execution_count": null,
      "outputs": [
        {
          "output_type": "error",
          "ename": "NameError",
          "evalue": "ignored",
          "traceback": [
            "\u001b[0;31m---------------------------------------------------------------------------\u001b[0m",
            "\u001b[0;31mNameError\u001b[0m                                 Traceback (most recent call last)",
            "\u001b[0;32m<ipython-input-52-2b9a587841ac>\u001b[0m in \u001b[0;36m<module>\u001b[0;34m\u001b[0m\n\u001b[0;32m----> 1\u001b[0;31m \u001b[0mA\u001b[0m \u001b[0;34m=\u001b[0m \u001b[0mC\u001b[0m\u001b[0;34m\u001b[0m\u001b[0;34m\u001b[0m\u001b[0m\n\u001b[0m\u001b[1;32m      2\u001b[0m \u001b[0;34m\u001b[0m\u001b[0m\n\u001b[1;32m      3\u001b[0m \u001b[0;31m# C에 할당된 값이 없으므로 오류 발생\u001b[0m\u001b[0;34m\u001b[0m\u001b[0;34m\u001b[0m\u001b[0;34m\u001b[0m\u001b[0m\n",
            "\u001b[0;31mNameError\u001b[0m: name 'C' is not defined"
          ]
        }
      ]
    },
    {
      "cell_type": "markdown",
      "source": [
        "### 치환문의 다양한 입력 방식"
      ],
      "metadata": {
        "id": "Pm0ngRAvWZ2X"
      }
    },
    {
      "cell_type": "markdown",
      "source": [
        "#### 1)"
      ],
      "metadata": {
        "id": "LU_tIfRDWgPt"
      }
    },
    {
      "cell_type": "code",
      "source": [
        "c, d = 3, 4"
      ],
      "metadata": {
        "id": "F8BkQ7oiWcIs"
      },
      "execution_count": null,
      "outputs": []
    },
    {
      "cell_type": "code",
      "source": [
        "c"
      ],
      "metadata": {
        "id": "XJi7eS56WeMp",
        "colab": {
          "base_uri": "https://localhost:8080/"
        },
        "outputId": "b98ff64c-90f5-4672-8c11-b40eed64dd6d"
      },
      "execution_count": null,
      "outputs": [
        {
          "output_type": "execute_result",
          "data": {
            "text/plain": [
              "3"
            ]
          },
          "metadata": {},
          "execution_count": 55
        }
      ]
    },
    {
      "cell_type": "code",
      "source": [
        "d"
      ],
      "metadata": {
        "id": "hgza0YE_We2X",
        "colab": {
          "base_uri": "https://localhost:8080/"
        },
        "outputId": "e43b6e3f-2105-45ce-e70d-a2a5d624c6ed"
      },
      "execution_count": null,
      "outputs": [
        {
          "output_type": "execute_result",
          "data": {
            "text/plain": [
              "4"
            ]
          },
          "metadata": {},
          "execution_count": 56
        }
      ]
    },
    {
      "cell_type": "markdown",
      "source": [
        "#### 2)"
      ],
      "metadata": {
        "id": "c_OChcLoWiPJ"
      }
    },
    {
      "cell_type": "code",
      "source": [
        "x = y = z = 0"
      ],
      "metadata": {
        "id": "fXfjuUnvWfOv"
      },
      "execution_count": null,
      "outputs": []
    },
    {
      "cell_type": "code",
      "source": [
        "x"
      ],
      "metadata": {
        "id": "36xrSN8jW7fJ",
        "colab": {
          "base_uri": "https://localhost:8080/"
        },
        "outputId": "bf54428f-21bc-4607-92b4-ec95619b38a9"
      },
      "execution_count": null,
      "outputs": [
        {
          "output_type": "execute_result",
          "data": {
            "text/plain": [
              "0"
            ]
          },
          "metadata": {},
          "execution_count": 58
        }
      ]
    },
    {
      "cell_type": "code",
      "source": [
        "y"
      ],
      "metadata": {
        "id": "jD2dRXpDW7vp",
        "colab": {
          "base_uri": "https://localhost:8080/"
        },
        "outputId": "1be06903-2cc8-47d9-9a2f-a1c71c998ce4"
      },
      "execution_count": null,
      "outputs": [
        {
          "output_type": "execute_result",
          "data": {
            "text/plain": [
              "0"
            ]
          },
          "metadata": {},
          "execution_count": 59
        }
      ]
    },
    {
      "cell_type": "code",
      "source": [
        "z"
      ],
      "metadata": {
        "id": "3Sa1hAr_W8EZ",
        "colab": {
          "base_uri": "https://localhost:8080/"
        },
        "outputId": "7bd041e4-5dc7-41d9-c61f-758693faf2c1"
      },
      "execution_count": null,
      "outputs": [
        {
          "output_type": "execute_result",
          "data": {
            "text/plain": [
              "0"
            ]
          },
          "metadata": {},
          "execution_count": 60
        }
      ]
    },
    {
      "cell_type": "markdown",
      "source": [
        "#### 3)"
      ],
      "metadata": {
        "id": "z7-NtIrDW9VZ"
      }
    },
    {
      "cell_type": "code",
      "source": [
        "e = 10; f=20"
      ],
      "metadata": {
        "id": "ziMMpWv8W7-o"
      },
      "execution_count": null,
      "outputs": []
    },
    {
      "cell_type": "code",
      "source": [
        "e"
      ],
      "metadata": {
        "id": "7VVzLGR0XBqp",
        "colab": {
          "base_uri": "https://localhost:8080/"
        },
        "outputId": "c2d42288-8175-4183-bcb2-082393651f45"
      },
      "execution_count": null,
      "outputs": [
        {
          "output_type": "execute_result",
          "data": {
            "text/plain": [
              "10"
            ]
          },
          "metadata": {},
          "execution_count": 62
        }
      ]
    },
    {
      "cell_type": "code",
      "source": [
        "f"
      ],
      "metadata": {
        "id": "ykdnTCq1XC58"
      },
      "execution_count": null,
      "outputs": []
    },
    {
      "cell_type": "code",
      "source": [
        "e;f\n",
        "\n",
        "# 가장 뒤에 나온 변수의 출력값만 출력됨"
      ],
      "metadata": {
        "colab": {
          "base_uri": "https://localhost:8080/"
        },
        "id": "K95cBd3RXDco",
        "outputId": "7e30f92e-5c18-4fbb-c5d9-c5741f4e5676"
      },
      "execution_count": null,
      "outputs": [
        {
          "output_type": "execute_result",
          "data": {
            "text/plain": [
              "20"
            ]
          },
          "metadata": {},
          "execution_count": 64
        }
      ]
    },
    {
      "cell_type": "markdown",
      "source": [
        "# 확장치환문"
      ],
      "metadata": {
        "id": "eG6cQFXHXIqm"
      }
    },
    {
      "cell_type": "code",
      "source": [
        "a = 1; a +=4\n",
        "a"
      ],
      "metadata": {
        "id": "h0f714c7XKPn",
        "colab": {
          "base_uri": "https://localhost:8080/"
        },
        "outputId": "d56a7e58-8eb1-4277-b417-029392b8d2db"
      },
      "execution_count": null,
      "outputs": [
        {
          "output_type": "execute_result",
          "data": {
            "text/plain": [
              "5"
            ]
          },
          "metadata": {},
          "execution_count": 65
        }
      ]
    },
    {
      "cell_type": "code",
      "source": [
        "a -= 3\n",
        "a"
      ],
      "metadata": {
        "id": "Y2--pnwrXM3K",
        "colab": {
          "base_uri": "https://localhost:8080/"
        },
        "outputId": "8fcbb130-fea6-439e-b143-c7ccf157b143"
      },
      "execution_count": null,
      "outputs": [
        {
          "output_type": "execute_result",
          "data": {
            "text/plain": [
              "2"
            ]
          },
          "metadata": {},
          "execution_count": 66
        }
      ]
    },
    {
      "cell_type": "code",
      "source": [
        "a *= 3\n",
        "a"
      ],
      "metadata": {
        "id": "sxNiTFIWXOWa",
        "colab": {
          "base_uri": "https://localhost:8080/"
        },
        "outputId": "c441a2ce-70c0-4eb8-baf1-13c370d4a9ae"
      },
      "execution_count": null,
      "outputs": [
        {
          "output_type": "execute_result",
          "data": {
            "text/plain": [
              "2.0"
            ]
          },
          "metadata": {},
          "execution_count": 68
        }
      ]
    },
    {
      "cell_type": "code",
      "source": [
        "a /= 3\n",
        "A\n",
        "\n",
        "# 나누기 하면 실수형 데이터 출력"
      ],
      "metadata": {
        "id": "ymrPw-SIXP7t",
        "colab": {
          "base_uri": "https://localhost:8080/"
        },
        "outputId": "0c64466e-ef08-40cf-993f-a057ed62fded"
      },
      "execution_count": null,
      "outputs": [
        {
          "output_type": "execute_result",
          "data": {
            "text/plain": [
              "5"
            ]
          },
          "metadata": {},
          "execution_count": 69
        }
      ]
    },
    {
      "cell_type": "markdown",
      "source": [
        "# 관계(비교) 연산자\n",
        "\n",
        "- 관계/비교 연산의 출력 결과는 True/False"
      ],
      "metadata": {
        "id": "a_SY64GqZIYu"
      }
    },
    {
      "cell_type": "code",
      "source": [
        "==   #같은 값"
      ],
      "metadata": {
        "id": "h_usiloCZJtr"
      },
      "execution_count": null,
      "outputs": []
    },
    {
      "cell_type": "code",
      "source": [
        "!=   #값이 같지 않은가?"
      ],
      "metadata": {
        "id": "9YHTj9nfZQtd"
      },
      "execution_count": null,
      "outputs": []
    },
    {
      "cell_type": "code",
      "source": [
        ">    #크다?"
      ],
      "metadata": {
        "id": "ctWSKKcKZVC0"
      },
      "execution_count": null,
      "outputs": []
    },
    {
      "cell_type": "code",
      "source": [
        "<    #작다?"
      ],
      "metadata": {
        "id": "WuhrsYUMZW3g"
      },
      "execution_count": null,
      "outputs": []
    },
    {
      "cell_type": "code",
      "source": [
        "<=   #같거나 작은가?"
      ],
      "metadata": {
        "id": "xLAa_UMTZab4"
      },
      "execution_count": null,
      "outputs": []
    },
    {
      "cell_type": "code",
      "source": [
        ">=   #크거나 같은가?"
      ],
      "metadata": {
        "id": "QXcFWPVnZcUW"
      },
      "execution_count": null,
      "outputs": []
    },
    {
      "cell_type": "markdown",
      "source": [
        "### 예시"
      ],
      "metadata": {
        "id": "VE3b8frHZw0V"
      }
    },
    {
      "cell_type": "code",
      "source": [
        "type('python') == str"
      ],
      "metadata": {
        "id": "cb2hZuhFZxhv",
        "colab": {
          "base_uri": "https://localhost:8080/"
        },
        "outputId": "29df9308-2b4b-4e1c-a73e-55fbc0b68cd5"
      },
      "execution_count": null,
      "outputs": [
        {
          "output_type": "execute_result",
          "data": {
            "text/plain": [
              "True"
            ]
          },
          "metadata": {},
          "execution_count": 78
        }
      ]
    },
    {
      "cell_type": "code",
      "source": [
        "type(3) == int"
      ],
      "metadata": {
        "id": "pLpJ7PFPZ0IP",
        "colab": {
          "base_uri": "https://localhost:8080/"
        },
        "outputId": "c7e3fed8-97d6-4df2-8a51-dc3656cbeef7"
      },
      "execution_count": null,
      "outputs": [
        {
          "output_type": "execute_result",
          "data": {
            "text/plain": [
              "True"
            ]
          },
          "metadata": {},
          "execution_count": 79
        }
      ]
    },
    {
      "cell_type": "code",
      "source": [
        "type(False) == bool"
      ],
      "metadata": {
        "id": "b4QZfB8bZ3g7",
        "colab": {
          "base_uri": "https://localhost:8080/"
        },
        "outputId": "38db580e-26ce-49f3-8cb5-c7d0fc8a5180"
      },
      "execution_count": null,
      "outputs": [
        {
          "output_type": "execute_result",
          "data": {
            "text/plain": [
              "True"
            ]
          },
          "metadata": {},
          "execution_count": 80
        }
      ]
    },
    {
      "cell_type": "code",
      "source": [
        "type(False) == True"
      ],
      "metadata": {
        "id": "vfIpZnnlZ6ra",
        "colab": {
          "base_uri": "https://localhost:8080/"
        },
        "outputId": "0a80ce41-bac2-4c31-fdc9-3f510daeac73"
      },
      "execution_count": null,
      "outputs": [
        {
          "output_type": "execute_result",
          "data": {
            "text/plain": [
              "False"
            ]
          },
          "metadata": {},
          "execution_count": 81
        }
      ]
    },
    {
      "cell_type": "markdown",
      "source": [
        "# 논리 연산자"
      ],
      "metadata": {
        "id": "Sz6CurHcZ-dx"
      }
    },
    {
      "cell_type": "markdown",
      "source": [
        "#### 1."
      ],
      "metadata": {
        "id": "uiPR73llaJl7"
      }
    },
    {
      "cell_type": "code",
      "source": [
        "not True"
      ],
      "metadata": {
        "colab": {
          "base_uri": "https://localhost:8080/"
        },
        "id": "pdWpQ_dWaAOn",
        "outputId": "41a171eb-591b-4e83-dfba-ebdc3da5effe"
      },
      "execution_count": null,
      "outputs": [
        {
          "output_type": "execute_result",
          "data": {
            "text/plain": [
              "False"
            ]
          },
          "metadata": {},
          "execution_count": 82
        }
      ]
    },
    {
      "cell_type": "code",
      "source": [
        "not False"
      ],
      "metadata": {
        "id": "-Im2wAwvaBgN",
        "colab": {
          "base_uri": "https://localhost:8080/"
        },
        "outputId": "2e7f9371-2083-4d51-c121-79c7b0634d53"
      },
      "execution_count": null,
      "outputs": [
        {
          "output_type": "execute_result",
          "data": {
            "text/plain": [
              "True"
            ]
          },
          "metadata": {},
          "execution_count": 83
        }
      ]
    },
    {
      "cell_type": "markdown",
      "source": [
        "#### 2."
      ],
      "metadata": {
        "id": "1vtmGuKlaKzr"
      }
    },
    {
      "cell_type": "code",
      "source": [
        "True and True"
      ],
      "metadata": {
        "id": "L807DCDGaG4y",
        "colab": {
          "base_uri": "https://localhost:8080/"
        },
        "outputId": "32550d25-78e5-486c-b30b-9b812b025a03"
      },
      "execution_count": null,
      "outputs": [
        {
          "output_type": "execute_result",
          "data": {
            "text/plain": [
              "True"
            ]
          },
          "metadata": {},
          "execution_count": 84
        }
      ]
    },
    {
      "cell_type": "code",
      "source": [
        "True and False"
      ],
      "metadata": {
        "id": "fyQIQ3ymaH-m",
        "colab": {
          "base_uri": "https://localhost:8080/"
        },
        "outputId": "334b1450-b57b-49f9-951a-183059149c39"
      },
      "execution_count": null,
      "outputs": [
        {
          "output_type": "execute_result",
          "data": {
            "text/plain": [
              "False"
            ]
          },
          "metadata": {},
          "execution_count": 85
        }
      ]
    },
    {
      "cell_type": "code",
      "source": [
        "False and False"
      ],
      "metadata": {
        "id": "8iTkcxm8aNQI",
        "colab": {
          "base_uri": "https://localhost:8080/"
        },
        "outputId": "3bebb68f-d46b-4e66-c0db-0798138a29da"
      },
      "execution_count": null,
      "outputs": [
        {
          "output_type": "execute_result",
          "data": {
            "text/plain": [
              "False"
            ]
          },
          "metadata": {},
          "execution_count": 86
        }
      ]
    },
    {
      "cell_type": "markdown",
      "source": [
        "#### 3."
      ],
      "metadata": {
        "id": "QmYk8_0PaPaR"
      }
    },
    {
      "cell_type": "code",
      "source": [
        "True or True"
      ],
      "metadata": {
        "id": "4R2ypcM4aQDV",
        "colab": {
          "base_uri": "https://localhost:8080/"
        },
        "outputId": "5380ab57-a29e-4f01-d6a3-8e7b22001b28"
      },
      "execution_count": null,
      "outputs": [
        {
          "output_type": "execute_result",
          "data": {
            "text/plain": [
              "True"
            ]
          },
          "metadata": {},
          "execution_count": 87
        }
      ]
    },
    {
      "cell_type": "code",
      "source": [
        "False or True"
      ],
      "metadata": {
        "id": "zqXPqZLoaRZw",
        "colab": {
          "base_uri": "https://localhost:8080/"
        },
        "outputId": "1e6858ff-96a4-42b8-ddf3-2f675cd123ab"
      },
      "execution_count": null,
      "outputs": [
        {
          "output_type": "execute_result",
          "data": {
            "text/plain": [
              "True"
            ]
          },
          "metadata": {},
          "execution_count": 88
        }
      ]
    },
    {
      "cell_type": "code",
      "source": [
        "False or False "
      ],
      "metadata": {
        "id": "DVUU1XV4aSb3",
        "colab": {
          "base_uri": "https://localhost:8080/"
        },
        "outputId": "04002b1c-03d5-488d-ab36-ec0255d82642"
      },
      "execution_count": null,
      "outputs": [
        {
          "output_type": "execute_result",
          "data": {
            "text/plain": [
              "False"
            ]
          },
          "metadata": {},
          "execution_count": 89
        }
      ]
    },
    {
      "cell_type": "markdown",
      "source": [
        "- True/False (bool type 값)는 비교연산자, 논리연산자 하고만 같이 쓸 수 있음\n",
        "- 논리연산자(and, or, not)의 양 옆에는 bool type 값이 출력되는 코드(대체로 비교연산자를 사용한 코드)만 써줘야 함 "
      ],
      "metadata": {
        "id": "BLE2exPHaZR2"
      }
    }
  ]
}