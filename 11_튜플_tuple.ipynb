{
  "nbformat": 4,
  "nbformat_minor": 0,
  "metadata": {
    "colab": {
      "provenance": [],
      "include_colab_link": true
    },
    "kernelspec": {
      "name": "python3",
      "display_name": "Python 3"
    },
    "language_info": {
      "name": "python"
    }
  },
  "cells": [
    {
      "cell_type": "markdown",
      "metadata": {
        "id": "view-in-github",
        "colab_type": "text"
      },
      "source": [
        "<a href=\"https://colab.research.google.com/github/YangJeongA/Language-Brain-Computer-2022spring/blob/main/11_%ED%8A%9C%ED%94%8C_tuple.ipynb\" target=\"_parent\"><img src=\"https://colab.research.google.com/assets/colab-badge.svg\" alt=\"Open In Colab\"/></a>"
      ]
    },
    {
      "cell_type": "markdown",
      "source": [
        "# 튜플 tuple"
      ],
      "metadata": {
        "id": "B7PEj5E35D4C"
      }
    },
    {
      "cell_type": "markdown",
      "source": [
        "###1"
      ],
      "metadata": {
        "id": "UCkeRLBm41Jv"
      }
    },
    {
      "cell_type": "code",
      "source": [
        "t = 1, 2, 3\n",
        "t"
      ],
      "metadata": {
        "colab": {
          "base_uri": "https://localhost:8080/"
        },
        "id": "85gffD2g3a-h",
        "outputId": "eca7ebc2-6de5-4096-9fe6-cf0f77ef2efa"
      },
      "execution_count": 1,
      "outputs": [
        {
          "output_type": "execute_result",
          "data": {
            "text/plain": [
              "(1, 2, 3)"
            ]
          },
          "metadata": {},
          "execution_count": 1
        }
      ]
    },
    {
      "cell_type": "code",
      "execution_count": 2,
      "metadata": {
        "colab": {
          "base_uri": "https://localhost:8080/"
        },
        "id": "0bFR8SoU3NmY",
        "outputId": "0ab9211c-6413-428d-e3e1-be8a644863c6"
      },
      "outputs": [
        {
          "output_type": "execute_result",
          "data": {
            "text/plain": [
              "(1, 2, 3)"
            ]
          },
          "metadata": {},
          "execution_count": 2
        }
      ],
      "source": [
        "t1 = 1, 2, 3\n",
        "t1"
      ]
    },
    {
      "cell_type": "code",
      "source": [
        "t2 = ('a', 'b', 'c')\n",
        "t2"
      ],
      "metadata": {
        "colab": {
          "base_uri": "https://localhost:8080/"
        },
        "id": "5hXBIC2U3iMF",
        "outputId": "8751e7ea-bbcf-46f7-9e16-9df50dfafe29"
      },
      "execution_count": 3,
      "outputs": [
        {
          "output_type": "execute_result",
          "data": {
            "text/plain": [
              "('a', 'b', 'c')"
            ]
          },
          "metadata": {},
          "execution_count": 3
        }
      ]
    },
    {
      "cell_type": "code",
      "source": [
        "type(t1)"
      ],
      "metadata": {
        "id": "jFA-JU1N3nd6",
        "colab": {
          "base_uri": "https://localhost:8080/"
        },
        "outputId": "7542322b-a108-47b1-d216-2a7b21fbf69f"
      },
      "execution_count": 4,
      "outputs": [
        {
          "output_type": "execute_result",
          "data": {
            "text/plain": [
              "tuple"
            ]
          },
          "metadata": {},
          "execution_count": 4
        }
      ]
    },
    {
      "cell_type": "code",
      "source": [
        "type(t2)"
      ],
      "metadata": {
        "colab": {
          "base_uri": "https://localhost:8080/"
        },
        "id": "UQiECk7Y3ohh",
        "outputId": "332b88fd-58db-4fcd-b579-17736ccfe26c"
      },
      "execution_count": 5,
      "outputs": [
        {
          "output_type": "execute_result",
          "data": {
            "text/plain": [
              "tuple"
            ]
          },
          "metadata": {},
          "execution_count": 5
        }
      ]
    },
    {
      "cell_type": "code",
      "source": [
        "t1 = ()\n",
        "t1"
      ],
      "metadata": {
        "id": "mPsrHwGZ4hV2",
        "colab": {
          "base_uri": "https://localhost:8080/"
        },
        "outputId": "238a017f-054f-4b16-d695-681d3ee358aa"
      },
      "execution_count": 6,
      "outputs": [
        {
          "output_type": "execute_result",
          "data": {
            "text/plain": [
              "()"
            ]
          },
          "metadata": {},
          "execution_count": 6
        }
      ]
    },
    {
      "cell_type": "code",
      "source": [
        "type(t1)"
      ],
      "metadata": {
        "id": "YXVTkLJV4jh6",
        "colab": {
          "base_uri": "https://localhost:8080/"
        },
        "outputId": "2bf4efad-f43d-4fa9-e631-29d59c6f3f70"
      },
      "execution_count": 7,
      "outputs": [
        {
          "output_type": "execute_result",
          "data": {
            "text/plain": [
              "tuple"
            ]
          },
          "metadata": {},
          "execution_count": 7
        }
      ]
    },
    {
      "cell_type": "markdown",
      "source": [
        "###2"
      ],
      "metadata": {
        "id": "SF1_ywL_44LZ"
      }
    },
    {
      "cell_type": "code",
      "source": [
        "t2 = (1)\n",
        "\n",
        "# 쉼표가 없는 경우 튜플로 인식 x"
      ],
      "metadata": {
        "id": "5MqmpijI4sRu"
      },
      "execution_count": 8,
      "outputs": []
    },
    {
      "cell_type": "code",
      "source": [
        "type(t2)"
      ],
      "metadata": {
        "id": "aewSnpj_4zY2",
        "colab": {
          "base_uri": "https://localhost:8080/"
        },
        "outputId": "fb21a9d9-75f6-4478-8d96-bff20f94ae36"
      },
      "execution_count": 9,
      "outputs": [
        {
          "output_type": "execute_result",
          "data": {
            "text/plain": [
              "int"
            ]
          },
          "metadata": {},
          "execution_count": 9
        }
      ]
    },
    {
      "cell_type": "code",
      "source": [
        "t3 = (1,)\n",
        "t3\n",
        "\n",
        "# 원소가 하나인 튜플 만드는 방법"
      ],
      "metadata": {
        "id": "o01HTwde47hh",
        "colab": {
          "base_uri": "https://localhost:8080/"
        },
        "outputId": "dfed2907-e132-488b-9450-73505899eed7"
      },
      "execution_count": 10,
      "outputs": [
        {
          "output_type": "execute_result",
          "data": {
            "text/plain": [
              "(1,)"
            ]
          },
          "metadata": {},
          "execution_count": 10
        }
      ]
    },
    {
      "cell_type": "code",
      "source": [
        "type(t3)"
      ],
      "metadata": {
        "id": "oG8hpvLY5AMp",
        "colab": {
          "base_uri": "https://localhost:8080/"
        },
        "outputId": "968c0879-620f-4f30-89b4-d8e7f34ce6c4"
      },
      "execution_count": 11,
      "outputs": [
        {
          "output_type": "execute_result",
          "data": {
            "text/plain": [
              "tuple"
            ]
          },
          "metadata": {},
          "execution_count": 11
        }
      ]
    },
    {
      "cell_type": "markdown",
      "source": [
        "# 튜플의 특성\n",
        "- sequence data의 특성을 공유하고 있음\n",
        "\n",
        "  -> 특히 리스트와 유사"
      ],
      "metadata": {
        "id": "3PY-cA5R5Cz2"
      }
    },
    {
      "cell_type": "code",
      "source": [
        "t = 1, 2, 3"
      ],
      "metadata": {
        "id": "GaQPwqEV5Y58"
      },
      "execution_count": 12,
      "outputs": []
    },
    {
      "cell_type": "code",
      "source": [
        "t + t"
      ],
      "metadata": {
        "colab": {
          "base_uri": "https://localhost:8080/"
        },
        "id": "jO9GY5la5b8w",
        "outputId": "52756dd3-2fb2-410d-8675-66d60c5be913"
      },
      "execution_count": 13,
      "outputs": [
        {
          "output_type": "execute_result",
          "data": {
            "text/plain": [
              "(1, 2, 3, 1, 2, 3)"
            ]
          },
          "metadata": {},
          "execution_count": 13
        }
      ]
    },
    {
      "cell_type": "code",
      "source": [
        "t * 2"
      ],
      "metadata": {
        "id": "5Pv9XorW5dWT",
        "outputId": "0f98b599-b9f2-4891-88c7-ff326f679dda",
        "colab": {
          "base_uri": "https://localhost:8080/"
        }
      },
      "execution_count": 14,
      "outputs": [
        {
          "output_type": "execute_result",
          "data": {
            "text/plain": [
              "(1, 2, 3, 1, 2, 3)"
            ]
          },
          "metadata": {},
          "execution_count": 14
        }
      ]
    },
    {
      "cell_type": "code",
      "source": [
        "t[-1]"
      ],
      "metadata": {
        "colab": {
          "base_uri": "https://localhost:8080/"
        },
        "id": "FMSlZowR5eK0",
        "outputId": "04f32447-86d1-416f-974f-2f72250be14c"
      },
      "execution_count": 15,
      "outputs": [
        {
          "output_type": "execute_result",
          "data": {
            "text/plain": [
              "3"
            ]
          },
          "metadata": {},
          "execution_count": 15
        }
      ]
    },
    {
      "cell_type": "code",
      "source": [
        "t[1:3]"
      ],
      "metadata": {
        "colab": {
          "base_uri": "https://localhost:8080/"
        },
        "id": "PAZtWWux5gZb",
        "outputId": "18a98d37-16c7-4705-c296-6e23b572571d"
      },
      "execution_count": 16,
      "outputs": [
        {
          "output_type": "execute_result",
          "data": {
            "text/plain": [
              "(2, 3)"
            ]
          },
          "metadata": {},
          "execution_count": 16
        }
      ]
    },
    {
      "cell_type": "code",
      "source": [
        "len(t)"
      ],
      "metadata": {
        "colab": {
          "base_uri": "https://localhost:8080/"
        },
        "id": "xkwByzl35irj",
        "outputId": "5f913bc4-44ee-4f66-f009-1e354e88bdfa"
      },
      "execution_count": 17,
      "outputs": [
        {
          "output_type": "execute_result",
          "data": {
            "text/plain": [
              "3"
            ]
          },
          "metadata": {},
          "execution_count": 17
        }
      ]
    },
    {
      "cell_type": "code",
      "source": [
        "2 in t"
      ],
      "metadata": {
        "colab": {
          "base_uri": "https://localhost:8080/"
        },
        "id": "ZxOxG5yd5jN0",
        "outputId": "3d058f9e-94d1-4172-86b1-44998ae7e6a0"
      },
      "execution_count": 18,
      "outputs": [
        {
          "output_type": "execute_result",
          "data": {
            "text/plain": [
              "True"
            ]
          },
          "metadata": {},
          "execution_count": 18
        }
      ]
    },
    {
      "cell_type": "code",
      "source": [
        "for i in t:\n",
        "  print(i)"
      ],
      "metadata": {
        "colab": {
          "base_uri": "https://localhost:8080/"
        },
        "id": "BH0_F1nf5lOo",
        "outputId": "9ae22d67-0309-4565-8e63-366819412a78"
      },
      "execution_count": 19,
      "outputs": [
        {
          "output_type": "stream",
          "name": "stdout",
          "text": [
            "1\n",
            "2\n",
            "3\n"
          ]
        }
      ]
    },
    {
      "cell_type": "markdown",
      "source": [
        "# Sequence구조: 치환"
      ],
      "metadata": {
        "id": "df2-7zW15yfQ"
      }
    },
    {
      "cell_type": "code",
      "source": [
        "x, y, z = 1, 2, 3"
      ],
      "metadata": {
        "id": "PYMu_LSd50rM"
      },
      "execution_count": 20,
      "outputs": []
    },
    {
      "cell_type": "code",
      "source": [
        "x"
      ],
      "metadata": {
        "id": "MV12_IGv6AiN",
        "colab": {
          "base_uri": "https://localhost:8080/"
        },
        "outputId": "016d9df9-f299-4be2-c931-cd5e01a1377a"
      },
      "execution_count": 21,
      "outputs": [
        {
          "output_type": "execute_result",
          "data": {
            "text/plain": [
              "1"
            ]
          },
          "metadata": {},
          "execution_count": 21
        }
      ]
    },
    {
      "cell_type": "code",
      "source": [
        "y"
      ],
      "metadata": {
        "id": "C4lj-KYu6A8z",
        "colab": {
          "base_uri": "https://localhost:8080/"
        },
        "outputId": "8cd13a79-ed74-4a4c-99cf-83c59b9a0638"
      },
      "execution_count": 22,
      "outputs": [
        {
          "output_type": "execute_result",
          "data": {
            "text/plain": [
              "2"
            ]
          },
          "metadata": {},
          "execution_count": 22
        }
      ]
    },
    {
      "cell_type": "code",
      "source": [
        "z"
      ],
      "metadata": {
        "id": "J53-8fl36BSY",
        "colab": {
          "base_uri": "https://localhost:8080/"
        },
        "outputId": "3199ca09-8218-4542-b56d-97246067016c"
      },
      "execution_count": 23,
      "outputs": [
        {
          "output_type": "execute_result",
          "data": {
            "text/plain": [
              "3"
            ]
          },
          "metadata": {},
          "execution_count": 23
        }
      ]
    },
    {
      "cell_type": "code",
      "source": [
        "x, y, z = [1, 2, 3]"
      ],
      "metadata": {
        "id": "a_WtdDRs54am"
      },
      "execution_count": 24,
      "outputs": []
    },
    {
      "cell_type": "code",
      "source": [
        "x"
      ],
      "metadata": {
        "id": "qcUoOXmZ6B33",
        "colab": {
          "base_uri": "https://localhost:8080/"
        },
        "outputId": "e54287f5-ae20-4245-b7d9-b8923d86b9fa"
      },
      "execution_count": 25,
      "outputs": [
        {
          "output_type": "execute_result",
          "data": {
            "text/plain": [
              "1"
            ]
          },
          "metadata": {},
          "execution_count": 25
        }
      ]
    },
    {
      "cell_type": "code",
      "source": [
        "y"
      ],
      "metadata": {
        "id": "qVnis1iY6CGI",
        "colab": {
          "base_uri": "https://localhost:8080/"
        },
        "outputId": "b7b69bb3-c14a-4334-b354-63f97e26272a"
      },
      "execution_count": 26,
      "outputs": [
        {
          "output_type": "execute_result",
          "data": {
            "text/plain": [
              "2"
            ]
          },
          "metadata": {},
          "execution_count": 26
        }
      ]
    },
    {
      "cell_type": "code",
      "source": [
        "z"
      ],
      "metadata": {
        "id": "vlwqWzAJ6CZa",
        "colab": {
          "base_uri": "https://localhost:8080/"
        },
        "outputId": "da18051b-66c3-4b8d-b30a-9ab638de7f23"
      },
      "execution_count": 27,
      "outputs": [
        {
          "output_type": "execute_result",
          "data": {
            "text/plain": [
              "3"
            ]
          },
          "metadata": {},
          "execution_count": 27
        }
      ]
    },
    {
      "cell_type": "code",
      "source": [
        "x, y, z = '123'"
      ],
      "metadata": {
        "id": "OXnC3AFn56bq"
      },
      "execution_count": 28,
      "outputs": []
    },
    {
      "cell_type": "code",
      "source": [
        "x"
      ],
      "metadata": {
        "id": "AibMX4YZ6C2U",
        "colab": {
          "base_uri": "https://localhost:8080/",
          "height": 36
        },
        "outputId": "834a11ea-1822-440c-cf02-43d7c5ede48d"
      },
      "execution_count": 29,
      "outputs": [
        {
          "output_type": "execute_result",
          "data": {
            "text/plain": [
              "'1'"
            ],
            "application/vnd.google.colaboratory.intrinsic+json": {
              "type": "string"
            }
          },
          "metadata": {},
          "execution_count": 29
        }
      ]
    },
    {
      "cell_type": "code",
      "source": [
        "y"
      ],
      "metadata": {
        "id": "W57czb6z6DAz",
        "colab": {
          "base_uri": "https://localhost:8080/",
          "height": 36
        },
        "outputId": "ba18dadc-2b31-40ce-e462-8b4f19c90fb7"
      },
      "execution_count": 30,
      "outputs": [
        {
          "output_type": "execute_result",
          "data": {
            "text/plain": [
              "'2'"
            ],
            "application/vnd.google.colaboratory.intrinsic+json": {
              "type": "string"
            }
          },
          "metadata": {},
          "execution_count": 30
        }
      ]
    },
    {
      "cell_type": "code",
      "source": [
        "z"
      ],
      "metadata": {
        "id": "zKob5yT86DSP",
        "colab": {
          "base_uri": "https://localhost:8080/",
          "height": 36
        },
        "outputId": "aba460b9-e302-444c-cd97-dc89a7c0f538"
      },
      "execution_count": 31,
      "outputs": [
        {
          "output_type": "execute_result",
          "data": {
            "text/plain": [
              "'3'"
            ],
            "application/vnd.google.colaboratory.intrinsic+json": {
              "type": "string"
            }
          },
          "metadata": {},
          "execution_count": 31
        }
      ]
    },
    {
      "cell_type": "code",
      "source": [
        "for x, y, z in [[1, 2, 3], (4, 5, 6), '789']:\n",
        "  print(x, y, z)"
      ],
      "metadata": {
        "colab": {
          "base_uri": "https://localhost:8080/"
        },
        "id": "X_mShmcd6D2f",
        "outputId": "17262372-f4a0-478d-a6c9-582338806e6e"
      },
      "execution_count": 32,
      "outputs": [
        {
          "output_type": "stream",
          "name": "stdout",
          "text": [
            "1 2 3\n",
            "4 5 6\n",
            "7 8 9\n"
          ]
        }
      ]
    },
    {
      "cell_type": "code",
      "source": [
        "for [x, y, z] in [[1, 2, 3], (4, 5, 6), '789']:\n",
        "  print(x, y, z)"
      ],
      "metadata": {
        "colab": {
          "base_uri": "https://localhost:8080/"
        },
        "id": "hmCJn9Ux6Ul-",
        "outputId": "d2b4ed99-30ae-419c-bcfe-72acddc0b565"
      },
      "execution_count": 33,
      "outputs": [
        {
          "output_type": "stream",
          "name": "stdout",
          "text": [
            "1 2 3\n",
            "4 5 6\n",
            "7 8 9\n"
          ]
        }
      ]
    },
    {
      "cell_type": "markdown",
      "source": [
        "# 변경가능(mutable) vs. 변경불가능(immutable)\n",
        "- datatype이 이 둘 중 어디에 속하는지에 따라 어떤 코드에 적용 가능한지가 구분됨\n",
        "- 데이터 구조의 원소를 변경 가능 vs. 변경 불가능\n",
        "- list는 변경 가능\n",
        "- tuple, str(문자열)은 변경 불가능"
      ],
      "metadata": {
        "id": "Dm8Bh_n-6cII"
      }
    },
    {
      "cell_type": "code",
      "source": [
        "t = 1, 2, 3         #튜플\n",
        "l = [1, 2, 3]       #리스트\n",
        "s = 'abc'           #문자열"
      ],
      "metadata": {
        "id": "2bDXgHzo9lZN"
      },
      "execution_count": 34,
      "outputs": []
    },
    {
      "cell_type": "code",
      "source": [
        "l[0] = 'a'\n",
        "l\n",
        "\n",
        "\n",
        "# list는 변경가능"
      ],
      "metadata": {
        "colab": {
          "base_uri": "https://localhost:8080/"
        },
        "id": "gwlrT_Zj9umS",
        "outputId": "6fe8af77-88b5-47b1-b5df-de9674bcfb7b"
      },
      "execution_count": 35,
      "outputs": [
        {
          "output_type": "execute_result",
          "data": {
            "text/plain": [
              "['a', 2, 3]"
            ]
          },
          "metadata": {},
          "execution_count": 35
        }
      ]
    },
    {
      "cell_type": "code",
      "source": [
        "t[0] = 'a'\n",
        "\n",
        "\n",
        "# tuple은 변경불가능"
      ],
      "metadata": {
        "id": "I4fpAU4H96jF",
        "colab": {
          "base_uri": "https://localhost:8080/",
          "height": 224
        },
        "outputId": "209124e6-e088-4f52-acff-8c7f4d1001e9"
      },
      "execution_count": 36,
      "outputs": [
        {
          "output_type": "error",
          "ename": "TypeError",
          "evalue": "ignored",
          "traceback": [
            "\u001b[0;31m---------------------------------------------------------------------------\u001b[0m",
            "\u001b[0;31mTypeError\u001b[0m                                 Traceback (most recent call last)",
            "\u001b[0;32m<ipython-input-36-df7b0b28d262>\u001b[0m in \u001b[0;36m<module>\u001b[0;34m\u001b[0m\n\u001b[0;32m----> 1\u001b[0;31m \u001b[0mt\u001b[0m\u001b[0;34m[\u001b[0m\u001b[0;36m0\u001b[0m\u001b[0;34m]\u001b[0m \u001b[0;34m=\u001b[0m \u001b[0;34m'a'\u001b[0m\u001b[0;34m\u001b[0m\u001b[0;34m\u001b[0m\u001b[0m\n\u001b[0m\u001b[1;32m      2\u001b[0m \u001b[0;34m\u001b[0m\u001b[0m\n\u001b[1;32m      3\u001b[0m \u001b[0;34m\u001b[0m\u001b[0m\n\u001b[1;32m      4\u001b[0m \u001b[0;31m# tuple은 변경불가능\u001b[0m\u001b[0;34m\u001b[0m\u001b[0;34m\u001b[0m\u001b[0;34m\u001b[0m\u001b[0m\n",
            "\u001b[0;31mTypeError\u001b[0m: 'tuple' object does not support item assignment"
          ]
        }
      ]
    },
    {
      "cell_type": "code",
      "source": [
        "s[0] = 'a'\n",
        "\n",
        "\n",
        "# 문자열은 변경불가능"
      ],
      "metadata": {
        "id": "0WwaECru-Ahi"
      },
      "execution_count": null,
      "outputs": []
    }
  ]
}