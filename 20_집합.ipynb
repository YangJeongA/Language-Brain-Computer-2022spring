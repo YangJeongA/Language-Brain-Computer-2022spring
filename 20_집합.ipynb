{
  "nbformat": 4,
  "nbformat_minor": 0,
  "metadata": {
    "colab": {
      "provenance": [],
      "include_colab_link": true
    },
    "kernelspec": {
      "name": "python3",
      "display_name": "Python 3"
    },
    "language_info": {
      "name": "python"
    }
  },
  "cells": [
    {
      "cell_type": "markdown",
      "metadata": {
        "id": "view-in-github",
        "colab_type": "text"
      },
      "source": [
        "<a href=\"https://colab.research.google.com/github/YangJeongA/Language-Brain-Computer-2022spring/blob/main/20_%EC%A7%91%ED%95%A9.ipynb\" target=\"_parent\"><img src=\"https://colab.research.google.com/assets/colab-badge.svg\" alt=\"Open In Colab\"/></a>"
      ]
    },
    {
      "cell_type": "markdown",
      "source": [
        "# 집합set\n",
        "- dictionary와 다르게 '값'만으로 구성된 원소가 배열되어 있음\n",
        "- dictionary와 유사하게 값의 순서는 의미 없음 (index로 값에 접근 가능한 방법 없음)"
      ],
      "metadata": {
        "id": "rs6gFSgdrxyG"
      }
    },
    {
      "cell_type": "code",
      "execution_count": 1,
      "metadata": {
        "id": "D_a7dWkKroTM"
      },
      "outputs": [],
      "source": [
        "a = {1, 2, 3, 4}"
      ]
    },
    {
      "cell_type": "code",
      "source": [
        "a"
      ],
      "metadata": {
        "colab": {
          "base_uri": "https://localhost:8080/"
        },
        "id": "Rrijy54vr1Kc",
        "outputId": "a5be9e20-568f-4b8d-c46d-0084ee8dbfdd"
      },
      "execution_count": 2,
      "outputs": [
        {
          "output_type": "execute_result",
          "data": {
            "text/plain": [
              "{1, 2, 3, 4}"
            ]
          },
          "metadata": {},
          "execution_count": 2
        }
      ]
    },
    {
      "cell_type": "code",
      "source": [
        "type(a)"
      ],
      "metadata": {
        "colab": {
          "base_uri": "https://localhost:8080/"
        },
        "id": "15sh9jitr3R0",
        "outputId": "25eacaea-f9b2-4903-9ed5-fe9e19067cbf"
      },
      "execution_count": 3,
      "outputs": [
        {
          "output_type": "execute_result",
          "data": {
            "text/plain": [
              "set"
            ]
          },
          "metadata": {},
          "execution_count": 3
        }
      ]
    },
    {
      "cell_type": "code",
      "source": [
        "b = {'b', 'a'}\n",
        "b"
      ],
      "metadata": {
        "colab": {
          "base_uri": "https://localhost:8080/"
        },
        "id": "uCXxcGiPr4YV",
        "outputId": "9b274154-f629-4b70-ed26-dfda2defd6da"
      },
      "execution_count": 4,
      "outputs": [
        {
          "output_type": "execute_result",
          "data": {
            "text/plain": [
              "{'a', 'b'}"
            ]
          },
          "metadata": {},
          "execution_count": 4
        }
      ]
    },
    {
      "cell_type": "code",
      "source": [
        "type(b)"
      ],
      "metadata": {
        "colab": {
          "base_uri": "https://localhost:8080/"
        },
        "id": "jhdxDxAMr6c0",
        "outputId": "a3f6dcdf-5ff7-4d5a-a562-2482f0806bb2"
      },
      "execution_count": 5,
      "outputs": [
        {
          "output_type": "execute_result",
          "data": {
            "text/plain": [
              "set"
            ]
          },
          "metadata": {},
          "execution_count": 5
        }
      ]
    },
    {
      "cell_type": "code",
      "source": [
        "c = {}\n",
        "d = set()"
      ],
      "metadata": {
        "id": "YRbhmDdnr7bE"
      },
      "execution_count": 6,
      "outputs": []
    },
    {
      "cell_type": "code",
      "source": [
        "type(c)"
      ],
      "metadata": {
        "colab": {
          "base_uri": "https://localhost:8080/"
        },
        "id": "U3HGycbtsF6G",
        "outputId": "a8243ce8-dc32-48ce-ee10-81b62703de2b"
      },
      "execution_count": 7,
      "outputs": [
        {
          "output_type": "execute_result",
          "data": {
            "text/plain": [
              "dict"
            ]
          },
          "metadata": {},
          "execution_count": 7
        }
      ]
    },
    {
      "cell_type": "code",
      "source": [
        "type(d)\n",
        "\n",
        "# 비어있는 set구조를 만들 때는 반드시 set함수를 이용해야 함!"
      ],
      "metadata": {
        "colab": {
          "base_uri": "https://localhost:8080/"
        },
        "id": "Te_Tw240sHdY",
        "outputId": "9e2edfcd-0e03-4ee9-a441-e4ea17d6740b"
      },
      "execution_count": 8,
      "outputs": [
        {
          "output_type": "execute_result",
          "data": {
            "text/plain": [
              "set"
            ]
          },
          "metadata": {},
          "execution_count": 8
        }
      ]
    },
    {
      "cell_type": "code",
      "source": [
        "a = {2, 3, 1, 3, 4, 3}\n",
        "a"
      ],
      "metadata": {
        "colab": {
          "base_uri": "https://localhost:8080/"
        },
        "id": "OteauyxbsgCN",
        "outputId": "17de2dd6-46d3-44df-dfb4-64e45cd72dc2"
      },
      "execution_count": 9,
      "outputs": [
        {
          "output_type": "execute_result",
          "data": {
            "text/plain": [
              "{1, 2, 3, 4}"
            ]
          },
          "metadata": {},
          "execution_count": 9
        }
      ]
    },
    {
      "cell_type": "code",
      "source": [
        "b = {'c', 'b', 'b', 'a', 'c'}\n",
        "b"
      ],
      "metadata": {
        "colab": {
          "base_uri": "https://localhost:8080/"
        },
        "id": "vhqvqMWgsjb6",
        "outputId": "2b38f81a-db4e-4d15-a164-a0c65f0265d9"
      },
      "execution_count": 10,
      "outputs": [
        {
          "output_type": "execute_result",
          "data": {
            "text/plain": [
              "{'a', 'b', 'c'}"
            ]
          },
          "metadata": {},
          "execution_count": 10
        }
      ]
    },
    {
      "cell_type": "markdown",
      "source": [
        "- set의 용도는 unique한 data를 추려내는 datatype이므로 중복되는 값은 출력되지 않음\n",
        "  - 배열순서도 의미 없음 "
      ],
      "metadata": {
        "id": "D16y33ujso21"
      }
    },
    {
      "cell_type": "markdown",
      "source": [
        "# 집합: 가능한 원소\n",
        "- dictionary의 key가 될 수 있는 datatype과 동일\n",
        "  - 즉, 변경 불가능한 datatype만 집합의 원소가 될 수 있음\n",
        "  - 수치, 문자열, tuple"
      ],
      "metadata": {
        "id": "v_ARYWJqsyp1"
      }
    },
    {
      "cell_type": "code",
      "source": [
        "{1, 2, 3}"
      ],
      "metadata": {
        "colab": {
          "base_uri": "https://localhost:8080/"
        },
        "id": "kjBANVKAtBOP",
        "outputId": "4990217b-5c4f-4bbf-8fed-9382f7d3d4e3"
      },
      "execution_count": 11,
      "outputs": [
        {
          "output_type": "execute_result",
          "data": {
            "text/plain": [
              "{1, 2, 3}"
            ]
          },
          "metadata": {},
          "execution_count": 11
        }
      ]
    },
    {
      "cell_type": "code",
      "source": [
        "{'apple'}"
      ],
      "metadata": {
        "colab": {
          "base_uri": "https://localhost:8080/"
        },
        "id": "yPjpVd-GtC6s",
        "outputId": "fbead878-fc00-4f23-8e88-40513701327e"
      },
      "execution_count": 12,
      "outputs": [
        {
          "output_type": "execute_result",
          "data": {
            "text/plain": [
              "{'apple'}"
            ]
          },
          "metadata": {},
          "execution_count": 12
        }
      ]
    },
    {
      "cell_type": "code",
      "source": [
        "{('apple'), ('banana')}\n",
        "\n",
        "# 둘 다 문자열임. tuple이 되려면 ('apple',) 이렇게 입력해줘야 함(쉼표!!)"
      ],
      "metadata": {
        "colab": {
          "base_uri": "https://localhost:8080/"
        },
        "id": "9ts5UnVktEBl",
        "outputId": "5ae0780b-1951-4e2c-c918-1177f702743f"
      },
      "execution_count": 13,
      "outputs": [
        {
          "output_type": "execute_result",
          "data": {
            "text/plain": [
              "{'apple', 'banana'}"
            ]
          },
          "metadata": {},
          "execution_count": 13
        }
      ]
    },
    {
      "cell_type": "code",
      "source": [
        "{('apple', 'banana'), ('apple')}"
      ],
      "metadata": {
        "colab": {
          "base_uri": "https://localhost:8080/"
        },
        "id": "LNoFU429tRiT",
        "outputId": "a368aff6-8392-439f-aafa-c9b13e30e749"
      },
      "execution_count": 14,
      "outputs": [
        {
          "output_type": "execute_result",
          "data": {
            "text/plain": [
              "{('apple', 'banana'), 'apple'}"
            ]
          },
          "metadata": {},
          "execution_count": 14
        }
      ]
    },
    {
      "cell_type": "code",
      "source": [
        "{('apple', 'banana'), ('apple',)}"
      ],
      "metadata": {
        "colab": {
          "base_uri": "https://localhost:8080/"
        },
        "id": "DGZzVgcptVxk",
        "outputId": "36b1e804-2afa-4a67-a3e6-eb6ddbc659a3"
      },
      "execution_count": 15,
      "outputs": [
        {
          "output_type": "execute_result",
          "data": {
            "text/plain": [
              "{('apple',), ('apple', 'banana')}"
            ]
          },
          "metadata": {},
          "execution_count": 15
        }
      ]
    },
    {
      "cell_type": "markdown",
      "source": [
        "# 집합: 불가능한 원소\n",
        "- 변경 가능한 datatype은 원소가 될 수 없음\n",
        "- list, dictionary"
      ],
      "metadata": {
        "id": "KA4zleSetjwq"
      }
    },
    {
      "cell_type": "code",
      "source": [
        "{['apple'], ['banana']}"
      ],
      "metadata": {
        "colab": {
          "base_uri": "https://localhost:8080/",
          "height": 170
        },
        "id": "ovvIcWzcttNy",
        "outputId": "d1010e46-cd28-491c-c250-dfe50b97ac11"
      },
      "execution_count": 16,
      "outputs": [
        {
          "output_type": "error",
          "ename": "TypeError",
          "evalue": "ignored",
          "traceback": [
            "\u001b[0;31m---------------------------------------------------------------------------\u001b[0m",
            "\u001b[0;31mTypeError\u001b[0m                                 Traceback (most recent call last)",
            "\u001b[0;32m<ipython-input-16-70a39c0beb13>\u001b[0m in \u001b[0;36m<module>\u001b[0;34m\u001b[0m\n\u001b[0;32m----> 1\u001b[0;31m \u001b[0;34m{\u001b[0m\u001b[0;34m[\u001b[0m\u001b[0;34m'apple'\u001b[0m\u001b[0;34m]\u001b[0m\u001b[0;34m,\u001b[0m \u001b[0;34m[\u001b[0m\u001b[0;34m'banana'\u001b[0m\u001b[0;34m]\u001b[0m\u001b[0;34m}\u001b[0m\u001b[0;34m\u001b[0m\u001b[0;34m\u001b[0m\u001b[0m\n\u001b[0m",
            "\u001b[0;31mTypeError\u001b[0m: unhashable type: 'list'"
          ]
        }
      ]
    },
    {
      "cell_type": "code",
      "source": [
        "{{'apple':3, 'banana':4}}"
      ],
      "metadata": {
        "colab": {
          "base_uri": "https://localhost:8080/",
          "height": 170
        },
        "id": "w4yZoGQDt1YP",
        "outputId": "2d093c83-a047-4c2f-9b51-bec8440fabf3"
      },
      "execution_count": 25,
      "outputs": [
        {
          "output_type": "error",
          "ename": "TypeError",
          "evalue": "ignored",
          "traceback": [
            "\u001b[0;31m---------------------------------------------------------------------------\u001b[0m",
            "\u001b[0;31mTypeError\u001b[0m                                 Traceback (most recent call last)",
            "\u001b[0;32m<ipython-input-25-91cca1228df3>\u001b[0m in \u001b[0;36m<module>\u001b[0;34m\u001b[0m\n\u001b[0;32m----> 1\u001b[0;31m \u001b[0;34m{\u001b[0m\u001b[0;34m{\u001b[0m\u001b[0;34m'apple'\u001b[0m\u001b[0;34m:\u001b[0m\u001b[0;36m3\u001b[0m\u001b[0;34m,\u001b[0m \u001b[0;34m'banana'\u001b[0m\u001b[0;34m:\u001b[0m\u001b[0;36m4\u001b[0m\u001b[0;34m}\u001b[0m\u001b[0;34m}\u001b[0m\u001b[0;34m\u001b[0m\u001b[0;34m\u001b[0m\u001b[0m\n\u001b[0m",
            "\u001b[0;31mTypeError\u001b[0m: unhashable type: 'dict'"
          ]
        }
      ]
    },
    {
      "cell_type": "code",
      "source": [
        "{{'apple', 'banana'}}"
      ],
      "metadata": {
        "colab": {
          "base_uri": "https://localhost:8080/",
          "height": 170
        },
        "id": "UzqlwFIXt6dr",
        "outputId": "aa3fec1c-978a-4cab-a999-5127de264bba"
      },
      "execution_count": 26,
      "outputs": [
        {
          "output_type": "error",
          "ename": "TypeError",
          "evalue": "ignored",
          "traceback": [
            "\u001b[0;31m---------------------------------------------------------------------------\u001b[0m",
            "\u001b[0;31mTypeError\u001b[0m                                 Traceback (most recent call last)",
            "\u001b[0;32m<ipython-input-26-5ac1c63509c2>\u001b[0m in \u001b[0;36m<module>\u001b[0;34m\u001b[0m\n\u001b[0;32m----> 1\u001b[0;31m \u001b[0;34m{\u001b[0m\u001b[0;34m{\u001b[0m\u001b[0;34m'apple'\u001b[0m\u001b[0;34m,\u001b[0m \u001b[0;34m'banana'\u001b[0m\u001b[0;34m}\u001b[0m\u001b[0;34m}\u001b[0m\u001b[0;34m\u001b[0m\u001b[0;34m\u001b[0m\u001b[0m\n\u001b[0m",
            "\u001b[0;31mTypeError\u001b[0m: unhashable type: 'set'"
          ]
        }
      ]
    },
    {
      "cell_type": "markdown",
      "source": [
        "# 함수 set\n",
        "- 함수 set의 논항에는 literable object 입력가능. 다만, 그 literable object의 원소가 변경불가능한 datatype인 경우에만 set함수의 논항으로 사용가능"
      ],
      "metadata": {
        "id": "qyqf9wPmuAC7"
      }
    },
    {
      "cell_type": "code",
      "source": [
        "set('apple')"
      ],
      "metadata": {
        "id": "duA76wj8uMkg",
        "colab": {
          "base_uri": "https://localhost:8080/"
        },
        "outputId": "b2e8253a-2d1f-4abb-ea75-6c7b21ce25ea"
      },
      "execution_count": 31,
      "outputs": [
        {
          "output_type": "execute_result",
          "data": {
            "text/plain": [
              "{'a', 'e', 'l', 'p'}"
            ]
          },
          "metadata": {},
          "execution_count": 31
        }
      ]
    },
    {
      "cell_type": "code",
      "source": [
        "set([1, 2, 3])"
      ],
      "metadata": {
        "id": "QPLWsBYpux0q",
        "colab": {
          "base_uri": "https://localhost:8080/"
        },
        "outputId": "6d772733-909b-4baf-c833-4b6a81923e4a"
      },
      "execution_count": 32,
      "outputs": [
        {
          "output_type": "execute_result",
          "data": {
            "text/plain": [
              "{1, 2, 3}"
            ]
          },
          "metadata": {},
          "execution_count": 32
        }
      ]
    },
    {
      "cell_type": "code",
      "source": [
        "set((1, 2, 3))"
      ],
      "metadata": {
        "id": "orOJ7CJUu1K4",
        "colab": {
          "base_uri": "https://localhost:8080/"
        },
        "outputId": "0f7b2385-9518-4ec0-e6bc-8415bc193be2"
      },
      "execution_count": 33,
      "outputs": [
        {
          "output_type": "execute_result",
          "data": {
            "text/plain": [
              "{1, 2, 3}"
            ]
          },
          "metadata": {},
          "execution_count": 33
        }
      ]
    },
    {
      "cell_type": "code",
      "source": [
        "set({1, 2, 3})"
      ],
      "metadata": {
        "id": "bGMqh3Onu2yH",
        "colab": {
          "base_uri": "https://localhost:8080/"
        },
        "outputId": "616f50a6-4041-4025-85ed-e6550a014ea1"
      },
      "execution_count": 34,
      "outputs": [
        {
          "output_type": "execute_result",
          "data": {
            "text/plain": [
              "{1, 2, 3}"
            ]
          },
          "metadata": {},
          "execution_count": 34
        }
      ]
    },
    {
      "cell_type": "code",
      "source": [
        "set({1:3, 2:2, 3:1})"
      ],
      "metadata": {
        "id": "XScmSBT0u4b3",
        "colab": {
          "base_uri": "https://localhost:8080/"
        },
        "outputId": "1bfe8caf-799e-46d0-d50a-ec6a8705efaf"
      },
      "execution_count": 35,
      "outputs": [
        {
          "output_type": "execute_result",
          "data": {
            "text/plain": [
              "{1, 2, 3}"
            ]
          },
          "metadata": {},
          "execution_count": 35
        }
      ]
    },
    {
      "cell_type": "code",
      "source": [
        "set(3)\n",
        "\n",
        "# 수치는 literable object가 아니므로 논항에 사용 불가능"
      ],
      "metadata": {
        "id": "REEMNjSpu7q6",
        "colab": {
          "base_uri": "https://localhost:8080/",
          "height": 206
        },
        "outputId": "bf8282f0-6fe3-499d-f256-0c7747cc54a3"
      },
      "execution_count": 36,
      "outputs": [
        {
          "output_type": "error",
          "ename": "TypeError",
          "evalue": "ignored",
          "traceback": [
            "\u001b[0;31m---------------------------------------------------------------------------\u001b[0m",
            "\u001b[0;31mTypeError\u001b[0m                                 Traceback (most recent call last)",
            "\u001b[0;32m<ipython-input-36-cabe41861d5f>\u001b[0m in \u001b[0;36m<module>\u001b[0;34m\u001b[0m\n\u001b[0;32m----> 1\u001b[0;31m \u001b[0mset\u001b[0m\u001b[0;34m(\u001b[0m\u001b[0;36m3\u001b[0m\u001b[0;34m)\u001b[0m\u001b[0;34m\u001b[0m\u001b[0;34m\u001b[0m\u001b[0m\n\u001b[0m\u001b[1;32m      2\u001b[0m \u001b[0;34m\u001b[0m\u001b[0m\n\u001b[1;32m      3\u001b[0m \u001b[0;31m# 수치는 literable object가 아니므로 논항에 사용 불가능\u001b[0m\u001b[0;34m\u001b[0m\u001b[0;34m\u001b[0m\u001b[0;34m\u001b[0m\u001b[0m\n",
            "\u001b[0;31mTypeError\u001b[0m: 'int' object is not iterable"
          ]
        }
      ]
    },
    {
      "cell_type": "markdown",
      "source": [
        "- literable object는 for구문에 사용 가능\n",
        "  - set도 for구문에 사용 가능"
      ],
      "metadata": {
        "id": "dhoS5hJjvFSm"
      }
    },
    {
      "cell_type": "code",
      "source": [
        "for i in 'apple':\n",
        "  print(i)"
      ],
      "metadata": {
        "colab": {
          "base_uri": "https://localhost:8080/"
        },
        "id": "N6ejUt8bvEO1",
        "outputId": "fe46ec05-9f90-4aea-9d57-3cf3a33489e0"
      },
      "execution_count": 37,
      "outputs": [
        {
          "output_type": "stream",
          "name": "stdout",
          "text": [
            "a\n",
            "p\n",
            "p\n",
            "l\n",
            "e\n"
          ]
        }
      ]
    },
    {
      "cell_type": "code",
      "source": [
        "for i in {1:3, 2:2, 3:1}:\n",
        "  print(i)"
      ],
      "metadata": {
        "id": "pwxpdtKJvT4a",
        "colab": {
          "base_uri": "https://localhost:8080/"
        },
        "outputId": "8deb92e7-43f6-46d9-e017-9aada75bd104"
      },
      "execution_count": 38,
      "outputs": [
        {
          "output_type": "stream",
          "name": "stdout",
          "text": [
            "1\n",
            "2\n",
            "3\n"
          ]
        }
      ]
    },
    {
      "cell_type": "code",
      "source": [
        "a = {'a', 'b', 'c', 'ab'}\n",
        "a"
      ],
      "metadata": {
        "colab": {
          "base_uri": "https://localhost:8080/"
        },
        "id": "nVtl9FS2vXaR",
        "outputId": "3e7d980c-15e5-43ea-f39d-096ff26b4f7d"
      },
      "execution_count": 39,
      "outputs": [
        {
          "output_type": "execute_result",
          "data": {
            "text/plain": [
              "{'a', 'ab', 'b', 'c'}"
            ]
          },
          "metadata": {},
          "execution_count": 39
        }
      ]
    },
    {
      "cell_type": "code",
      "source": [
        "for i in {'a', 'b', 'c', 'ab'}:\n",
        "  print(i)\n",
        "\n",
        "# set은 순서에 구애받지 않으므로 for구문에 의한 출력값도 순서 신경쓰지 않아도 됨"
      ],
      "metadata": {
        "colab": {
          "base_uri": "https://localhost:8080/"
        },
        "id": "vzHjSa1YvZV4",
        "outputId": "3bb2bbe6-d21c-4dca-af15-f617d3eef638"
      },
      "execution_count": 40,
      "outputs": [
        {
          "output_type": "stream",
          "name": "stdout",
          "text": [
            "ab\n",
            "c\n",
            "b\n",
            "a\n"
          ]
        }
      ]
    },
    {
      "cell_type": "code",
      "source": [
        "for i in 3, 4:\n",
        "  print(i)"
      ],
      "metadata": {
        "colab": {
          "base_uri": "https://localhost:8080/"
        },
        "id": "ve1hE3VfvecZ",
        "outputId": "51a0b0e7-937e-41aa-a3a5-e96ac51b18c7"
      },
      "execution_count": 41,
      "outputs": [
        {
          "output_type": "stream",
          "name": "stdout",
          "text": [
            "3\n",
            "4\n"
          ]
        }
      ]
    },
    {
      "cell_type": "code",
      "source": [
        "set(range(5))"
      ],
      "metadata": {
        "colab": {
          "base_uri": "https://localhost:8080/"
        },
        "id": "67gUOqsBv9eV",
        "outputId": "17512665-dfec-4fd0-df30-91e4de44c228"
      },
      "execution_count": 42,
      "outputs": [
        {
          "output_type": "execute_result",
          "data": {
            "text/plain": [
              "{0, 1, 2, 3, 4}"
            ]
          },
          "metadata": {},
          "execution_count": 42
        }
      ]
    },
    {
      "cell_type": "code",
      "source": [
        "from collections import Counter\n",
        "set(Counter('abcd'))"
      ],
      "metadata": {
        "colab": {
          "base_uri": "https://localhost:8080/"
        },
        "id": "Xl_xmPBjv-Qr",
        "outputId": "ff0f7f5a-26fc-4d1f-b4d4-e6673464d48b"
      },
      "execution_count": 43,
      "outputs": [
        {
          "output_type": "execute_result",
          "data": {
            "text/plain": [
              "{'a', 'b', 'c', 'd'}"
            ]
          },
          "metadata": {},
          "execution_count": 43
        }
      ]
    },
    {
      "cell_type": "code",
      "source": [
        "from collections import Counter\n",
        "set(Counter('abcd').items())"
      ],
      "metadata": {
        "id": "01vWCEc-wD64",
        "colab": {
          "base_uri": "https://localhost:8080/"
        },
        "outputId": "14771f58-26fe-43ed-b688-75fdecadcd8e"
      },
      "execution_count": 44,
      "outputs": [
        {
          "output_type": "execute_result",
          "data": {
            "text/plain": [
              "{('a', 1), ('b', 1), ('c', 1), ('d', 1)}"
            ]
          },
          "metadata": {},
          "execution_count": 44
        }
      ]
    },
    {
      "cell_type": "code",
      "source": [
        "set(Counter('abcd').most_common())"
      ],
      "metadata": {
        "id": "36Ryl4gmwGky",
        "colab": {
          "base_uri": "https://localhost:8080/"
        },
        "outputId": "65bbe4af-9031-499e-9a99-59aa66d5362f"
      },
      "execution_count": 45,
      "outputs": [
        {
          "output_type": "execute_result",
          "data": {
            "text/plain": [
              "{('a', 1), ('b', 1), ('c', 1), ('d', 1)}"
            ]
          },
          "metadata": {},
          "execution_count": 45
        }
      ]
    },
    {
      "cell_type": "code",
      "source": [
        "set(Counter('abcd').keys())"
      ],
      "metadata": {
        "id": "2FhxKdwlwKgE",
        "colab": {
          "base_uri": "https://localhost:8080/"
        },
        "outputId": "579c6151-267d-48e5-de5e-10364f85f01c"
      },
      "execution_count": 47,
      "outputs": [
        {
          "output_type": "execute_result",
          "data": {
            "text/plain": [
              "{'a', 'b', 'c', 'd'}"
            ]
          },
          "metadata": {},
          "execution_count": 47
        }
      ]
    },
    {
      "cell_type": "markdown",
      "source": [
        "- 다양한 datatype을 set함수의 논항에 사용 가능"
      ],
      "metadata": {
        "id": "mwmXoRoEwQ94"
      }
    },
    {
      "cell_type": "code",
      "source": [
        "set([{1, 2, 3}])"
      ],
      "metadata": {
        "colab": {
          "base_uri": "https://localhost:8080/",
          "height": 170
        },
        "id": "18h5IvKQwa8o",
        "outputId": "f1d90beb-cc9c-46c8-ebbe-bda828ec3c55"
      },
      "execution_count": 48,
      "outputs": [
        {
          "output_type": "error",
          "ename": "TypeError",
          "evalue": "ignored",
          "traceback": [
            "\u001b[0;31m---------------------------------------------------------------------------\u001b[0m",
            "\u001b[0;31mTypeError\u001b[0m                                 Traceback (most recent call last)",
            "\u001b[0;32m<ipython-input-48-612b892a976f>\u001b[0m in \u001b[0;36m<module>\u001b[0;34m\u001b[0m\n\u001b[0;32m----> 1\u001b[0;31m \u001b[0mset\u001b[0m\u001b[0;34m(\u001b[0m\u001b[0;34m[\u001b[0m\u001b[0;34m{\u001b[0m\u001b[0;36m1\u001b[0m\u001b[0;34m,\u001b[0m \u001b[0;36m2\u001b[0m\u001b[0;34m,\u001b[0m \u001b[0;36m3\u001b[0m\u001b[0;34m}\u001b[0m\u001b[0;34m]\u001b[0m\u001b[0;34m)\u001b[0m\u001b[0;34m\u001b[0m\u001b[0;34m\u001b[0m\u001b[0m\n\u001b[0m",
            "\u001b[0;31mTypeError\u001b[0m: unhashable type: 'set'"
          ]
        }
      ]
    },
    {
      "cell_type": "code",
      "source": [
        "set([{1:3, 2:2, 3:1}])"
      ],
      "metadata": {
        "colab": {
          "base_uri": "https://localhost:8080/",
          "height": 170
        },
        "id": "j7MX0nyCwse_",
        "outputId": "d4e6d1bd-fb99-4e11-aee2-71c9d153cb72"
      },
      "execution_count": 49,
      "outputs": [
        {
          "output_type": "error",
          "ename": "TypeError",
          "evalue": "ignored",
          "traceback": [
            "\u001b[0;31m---------------------------------------------------------------------------\u001b[0m",
            "\u001b[0;31mTypeError\u001b[0m                                 Traceback (most recent call last)",
            "\u001b[0;32m<ipython-input-49-2d8434fc9a0e>\u001b[0m in \u001b[0;36m<module>\u001b[0;34m\u001b[0m\n\u001b[0;32m----> 1\u001b[0;31m \u001b[0mset\u001b[0m\u001b[0;34m(\u001b[0m\u001b[0;34m[\u001b[0m\u001b[0;34m{\u001b[0m\u001b[0;36m1\u001b[0m\u001b[0;34m:\u001b[0m\u001b[0;36m3\u001b[0m\u001b[0;34m,\u001b[0m \u001b[0;36m2\u001b[0m\u001b[0;34m:\u001b[0m\u001b[0;36m2\u001b[0m\u001b[0;34m,\u001b[0m \u001b[0;36m3\u001b[0m\u001b[0;34m:\u001b[0m\u001b[0;36m1\u001b[0m\u001b[0;34m}\u001b[0m\u001b[0;34m]\u001b[0m\u001b[0;34m)\u001b[0m\u001b[0;34m\u001b[0m\u001b[0;34m\u001b[0m\u001b[0m\n\u001b[0m",
            "\u001b[0;31mTypeError\u001b[0m: unhashable type: 'dict'"
          ]
        }
      ]
    },
    {
      "cell_type": "code",
      "source": [
        "set([[1, 2, 3]])"
      ],
      "metadata": {
        "colab": {
          "base_uri": "https://localhost:8080/",
          "height": 170
        },
        "id": "IBg9GTm-we28",
        "outputId": "bb0fe64a-c101-4741-ac35-235d967557be"
      },
      "execution_count": 64,
      "outputs": [
        {
          "output_type": "error",
          "ename": "TypeError",
          "evalue": "ignored",
          "traceback": [
            "\u001b[0;31m---------------------------------------------------------------------------\u001b[0m",
            "\u001b[0;31mTypeError\u001b[0m                                 Traceback (most recent call last)",
            "\u001b[0;32m<ipython-input-64-783680f9180b>\u001b[0m in \u001b[0;36m<module>\u001b[0;34m\u001b[0m\n\u001b[0;32m----> 1\u001b[0;31m \u001b[0mset\u001b[0m\u001b[0;34m(\u001b[0m\u001b[0;34m[\u001b[0m\u001b[0;34m[\u001b[0m\u001b[0;36m1\u001b[0m\u001b[0;34m,\u001b[0m \u001b[0;36m2\u001b[0m\u001b[0;34m,\u001b[0m \u001b[0;36m3\u001b[0m\u001b[0;34m]\u001b[0m\u001b[0;34m]\u001b[0m\u001b[0;34m)\u001b[0m\u001b[0;34m\u001b[0m\u001b[0;34m\u001b[0m\u001b[0m\n\u001b[0m",
            "\u001b[0;31mTypeError\u001b[0m: unhashable type: 'list'"
          ]
        }
      ]
    },
    {
      "cell_type": "markdown",
      "source": [
        "- literable object라고 하더라도 그것의 \"원소\"가 변경가능한 datatype이면 set논항에 사용할 수 없음"
      ],
      "metadata": {
        "id": "3q0ZX8AXwhSG"
      }
    },
    {
      "cell_type": "markdown",
      "source": [
        "# 집합: 기본 연산"
      ],
      "metadata": {
        "id": "DLaV0N7iwOsD"
      }
    },
    {
      "cell_type": "code",
      "source": [
        "a = set('abc')"
      ],
      "metadata": {
        "id": "JdUdQzbVwQZu"
      },
      "execution_count": 50,
      "outputs": []
    },
    {
      "cell_type": "code",
      "source": [
        "a"
      ],
      "metadata": {
        "id": "iy73KZnQwReb",
        "colab": {
          "base_uri": "https://localhost:8080/"
        },
        "outputId": "1ef25d86-46b4-4994-dd43-cf7fba6a0f2a"
      },
      "execution_count": 51,
      "outputs": [
        {
          "output_type": "execute_result",
          "data": {
            "text/plain": [
              "{'a', 'b', 'c'}"
            ]
          },
          "metadata": {},
          "execution_count": 51
        }
      ]
    },
    {
      "cell_type": "code",
      "source": [
        "len(a)"
      ],
      "metadata": {
        "id": "1Zzze2EvwRx_",
        "colab": {
          "base_uri": "https://localhost:8080/"
        },
        "outputId": "f2214e32-ffa2-438a-beb3-e0d054de0c8a"
      },
      "execution_count": 52,
      "outputs": [
        {
          "output_type": "execute_result",
          "data": {
            "text/plain": [
              "3"
            ]
          },
          "metadata": {},
          "execution_count": 52
        }
      ]
    },
    {
      "cell_type": "code",
      "source": [
        "'b' in a"
      ],
      "metadata": {
        "id": "yxeLuqNTwS7p",
        "colab": {
          "base_uri": "https://localhost:8080/"
        },
        "outputId": "af3d0435-4f35-43d5-f003-6f3200825f54"
      },
      "execution_count": 53,
      "outputs": [
        {
          "output_type": "execute_result",
          "data": {
            "text/plain": [
              "True"
            ]
          },
          "metadata": {},
          "execution_count": 53
        }
      ]
    },
    {
      "cell_type": "code",
      "source": [
        "'d' in a"
      ],
      "metadata": {
        "id": "dFAb4l_7wTzu",
        "colab": {
          "base_uri": "https://localhost:8080/"
        },
        "outputId": "ccdfd7bb-8c0d-46af-fe2a-147890c1bb9b"
      },
      "execution_count": 54,
      "outputs": [
        {
          "output_type": "execute_result",
          "data": {
            "text/plain": [
              "False"
            ]
          },
          "metadata": {},
          "execution_count": 54
        }
      ]
    },
    {
      "cell_type": "code",
      "source": [
        "a"
      ],
      "metadata": {
        "id": "FGcQFILRwVDz",
        "colab": {
          "base_uri": "https://localhost:8080/"
        },
        "outputId": "5c253e56-0594-43e7-d5da-628c9c5888bb"
      },
      "execution_count": 55,
      "outputs": [
        {
          "output_type": "execute_result",
          "data": {
            "text/plain": [
              "{'a', 'b', 'c'}"
            ]
          },
          "metadata": {},
          "execution_count": 55
        }
      ]
    },
    {
      "cell_type": "code",
      "source": [
        "for i in a:\n",
        "  print(i)"
      ],
      "metadata": {
        "id": "qi8tngdVwV-y",
        "colab": {
          "base_uri": "https://localhost:8080/"
        },
        "outputId": "ae4044d1-eb13-464e-df7e-35db074030ab"
      },
      "execution_count": 56,
      "outputs": [
        {
          "output_type": "stream",
          "name": "stdout",
          "text": [
            "b\n",
            "a\n",
            "c\n"
          ]
        }
      ]
    },
    {
      "cell_type": "code",
      "source": [
        "for i in {'a', 'b', 'c'}:\n",
        "  print(i)\n",
        "\n",
        "# set을 for구문으로 돌리면 출력 순서 random함 "
      ],
      "metadata": {
        "id": "59Sbt7iPwXBd",
        "colab": {
          "base_uri": "https://localhost:8080/"
        },
        "outputId": "478db2d6-ca30-42b0-ae62-bb91d1d1eca2"
      },
      "execution_count": 57,
      "outputs": [
        {
          "output_type": "stream",
          "name": "stdout",
          "text": [
            "a\n",
            "c\n",
            "b\n"
          ]
        }
      ]
    },
    {
      "cell_type": "markdown",
      "source": [
        "#기본메서드"
      ],
      "metadata": {
        "id": "1QgGKrTdwbTR"
      }
    },
    {
      "cell_type": "code",
      "source": [
        "a = {1, 2, 3}\n",
        "a"
      ],
      "metadata": {
        "id": "oTwRtF7Iwcim",
        "colab": {
          "base_uri": "https://localhost:8080/"
        },
        "outputId": "5d5b89d0-2251-4673-eb0d-0867c87bd844"
      },
      "execution_count": 58,
      "outputs": [
        {
          "output_type": "execute_result",
          "data": {
            "text/plain": [
              "{1, 2, 3}"
            ]
          },
          "metadata": {},
          "execution_count": 58
        }
      ]
    },
    {
      "cell_type": "code",
      "source": [
        "a.add(4)"
      ],
      "metadata": {
        "id": "m56f1y1VwgMv"
      },
      "execution_count": 59,
      "outputs": []
    },
    {
      "cell_type": "code",
      "source": [
        "a"
      ],
      "metadata": {
        "id": "v8VZ2xYVwhLn",
        "colab": {
          "base_uri": "https://localhost:8080/"
        },
        "outputId": "5a290506-c5b2-422e-e0a5-44bce4aa97a4"
      },
      "execution_count": 60,
      "outputs": [
        {
          "output_type": "execute_result",
          "data": {
            "text/plain": [
              "{1, 2, 3, 4}"
            ]
          },
          "metadata": {},
          "execution_count": 60
        }
      ]
    },
    {
      "cell_type": "code",
      "source": [
        "a.update([5])"
      ],
      "metadata": {
        "id": "8Vxgvz29wiPG"
      },
      "execution_count": 61,
      "outputs": []
    },
    {
      "cell_type": "code",
      "source": [
        "a.update({6})"
      ],
      "metadata": {
        "id": "sdlil3kM5bYv"
      },
      "execution_count": 62,
      "outputs": []
    },
    {
      "cell_type": "code",
      "source": [
        "a.add([6])"
      ],
      "metadata": {
        "id": "PTxuPRM-wkTd",
        "colab": {
          "base_uri": "https://localhost:8080/",
          "height": 170
        },
        "outputId": "0eb41564-94b9-45f3-dc2b-ed5f461b31ac"
      },
      "execution_count": 65,
      "outputs": [
        {
          "output_type": "error",
          "ename": "TypeError",
          "evalue": "ignored",
          "traceback": [
            "\u001b[0;31m---------------------------------------------------------------------------\u001b[0m",
            "\u001b[0;31mTypeError\u001b[0m                                 Traceback (most recent call last)",
            "\u001b[0;32m<ipython-input-65-6eeacc6e9464>\u001b[0m in \u001b[0;36m<module>\u001b[0;34m\u001b[0m\n\u001b[0;32m----> 1\u001b[0;31m \u001b[0ma\u001b[0m\u001b[0;34m.\u001b[0m\u001b[0madd\u001b[0m\u001b[0;34m(\u001b[0m\u001b[0;34m[\u001b[0m\u001b[0;36m6\u001b[0m\u001b[0;34m]\u001b[0m\u001b[0;34m)\u001b[0m\u001b[0;34m\u001b[0m\u001b[0;34m\u001b[0m\u001b[0m\n\u001b[0m",
            "\u001b[0;31mTypeError\u001b[0m: unhashable type: 'list'"
          ]
        }
      ]
    },
    {
      "cell_type": "code",
      "source": [
        "a.add({6})"
      ],
      "metadata": {
        "id": "6E6SFVCewlDY",
        "colab": {
          "base_uri": "https://localhost:8080/",
          "height": 170
        },
        "outputId": "e3639f51-6d7a-4356-e066-435998458b47"
      },
      "execution_count": 66,
      "outputs": [
        {
          "output_type": "error",
          "ename": "TypeError",
          "evalue": "ignored",
          "traceback": [
            "\u001b[0;31m---------------------------------------------------------------------------\u001b[0m",
            "\u001b[0;31mTypeError\u001b[0m                                 Traceback (most recent call last)",
            "\u001b[0;32m<ipython-input-66-e352b645c98c>\u001b[0m in \u001b[0;36m<module>\u001b[0;34m\u001b[0m\n\u001b[0;32m----> 1\u001b[0;31m \u001b[0ma\u001b[0m\u001b[0;34m.\u001b[0m\u001b[0madd\u001b[0m\u001b[0;34m(\u001b[0m\u001b[0;34m{\u001b[0m\u001b[0;36m6\u001b[0m\u001b[0;34m}\u001b[0m\u001b[0;34m)\u001b[0m\u001b[0;34m\u001b[0m\u001b[0;34m\u001b[0m\u001b[0m\n\u001b[0m",
            "\u001b[0;31mTypeError\u001b[0m: unhashable type: 'set'"
          ]
        }
      ]
    },
    {
      "cell_type": "code",
      "source": [
        "a.add({1:6})"
      ],
      "metadata": {
        "id": "UkW_xSACwmhc",
        "colab": {
          "base_uri": "https://localhost:8080/",
          "height": 170
        },
        "outputId": "517ed2a6-d37b-43a7-c99d-e2f01144d015"
      },
      "execution_count": 67,
      "outputs": [
        {
          "output_type": "error",
          "ename": "TypeError",
          "evalue": "ignored",
          "traceback": [
            "\u001b[0;31m---------------------------------------------------------------------------\u001b[0m",
            "\u001b[0;31mTypeError\u001b[0m                                 Traceback (most recent call last)",
            "\u001b[0;32m<ipython-input-67-9acf36e26f04>\u001b[0m in \u001b[0;36m<module>\u001b[0;34m\u001b[0m\n\u001b[0;32m----> 1\u001b[0;31m \u001b[0ma\u001b[0m\u001b[0;34m.\u001b[0m\u001b[0madd\u001b[0m\u001b[0;34m(\u001b[0m\u001b[0;34m{\u001b[0m\u001b[0;36m1\u001b[0m\u001b[0;34m:\u001b[0m\u001b[0;36m6\u001b[0m\u001b[0;34m}\u001b[0m\u001b[0;34m)\u001b[0m\u001b[0;34m\u001b[0m\u001b[0;34m\u001b[0m\u001b[0m\n\u001b[0m",
            "\u001b[0;31mTypeError\u001b[0m: unhashable type: 'dict'"
          ]
        }
      ]
    },
    {
      "cell_type": "markdown",
      "source": [
        "- add와 update는 둘 다 앞선 변수에 값 저장되는 것 기억"
      ],
      "metadata": {
        "id": "sOagI-ZbybED"
      }
    },
    {
      "cell_type": "markdown",
      "source": [
        "- 출력 결과는 어디로? -> method마다 출력 위치 다름"
      ],
      "metadata": {
        "id": "u2EL4-PJwomD"
      }
    },
    {
      "cell_type": "code",
      "source": [
        "a = {1, 2, 3, 4.}"
      ],
      "metadata": {
        "id": "OpJxB_RlwqMa"
      },
      "execution_count": 68,
      "outputs": []
    },
    {
      "cell_type": "code",
      "source": [
        "a.discard(3)\n",
        "\n",
        "# set에 없는 원소를 논항에 써도 오류 나지 않음\n",
        "# 선행하는 변수에 값 출력"
      ],
      "metadata": {
        "id": "kzp-LsfWwtmB"
      },
      "execution_count": 69,
      "outputs": []
    },
    {
      "cell_type": "code",
      "source": [
        "a"
      ],
      "metadata": {
        "id": "HW3qy0Q1wuvN",
        "colab": {
          "base_uri": "https://localhost:8080/"
        },
        "outputId": "a96cab89-691e-453b-c5a1-9fd675b58467"
      },
      "execution_count": 70,
      "outputs": [
        {
          "output_type": "execute_result",
          "data": {
            "text/plain": [
              "{1, 2, 4.0}"
            ]
          },
          "metadata": {},
          "execution_count": 70
        }
      ]
    },
    {
      "cell_type": "code",
      "source": [
        "a.discard(3)\n",
        "a"
      ],
      "metadata": {
        "id": "kL0yuwK6wvI1",
        "colab": {
          "base_uri": "https://localhost:8080/"
        },
        "outputId": "9585be89-88c6-4e2f-8acb-3ecb39e68b0b"
      },
      "execution_count": 71,
      "outputs": [
        {
          "output_type": "execute_result",
          "data": {
            "text/plain": [
              "{1, 2, 4.0}"
            ]
          },
          "metadata": {},
          "execution_count": 71
        }
      ]
    },
    {
      "cell_type": "code",
      "source": [
        "a.remove(1)\n",
        "\n",
        "# set에 없는 원소를 논항에 입력하면 오류 발생\n",
        "# 선행하는 변수에 값 출력"
      ],
      "metadata": {
        "id": "zeeHtwHFwwZF"
      },
      "execution_count": 72,
      "outputs": []
    },
    {
      "cell_type": "code",
      "source": [
        "a"
      ],
      "metadata": {
        "id": "ZwTf_IfdwxXN",
        "colab": {
          "base_uri": "https://localhost:8080/"
        },
        "outputId": "d8533cde-ca8e-4b1b-d09d-382fc488bb1e"
      },
      "execution_count": 73,
      "outputs": [
        {
          "output_type": "execute_result",
          "data": {
            "text/plain": [
              "{2, 4.0}"
            ]
          },
          "metadata": {},
          "execution_count": 73
        }
      ]
    },
    {
      "cell_type": "code",
      "source": [
        "a.remove(2)"
      ],
      "metadata": {
        "id": "I5th4a3LwzfZ"
      },
      "execution_count": 75,
      "outputs": []
    },
    {
      "cell_type": "markdown",
      "source": [
        "# 집합 연산: 합집합"
      ],
      "metadata": {
        "id": "IzQx9_MFw07i"
      }
    },
    {
      "cell_type": "code",
      "source": [
        "a = {1, 2, 3}\n",
        "b = {4, 5, 6}\n",
        "c = {7, 8, 9}"
      ],
      "metadata": {
        "id": "ugJSgKzYw3Vn"
      },
      "execution_count": 76,
      "outputs": []
    },
    {
      "cell_type": "code",
      "source": [
        "a | b\n",
        "\n",
        "# a와 b를 합집합으로 만듦"
      ],
      "metadata": {
        "id": "-_tXMuPXw_4c",
        "colab": {
          "base_uri": "https://localhost:8080/"
        },
        "outputId": "42132ae3-f637-4bf3-a169-f40d54615d54"
      },
      "execution_count": 77,
      "outputs": [
        {
          "output_type": "execute_result",
          "data": {
            "text/plain": [
              "{1, 2, 3, 4, 5, 6}"
            ]
          },
          "metadata": {},
          "execution_count": 77
        }
      ]
    },
    {
      "cell_type": "code",
      "source": [
        "a.union(b)"
      ],
      "metadata": {
        "id": "655yv5y4xA_8",
        "colab": {
          "base_uri": "https://localhost:8080/"
        },
        "outputId": "285f7b45-0834-4d15-a0ed-6bce6d6a5016"
      },
      "execution_count": 78,
      "outputs": [
        {
          "output_type": "execute_result",
          "data": {
            "text/plain": [
              "{1, 2, 3, 4, 5, 6}"
            ]
          },
          "metadata": {},
          "execution_count": 78
        }
      ]
    },
    {
      "cell_type": "code",
      "source": [
        "a | b | c"
      ],
      "metadata": {
        "id": "QXJ9-jjixEyc",
        "colab": {
          "base_uri": "https://localhost:8080/"
        },
        "outputId": "7602c11e-8fdd-437f-a71e-92f4bf1a5b2e"
      },
      "execution_count": 79,
      "outputs": [
        {
          "output_type": "execute_result",
          "data": {
            "text/plain": [
              "{1, 2, 3, 4, 5, 6, 7, 8, 9}"
            ]
          },
          "metadata": {},
          "execution_count": 79
        }
      ]
    },
    {
      "cell_type": "code",
      "source": [
        "a.union(b, c)\n",
        "\n",
        "# union의 논항에 여러 개 들어갈 수 있음"
      ],
      "metadata": {
        "id": "YVGwErDOxGPM",
        "colab": {
          "base_uri": "https://localhost:8080/"
        },
        "outputId": "740382c6-10e6-46e7-f048-0ad70f65d26c"
      },
      "execution_count": 80,
      "outputs": [
        {
          "output_type": "execute_result",
          "data": {
            "text/plain": [
              "{1, 2, 3, 4, 5, 6, 7, 8, 9}"
            ]
          },
          "metadata": {},
          "execution_count": 80
        }
      ]
    },
    {
      "cell_type": "code",
      "source": [
        "b.union(a, c)"
      ],
      "metadata": {
        "id": "5IdnvpVpxHQQ",
        "colab": {
          "base_uri": "https://localhost:8080/"
        },
        "outputId": "e8e318f8-f8a6-4392-dd8b-ad88fc745351"
      },
      "execution_count": 81,
      "outputs": [
        {
          "output_type": "execute_result",
          "data": {
            "text/plain": [
              "{1, 2, 3, 4, 5, 6, 7, 8, 9}"
            ]
          },
          "metadata": {},
          "execution_count": 81
        }
      ]
    },
    {
      "cell_type": "code",
      "source": [
        "a.union(b.union(c))"
      ],
      "metadata": {
        "id": "zwZFK46CxI5S",
        "colab": {
          "base_uri": "https://localhost:8080/"
        },
        "outputId": "dc243a08-3ca6-4479-a954-e673d8eaa110"
      },
      "execution_count": 82,
      "outputs": [
        {
          "output_type": "execute_result",
          "data": {
            "text/plain": [
              "{1, 2, 3, 4, 5, 6, 7, 8, 9}"
            ]
          },
          "metadata": {},
          "execution_count": 82
        }
      ]
    },
    {
      "cell_type": "markdown",
      "source": [
        "# 집합 연산: 교집합"
      ],
      "metadata": {
        "id": "gaSW4KgLxLh8"
      }
    },
    {
      "cell_type": "code",
      "source": [
        "a = {1, 2, 3, 4}\n",
        "b = {2, 3, 4, 9}\n",
        "c = {2, 4, 9, 10}"
      ],
      "metadata": {
        "id": "gD3qJfYzxNJb"
      },
      "execution_count": 83,
      "outputs": []
    },
    {
      "cell_type": "code",
      "source": [
        "a & b"
      ],
      "metadata": {
        "id": "Wx4raLk5xUFo",
        "colab": {
          "base_uri": "https://localhost:8080/"
        },
        "outputId": "d51caaf1-b41e-4485-d926-ffdf148ab175"
      },
      "execution_count": 84,
      "outputs": [
        {
          "output_type": "execute_result",
          "data": {
            "text/plain": [
              "{2, 3, 4}"
            ]
          },
          "metadata": {},
          "execution_count": 84
        }
      ]
    },
    {
      "cell_type": "code",
      "source": [
        "a.intersection(b)"
      ],
      "metadata": {
        "id": "vnsV1qjCxU2h",
        "colab": {
          "base_uri": "https://localhost:8080/"
        },
        "outputId": "0576ae79-5794-4cf6-f897-ddfd098babe5"
      },
      "execution_count": 85,
      "outputs": [
        {
          "output_type": "execute_result",
          "data": {
            "text/plain": [
              "{2, 3, 4}"
            ]
          },
          "metadata": {},
          "execution_count": 85
        }
      ]
    },
    {
      "cell_type": "code",
      "source": [
        "a & b & c"
      ],
      "metadata": {
        "id": "9bKbki7PxWq2",
        "colab": {
          "base_uri": "https://localhost:8080/"
        },
        "outputId": "f25481cd-8373-4444-f7dc-c54be4fc239d"
      },
      "execution_count": 86,
      "outputs": [
        {
          "output_type": "execute_result",
          "data": {
            "text/plain": [
              "{2, 4}"
            ]
          },
          "metadata": {},
          "execution_count": 86
        }
      ]
    },
    {
      "cell_type": "code",
      "source": [
        "a.intersection(b, c)"
      ],
      "metadata": {
        "id": "KXiB9hfgxZbE",
        "colab": {
          "base_uri": "https://localhost:8080/"
        },
        "outputId": "940cfd44-255e-4f03-e9df-802eb8a31d82"
      },
      "execution_count": 87,
      "outputs": [
        {
          "output_type": "execute_result",
          "data": {
            "text/plain": [
              "{2, 4}"
            ]
          },
          "metadata": {},
          "execution_count": 87
        }
      ]
    },
    {
      "cell_type": "code",
      "source": [
        "a & b & c"
      ],
      "metadata": {
        "id": "Q7eB4XJjxaeg",
        "colab": {
          "base_uri": "https://localhost:8080/"
        },
        "outputId": "07c3b882-3648-4fe1-f9ac-b363d8dfceba"
      },
      "execution_count": 88,
      "outputs": [
        {
          "output_type": "execute_result",
          "data": {
            "text/plain": [
              "{2, 4}"
            ]
          },
          "metadata": {},
          "execution_count": 88
        }
      ]
    },
    {
      "cell_type": "code",
      "source": [
        "a.intersection(b.intersection(c))"
      ],
      "metadata": {
        "id": "TJ91npNGxcj9",
        "colab": {
          "base_uri": "https://localhost:8080/"
        },
        "outputId": "e8e29dba-2672-49e6-c16f-9eab8b5d0501"
      },
      "execution_count": 89,
      "outputs": [
        {
          "output_type": "execute_result",
          "data": {
            "text/plain": [
              "{2, 4}"
            ]
          },
          "metadata": {},
          "execution_count": 89
        }
      ]
    },
    {
      "cell_type": "markdown",
      "source": [
        "# 집합 연산: 차집합\n",
        "- 다른 집합 연산과 달리 변수의 순서(계산 순서)에 따라 결과값 달라짐"
      ],
      "metadata": {
        "id": "EH_Zuab3yJz2"
      }
    },
    {
      "cell_type": "code",
      "source": [
        "a = {1, 2, 3, 4}\n",
        "b = {2, 3, 4, 9}\n",
        "c = {2, 4, 9, 10}"
      ],
      "metadata": {
        "id": "8wE6IbTdyJPa"
      },
      "execution_count": 90,
      "outputs": []
    },
    {
      "cell_type": "code",
      "source": [
        "a - b"
      ],
      "metadata": {
        "id": "eG6AjHgDyNu4",
        "colab": {
          "base_uri": "https://localhost:8080/"
        },
        "outputId": "7420e4e8-4328-4154-c733-8e459a4a7c89"
      },
      "execution_count": 91,
      "outputs": [
        {
          "output_type": "execute_result",
          "data": {
            "text/plain": [
              "{1}"
            ]
          },
          "metadata": {},
          "execution_count": 91
        }
      ]
    },
    {
      "cell_type": "code",
      "source": [
        "a.difference(b)"
      ],
      "metadata": {
        "id": "Pnw4hmL3yOl-",
        "colab": {
          "base_uri": "https://localhost:8080/"
        },
        "outputId": "3684575f-09b3-4903-c3ce-fd424c098c21"
      },
      "execution_count": 92,
      "outputs": [
        {
          "output_type": "execute_result",
          "data": {
            "text/plain": [
              "{1}"
            ]
          },
          "metadata": {},
          "execution_count": 92
        }
      ]
    },
    {
      "cell_type": "code",
      "source": [
        "a - b - c"
      ],
      "metadata": {
        "id": "9pShogD4yPrZ",
        "colab": {
          "base_uri": "https://localhost:8080/"
        },
        "outputId": "41b9822e-da77-463e-ab9d-de5d5989de6c"
      },
      "execution_count": 93,
      "outputs": [
        {
          "output_type": "execute_result",
          "data": {
            "text/plain": [
              "{1}"
            ]
          },
          "metadata": {},
          "execution_count": 93
        }
      ]
    },
    {
      "cell_type": "code",
      "source": [
        "(a - b) - c"
      ],
      "metadata": {
        "id": "hOquWcg6yTL6",
        "colab": {
          "base_uri": "https://localhost:8080/"
        },
        "outputId": "9232d788-43b6-4208-8175-2c6ea32e4521"
      },
      "execution_count": 94,
      "outputs": [
        {
          "output_type": "execute_result",
          "data": {
            "text/plain": [
              "{1}"
            ]
          },
          "metadata": {},
          "execution_count": 94
        }
      ]
    },
    {
      "cell_type": "code",
      "source": [
        "a.difference(b, c)"
      ],
      "metadata": {
        "id": "zd03i2diyhf6",
        "colab": {
          "base_uri": "https://localhost:8080/"
        },
        "outputId": "50fafa4b-e8fe-44b5-bcc1-24376c822a9e"
      },
      "execution_count": 95,
      "outputs": [
        {
          "output_type": "execute_result",
          "data": {
            "text/plain": [
              "{1}"
            ]
          },
          "metadata": {},
          "execution_count": 95
        }
      ]
    },
    {
      "cell_type": "code",
      "source": [
        "a.difference(b.union(c))\n",
        "\n",
        "# 위의 코드랑 같이 보기. 형태주의"
      ],
      "metadata": {
        "id": "-ZPeJlt9yjPe",
        "colab": {
          "base_uri": "https://localhost:8080/"
        },
        "outputId": "0bc78f4f-040b-4dc2-8605-4c95fc12081e"
      },
      "execution_count": 96,
      "outputs": [
        {
          "output_type": "execute_result",
          "data": {
            "text/plain": [
              "{1}"
            ]
          },
          "metadata": {},
          "execution_count": 96
        }
      ]
    },
    {
      "cell_type": "code",
      "source": [
        "a - (b - c)"
      ],
      "metadata": {
        "id": "FjwqZ_X7yk_q",
        "colab": {
          "base_uri": "https://localhost:8080/"
        },
        "outputId": "78e43359-25bc-465b-d1d5-45a892947ab0"
      },
      "execution_count": 97,
      "outputs": [
        {
          "output_type": "execute_result",
          "data": {
            "text/plain": [
              "{1, 2, 4}"
            ]
          },
          "metadata": {},
          "execution_count": 97
        }
      ]
    },
    {
      "cell_type": "code",
      "source": [
        "a.difference(b.difference(c))\n",
        "\n",
        "# 3개이상의 집합에서 차집합 사용할 때 결과값 주의"
      ],
      "metadata": {
        "id": "Wa1tt_qRynSn",
        "colab": {
          "base_uri": "https://localhost:8080/"
        },
        "outputId": "8268acca-b003-44b7-fa4e-2ee3e1ddb6d4"
      },
      "execution_count": 98,
      "outputs": [
        {
          "output_type": "execute_result",
          "data": {
            "text/plain": [
              "{1, 2, 4}"
            ]
          },
          "metadata": {},
          "execution_count": 98
        }
      ]
    },
    {
      "cell_type": "code",
      "source": [
        "a.difference(b - c)"
      ],
      "metadata": {
        "id": "KfvJYFNlyquO",
        "colab": {
          "base_uri": "https://localhost:8080/"
        },
        "outputId": "b82bc2d6-7aa6-45f0-b55b-706c66d11859"
      },
      "execution_count": 99,
      "outputs": [
        {
          "output_type": "execute_result",
          "data": {
            "text/plain": [
              "{1, 2, 4}"
            ]
          },
          "metadata": {},
          "execution_count": 99
        }
      ]
    },
    {
      "cell_type": "markdown",
      "source": [
        "# 집합 연산: 대칭 차집합\n",
        "- 두 집합의 교집합을 제외한 나머지 부분을 출력"
      ],
      "metadata": {
        "id": "JIpX-Csuy8I7"
      }
    },
    {
      "cell_type": "code",
      "source": [
        "a = {1, 2, 3, 4}\n",
        "b = {2, 3, 4, 9}\n",
        "c = {2, 4, 9, 10}"
      ],
      "metadata": {
        "id": "AOvEFAaLyqyw"
      },
      "execution_count": 100,
      "outputs": []
    },
    {
      "cell_type": "code",
      "source": [
        "a ^ b"
      ],
      "metadata": {
        "id": "ke3ydYHPzTqv",
        "colab": {
          "base_uri": "https://localhost:8080/"
        },
        "outputId": "475b9179-e774-480d-8610-21b8e9c57453"
      },
      "execution_count": 101,
      "outputs": [
        {
          "output_type": "execute_result",
          "data": {
            "text/plain": [
              "{1, 9}"
            ]
          },
          "metadata": {},
          "execution_count": 101
        }
      ]
    },
    {
      "cell_type": "code",
      "source": [
        "a.symmetric_difference(b)\n",
        "\n",
        "# 논항에 값 하나만 사용 가능"
      ],
      "metadata": {
        "id": "g_3pxiolzUnY",
        "colab": {
          "base_uri": "https://localhost:8080/"
        },
        "outputId": "79509359-0118-456b-82e9-bbdf790e3144"
      },
      "execution_count": 102,
      "outputs": [
        {
          "output_type": "execute_result",
          "data": {
            "text/plain": [
              "{1, 9}"
            ]
          },
          "metadata": {},
          "execution_count": 102
        }
      ]
    },
    {
      "cell_type": "code",
      "source": [
        "a ^ c"
      ],
      "metadata": {
        "id": "mIaZCFxezWfN",
        "colab": {
          "base_uri": "https://localhost:8080/"
        },
        "outputId": "b8233165-1ee5-44c5-e5e4-e402e1d6bd7c"
      },
      "execution_count": 103,
      "outputs": [
        {
          "output_type": "execute_result",
          "data": {
            "text/plain": [
              "{1, 3, 9, 10}"
            ]
          },
          "metadata": {},
          "execution_count": 103
        }
      ]
    },
    {
      "cell_type": "code",
      "source": [
        "b ^ c"
      ],
      "metadata": {
        "id": "TBbSQhKYzXP7",
        "colab": {
          "base_uri": "https://localhost:8080/"
        },
        "outputId": "eb12a0e7-a308-4e74-d630-e778c4cbbb80"
      },
      "execution_count": 104,
      "outputs": [
        {
          "output_type": "execute_result",
          "data": {
            "text/plain": [
              "{3, 10}"
            ]
          },
          "metadata": {},
          "execution_count": 104
        }
      ]
    },
    {
      "cell_type": "markdown",
      "source": [
        "- 집합 연산 관련 method는 거의 ouput cell에 값 출력"
      ],
      "metadata": {
        "id": "gLNHGCVD0_Kr"
      }
    },
    {
      "cell_type": "markdown",
      "source": [
        "# 집합 연산과 update 계열 메쏘드\n",
        "- 선행하는 변수(set)에 값이 출력되도록 하는 것이 update 계열 method\n"
      ],
      "metadata": {
        "id": "at_VlT_IzY-c"
      }
    },
    {
      "cell_type": "code",
      "source": [
        "a = {1, 2, 3}\n",
        "b = {4, 5, 6}"
      ],
      "metadata": {
        "id": "AKNXhgG5ziw_"
      },
      "execution_count": 105,
      "outputs": []
    },
    {
      "cell_type": "code",
      "source": [
        "a.update(b)\n",
        "a\n",
        "\n",
        "# a |= b"
      ],
      "metadata": {
        "id": "1b4r-_HGzkw8",
        "colab": {
          "base_uri": "https://localhost:8080/"
        },
        "outputId": "23c88c7d-da02-43bd-c33e-157558b81dd2"
      },
      "execution_count": 106,
      "outputs": [
        {
          "output_type": "execute_result",
          "data": {
            "text/plain": [
              "{1, 2, 3, 4, 5, 6}"
            ]
          },
          "metadata": {},
          "execution_count": 106
        }
      ]
    },
    {
      "cell_type": "code",
      "source": [
        "a = {1, 2, 3}\n",
        "b = {2, 3, 4}"
      ],
      "metadata": {
        "id": "v_gLL5Bq0F0y"
      },
      "execution_count": 107,
      "outputs": []
    },
    {
      "cell_type": "code",
      "source": [
        "a.intersection_update(b)\n",
        "a\n",
        "\n",
        "# a &= b"
      ],
      "metadata": {
        "id": "wZA98HO90IMO",
        "colab": {
          "base_uri": "https://localhost:8080/"
        },
        "outputId": "49717bd0-da91-4529-baa3-ca70ffc847f6"
      },
      "execution_count": 108,
      "outputs": [
        {
          "output_type": "execute_result",
          "data": {
            "text/plain": [
              "{2, 3}"
            ]
          },
          "metadata": {},
          "execution_count": 108
        }
      ]
    },
    {
      "cell_type": "code",
      "source": [
        "a = {1, 2, 3}\n",
        "b = {2, 3, 4}"
      ],
      "metadata": {
        "id": "NKbXH-Gz0L6X"
      },
      "execution_count": 109,
      "outputs": []
    },
    {
      "cell_type": "code",
      "source": [
        "a.difference_update(b)\n",
        "a\n",
        "\n",
        "# a -= b"
      ],
      "metadata": {
        "id": "mSml0Rtb0Oq9",
        "colab": {
          "base_uri": "https://localhost:8080/"
        },
        "outputId": "56c2273e-f575-4e4c-e43e-4feae0b426d0"
      },
      "execution_count": 110,
      "outputs": [
        {
          "output_type": "execute_result",
          "data": {
            "text/plain": [
              "{1}"
            ]
          },
          "metadata": {},
          "execution_count": 110
        }
      ]
    },
    {
      "cell_type": "code",
      "source": [
        "a = {1, 2, 3}\n",
        "b = {2, 3, 4}"
      ],
      "metadata": {
        "id": "JfhKwUOC0WCQ"
      },
      "execution_count": 111,
      "outputs": []
    },
    {
      "cell_type": "code",
      "source": [
        "a.symmetric_difference_update(b)\n",
        "a\n",
        "\n",
        "# a ^= b"
      ],
      "metadata": {
        "id": "ScZDUCm10YBG",
        "colab": {
          "base_uri": "https://localhost:8080/"
        },
        "outputId": "c3aacad2-1c22-4a6d-97e6-c00aaa3cbd84"
      },
      "execution_count": 112,
      "outputs": [
        {
          "output_type": "execute_result",
          "data": {
            "text/plain": [
              "{1, 4}"
            ]
          },
          "metadata": {},
          "execution_count": 112
        }
      ]
    },
    {
      "cell_type": "markdown",
      "source": [
        "# 상위집합, 부분집합, 서로소집합\n",
        "- output cell에 값 출력"
      ],
      "metadata": {
        "id": "uk68ma400h2X"
      }
    },
    {
      "cell_type": "code",
      "source": [
        "a = {1, 2, 3, 4, 5}\n",
        "b = {1, 2, 3}"
      ],
      "metadata": {
        "id": "YTJJPEtA0j3e"
      },
      "execution_count": 113,
      "outputs": []
    },
    {
      "cell_type": "code",
      "source": [
        "a.issuperset(b)"
      ],
      "metadata": {
        "id": "mXXIyUW10mUA",
        "colab": {
          "base_uri": "https://localhost:8080/"
        },
        "outputId": "998b5282-8a7f-4cfd-9118-a1a676dba7e4"
      },
      "execution_count": 114,
      "outputs": [
        {
          "output_type": "execute_result",
          "data": {
            "text/plain": [
              "True"
            ]
          },
          "metadata": {},
          "execution_count": 114
        }
      ]
    },
    {
      "cell_type": "code",
      "source": [
        "b.issuperset(a)"
      ],
      "metadata": {
        "id": "qJJZsvWm0oVr",
        "colab": {
          "base_uri": "https://localhost:8080/"
        },
        "outputId": "c69176d2-4bcb-40f6-f661-8d7fe446fc37"
      },
      "execution_count": 115,
      "outputs": [
        {
          "output_type": "execute_result",
          "data": {
            "text/plain": [
              "False"
            ]
          },
          "metadata": {},
          "execution_count": 115
        }
      ]
    },
    {
      "cell_type": "code",
      "source": [
        "a.issubset(b)"
      ],
      "metadata": {
        "id": "dU2OR-rh0pmh",
        "colab": {
          "base_uri": "https://localhost:8080/"
        },
        "outputId": "3fb4b421-b125-4fd8-d196-47fe74b4e971"
      },
      "execution_count": 116,
      "outputs": [
        {
          "output_type": "execute_result",
          "data": {
            "text/plain": [
              "False"
            ]
          },
          "metadata": {},
          "execution_count": 116
        }
      ]
    },
    {
      "cell_type": "code",
      "source": [
        "b.issubset(a)"
      ],
      "metadata": {
        "id": "EIdivz3b0rWx",
        "colab": {
          "base_uri": "https://localhost:8080/"
        },
        "outputId": "92bc1a43-8714-480e-ca3a-bd3cdef49e5b"
      },
      "execution_count": 117,
      "outputs": [
        {
          "output_type": "execute_result",
          "data": {
            "text/plain": [
              "True"
            ]
          },
          "metadata": {},
          "execution_count": 117
        }
      ]
    },
    {
      "cell_type": "code",
      "source": [
        "a.issubset(a)"
      ],
      "metadata": {
        "id": "gvbIT6VY0uJu",
        "colab": {
          "base_uri": "https://localhost:8080/"
        },
        "outputId": "41e2ea1c-94bb-4dbf-ad9b-fa4eee9fe0e0"
      },
      "execution_count": 118,
      "outputs": [
        {
          "output_type": "execute_result",
          "data": {
            "text/plain": [
              "True"
            ]
          },
          "metadata": {},
          "execution_count": 118
        }
      ]
    },
    {
      "cell_type": "code",
      "source": [
        "a.issuperset(a)"
      ],
      "metadata": {
        "id": "8M27dYV80vOr",
        "colab": {
          "base_uri": "https://localhost:8080/"
        },
        "outputId": "ee319a68-ba3d-47a6-9c99-8472fc7ba8c2"
      },
      "execution_count": 119,
      "outputs": [
        {
          "output_type": "execute_result",
          "data": {
            "text/plain": [
              "True"
            ]
          },
          "metadata": {},
          "execution_count": 119
        }
      ]
    },
    {
      "cell_type": "code",
      "source": [
        "a = {1, 2, 3, 4, 5}\n",
        "b = {1, 2, 6}\n",
        "c = {6, 7, 8}"
      ],
      "metadata": {
        "id": "QT8xlqnc0xnb"
      },
      "execution_count": 120,
      "outputs": []
    },
    {
      "cell_type": "code",
      "source": [
        "a.isdisjoint(b)"
      ],
      "metadata": {
        "id": "RYStMz-L1Dhs",
        "colab": {
          "base_uri": "https://localhost:8080/"
        },
        "outputId": "23e39254-a2be-4e4a-847b-06361dc1877f"
      },
      "execution_count": 121,
      "outputs": [
        {
          "output_type": "execute_result",
          "data": {
            "text/plain": [
              "False"
            ]
          },
          "metadata": {},
          "execution_count": 121
        }
      ]
    },
    {
      "cell_type": "code",
      "source": [
        "a.isdisjoint(c)"
      ],
      "metadata": {
        "id": "JSNVQ8G-1E_3",
        "colab": {
          "base_uri": "https://localhost:8080/"
        },
        "outputId": "37da0d25-0904-49c2-d066-c3deec9da81f"
      },
      "execution_count": 122,
      "outputs": [
        {
          "output_type": "execute_result",
          "data": {
            "text/plain": [
              "True"
            ]
          },
          "metadata": {},
          "execution_count": 122
        }
      ]
    },
    {
      "cell_type": "code",
      "source": [
        "b.isdisjoint(c)"
      ],
      "metadata": {
        "id": "AJNtU9Y41GKK",
        "colab": {
          "base_uri": "https://localhost:8080/"
        },
        "outputId": "a959e830-2b4e-4069-cb77-2cbe19db56f0"
      },
      "execution_count": 123,
      "outputs": [
        {
          "output_type": "execute_result",
          "data": {
            "text/plain": [
              "False"
            ]
          },
          "metadata": {},
          "execution_count": 123
        }
      ]
    },
    {
      "cell_type": "markdown",
      "source": [
        "# 변경가능 데이터구조: reference\n",
        "- set도 변경 가능 데이터구조\n",
        "- 치환문 쓸 때 주의하기\n"
      ],
      "metadata": {
        "id": "nzekK7941IwW"
      }
    },
    {
      "cell_type": "code",
      "source": [
        "a = {1, 2, 3}\n",
        "b = a"
      ],
      "metadata": {
        "id": "HqNlUsbh1M3A"
      },
      "execution_count": 124,
      "outputs": []
    },
    {
      "cell_type": "code",
      "source": [
        "a.add(4)\n",
        "b"
      ],
      "metadata": {
        "id": "Oyrk5sYD1Ovz",
        "colab": {
          "base_uri": "https://localhost:8080/"
        },
        "outputId": "5f13edfe-210d-4e38-988b-23b96d1b8789"
      },
      "execution_count": 125,
      "outputs": [
        {
          "output_type": "execute_result",
          "data": {
            "text/plain": [
              "{1, 2, 3, 4}"
            ]
          },
          "metadata": {},
          "execution_count": 125
        }
      ]
    },
    {
      "cell_type": "code",
      "source": [
        "b.update({5})\n",
        "a"
      ],
      "metadata": {
        "id": "cD9OOQNt1P5S",
        "colab": {
          "base_uri": "https://localhost:8080/"
        },
        "outputId": "b05f286a-455e-4607-9623-cca013a50348"
      },
      "execution_count": 126,
      "outputs": [
        {
          "output_type": "execute_result",
          "data": {
            "text/plain": [
              "{1, 2, 3, 4, 5}"
            ]
          },
          "metadata": {},
          "execution_count": 126
        }
      ]
    },
    {
      "cell_type": "code",
      "source": [
        "a"
      ],
      "metadata": {
        "id": "e0Eulxy71SaW",
        "colab": {
          "base_uri": "https://localhost:8080/"
        },
        "outputId": "40120a13-c889-494f-a58a-34c98ed5e09f"
      },
      "execution_count": 127,
      "outputs": [
        {
          "output_type": "execute_result",
          "data": {
            "text/plain": [
              "{1, 2, 3, 4, 5}"
            ]
          },
          "metadata": {},
          "execution_count": 127
        }
      ]
    },
    {
      "cell_type": "code",
      "source": [
        "c = a.copy()\n",
        "c\n",
        "\n",
        "# 변경가능 데이터 구조이므로 copy할 때 주의"
      ],
      "metadata": {
        "id": "l9GV_M211TRF",
        "colab": {
          "base_uri": "https://localhost:8080/"
        },
        "outputId": "8cd088af-956d-44a0-f022-99deba0dbab7"
      },
      "execution_count": 128,
      "outputs": [
        {
          "output_type": "execute_result",
          "data": {
            "text/plain": [
              "{1, 2, 3, 4, 5}"
            ]
          },
          "metadata": {},
          "execution_count": 128
        }
      ]
    },
    {
      "cell_type": "code",
      "source": [
        "a.add(6)\n",
        "b"
      ],
      "metadata": {
        "id": "pBwQ1Qew1VF1",
        "colab": {
          "base_uri": "https://localhost:8080/"
        },
        "outputId": "850e648a-0885-488c-b07e-cb0d1273162e"
      },
      "execution_count": 129,
      "outputs": [
        {
          "output_type": "execute_result",
          "data": {
            "text/plain": [
              "{1, 2, 3, 4, 5, 6}"
            ]
          },
          "metadata": {},
          "execution_count": 129
        }
      ]
    },
    {
      "cell_type": "code",
      "source": [
        "c"
      ],
      "metadata": {
        "id": "5Fm2wKIJ1W2-",
        "colab": {
          "base_uri": "https://localhost:8080/"
        },
        "outputId": "13a77093-e740-422d-ef64-e7599ea69186"
      },
      "execution_count": 130,
      "outputs": [
        {
          "output_type": "execute_result",
          "data": {
            "text/plain": [
              "{1, 2, 3, 4, 5}"
            ]
          },
          "metadata": {},
          "execution_count": 130
        }
      ]
    },
    {
      "cell_type": "markdown",
      "source": [
        "# 연습문제4"
      ],
      "metadata": {
        "id": "sIqVORPG4RFD"
      }
    },
    {
      "cell_type": "markdown",
      "source": [
        "###4"
      ],
      "metadata": {
        "id": "tZDVwkNg4V49"
      }
    },
    {
      "cell_type": "code",
      "source": [
        "import os, re\n",
        "COMMON = set()\n",
        "for i in os.listdir('./06_data'):\n",
        "  if i.endswith('txt'):\n",
        "    f = open('./06_data/' + i).read().split()\n",
        "    f = {re.sub('^\\W+|\\W+$', '', k.lower()) for k in f if re.search('\\w', k)}\n",
        "    if COMMON == set():\n",
        "      COMMON |= f\n",
        "    else:\n",
        "      COMMON &= f\n",
        "open('intersection.txt', 'w').write('\\n'.join(sorted(COMMON)))"
      ],
      "metadata": {
        "id": "Ad4aGGF35EL4"
      },
      "execution_count": 132,
      "outputs": []
    }
  ]
}