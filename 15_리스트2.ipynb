{
  "nbformat": 4,
  "nbformat_minor": 0,
  "metadata": {
    "colab": {
      "provenance": [],
      "include_colab_link": true
    },
    "kernelspec": {
      "name": "python3",
      "display_name": "Python 3"
    },
    "language_info": {
      "name": "python"
    }
  },
  "cells": [
    {
      "cell_type": "markdown",
      "metadata": {
        "id": "view-in-github",
        "colab_type": "text"
      },
      "source": [
        "<a href=\"https://colab.research.google.com/github/YangJeongA/Language-Brain-Computer-2022spring/blob/main/15_%EB%A6%AC%EC%8A%A4%ED%8A%B82.ipynb\" target=\"_parent\"><img src=\"https://colab.research.google.com/assets/colab-badge.svg\" alt=\"Open In Colab\"/></a>"
      ]
    },
    {
      "cell_type": "markdown",
      "source": [
        "# 변경가능 mutable 데이터구조\n",
        "- 리스트는 변경 가능한 구조"
      ],
      "metadata": {
        "id": "R-L6u4uCNLhv"
      }
    },
    {
      "cell_type": "markdown",
      "source": [
        "###중첩 리스트 (nested list)\n",
        "- 리스트 안에 원소가 리스트인 경우"
      ],
      "metadata": {
        "id": "gQRLtFOtOro3"
      }
    },
    {
      "cell_type": "code",
      "execution_count": 1,
      "metadata": {
        "id": "tm72f8CrNIkF"
      },
      "outputs": [],
      "source": [
        "a = [1, 2, 3]"
      ]
    },
    {
      "cell_type": "code",
      "source": [
        "t = ['b', a, 'c']"
      ],
      "metadata": {
        "id": "Gl3wyTBvOim6"
      },
      "execution_count": 2,
      "outputs": []
    },
    {
      "cell_type": "code",
      "source": [
        "t"
      ],
      "metadata": {
        "colab": {
          "base_uri": "https://localhost:8080/"
        },
        "id": "yayx_-mcOpFT",
        "outputId": "bccc87aa-8faa-45d3-cda5-09f7f8502729"
      },
      "execution_count": 3,
      "outputs": [
        {
          "output_type": "execute_result",
          "data": {
            "text/plain": [
              "['b', [1, 2, 3], 'c']"
            ]
          },
          "metadata": {},
          "execution_count": 3
        }
      ]
    },
    {
      "cell_type": "markdown",
      "source": [
        "### 중첩 리스트의 indexing/slicing"
      ],
      "metadata": {
        "id": "09-Z9rkuPOYQ"
      }
    },
    {
      "cell_type": "code",
      "source": [
        "t[1]\n",
        "\n",
        "# 변경 가능한 데이터 타입에서만 이런 것 적용 가능"
      ],
      "metadata": {
        "colab": {
          "base_uri": "https://localhost:8080/"
        },
        "id": "Dnosy2LBPRGg",
        "outputId": "4edcb00e-0c2c-4a6f-a845-2820f5eea175"
      },
      "execution_count": 4,
      "outputs": [
        {
          "output_type": "execute_result",
          "data": {
            "text/plain": [
              "[1, 2, 3]"
            ]
          },
          "metadata": {},
          "execution_count": 4
        }
      ]
    },
    {
      "cell_type": "code",
      "source": [
        "t[1][2]"
      ],
      "metadata": {
        "colab": {
          "base_uri": "https://localhost:8080/"
        },
        "id": "BWXBGnGFPS7D",
        "outputId": "34311dc1-45fc-40f3-dafd-1b1922928689"
      },
      "execution_count": 5,
      "outputs": [
        {
          "output_type": "execute_result",
          "data": {
            "text/plain": [
              "3"
            ]
          },
          "metadata": {},
          "execution_count": 5
        }
      ]
    },
    {
      "cell_type": "code",
      "source": [
        "t[1][2:3]"
      ],
      "metadata": {
        "colab": {
          "base_uri": "https://localhost:8080/"
        },
        "id": "2CftwKwePVBg",
        "outputId": "28242c24-e442-410e-c381-87756ed974f1"
      },
      "execution_count": 6,
      "outputs": [
        {
          "output_type": "execute_result",
          "data": {
            "text/plain": [
              "[3]"
            ]
          },
          "metadata": {},
          "execution_count": 6
        }
      ]
    },
    {
      "cell_type": "code",
      "source": [
        "a[1] = 100"
      ],
      "metadata": {
        "id": "an2B5qO7PZt0"
      },
      "execution_count": 7,
      "outputs": []
    },
    {
      "cell_type": "code",
      "source": [
        "t"
      ],
      "metadata": {
        "colab": {
          "base_uri": "https://localhost:8080/"
        },
        "id": "47-FWQj7QGsA",
        "outputId": "f9cd088a-c6fd-4be9-c3a3-2475d9e19c98"
      },
      "execution_count": 8,
      "outputs": [
        {
          "output_type": "execute_result",
          "data": {
            "text/plain": [
              "['b', [1, 100, 3], 'c']"
            ]
          },
          "metadata": {},
          "execution_count": 8
        }
      ]
    },
    {
      "cell_type": "markdown",
      "source": [
        "- 변경불가능(immutable) 데이터 타입\n",
        "  - 수치\n",
        "  - 문자열 string\n",
        "  - 튜플 tuple\n",
        "\n",
        "- 변경가능(mutable) 데이터 타입\n",
        " - 리스트 list\n",
        " - 사전 dictionary\n",
        " - 집합 set"
      ],
      "metadata": {
        "id": "n394OHVgQIiP"
      }
    },
    {
      "cell_type": "markdown",
      "source": [
        "#####1"
      ],
      "metadata": {
        "id": "Hl7PwmxwQymb"
      }
    },
    {
      "cell_type": "code",
      "source": [
        "a = [1, 2, 3]\n",
        "b = a\n",
        "c = [1, 2, 3]"
      ],
      "metadata": {
        "id": "-blJ1HQqQW4s"
      },
      "execution_count": 9,
      "outputs": []
    },
    {
      "cell_type": "code",
      "source": [
        "print(a, b, c)"
      ],
      "metadata": {
        "colab": {
          "base_uri": "https://localhost:8080/"
        },
        "id": "w4vJN-IJQbD_",
        "outputId": "0b461345-2c29-4020-d13f-1e845c871c42"
      },
      "execution_count": 10,
      "outputs": [
        {
          "output_type": "stream",
          "name": "stdout",
          "text": [
            "[1, 2, 3] [1, 2, 3] [1, 2, 3]\n"
          ]
        }
      ]
    },
    {
      "cell_type": "code",
      "source": [
        "b.append(4)"
      ],
      "metadata": {
        "id": "yNx6mlyWQeBA"
      },
      "execution_count": 11,
      "outputs": []
    },
    {
      "cell_type": "code",
      "source": [
        "print(a, b, c)"
      ],
      "metadata": {
        "colab": {
          "base_uri": "https://localhost:8080/"
        },
        "id": "t-Rh3M_nQgBX",
        "outputId": "85c90a4f-28dd-48f9-e55a-d1c1f7da3f12"
      },
      "execution_count": 12,
      "outputs": [
        {
          "output_type": "stream",
          "name": "stdout",
          "text": [
            "[1, 2, 3, 4] [1, 2, 3, 4] [1, 2, 3]\n"
          ]
        }
      ]
    },
    {
      "cell_type": "markdown",
      "source": [
        "#####2. s.copy()"
      ],
      "metadata": {
        "id": "BAEE2noLQ1Ig"
      }
    },
    {
      "cell_type": "code",
      "source": [
        "a = [1, 2, 3]\n",
        "b = a[:]\n",
        "c = a.copy()\n",
        "\n",
        "# 변수a의 값만 복사해서 사용하고 싶은 경우 -> slicing하거나 copy method 사용"
      ],
      "metadata": {
        "id": "Iy5iaRs5QwWD"
      },
      "execution_count": 13,
      "outputs": []
    },
    {
      "cell_type": "code",
      "source": [
        "print(a, b, c)"
      ],
      "metadata": {
        "colab": {
          "base_uri": "https://localhost:8080/"
        },
        "id": "_GjiLFZ1RAmf",
        "outputId": "e7e4c9d4-1659-45a6-af4e-4517d04f1e83"
      },
      "execution_count": 14,
      "outputs": [
        {
          "output_type": "stream",
          "name": "stdout",
          "text": [
            "[1, 2, 3] [1, 2, 3] [1, 2, 3]\n"
          ]
        }
      ]
    },
    {
      "cell_type": "code",
      "source": [
        "a.append([4])"
      ],
      "metadata": {
        "id": "CoZcgje_RHg4"
      },
      "execution_count": 15,
      "outputs": []
    },
    {
      "cell_type": "code",
      "source": [
        "print(a, b, c)"
      ],
      "metadata": {
        "colab": {
          "base_uri": "https://localhost:8080/"
        },
        "id": "WfX8lmPbRJ90",
        "outputId": "ad4f702f-a294-40e2-ce37-509e05abae3f"
      },
      "execution_count": 16,
      "outputs": [
        {
          "output_type": "stream",
          "name": "stdout",
          "text": [
            "[1, 2, 3, [4]] [1, 2, 3] [1, 2, 3]\n"
          ]
        }
      ]
    },
    {
      "cell_type": "markdown",
      "source": [
        "# pop method"
      ],
      "metadata": {
        "id": "2F6UrZBVRMuE"
      }
    },
    {
      "cell_type": "markdown",
      "source": [
        "- 논항 없이 사용하는 경우\n",
        "\n",
        "  1) 리스트의 맨 뒤 원소를 output cell에 출력\n",
        "\n",
        "  2) 맨 뒤 원소를 제외한 리스트 원소들을 선행하는 변수에 출력"
      ],
      "metadata": {
        "id": "q8HPjkNiRbWT"
      }
    },
    {
      "cell_type": "code",
      "source": [
        "s = [10, 20, 30, 40, 50]"
      ],
      "metadata": {
        "id": "oQSRukEuRSCn"
      },
      "execution_count": 17,
      "outputs": []
    },
    {
      "cell_type": "code",
      "source": [
        "s.pop()"
      ],
      "metadata": {
        "colab": {
          "base_uri": "https://localhost:8080/"
        },
        "id": "L2V42KNTRudq",
        "outputId": "94aba667-2c79-47ce-ca98-0e87f3404358"
      },
      "execution_count": 18,
      "outputs": [
        {
          "output_type": "execute_result",
          "data": {
            "text/plain": [
              "50"
            ]
          },
          "metadata": {},
          "execution_count": 18
        }
      ]
    },
    {
      "cell_type": "code",
      "source": [
        "s"
      ],
      "metadata": {
        "colab": {
          "base_uri": "https://localhost:8080/"
        },
        "id": "i_zR1M3zRw4j",
        "outputId": "7d54e5ec-1f80-44b1-86f6-074ed2cb3fc5"
      },
      "execution_count": 19,
      "outputs": [
        {
          "output_type": "execute_result",
          "data": {
            "text/plain": [
              "[10, 20, 30, 40]"
            ]
          },
          "metadata": {},
          "execution_count": 19
        }
      ]
    },
    {
      "cell_type": "code",
      "source": [
        "s.pop()"
      ],
      "metadata": {
        "colab": {
          "base_uri": "https://localhost:8080/"
        },
        "id": "TVlgcmV_RyGT",
        "outputId": "279428de-ddfb-4c12-b8e7-a3dd8535d57a"
      },
      "execution_count": 20,
      "outputs": [
        {
          "output_type": "execute_result",
          "data": {
            "text/plain": [
              "40"
            ]
          },
          "metadata": {},
          "execution_count": 20
        }
      ]
    },
    {
      "cell_type": "code",
      "source": [
        "s"
      ],
      "metadata": {
        "colab": {
          "base_uri": "https://localhost:8080/"
        },
        "id": "xJ9lcABZR0A4",
        "outputId": "c6b83965-2a01-4977-abc9-4580842501e4"
      },
      "execution_count": 21,
      "outputs": [
        {
          "output_type": "execute_result",
          "data": {
            "text/plain": [
              "[10, 20, 30]"
            ]
          },
          "metadata": {},
          "execution_count": 21
        }
      ]
    },
    {
      "cell_type": "code",
      "source": [
        "a = s.pop()"
      ],
      "metadata": {
        "id": "2NSX3Y8wR1Tw"
      },
      "execution_count": 22,
      "outputs": []
    },
    {
      "cell_type": "code",
      "source": [
        "a"
      ],
      "metadata": {
        "colab": {
          "base_uri": "https://localhost:8080/"
        },
        "id": "EIfipthzR4KL",
        "outputId": "98e0a1e9-7a86-4110-ecdb-b569b3176fa7"
      },
      "execution_count": 23,
      "outputs": [
        {
          "output_type": "execute_result",
          "data": {
            "text/plain": [
              "30"
            ]
          },
          "metadata": {},
          "execution_count": 23
        }
      ]
    },
    {
      "cell_type": "code",
      "source": [
        "s"
      ],
      "metadata": {
        "colab": {
          "base_uri": "https://localhost:8080/"
        },
        "id": "5isStMOIR42C",
        "outputId": "7b6735f8-e4a4-4b4f-ed12-a3a423887d79"
      },
      "execution_count": 24,
      "outputs": [
        {
          "output_type": "execute_result",
          "data": {
            "text/plain": [
              "[10, 20]"
            ]
          },
          "metadata": {},
          "execution_count": 24
        }
      ]
    },
    {
      "cell_type": "markdown",
      "source": [
        "- 논항이 있는 경우\n",
        "  - 논항의 값이 인출할 원소의 index 값을 의미함\n",
        "  \n",
        "  1) index 값에 해당하는 원소를 output cell에 출력\n",
        "  \n",
        "  2) 1)을 제외한 원소들을 선행하는 변수에 출력 "
      ],
      "metadata": {
        "id": "8gg_xcP0R8Y4"
      }
    },
    {
      "cell_type": "code",
      "source": [
        "s = range(5)"
      ],
      "metadata": {
        "id": "1srdievvSxxO"
      },
      "execution_count": 25,
      "outputs": []
    },
    {
      "cell_type": "code",
      "source": [
        "s.pop()\n",
        "\n",
        "# pop은 list method이므로 range에 적용 불가능"
      ],
      "metadata": {
        "colab": {
          "base_uri": "https://localhost:8080/",
          "height": 206
        },
        "id": "N8Hcd7uMS0Hf",
        "outputId": "ff7205bb-03b4-4f14-8cf7-3128e3105fef"
      },
      "execution_count": 26,
      "outputs": [
        {
          "output_type": "error",
          "ename": "AttributeError",
          "evalue": "ignored",
          "traceback": [
            "\u001b[0;31m---------------------------------------------------------------------------\u001b[0m",
            "\u001b[0;31mAttributeError\u001b[0m                            Traceback (most recent call last)",
            "\u001b[0;32m<ipython-input-26-68123dd8b175>\u001b[0m in \u001b[0;36m<module>\u001b[0;34m\u001b[0m\n\u001b[0;32m----> 1\u001b[0;31m \u001b[0ms\u001b[0m\u001b[0;34m.\u001b[0m\u001b[0mpop\u001b[0m\u001b[0;34m(\u001b[0m\u001b[0;34m)\u001b[0m\u001b[0;34m\u001b[0m\u001b[0;34m\u001b[0m\u001b[0m\n\u001b[0m\u001b[1;32m      2\u001b[0m \u001b[0;34m\u001b[0m\u001b[0m\n\u001b[1;32m      3\u001b[0m \u001b[0;31m# pop은 list method이므로 range에 적용 불가능\u001b[0m\u001b[0;34m\u001b[0m\u001b[0;34m\u001b[0m\u001b[0;34m\u001b[0m\u001b[0m\n",
            "\u001b[0;31mAttributeError\u001b[0m: 'range' object has no attribute 'pop'"
          ]
        }
      ]
    },
    {
      "cell_type": "markdown",
      "source": [
        "# for 구문에서 중첩리스트 처리\n",
        "- 속성이 구분되는 데이터 처리할 때 활용 가능"
      ],
      "metadata": {
        "id": "zKcr6ocSS6vD"
      }
    },
    {
      "cell_type": "code",
      "source": [
        "a = [['one', 1], ['two', 2], ['three', 3]]"
      ],
      "metadata": {
        "id": "5tnxITCRS_3m"
      },
      "execution_count": 27,
      "outputs": []
    },
    {
      "cell_type": "code",
      "source": [
        "for i in a:\n",
        "  print(i[0], i[1])"
      ],
      "metadata": {
        "colab": {
          "base_uri": "https://localhost:8080/"
        },
        "id": "MR_2ympoTEtx",
        "outputId": "a9c8c4e6-f56f-4eb5-c9f2-e94345c59e36"
      },
      "execution_count": 28,
      "outputs": [
        {
          "output_type": "stream",
          "name": "stdout",
          "text": [
            "one 1\n",
            "two 2\n",
            "three 3\n"
          ]
        }
      ]
    },
    {
      "cell_type": "code",
      "source": [
        "for i, j in a:\n",
        "  print(i, j)"
      ],
      "metadata": {
        "colab": {
          "base_uri": "https://localhost:8080/"
        },
        "id": "qTypMQa4TILI",
        "outputId": "95387ea1-b841-47e2-abbf-cbbeefa5291d"
      },
      "execution_count": 29,
      "outputs": [
        {
          "output_type": "stream",
          "name": "stdout",
          "text": [
            "one 1\n",
            "two 2\n",
            "three 3\n"
          ]
        }
      ]
    },
    {
      "cell_type": "markdown",
      "source": [
        "# 중첩 리스트 정렬 - sort method, reverse method"
      ],
      "metadata": {
        "id": "3KAjLsE4TNIB"
      }
    },
    {
      "cell_type": "code",
      "source": [
        "L = [['a', 3], ['b', 4], ['b', 3], ['a', 1]]"
      ],
      "metadata": {
        "id": "pQy0SWMSTOfj"
      },
      "execution_count": 30,
      "outputs": []
    },
    {
      "cell_type": "code",
      "source": [
        "L.sort()\n",
        "\n",
        "# 첫번째 값을 기준으로 오름차순 정렬한 후에 그 다음 값을 기준으로 첫번째 값이 동일한 것들을 다시 정렬"
      ],
      "metadata": {
        "id": "mlIK_zV7TUE_"
      },
      "execution_count": 31,
      "outputs": []
    },
    {
      "cell_type": "code",
      "source": [
        "L"
      ],
      "metadata": {
        "colab": {
          "base_uri": "https://localhost:8080/"
        },
        "id": "yvPEZzojTxt5",
        "outputId": "b4969570-4fa8-4e10-eff3-6728e24f2fc8"
      },
      "execution_count": 32,
      "outputs": [
        {
          "output_type": "execute_result",
          "data": {
            "text/plain": [
              "[['a', 1], ['a', 3], ['b', 3], ['b', 4]]"
            ]
          },
          "metadata": {},
          "execution_count": 32
        }
      ]
    },
    {
      "cell_type": "code",
      "source": [
        "L.reverse()\n",
        "L"
      ],
      "metadata": {
        "colab": {
          "base_uri": "https://localhost:8080/"
        },
        "id": "z4h5PGtqTyqA",
        "outputId": "28489d48-80e6-468f-cb75-0f3cac51da58"
      },
      "execution_count": 33,
      "outputs": [
        {
          "output_type": "execute_result",
          "data": {
            "text/plain": [
              "[['b', 4], ['b', 3], ['a', 3], ['a', 1]]"
            ]
          },
          "metadata": {},
          "execution_count": 33
        }
      ]
    },
    {
      "cell_type": "markdown",
      "source": [
        "### key"
      ],
      "metadata": {
        "id": "we5aPmlVT4DB"
      }
    },
    {
      "cell_type": "code",
      "source": [
        "L"
      ],
      "metadata": {
        "colab": {
          "base_uri": "https://localhost:8080/"
        },
        "id": "YyMroSYwT7Lm",
        "outputId": "589e0407-79e5-440a-bb0c-c9ddd9284a62"
      },
      "execution_count": 34,
      "outputs": [
        {
          "output_type": "execute_result",
          "data": {
            "text/plain": [
              "[['b', 4], ['b', 3], ['a', 3], ['a', 1]]"
            ]
          },
          "metadata": {},
          "execution_count": 34
        }
      ]
    },
    {
      "cell_type": "code",
      "source": [
        "L.sort(key = lambda x:x[0])\n",
        "L\n",
        "\n",
        "# sort의 논항에 key가 명시되어 있는 경우 key를 기준으로 정렬함\n",
        "# 이 예시의 경우 x[0]이 key\n",
        "# x[0] -> 각 리스트 내의 첫번째 원소(indexing 값이 0)를 기준으로 정렬\n",
        "# x[1] -> 각 리스트 내의 두번째 원소를 기준으로 정렬"
      ],
      "metadata": {
        "colab": {
          "base_uri": "https://localhost:8080/"
        },
        "id": "7qpJKbMoT9NM",
        "outputId": "0d6e3987-c3cd-4234-d140-17e1cd450418"
      },
      "execution_count": 35,
      "outputs": [
        {
          "output_type": "execute_result",
          "data": {
            "text/plain": [
              "[['a', 3], ['a', 1], ['b', 4], ['b', 3]]"
            ]
          },
          "metadata": {},
          "execution_count": 35
        }
      ]
    },
    {
      "cell_type": "code",
      "source": [
        "L.sort(key = lambda x:x[0], reverse = False)\n",
        "L\n",
        "\n",
        "# reverse=False인 경우 오름차순 정렬 -> default 값"
      ],
      "metadata": {
        "colab": {
          "base_uri": "https://localhost:8080/"
        },
        "id": "cJls3e0uUVmB",
        "outputId": "a15c2956-c066-43ee-c4c4-9291d1b1a180"
      },
      "execution_count": 36,
      "outputs": [
        {
          "output_type": "execute_result",
          "data": {
            "text/plain": [
              "[['a', 3], ['a', 1], ['b', 4], ['b', 3]]"
            ]
          },
          "metadata": {},
          "execution_count": 36
        }
      ]
    },
    {
      "cell_type": "code",
      "source": [
        "L.sort(key = lambda x:x[0], reverse = True)\n",
        "\n",
        "# reverse=True인 경우 내림차순 정렬"
      ],
      "metadata": {
        "id": "o6w8noIdUgDF"
      },
      "execution_count": 37,
      "outputs": []
    },
    {
      "cell_type": "code",
      "source": [
        "L"
      ],
      "metadata": {
        "colab": {
          "base_uri": "https://localhost:8080/"
        },
        "id": "M7g89L9_UojO",
        "outputId": "837bbb75-053f-43bb-b746-3e93c35cb5b1"
      },
      "execution_count": 38,
      "outputs": [
        {
          "output_type": "execute_result",
          "data": {
            "text/plain": [
              "[['b', 4], ['b', 3], ['a', 3], ['a', 1]]"
            ]
          },
          "metadata": {},
          "execution_count": 38
        }
      ]
    },
    {
      "cell_type": "code",
      "source": [
        "L.sort(key = lambda x:x[1])\n",
        "L"
      ],
      "metadata": {
        "colab": {
          "base_uri": "https://localhost:8080/"
        },
        "id": "_Uw7h_SnUw7Z",
        "outputId": "6c9fa165-6310-4ed5-e111-d7083844bac8"
      },
      "execution_count": 39,
      "outputs": [
        {
          "output_type": "execute_result",
          "data": {
            "text/plain": [
              "[['a', 1], ['b', 3], ['a', 3], ['b', 4]]"
            ]
          },
          "metadata": {},
          "execution_count": 39
        }
      ]
    },
    {
      "cell_type": "code",
      "source": [
        "L.sort(key = lambda x:x[1], reverse = False)\n",
        "L"
      ],
      "metadata": {
        "colab": {
          "base_uri": "https://localhost:8080/"
        },
        "id": "mRYN858RU07k",
        "outputId": "087423fe-2d05-4cc2-c171-90d9944b3a8b"
      },
      "execution_count": 40,
      "outputs": [
        {
          "output_type": "execute_result",
          "data": {
            "text/plain": [
              "[['a', 1], ['b', 3], ['a', 3], ['b', 4]]"
            ]
          },
          "metadata": {},
          "execution_count": 40
        }
      ]
    },
    {
      "cell_type": "code",
      "source": [
        "L.sort(key = lambda x:x[1], reverse = True)\n",
        "L"
      ],
      "metadata": {
        "colab": {
          "base_uri": "https://localhost:8080/"
        },
        "id": "sxYmkojpU7fI",
        "outputId": "8ddbf0d5-5672-45b1-c1ac-72186b89331f"
      },
      "execution_count": 41,
      "outputs": [
        {
          "output_type": "execute_result",
          "data": {
            "text/plain": [
              "[['b', 4], ['b', 3], ['a', 3], ['a', 1]]"
            ]
          },
          "metadata": {},
          "execution_count": 41
        }
      ]
    },
    {
      "cell_type": "code",
      "source": [
        "L"
      ],
      "metadata": {
        "colab": {
          "base_uri": "https://localhost:8080/"
        },
        "id": "vWo0PirlVA7w",
        "outputId": "03c6ed53-3b05-496a-87ca-5a88b26ccd25"
      },
      "execution_count": 42,
      "outputs": [
        {
          "output_type": "execute_result",
          "data": {
            "text/plain": [
              "[['b', 4], ['b', 3], ['a', 3], ['a', 1]]"
            ]
          },
          "metadata": {},
          "execution_count": 42
        }
      ]
    },
    {
      "cell_type": "code",
      "source": [
        "L.sort(key = lambda x:x)\n",
        "L\n",
        "\n",
        "# key가 x 전체가 됨(리스트 내의 원소로 들어 있는 값 하나하나) -> 논항 없이 sort method 사용할 때와 같은 방식으로 정렬됨. 즉, 이 경우 굳이 key를 쓰기 보다는 reverse = True/False만 하는 게 나음"
      ],
      "metadata": {
        "colab": {
          "base_uri": "https://localhost:8080/"
        },
        "id": "9MZByB2YVCF4",
        "outputId": "9bf2988d-9960-4ba2-88a8-bfae2fd4a958"
      },
      "execution_count": 43,
      "outputs": [
        {
          "output_type": "execute_result",
          "data": {
            "text/plain": [
              "[['a', 1], ['a', 3], ['b', 3], ['b', 4]]"
            ]
          },
          "metadata": {},
          "execution_count": 43
        }
      ]
    },
    {
      "cell_type": "code",
      "source": [
        "L.sort(key = lambda x:x, reverse = False)\n",
        "L"
      ],
      "metadata": {
        "colab": {
          "base_uri": "https://localhost:8080/"
        },
        "id": "St-lHARMVWso",
        "outputId": "2c2d0078-3901-4066-c744-a8dea0f9f974"
      },
      "execution_count": 44,
      "outputs": [
        {
          "output_type": "execute_result",
          "data": {
            "text/plain": [
              "[['a', 1], ['a', 3], ['b', 3], ['b', 4]]"
            ]
          },
          "metadata": {},
          "execution_count": 44
        }
      ]
    },
    {
      "cell_type": "code",
      "source": [
        "L.sort(key = lambda x:x, reverse = True)\n",
        "L"
      ],
      "metadata": {
        "colab": {
          "base_uri": "https://localhost:8080/"
        },
        "id": "2WlN6HEVVc35",
        "outputId": "f296458b-f880-4ed4-fff0-8873c33dc2d5"
      },
      "execution_count": 45,
      "outputs": [
        {
          "output_type": "execute_result",
          "data": {
            "text/plain": [
              "[['b', 4], ['b', 3], ['a', 3], ['a', 1]]"
            ]
          },
          "metadata": {},
          "execution_count": 45
        }
      ]
    }
  ]
}