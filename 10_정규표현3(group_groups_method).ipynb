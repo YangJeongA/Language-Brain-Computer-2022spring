{
  "nbformat": 4,
  "nbformat_minor": 0,
  "metadata": {
    "colab": {
      "provenance": [],
      "include_colab_link": true
    },
    "kernelspec": {
      "name": "python3",
      "display_name": "Python 3"
    },
    "language_info": {
      "name": "python"
    }
  },
  "cells": [
    {
      "cell_type": "markdown",
      "metadata": {
        "id": "view-in-github",
        "colab_type": "text"
      },
      "source": [
        "<a href=\"https://colab.research.google.com/github/YangJeongA/Language-Brain-Computer-2022spring/blob/main/10_%EC%A0%95%EA%B7%9C%ED%91%9C%ED%98%843(group_groups_method).ipynb\" target=\"_parent\"><img src=\"https://colab.research.google.com/assets/colab-badge.svg\" alt=\"Open In Colab\"/></a>"
      ]
    },
    {
      "cell_type": "markdown",
      "source": [
        "# group 메서드\n",
        "- group method는 match object에만 적용 가능\n",
        "- group method는 선행하는 match object에서 'match'라고 돼있는 부분의 값만 출력해 줌 (=match 함수의 출력값 중 문자열 부분)"
      ],
      "metadata": {
        "id": "Vi--Vn4u9vnD"
      }
    },
    {
      "cell_type": "markdown",
      "source": [
        "###1"
      ],
      "metadata": {
        "id": "AIOfoHBBBtel"
      }
    },
    {
      "cell_type": "code",
      "source": [
        "import re"
      ],
      "metadata": {
        "id": "-57EsaZj-RiJ"
      },
      "execution_count": 1,
      "outputs": []
    },
    {
      "cell_type": "code",
      "source": [
        "re.match('[0-9]+', '3456abc\\t\\n.+?*')"
      ],
      "metadata": {
        "colab": {
          "base_uri": "https://localhost:8080/"
        },
        "id": "WqQdEPfV-zxe",
        "outputId": "88a1a955-b38d-4572-9116-fd03e1f18206"
      },
      "execution_count": 2,
      "outputs": [
        {
          "output_type": "execute_result",
          "data": {
            "text/plain": [
              "<re.Match object; span=(0, 4), match='3456'>"
            ]
          },
          "metadata": {},
          "execution_count": 2
        }
      ]
    },
    {
      "cell_type": "code",
      "execution_count": 3,
      "metadata": {
        "colab": {
          "base_uri": "https://localhost:8080/",
          "height": 36
        },
        "id": "31zIAHeR9icg",
        "outputId": "5bb83149-9df1-4b98-a52c-d8d1924c4f79"
      },
      "outputs": [
        {
          "output_type": "execute_result",
          "data": {
            "text/plain": [
              "'3456'"
            ],
            "application/vnd.google.colaboratory.intrinsic+json": {
              "type": "string"
            }
          },
          "metadata": {},
          "execution_count": 3
        }
      ],
      "source": [
        "re.match('[0-9]+', '3456abc\\t\\n.+?*').group()"
      ]
    },
    {
      "cell_type": "code",
      "source": [
        "re.match('[0-9a-z]+', '3456abc\\t\\n.+?*').group()"
      ],
      "metadata": {
        "colab": {
          "base_uri": "https://localhost:8080/",
          "height": 36
        },
        "id": "LdB6CWNt_cUq",
        "outputId": "4ab32bcf-939b-4551-af22-fbef00ce14ac"
      },
      "execution_count": 4,
      "outputs": [
        {
          "output_type": "execute_result",
          "data": {
            "text/plain": [
              "'3456abc'"
            ],
            "application/vnd.google.colaboratory.intrinsic+json": {
              "type": "string"
            }
          },
          "metadata": {},
          "execution_count": 4
        }
      ]
    },
    {
      "cell_type": "code",
      "source": [
        "re.match('[0-9a-z\\t\\n]+', '3456abc\\t\\n.+?*').group()"
      ],
      "metadata": {
        "colab": {
          "base_uri": "https://localhost:8080/",
          "height": 36
        },
        "id": "R6_9rTReAB1w",
        "outputId": "d82052a0-9d17-4586-a7e7-a37182640cab"
      },
      "execution_count": 5,
      "outputs": [
        {
          "output_type": "execute_result",
          "data": {
            "text/plain": [
              "'3456abc\\t\\n'"
            ],
            "application/vnd.google.colaboratory.intrinsic+json": {
              "type": "string"
            }
          },
          "metadata": {},
          "execution_count": 5
        }
      ]
    },
    {
      "cell_type": "code",
      "source": [
        "re.match('[0-9a-z\\t\\n.+?*]+', '3456abc\\t\\n.+?*').group()"
      ],
      "metadata": {
        "colab": {
          "base_uri": "https://localhost:8080/",
          "height": 36
        },
        "id": "ST1YTl3zAPeW",
        "outputId": "56105b2d-1822-436c-c187-0eb7b0486f99"
      },
      "execution_count": 6,
      "outputs": [
        {
          "output_type": "execute_result",
          "data": {
            "text/plain": [
              "'3456abc\\t\\n.+?*'"
            ],
            "application/vnd.google.colaboratory.intrinsic+json": {
              "type": "string"
            }
          },
          "metadata": {},
          "execution_count": 6
        }
      ]
    },
    {
      "cell_type": "markdown",
      "source": [
        "###2"
      ],
      "metadata": {
        "id": "v79MjBl7Bvom"
      }
    },
    {
      "cell_type": "code",
      "source": [
        "re.match('[a-z\\t\\n.+?*]+', '3456abc\\t\\n.+?*')\n",
        "\n",
        "# match되는 값 없음 "
      ],
      "metadata": {
        "id": "bdIznHfgBwcT"
      },
      "execution_count": 7,
      "outputs": []
    },
    {
      "cell_type": "code",
      "source": [
        "type(re.match('[a-z\\t\\n.+?*]+', '3456abc\\t\\n.+?*'))"
      ],
      "metadata": {
        "id": "6Yo9L_EiB8xS",
        "colab": {
          "base_uri": "https://localhost:8080/"
        },
        "outputId": "6b13c866-21d4-4c02-d317-139261ec88a0"
      },
      "execution_count": 8,
      "outputs": [
        {
          "output_type": "execute_result",
          "data": {
            "text/plain": [
              "NoneType"
            ]
          },
          "metadata": {},
          "execution_count": 8
        }
      ]
    },
    {
      "cell_type": "code",
      "source": [
        "re.match('[a-z\\t\\n.+?*]+', '3456abc\\t\\n.+?*').group()\n",
        "\n",
        "# match 함수를 통해 출력된 값이 없으므로 gropu method 적용하면 error 발생 -> match 함수에 의한 출력값이 있어야 group method 적용 가능"
      ],
      "metadata": {
        "id": "S6L0OtdZB_iD",
        "colab": {
          "base_uri": "https://localhost:8080/",
          "height": 224
        },
        "outputId": "65e48b78-cc7b-4f17-b3e8-9222fa997153"
      },
      "execution_count": 9,
      "outputs": [
        {
          "output_type": "error",
          "ename": "AttributeError",
          "evalue": "ignored",
          "traceback": [
            "\u001b[0;31m---------------------------------------------------------------------------\u001b[0m",
            "\u001b[0;31mAttributeError\u001b[0m                            Traceback (most recent call last)",
            "\u001b[0;32m<ipython-input-9-0e888c6013e0>\u001b[0m in \u001b[0;36m<module>\u001b[0;34m\u001b[0m\n\u001b[0;32m----> 1\u001b[0;31m \u001b[0mre\u001b[0m\u001b[0;34m.\u001b[0m\u001b[0mmatch\u001b[0m\u001b[0;34m(\u001b[0m\u001b[0;34m'[a-z\\t\\n.+?*]+'\u001b[0m\u001b[0;34m,\u001b[0m \u001b[0;34m'3456abc\\t\\n.+?*'\u001b[0m\u001b[0;34m)\u001b[0m\u001b[0;34m.\u001b[0m\u001b[0mgroup\u001b[0m\u001b[0;34m(\u001b[0m\u001b[0;34m)\u001b[0m\u001b[0;34m\u001b[0m\u001b[0;34m\u001b[0m\u001b[0m\n\u001b[0m\u001b[1;32m      2\u001b[0m \u001b[0;34m\u001b[0m\u001b[0m\n\u001b[1;32m      3\u001b[0m \u001b[0;31m# match 함수를 통해 출력된 값이 없으므로 gropu method 적용하면 error 발생 -> match 함수에 의한 출력값이 있어야 group method 적용 가능\u001b[0m\u001b[0;34m\u001b[0m\u001b[0;34m\u001b[0m\u001b[0;34m\u001b[0m\u001b[0m\n",
            "\u001b[0;31mAttributeError\u001b[0m: 'NoneType' object has no attribute 'group'"
          ]
        }
      ]
    },
    {
      "cell_type": "markdown",
      "source": [
        "###3"
      ],
      "metadata": {
        "id": "QS95pKbvDBuN"
      }
    },
    {
      "cell_type": "code",
      "source": [
        "re.match('\\d+', '3456abc\\t\\n.+?*').group()"
      ],
      "metadata": {
        "colab": {
          "base_uri": "https://localhost:8080/",
          "height": 36
        },
        "id": "ZQFm8fEOC5sT",
        "outputId": "3aed4f7e-b94e-4cb3-ead0-192a2e8f85fa"
      },
      "execution_count": 10,
      "outputs": [
        {
          "output_type": "execute_result",
          "data": {
            "text/plain": [
              "'3456'"
            ],
            "application/vnd.google.colaboratory.intrinsic+json": {
              "type": "string"
            }
          },
          "metadata": {},
          "execution_count": 10
        }
      ]
    },
    {
      "cell_type": "code",
      "source": [
        "re.match('\\d+\\w+', '3456abc\\t\\n.+?*').group()"
      ],
      "metadata": {
        "colab": {
          "base_uri": "https://localhost:8080/",
          "height": 36
        },
        "id": "gbP4yrpWC4-4",
        "outputId": "96c66179-ef8e-41ee-dce4-b72c4dd27caf"
      },
      "execution_count": 11,
      "outputs": [
        {
          "output_type": "execute_result",
          "data": {
            "text/plain": [
              "'3456abc'"
            ],
            "application/vnd.google.colaboratory.intrinsic+json": {
              "type": "string"
            }
          },
          "metadata": {},
          "execution_count": 11
        }
      ]
    },
    {
      "cell_type": "code",
      "source": [
        "re.match('\\S+', '3456abc\\t\\n.+?*').group()"
      ],
      "metadata": {
        "id": "GeSqNwdiDNj3",
        "colab": {
          "base_uri": "https://localhost:8080/",
          "height": 36
        },
        "outputId": "7695f9cb-d336-44d8-bbc6-310bd60f9105"
      },
      "execution_count": 12,
      "outputs": [
        {
          "output_type": "execute_result",
          "data": {
            "text/plain": [
              "'3456abc'"
            ],
            "application/vnd.google.colaboratory.intrinsic+json": {
              "type": "string"
            }
          },
          "metadata": {},
          "execution_count": 12
        }
      ]
    },
    {
      "cell_type": "code",
      "source": [
        "re.match('\\w+', '3456abc\\t\\n.+?*').group()"
      ],
      "metadata": {
        "id": "wLV240-tDUqk",
        "colab": {
          "base_uri": "https://localhost:8080/",
          "height": 36
        },
        "outputId": "b41356c0-8b83-4b1e-ba3b-4f15ef86a636"
      },
      "execution_count": 13,
      "outputs": [
        {
          "output_type": "execute_result",
          "data": {
            "text/plain": [
              "'3456abc'"
            ],
            "application/vnd.google.colaboratory.intrinsic+json": {
              "type": "string"
            }
          },
          "metadata": {},
          "execution_count": 13
        }
      ]
    },
    {
      "cell_type": "code",
      "source": [
        "re.match('\\w+\\s+', '3456abc\\t\\n.+?*').group()"
      ],
      "metadata": {
        "colab": {
          "base_uri": "https://localhost:8080/",
          "height": 36
        },
        "id": "oHJmMoWsDevT",
        "outputId": "76ba3e2a-9782-4cb6-d344-b0706157d592"
      },
      "execution_count": 14,
      "outputs": [
        {
          "output_type": "execute_result",
          "data": {
            "text/plain": [
              "'3456abc\\t\\n'"
            ],
            "application/vnd.google.colaboratory.intrinsic+json": {
              "type": "string"
            }
          },
          "metadata": {},
          "execution_count": 14
        }
      ]
    },
    {
      "cell_type": "markdown",
      "source": [
        "###4"
      ],
      "metadata": {
        "id": "iy0kVO9xDquH"
      }
    },
    {
      "cell_type": "code",
      "source": [
        "re.match('[\\w]+', '3456abc\\t\\n.+?*').group()"
      ],
      "metadata": {
        "colab": {
          "base_uri": "https://localhost:8080/",
          "height": 36
        },
        "id": "LlMgPVhbDrYK",
        "outputId": "0be4222f-0636-4116-d21c-911ce073ec4a"
      },
      "execution_count": 15,
      "outputs": [
        {
          "output_type": "execute_result",
          "data": {
            "text/plain": [
              "'3456abc'"
            ],
            "application/vnd.google.colaboratory.intrinsic+json": {
              "type": "string"
            }
          },
          "metadata": {},
          "execution_count": 15
        }
      ]
    },
    {
      "cell_type": "code",
      "source": [
        "re.match('[\\w\\s]+', '3456abc\\t\\n.+?*').group()"
      ],
      "metadata": {
        "colab": {
          "base_uri": "https://localhost:8080/",
          "height": 36
        },
        "id": "bbu53CNAECb3",
        "outputId": "fcfdc26f-b71b-4ea1-da32-fdef5263bda1"
      },
      "execution_count": 16,
      "outputs": [
        {
          "output_type": "execute_result",
          "data": {
            "text/plain": [
              "'3456abc\\t\\n'"
            ],
            "application/vnd.google.colaboratory.intrinsic+json": {
              "type": "string"
            }
          },
          "metadata": {},
          "execution_count": 16
        }
      ]
    },
    {
      "cell_type": "code",
      "source": [
        "re.match('[\\w\\s\\S]+', '3456abc\\t\\n.+?*').group()"
      ],
      "metadata": {
        "colab": {
          "base_uri": "https://localhost:8080/",
          "height": 36
        },
        "id": "yxfz3WzsEKk3",
        "outputId": "089e5733-09df-4bd2-da05-dd69a00680a2"
      },
      "execution_count": 17,
      "outputs": [
        {
          "output_type": "execute_result",
          "data": {
            "text/plain": [
              "'3456abc\\t\\n.+?*'"
            ],
            "application/vnd.google.colaboratory.intrinsic+json": {
              "type": "string"
            }
          },
          "metadata": {},
          "execution_count": 17
        }
      ]
    },
    {
      "cell_type": "markdown",
      "source": [
        "# 그룹화: group"
      ],
      "metadata": {
        "id": "Q0hx0QaMFOE_"
      }
    },
    {
      "cell_type": "markdown",
      "source": [
        "###1"
      ],
      "metadata": {
        "id": "QfIqqpUUGVTi"
      }
    },
    {
      "cell_type": "code",
      "source": [
        "re.match('\\d+\\S+\\W+', '3456.+abc\\t\\n.+?*').group()"
      ],
      "metadata": {
        "colab": {
          "base_uri": "https://localhost:8080/",
          "height": 36
        },
        "id": "i_tNyp41FQqi",
        "outputId": "c8210309-b4ed-465d-84bd-9ed38d6d9581"
      },
      "execution_count": 18,
      "outputs": [
        {
          "output_type": "execute_result",
          "data": {
            "text/plain": [
              "'3456.+abc\\t\\n.+?*'"
            ],
            "application/vnd.google.colaboratory.intrinsic+json": {
              "type": "string"
            }
          },
          "metadata": {},
          "execution_count": 18
        }
      ]
    },
    {
      "cell_type": "code",
      "source": [
        "re.match('\\d+(\\S+)(\\W+)', '3456.+abc\\t\\n.+?*').group()\n",
        "\n",
        "\n",
        "# group method의 논항에 아무것도 없으므로 그룹화의 효과 x"
      ],
      "metadata": {
        "id": "gdS3XYlbFa0e",
        "colab": {
          "base_uri": "https://localhost:8080/",
          "height": 36
        },
        "outputId": "3ba1c6c9-492a-4ce4-8e62-23837d3a9566"
      },
      "execution_count": 19,
      "outputs": [
        {
          "output_type": "execute_result",
          "data": {
            "text/plain": [
              "'3456.+abc\\t\\n.+?*'"
            ],
            "application/vnd.google.colaboratory.intrinsic+json": {
              "type": "string"
            }
          },
          "metadata": {},
          "execution_count": 19
        }
      ]
    },
    {
      "cell_type": "code",
      "source": [
        "re.match('\\d+(\\S+)(\\W+)', '3456.+abc\\t\\n.+?*').group(1)\n",
        "\n",
        "# group method가 적용되어 출력되기 위해서는 group method의 논항에 숫자값을 입력해야 함"
      ],
      "metadata": {
        "id": "A_SfdifsFz2P",
        "colab": {
          "base_uri": "https://localhost:8080/",
          "height": 36
        },
        "outputId": "859376ac-a383-4baa-8f7b-545f53ebfbc7"
      },
      "execution_count": 20,
      "outputs": [
        {
          "output_type": "execute_result",
          "data": {
            "text/plain": [
              "'.+abc'"
            ],
            "application/vnd.google.colaboratory.intrinsic+json": {
              "type": "string"
            }
          },
          "metadata": {},
          "execution_count": 20
        }
      ]
    },
    {
      "cell_type": "code",
      "source": [
        "re.match('\\d+(\\S+)(\\W+)', '3456.+abc\\t\\n.+?*').group(2)"
      ],
      "metadata": {
        "colab": {
          "base_uri": "https://localhost:8080/",
          "height": 36
        },
        "id": "OynkMnhOGENP",
        "outputId": "32212e9b-0e16-4252-b401-9d4a6077ce5d"
      },
      "execution_count": 21,
      "outputs": [
        {
          "output_type": "execute_result",
          "data": {
            "text/plain": [
              "'\\t\\n.+?*'"
            ],
            "application/vnd.google.colaboratory.intrinsic+json": {
              "type": "string"
            }
          },
          "metadata": {},
          "execution_count": 21
        }
      ]
    },
    {
      "cell_type": "markdown",
      "source": [
        "###2"
      ],
      "metadata": {
        "id": "SdfSQtZJGWUg"
      }
    },
    {
      "cell_type": "code",
      "source": [
        "re.match('\\d+(\\S+)(\\W+)', '3456.+abc\\t\\n.+?*').group(0)\n",
        "\n",
        "# 0번 그룹은 없음 -> 그룹은 1부터 시작\n",
        "# group method의 논항에 0을 입력하면 논항에 값이 없을 때와 동일한 결과 출력"
      ],
      "metadata": {
        "id": "1xix9brpGW7X",
        "colab": {
          "base_uri": "https://localhost:8080/",
          "height": 36
        },
        "outputId": "d5ad2462-8862-4526-d1b0-47b71f322bc8"
      },
      "execution_count": 22,
      "outputs": [
        {
          "output_type": "execute_result",
          "data": {
            "text/plain": [
              "'3456.+abc\\t\\n.+?*'"
            ],
            "application/vnd.google.colaboratory.intrinsic+json": {
              "type": "string"
            }
          },
          "metadata": {},
          "execution_count": 22
        }
      ]
    },
    {
      "cell_type": "code",
      "source": [
        "re.match('\\d+(\\S+)(\\W+)', '3456.+abc\\t\\n.+?*').group(3)\n",
        "\n",
        "# 그룹 수 초과 -> 오류발생"
      ],
      "metadata": {
        "id": "rwwB3qM9GqZ5",
        "colab": {
          "base_uri": "https://localhost:8080/",
          "height": 206
        },
        "outputId": "e1d7712e-48fe-4631-d85e-e6b5703db683"
      },
      "execution_count": 23,
      "outputs": [
        {
          "output_type": "error",
          "ename": "IndexError",
          "evalue": "ignored",
          "traceback": [
            "\u001b[0;31m---------------------------------------------------------------------------\u001b[0m",
            "\u001b[0;31mIndexError\u001b[0m                                Traceback (most recent call last)",
            "\u001b[0;32m<ipython-input-23-666cef49e4e4>\u001b[0m in \u001b[0;36m<module>\u001b[0;34m\u001b[0m\n\u001b[0;32m----> 1\u001b[0;31m \u001b[0mre\u001b[0m\u001b[0;34m.\u001b[0m\u001b[0mmatch\u001b[0m\u001b[0;34m(\u001b[0m\u001b[0;34m'\\d+(\\S+)(\\W+)'\u001b[0m\u001b[0;34m,\u001b[0m \u001b[0;34m'3456.+abc\\t\\n.+?*'\u001b[0m\u001b[0;34m)\u001b[0m\u001b[0;34m.\u001b[0m\u001b[0mgroup\u001b[0m\u001b[0;34m(\u001b[0m\u001b[0;36m3\u001b[0m\u001b[0;34m)\u001b[0m\u001b[0;34m\u001b[0m\u001b[0;34m\u001b[0m\u001b[0m\n\u001b[0m\u001b[1;32m      2\u001b[0m \u001b[0;34m\u001b[0m\u001b[0m\n\u001b[1;32m      3\u001b[0m \u001b[0;31m# 그룹 수 초과 -> 오류발생\u001b[0m\u001b[0;34m\u001b[0m\u001b[0;34m\u001b[0m\u001b[0;34m\u001b[0m\u001b[0m\n",
            "\u001b[0;31mIndexError\u001b[0m: no such group"
          ]
        }
      ]
    },
    {
      "cell_type": "markdown",
      "source": [
        "###3"
      ],
      "metadata": {
        "id": "IiXW1e2l0MJx"
      }
    },
    {
      "cell_type": "code",
      "source": [
        "re.match('\\d+(\\S+)(\\W+)', '3456.+abc\\t\\n.+?*').group(1, 2)"
      ],
      "metadata": {
        "id": "YKxIYOY00OdY",
        "colab": {
          "base_uri": "https://localhost:8080/"
        },
        "outputId": "06f68b04-410b-42e5-8773-7bb46f4ede3d"
      },
      "execution_count": 24,
      "outputs": [
        {
          "output_type": "execute_result",
          "data": {
            "text/plain": [
              "('.+abc', '\\t\\n.+?*')"
            ]
          },
          "metadata": {},
          "execution_count": 24
        }
      ]
    },
    {
      "cell_type": "code",
      "source": [
        "re.match('\\d+(\\S+)(\\W+)', '3456.+abc\\t\\n.+?*').group(2, 1)"
      ],
      "metadata": {
        "id": "P7Vt5vEu2tiS",
        "colab": {
          "base_uri": "https://localhost:8080/"
        },
        "outputId": "ff35c315-cc12-4d6d-c660-8a9714952ca0"
      },
      "execution_count": 25,
      "outputs": [
        {
          "output_type": "execute_result",
          "data": {
            "text/plain": [
              "('\\t\\n.+?*', '.+abc')"
            ]
          },
          "metadata": {},
          "execution_count": 25
        }
      ]
    },
    {
      "cell_type": "code",
      "source": [
        "re.match('\\d+(\\S+)(\\W+)', '3456.+abc\\t\\n.+?*').group(2, 1, 2)"
      ],
      "metadata": {
        "colab": {
          "base_uri": "https://localhost:8080/"
        },
        "id": "kuv-yJgx2uki",
        "outputId": "42c35f9a-7d9e-4411-a7d9-8007669acb90"
      },
      "execution_count": 26,
      "outputs": [
        {
          "output_type": "execute_result",
          "data": {
            "text/plain": [
              "('\\t\\n.+?*', '.+abc', '\\t\\n.+?*')"
            ]
          },
          "metadata": {},
          "execution_count": 26
        }
      ]
    },
    {
      "cell_type": "code",
      "source": [
        "re.match('\\d+(\\S+)(\\W+)', '3456.+abc\\t\\n.+?*').group(0)"
      ],
      "metadata": {
        "id": "JHleNCZx2zNs",
        "colab": {
          "base_uri": "https://localhost:8080/",
          "height": 36
        },
        "outputId": "c4cfe613-e8ca-42ec-d363-8403ea0110f2"
      },
      "execution_count": 27,
      "outputs": [
        {
          "output_type": "execute_result",
          "data": {
            "text/plain": [
              "'3456.+abc\\t\\n.+?*'"
            ],
            "application/vnd.google.colaboratory.intrinsic+json": {
              "type": "string"
            }
          },
          "metadata": {},
          "execution_count": 27
        }
      ]
    },
    {
      "cell_type": "code",
      "source": [
        "re.match('\\d+(\\S+)(\\W+)', '3456.+abc\\t\\n.+?*').group(3)"
      ],
      "metadata": {
        "id": "7PLJ10Ug21zo",
        "colab": {
          "base_uri": "https://localhost:8080/",
          "height": 170
        },
        "outputId": "6112bb0b-ee46-469a-e984-075ec5acd26d"
      },
      "execution_count": 28,
      "outputs": [
        {
          "output_type": "error",
          "ename": "IndexError",
          "evalue": "ignored",
          "traceback": [
            "\u001b[0;31m---------------------------------------------------------------------------\u001b[0m",
            "\u001b[0;31mIndexError\u001b[0m                                Traceback (most recent call last)",
            "\u001b[0;32m<ipython-input-28-53506f59de2e>\u001b[0m in \u001b[0;36m<module>\u001b[0;34m\u001b[0m\n\u001b[0;32m----> 1\u001b[0;31m \u001b[0mre\u001b[0m\u001b[0;34m.\u001b[0m\u001b[0mmatch\u001b[0m\u001b[0;34m(\u001b[0m\u001b[0;34m'\\d+(\\S+)(\\W+)'\u001b[0m\u001b[0;34m,\u001b[0m \u001b[0;34m'3456.+abc\\t\\n.+?*'\u001b[0m\u001b[0;34m)\u001b[0m\u001b[0;34m.\u001b[0m\u001b[0mgroup\u001b[0m\u001b[0;34m(\u001b[0m\u001b[0;36m3\u001b[0m\u001b[0;34m)\u001b[0m\u001b[0;34m\u001b[0m\u001b[0;34m\u001b[0m\u001b[0m\n\u001b[0m",
            "\u001b[0;31mIndexError\u001b[0m: no such group"
          ]
        }
      ]
    },
    {
      "cell_type": "markdown",
      "source": [
        "# 그룹화: groups\n",
        "- 논항에 값이 없어도 grouping 되어있는 성분들이 출력됨 -> '튜플(tuple)'로 출력됨!!!\n",
        "- groups method도 match object datatype에만 적용 가능"
      ],
      "metadata": {
        "id": "OQHy8eKN_Z4z"
      }
    },
    {
      "cell_type": "markdown",
      "source": [
        "###1"
      ],
      "metadata": {
        "id": "8J77SErhAYgl"
      }
    },
    {
      "cell_type": "code",
      "source": [
        "re.match('\\d+(\\S+)(\\W+)', '3456.+abc\\t\\n.+?*').groups()"
      ],
      "metadata": {
        "colab": {
          "base_uri": "https://localhost:8080/"
        },
        "id": "qUkXVP1k_jx7",
        "outputId": "76d91a98-89ad-4f0d-d15d-684d27115296"
      },
      "execution_count": 29,
      "outputs": [
        {
          "output_type": "execute_result",
          "data": {
            "text/plain": [
              "('.+abc', '\\t\\n.+?*')"
            ]
          },
          "metadata": {},
          "execution_count": 29
        }
      ]
    },
    {
      "cell_type": "code",
      "source": [
        "re.match('\\d+(\\S+)\\W+', '3456.+abc\\t\\n.+?*').groups()\n",
        "\n",
        "\n",
        "# 원소가 하나인 튜플에도 쉼표 출력되는 것 잊지말기"
      ],
      "metadata": {
        "colab": {
          "base_uri": "https://localhost:8080/"
        },
        "id": "ir7LQ71KAEYK",
        "outputId": "309011a1-ddb1-4b03-da23-aca450ed430a"
      },
      "execution_count": 30,
      "outputs": [
        {
          "output_type": "execute_result",
          "data": {
            "text/plain": [
              "('.+abc',)"
            ]
          },
          "metadata": {},
          "execution_count": 30
        }
      ]
    },
    {
      "cell_type": "code",
      "source": [
        "re.match('\\d+\\S+\\W+', '3456.+abc\\t\\n.+?*').groups()\n",
        "\n",
        "\n",
        "#그룹화된 성분이 없는 경우 빈 튜플 출력"
      ],
      "metadata": {
        "colab": {
          "base_uri": "https://localhost:8080/"
        },
        "id": "vuler2SdAL72",
        "outputId": "443092b1-62d3-4b0a-89d5-88568e996852"
      },
      "execution_count": 31,
      "outputs": [
        {
          "output_type": "execute_result",
          "data": {
            "text/plain": [
              "()"
            ]
          },
          "metadata": {},
          "execution_count": 31
        }
      ]
    },
    {
      "cell_type": "markdown",
      "source": [
        "###2\n",
        "- grouping + 반복메타문자"
      ],
      "metadata": {
        "id": "xM3W63JHAZ4L"
      }
    },
    {
      "cell_type": "code",
      "source": [
        "import re"
      ],
      "metadata": {
        "id": "dXjFpbv39r8m"
      },
      "execution_count": 32,
      "outputs": []
    },
    {
      "cell_type": "code",
      "source": [
        "re.match('(\\d+)(\\S+)(\\W+)', '3456.+abc\\t\\n.+?*').groups()\n",
        "\n",
        "# 반복메타문자가 그룹 안에 있는 경우"
      ],
      "metadata": {
        "colab": {
          "base_uri": "https://localhost:8080/"
        },
        "id": "3wGn9rQnAb5i",
        "outputId": "65191184-139c-4957-ff5a-27caffe1e7fd"
      },
      "execution_count": 33,
      "outputs": [
        {
          "output_type": "execute_result",
          "data": {
            "text/plain": [
              "('3456', '.+abc', '\\t\\n.+?*')"
            ]
          },
          "metadata": {},
          "execution_count": 33
        }
      ]
    },
    {
      "cell_type": "code",
      "source": [
        "re.match('(\\d)+(\\S)+(\\W)+', '3456.+abc\\t\\n.+?*').groups()\n",
        "\n",
        "# 반복메타문자가 그룹 밖에 있는 경우\n",
        "# 괄호 안 -> 문자하나자리 -> 문자하나출력 -> 최장 일치하는 문자열의 마지막 문자 출력"
      ],
      "metadata": {
        "id": "_3vAj2L0A3XZ",
        "colab": {
          "base_uri": "https://localhost:8080/"
        },
        "outputId": "30d5396c-ed93-4195-b340-22113403d45b"
      },
      "execution_count": 34,
      "outputs": [
        {
          "output_type": "execute_result",
          "data": {
            "text/plain": [
              "('6', 'c', '*')"
            ]
          },
          "metadata": {},
          "execution_count": 34
        }
      ]
    },
    {
      "cell_type": "code",
      "source": [
        "re.match('(\\d)*(\\S)*(\\W)*', '3456.+abc\\t\\n.+?*').groups()"
      ],
      "metadata": {
        "id": "pLno6IVcBPbr",
        "colab": {
          "base_uri": "https://localhost:8080/"
        },
        "outputId": "8d7e3e49-c31d-4bd1-b974-269a1e71cf95"
      },
      "execution_count": 35,
      "outputs": [
        {
          "output_type": "execute_result",
          "data": {
            "text/plain": [
              "('6', 'c', '*')"
            ]
          },
          "metadata": {},
          "execution_count": 35
        }
      ]
    },
    {
      "cell_type": "code",
      "source": [
        "re.match('(\\d)?(\\S)?(\\W)?', '3456.+abc\\t\\n.+?*').groups()"
      ],
      "metadata": {
        "id": "CxWHxm7DBVhq",
        "colab": {
          "base_uri": "https://localhost:8080/"
        },
        "outputId": "47428d7e-d4a7-494e-d67c-694d938b4ea8"
      },
      "execution_count": 36,
      "outputs": [
        {
          "output_type": "execute_result",
          "data": {
            "text/plain": [
              "('3', '4', None)"
            ]
          },
          "metadata": {},
          "execution_count": 36
        }
      ]
    }
  ]
}