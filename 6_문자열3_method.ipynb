{
  "nbformat": 4,
  "nbformat_minor": 0,
  "metadata": {
    "colab": {
      "provenance": [],
      "include_colab_link": true
    },
    "kernelspec": {
      "name": "python3",
      "display_name": "Python 3"
    },
    "language_info": {
      "name": "python"
    }
  },
  "cells": [
    {
      "cell_type": "markdown",
      "metadata": {
        "id": "view-in-github",
        "colab_type": "text"
      },
      "source": [
        "<a href=\"https://colab.research.google.com/github/YangJeongA/Language-Brain-Computer-2022spring/blob/main/6_%EB%AC%B8%EC%9E%90%EC%97%B43_method.ipynb\" target=\"_parent\"><img src=\"https://colab.research.google.com/assets/colab-badge.svg\" alt=\"Open In Colab\"/></a>"
      ]
    },
    {
      "cell_type": "markdown",
      "source": [
        "# 대소문자 변환 메서드\n",
        "\n",
        ": 문자열에만 적용 가능한 메서드\n",
        "\n"
      ],
      "metadata": {
        "id": "N2i6FSYAGLNC"
      }
    },
    {
      "cell_type": "markdown",
      "source": [
        "### upper / lower / title / capitalize"
      ],
      "metadata": {
        "id": "4VNPFihqQSp6"
      }
    },
    {
      "cell_type": "code",
      "execution_count": 1,
      "metadata": {
        "id": "c3FJl9y-GI-T"
      },
      "outputs": [],
      "source": [
        "s = ' i like programming'"
      ]
    },
    {
      "cell_type": "code",
      "source": [
        "s.upper()\n",
        "\n",
        "# 문자열의 모든 문자가 대문자로 변환됨"
      ],
      "metadata": {
        "colab": {
          "base_uri": "https://localhost:8080/",
          "height": 36
        },
        "id": "37xloBySH8Oi",
        "outputId": "f414f11f-e5d4-487e-cf2f-b296f9a10ffd"
      },
      "execution_count": 2,
      "outputs": [
        {
          "output_type": "execute_result",
          "data": {
            "text/plain": [
              "' I LIKE PROGRAMMING'"
            ],
            "application/vnd.google.colaboratory.intrinsic+json": {
              "type": "string"
            }
          },
          "metadata": {},
          "execution_count": 2
        }
      ]
    },
    {
      "cell_type": "code",
      "source": [
        "s.lower()\n",
        "\n",
        "# 문자열의 모든 문자가 소문자로 변환됨"
      ],
      "metadata": {
        "colab": {
          "base_uri": "https://localhost:8080/",
          "height": 36
        },
        "id": "2f2ev2btJGQI",
        "outputId": "5b21b22b-6c98-48ea-eb28-ace81f58dde7"
      },
      "execution_count": 3,
      "outputs": [
        {
          "output_type": "execute_result",
          "data": {
            "text/plain": [
              "' i like programming'"
            ],
            "application/vnd.google.colaboratory.intrinsic+json": {
              "type": "string"
            }
          },
          "metadata": {},
          "execution_count": 3
        }
      ]
    },
    {
      "cell_type": "code",
      "source": [
        "s. title()\n",
        "\n",
        "# 어휘의 첫글자가 대문자로 변환 (나머지는 소문자로)"
      ],
      "metadata": {
        "colab": {
          "base_uri": "https://localhost:8080/",
          "height": 36
        },
        "id": "V_xpmTZ4JLiY",
        "outputId": "e30a6bec-46ff-4562-c079-301d75e83d3f"
      },
      "execution_count": 4,
      "outputs": [
        {
          "output_type": "execute_result",
          "data": {
            "text/plain": [
              "' I Like Programming'"
            ],
            "application/vnd.google.colaboratory.intrinsic+json": {
              "type": "string"
            }
          },
          "metadata": {},
          "execution_count": 4
        }
      ]
    },
    {
      "cell_type": "code",
      "source": [
        "s.capitalize()\n",
        "\n",
        "# 문자열의 첫 글자만 대문자로 변환 (나머지는 소문자로)"
      ],
      "metadata": {
        "colab": {
          "base_uri": "https://localhost:8080/",
          "height": 36
        },
        "id": "44DX2TaMJStB",
        "outputId": "e06d8892-5831-435e-c3bc-aace7a1de31f"
      },
      "execution_count": 5,
      "outputs": [
        {
          "output_type": "execute_result",
          "data": {
            "text/plain": [
              "' i like programming'"
            ],
            "application/vnd.google.colaboratory.intrinsic+json": {
              "type": "string"
            }
          },
          "metadata": {},
          "execution_count": 5
        }
      ]
    },
    {
      "cell_type": "code",
      "source": [
        "txt = \"36 is my age.\""
      ],
      "metadata": {
        "id": "xztGXKYFJvRW"
      },
      "execution_count": 6,
      "outputs": []
    },
    {
      "cell_type": "code",
      "source": [
        "txt.upper()"
      ],
      "metadata": {
        "colab": {
          "base_uri": "https://localhost:8080/",
          "height": 36
        },
        "id": "P1tNiYhOJ0G1",
        "outputId": "b7431910-c668-4bb3-f920-7a0cd8de850d"
      },
      "execution_count": 7,
      "outputs": [
        {
          "output_type": "execute_result",
          "data": {
            "text/plain": [
              "'36 IS MY AGE.'"
            ],
            "application/vnd.google.colaboratory.intrinsic+json": {
              "type": "string"
            }
          },
          "metadata": {},
          "execution_count": 7
        }
      ]
    },
    {
      "cell_type": "code",
      "source": [
        "txt.capitalize()"
      ],
      "metadata": {
        "colab": {
          "base_uri": "https://localhost:8080/",
          "height": 36
        },
        "id": "FM9lgYJSJ5mJ",
        "outputId": "6919efbc-e6da-4e40-af9f-1b1e18db968c"
      },
      "execution_count": 8,
      "outputs": [
        {
          "output_type": "execute_result",
          "data": {
            "text/plain": [
              "'36 is my age.'"
            ],
            "application/vnd.google.colaboratory.intrinsic+json": {
              "type": "string"
            }
          },
          "metadata": {},
          "execution_count": 8
        }
      ]
    },
    {
      "cell_type": "code",
      "source": [
        "txt.title()"
      ],
      "metadata": {
        "colab": {
          "base_uri": "https://localhost:8080/",
          "height": 36
        },
        "id": "vmO4cu5_J98X",
        "outputId": "28814323-73a8-4659-f96f-2185c331afa2"
      },
      "execution_count": 9,
      "outputs": [
        {
          "output_type": "execute_result",
          "data": {
            "text/plain": [
              "'36 Is My Age.'"
            ],
            "application/vnd.google.colaboratory.intrinsic+json": {
              "type": "string"
            }
          },
          "metadata": {},
          "execution_count": 9
        }
      ]
    },
    {
      "cell_type": "code",
      "source": [
        "s.title().upper().capitalize()\n",
        "\n",
        "\n",
        "# 메소드에 의한 출력값의 data type이 무엇인지에 따라 그 뒤에 어떤 메소드가 올 수 있는지 결정됨"
      ],
      "metadata": {
        "colab": {
          "base_uri": "https://localhost:8080/",
          "height": 36
        },
        "id": "O2omIiTEKEmY",
        "outputId": "1a213083-ec87-4c9d-d241-2c3142c5cc78"
      },
      "execution_count": 10,
      "outputs": [
        {
          "output_type": "execute_result",
          "data": {
            "text/plain": [
              "' i like programming'"
            ],
            "application/vnd.google.colaboratory.intrinsic+json": {
              "type": "string"
            }
          },
          "metadata": {},
          "execution_count": 10
        }
      ]
    },
    {
      "cell_type": "markdown",
      "source": [
        "### title vs. capitalize"
      ],
      "metadata": {
        "id": "Ia8gz51GKWCE"
      }
    },
    {
      "cell_type": "code",
      "source": [
        "\"they're bill's friends from the UK\".title()\n",
        "\n",
        "\n",
        "# 인용부호 뒤의 문자도 어휘 시작으로 인식"
      ],
      "metadata": {
        "colab": {
          "base_uri": "https://localhost:8080/",
          "height": 36
        },
        "id": "sVcfKYMLKYMM",
        "outputId": "22d80194-9213-48c3-f14d-b60b83486977"
      },
      "execution_count": 11,
      "outputs": [
        {
          "output_type": "execute_result",
          "data": {
            "text/plain": [
              "\"They'Re Bill'S Friends From The Uk\""
            ],
            "application/vnd.google.colaboratory.intrinsic+json": {
              "type": "string"
            }
          },
          "metadata": {},
          "execution_count": 11
        }
      ]
    },
    {
      "cell_type": "code",
      "source": [
        "\"they're bill's friends from the UK\".capitalize()"
      ],
      "metadata": {
        "colab": {
          "base_uri": "https://localhost:8080/",
          "height": 36
        },
        "id": "3-C1fL60Kh3O",
        "outputId": "c68083d7-51d4-49fa-ca51-b5488645e2b5"
      },
      "execution_count": 12,
      "outputs": [
        {
          "output_type": "execute_result",
          "data": {
            "text/plain": [
              "\"They're bill's friends from the uk\""
            ],
            "application/vnd.google.colaboratory.intrinsic+json": {
              "type": "string"
            }
          },
          "metadata": {},
          "execution_count": 12
        }
      ]
    },
    {
      "cell_type": "code",
      "source": [
        "\"30years\".title()\n",
        "\n",
        "# 숫자 뒤에 연속해서 나타나는 문자도 어휘의 시작으로 인식"
      ],
      "metadata": {
        "colab": {
          "base_uri": "https://localhost:8080/",
          "height": 36
        },
        "id": "3F-VTKyJKniJ",
        "outputId": "38206183-3355-4bb3-925d-942887b3c9d0"
      },
      "execution_count": 13,
      "outputs": [
        {
          "output_type": "execute_result",
          "data": {
            "text/plain": [
              "'30Years'"
            ],
            "application/vnd.google.colaboratory.intrinsic+json": {
              "type": "string"
            }
          },
          "metadata": {},
          "execution_count": 13
        }
      ]
    },
    {
      "cell_type": "code",
      "source": [
        "\"30years\".capitalize()\n",
        "\n",
        "\n",
        "# 숫자 뒤에 연속해서 나오는 문자는 문자열의 첫 시작으로 보지 않음"
      ],
      "metadata": {
        "colab": {
          "base_uri": "https://localhost:8080/",
          "height": 36
        },
        "id": "-Bo2r_7jKwSc",
        "outputId": "f3a957e3-d67e-4323-9ef3-1f214eb2db77"
      },
      "execution_count": 14,
      "outputs": [
        {
          "output_type": "execute_result",
          "data": {
            "text/plain": [
              "'30years'"
            ],
            "application/vnd.google.colaboratory.intrinsic+json": {
              "type": "string"
            }
          },
          "metadata": {},
          "execution_count": 14
        }
      ]
    },
    {
      "cell_type": "code",
      "source": [
        "\"30Years\".capitalize()"
      ],
      "metadata": {
        "colab": {
          "base_uri": "https://localhost:8080/",
          "height": 36
        },
        "id": "3Fh8_vfHcZsL",
        "outputId": "0d3f8098-a141-4820-ba0b-7a6b98a9a527"
      },
      "execution_count": 15,
      "outputs": [
        {
          "output_type": "execute_result",
          "data": {
            "text/plain": [
              "'30years'"
            ],
            "application/vnd.google.colaboratory.intrinsic+json": {
              "type": "string"
            }
          },
          "metadata": {},
          "execution_count": 15
        }
      ]
    },
    {
      "cell_type": "markdown",
      "source": [
        "# 검색 관련 메소드\n",
        "\n",
        ": 문자열에만 적용 가능한 메소드"
      ],
      "metadata": {
        "id": "AV8vzchzL85O"
      }
    },
    {
      "cell_type": "code",
      "source": [
        "s = 'i like programming.'"
      ],
      "metadata": {
        "id": "OX_a198hMBDr"
      },
      "execution_count": 16,
      "outputs": []
    },
    {
      "cell_type": "markdown",
      "source": [
        "#### count"
      ],
      "metadata": {
        "id": "e3WXZ-jwOmCF"
      }
    },
    {
      "cell_type": "code",
      "source": [
        "s.count('i')\n",
        "\n",
        "# 문자열에 논항의 값이 몇개 포함되어있는지 \"숫자값\"으로 출력"
      ],
      "metadata": {
        "colab": {
          "base_uri": "https://localhost:8080/"
        },
        "id": "mEwlYChnMSFZ",
        "outputId": "34f1ac0a-d837-4fbe-e8c4-ea2f2157b9b4"
      },
      "execution_count": 17,
      "outputs": [
        {
          "output_type": "execute_result",
          "data": {
            "text/plain": [
              "3"
            ]
          },
          "metadata": {},
          "execution_count": 17
        }
      ]
    },
    {
      "cell_type": "code",
      "source": [
        "s.count('ik')"
      ],
      "metadata": {
        "colab": {
          "base_uri": "https://localhost:8080/"
        },
        "id": "jUavzyHCMa6r",
        "outputId": "7b759c7a-5463-44ee-da96-df50e7197907"
      },
      "execution_count": 18,
      "outputs": [
        {
          "output_type": "execute_result",
          "data": {
            "text/plain": [
              "1"
            ]
          },
          "metadata": {},
          "execution_count": 18
        }
      ]
    },
    {
      "cell_type": "code",
      "source": [
        "s.count('i', 2)"
      ],
      "metadata": {
        "colab": {
          "base_uri": "https://localhost:8080/"
        },
        "id": "3EitwWbUd7qT",
        "outputId": "ccd1a8be-e542-422a-f35d-3bf50d2e1c1d"
      },
      "execution_count": 19,
      "outputs": [
        {
          "output_type": "execute_result",
          "data": {
            "text/plain": [
              "2"
            ]
          },
          "metadata": {},
          "execution_count": 19
        }
      ]
    },
    {
      "cell_type": "code",
      "source": [
        "s.count('i', 5)"
      ],
      "metadata": {
        "colab": {
          "base_uri": "https://localhost:8080/"
        },
        "id": "w1TRAO7keAcD",
        "outputId": "22df2544-7cd7-4bff-c29b-f6482141908e"
      },
      "execution_count": 20,
      "outputs": [
        {
          "output_type": "execute_result",
          "data": {
            "text/plain": [
              "1"
            ]
          },
          "metadata": {},
          "execution_count": 20
        }
      ]
    },
    {
      "cell_type": "code",
      "source": [
        "s.count('i', 2, 10)\n",
        "\n",
        "# s.count('찾을문자열', '몇번째 이후부터', '몇번째 이전까지')"
      ],
      "metadata": {
        "colab": {
          "base_uri": "https://localhost:8080/"
        },
        "id": "CdAeYBlneDqq",
        "outputId": "ac8fc958-212e-4237-ac47-c6c929451fe1"
      },
      "execution_count": 21,
      "outputs": [
        {
          "output_type": "execute_result",
          "data": {
            "text/plain": [
              "1"
            ]
          },
          "metadata": {},
          "execution_count": 21
        }
      ]
    },
    {
      "cell_type": "markdown",
      "source": [
        "#### find"
      ],
      "metadata": {
        "id": "IoxIWMxXOoMu"
      }
    },
    {
      "cell_type": "code",
      "source": [
        "s.find('i')\n",
        "\n",
        "# 논항에 들어있는 문자열의 index값 출력 - 왼쪽부터 검색해서 가장 먼저 나오는 것의 index 값 출력"
      ],
      "metadata": {
        "id": "RmYT3SraMd2y",
        "colab": {
          "base_uri": "https://localhost:8080/"
        },
        "outputId": "d90f9258-fd5e-4967-8a8f-52abfa54b3da"
      },
      "execution_count": 22,
      "outputs": [
        {
          "output_type": "execute_result",
          "data": {
            "text/plain": [
              "0"
            ]
          },
          "metadata": {},
          "execution_count": 22
        }
      ]
    },
    {
      "cell_type": "code",
      "source": [
        "s.find('li')"
      ],
      "metadata": {
        "colab": {
          "base_uri": "https://localhost:8080/"
        },
        "id": "b0oo0OCHMm7Y",
        "outputId": "bc216eaf-d96e-456c-b50a-2d5884e2dd32"
      },
      "execution_count": 23,
      "outputs": [
        {
          "output_type": "execute_result",
          "data": {
            "text/plain": [
              "2"
            ]
          },
          "metadata": {},
          "execution_count": 23
        }
      ]
    },
    {
      "cell_type": "code",
      "source": [
        "s.find('i', 3)\n",
        "\n",
        "# 두번째 논항: 몇 번째 index부터 검색할 것인지"
      ],
      "metadata": {
        "colab": {
          "base_uri": "https://localhost:8080/"
        },
        "id": "WwqmaDCPMpIp",
        "outputId": "17535a84-0483-4b3d-b8df-7f2838def561"
      },
      "execution_count": 24,
      "outputs": [
        {
          "output_type": "execute_result",
          "data": {
            "text/plain": [
              "3"
            ]
          },
          "metadata": {},
          "execution_count": 24
        }
      ]
    },
    {
      "cell_type": "code",
      "source": [
        "s.find('i', 0)"
      ],
      "metadata": {
        "colab": {
          "base_uri": "https://localhost:8080/"
        },
        "id": "DhZRwdK7MwyC",
        "outputId": "e5c084e6-1584-48c3-c312-05302f0c12b1"
      },
      "execution_count": 25,
      "outputs": [
        {
          "output_type": "execute_result",
          "data": {
            "text/plain": [
              "0"
            ]
          },
          "metadata": {},
          "execution_count": 25
        }
      ]
    },
    {
      "cell_type": "code",
      "source": [
        "s.find('j')\n",
        "\n",
        "# 문자열에 해당 값이 없는 경우 -1 출력"
      ],
      "metadata": {
        "colab": {
          "base_uri": "https://localhost:8080/"
        },
        "id": "8iZCrHv3M2cz",
        "outputId": "2c07c3bd-2986-440c-bd3a-71cd0cd4bc98"
      },
      "execution_count": 26,
      "outputs": [
        {
          "output_type": "execute_result",
          "data": {
            "text/plain": [
              "-1"
            ]
          },
          "metadata": {},
          "execution_count": 26
        }
      ]
    },
    {
      "cell_type": "code",
      "source": [
        "s.rfind('i')\n",
        "\n",
        "# 오른쪽부터 검색"
      ],
      "metadata": {
        "id": "0ue1whpANqVB",
        "colab": {
          "base_uri": "https://localhost:8080/"
        },
        "outputId": "60c62a2f-1eb2-4db1-fe9b-735dd7d4b66a"
      },
      "execution_count": 27,
      "outputs": [
        {
          "output_type": "execute_result",
          "data": {
            "text/plain": [
              "15"
            ]
          },
          "metadata": {},
          "execution_count": 27
        }
      ]
    },
    {
      "cell_type": "code",
      "source": [
        "s.lfind('i')\n",
        "\n",
        "# 왼쪽부터 검색이 디폴트이므로 lfind 메소드는 없음 "
      ],
      "metadata": {
        "colab": {
          "base_uri": "https://localhost:8080/",
          "height": 206
        },
        "id": "JtaK9dMmNxIb",
        "outputId": "a599aa13-052d-4c95-df6b-70f4d1fd889e"
      },
      "execution_count": 28,
      "outputs": [
        {
          "output_type": "error",
          "ename": "AttributeError",
          "evalue": "ignored",
          "traceback": [
            "\u001b[0;31m---------------------------------------------------------------------------\u001b[0m",
            "\u001b[0;31mAttributeError\u001b[0m                            Traceback (most recent call last)",
            "\u001b[0;32m<ipython-input-28-caec239e1f1f>\u001b[0m in \u001b[0;36m<module>\u001b[0;34m\u001b[0m\n\u001b[0;32m----> 1\u001b[0;31m \u001b[0ms\u001b[0m\u001b[0;34m.\u001b[0m\u001b[0mlfind\u001b[0m\u001b[0;34m(\u001b[0m\u001b[0;34m'i'\u001b[0m\u001b[0;34m)\u001b[0m\u001b[0;34m\u001b[0m\u001b[0;34m\u001b[0m\u001b[0m\n\u001b[0m\u001b[1;32m      2\u001b[0m \u001b[0;34m\u001b[0m\u001b[0m\n\u001b[1;32m      3\u001b[0m \u001b[0;31m# 왼쪽부터 검색이 디폴트이므로 lfind 메소드는 없음\u001b[0m\u001b[0;34m\u001b[0m\u001b[0;34m\u001b[0m\u001b[0;34m\u001b[0m\u001b[0m\n",
            "\u001b[0;31mAttributeError\u001b[0m: 'str' object has no attribute 'lfind'"
          ]
        }
      ]
    },
    {
      "cell_type": "code",
      "source": [
        "s.find('i', 4, len(s))\n",
        "\n",
        "\n",
        "# 세번째 논항: 몇번째 index 까지 검색할 것인지 (끝번호 포함x)"
      ],
      "metadata": {
        "id": "nc14-u21Ow2s",
        "colab": {
          "base_uri": "https://localhost:8080/"
        },
        "outputId": "bd159087-20e0-4227-a2d9-1581de554ea6"
      },
      "execution_count": 29,
      "outputs": [
        {
          "output_type": "execute_result",
          "data": {
            "text/plain": [
              "15"
            ]
          },
          "metadata": {},
          "execution_count": 29
        }
      ]
    },
    {
      "cell_type": "code",
      "source": [
        "s.rfind('i', 1, 3)\n",
        "\n",
        "\n",
        "# 값 찾을 수 없음"
      ],
      "metadata": {
        "colab": {
          "base_uri": "https://localhost:8080/"
        },
        "id": "UuUDDTVfP8s6",
        "outputId": "13287495-840a-4b36-ca24-b530f03cbfb1"
      },
      "execution_count": 30,
      "outputs": [
        {
          "output_type": "execute_result",
          "data": {
            "text/plain": [
              "-1"
            ]
          },
          "metadata": {},
          "execution_count": 30
        }
      ]
    },
    {
      "cell_type": "code",
      "source": [
        "s.rfind('i', 1, 4)"
      ],
      "metadata": {
        "colab": {
          "base_uri": "https://localhost:8080/"
        },
        "id": "kQEb0jEtQDj2",
        "outputId": "235a0da4-9604-4f50-f2de-16101b501c12"
      },
      "execution_count": 31,
      "outputs": [
        {
          "output_type": "execute_result",
          "data": {
            "text/plain": [
              "3"
            ]
          },
          "metadata": {},
          "execution_count": 31
        }
      ]
    },
    {
      "cell_type": "markdown",
      "source": [
        "#### **index**"
      ],
      "metadata": {
        "id": "4bFNkWvOOqn_"
      }
    },
    {
      "cell_type": "code",
      "source": [
        "s.index('i')\n",
        "\n",
        "# 논항에 들어있는 문자열의 index값 출력 - 왼쪽부터 검색해서 가장 먼저 나오는 것의 index 값 출력"
      ],
      "metadata": {
        "colab": {
          "base_uri": "https://localhost:8080/"
        },
        "id": "3s55E_-qM7j9",
        "outputId": "2adf68df-884c-4626-cb11-4e01201bc10a"
      },
      "execution_count": 32,
      "outputs": [
        {
          "output_type": "execute_result",
          "data": {
            "text/plain": [
              "0"
            ]
          },
          "metadata": {},
          "execution_count": 32
        }
      ]
    },
    {
      "cell_type": "code",
      "source": [
        "s.index('li')"
      ],
      "metadata": {
        "colab": {
          "base_uri": "https://localhost:8080/"
        },
        "id": "ixTx094nOK3R",
        "outputId": "68aa7904-de84-4996-990c-f95cdbee6073"
      },
      "execution_count": 33,
      "outputs": [
        {
          "output_type": "execute_result",
          "data": {
            "text/plain": [
              "2"
            ]
          },
          "metadata": {},
          "execution_count": 33
        }
      ]
    },
    {
      "cell_type": "code",
      "source": [
        "s.index('i', 1)\n",
        "\n",
        "# 두번째 논항: 몇 번째 index부터 검색할 것인지"
      ],
      "metadata": {
        "colab": {
          "base_uri": "https://localhost:8080/"
        },
        "id": "inX2sLBxOP1a",
        "outputId": "461a4ca8-65e1-49c5-f42f-6c2121781157"
      },
      "execution_count": 34,
      "outputs": [
        {
          "output_type": "execute_result",
          "data": {
            "text/plain": [
              "3"
            ]
          },
          "metadata": {},
          "execution_count": 34
        }
      ]
    },
    {
      "cell_type": "code",
      "source": [
        "s.index('i', 0)"
      ],
      "metadata": {
        "colab": {
          "base_uri": "https://localhost:8080/"
        },
        "id": "1Ihlc-ucOUMb",
        "outputId": "7b11a11e-66cd-4cca-c8bb-c27b9ebf16f5"
      },
      "execution_count": 35,
      "outputs": [
        {
          "output_type": "execute_result",
          "data": {
            "text/plain": [
              "0"
            ]
          },
          "metadata": {},
          "execution_count": 35
        }
      ]
    },
    {
      "cell_type": "code",
      "source": [
        "a.index('j')\n",
        "\n",
        "# index 메소드는 문자열에 값이 없는 경우 error 발생"
      ],
      "metadata": {
        "id": "egDNSJTBOaBR",
        "colab": {
          "base_uri": "https://localhost:8080/",
          "height": 206
        },
        "outputId": "5c021d5a-c5a6-4733-9532-80ee4664fdee"
      },
      "execution_count": 36,
      "outputs": [
        {
          "output_type": "error",
          "ename": "NameError",
          "evalue": "ignored",
          "traceback": [
            "\u001b[0;31m---------------------------------------------------------------------------\u001b[0m",
            "\u001b[0;31mNameError\u001b[0m                                 Traceback (most recent call last)",
            "\u001b[0;32m<ipython-input-36-fcc153c61eb1>\u001b[0m in \u001b[0;36m<module>\u001b[0;34m\u001b[0m\n\u001b[0;32m----> 1\u001b[0;31m \u001b[0ma\u001b[0m\u001b[0;34m.\u001b[0m\u001b[0mindex\u001b[0m\u001b[0;34m(\u001b[0m\u001b[0;34m'j'\u001b[0m\u001b[0;34m)\u001b[0m\u001b[0;34m\u001b[0m\u001b[0;34m\u001b[0m\u001b[0m\n\u001b[0m\u001b[1;32m      2\u001b[0m \u001b[0;34m\u001b[0m\u001b[0m\n\u001b[1;32m      3\u001b[0m \u001b[0;31m# index 메소드는 문자열에 값이 없는 경우 error 발생\u001b[0m\u001b[0;34m\u001b[0m\u001b[0;34m\u001b[0m\u001b[0;34m\u001b[0m\u001b[0m\n",
            "\u001b[0;31mNameError\u001b[0m: name 'a' is not defined"
          ]
        }
      ]
    },
    {
      "cell_type": "code",
      "source": [
        "s.rindex('i')"
      ],
      "metadata": {
        "colab": {
          "base_uri": "https://localhost:8080/"
        },
        "id": "0ADDGXL1PSWK",
        "outputId": "0ef18474-3436-4984-afe4-558f3e5133d2"
      },
      "execution_count": 38,
      "outputs": [
        {
          "output_type": "execute_result",
          "data": {
            "text/plain": [
              "15"
            ]
          },
          "metadata": {},
          "execution_count": 38
        }
      ]
    },
    {
      "cell_type": "code",
      "source": [
        "s.lindex('i')"
      ],
      "metadata": {
        "colab": {
          "base_uri": "https://localhost:8080/",
          "height": 170
        },
        "id": "sEyB9OQlPVjQ",
        "outputId": "62d807eb-8493-47c1-cfbe-e6c583040f93"
      },
      "execution_count": 39,
      "outputs": [
        {
          "output_type": "error",
          "ename": "AttributeError",
          "evalue": "ignored",
          "traceback": [
            "\u001b[0;31m---------------------------------------------------------------------------\u001b[0m",
            "\u001b[0;31mAttributeError\u001b[0m                            Traceback (most recent call last)",
            "\u001b[0;32m<ipython-input-39-530261cc18c7>\u001b[0m in \u001b[0;36m<module>\u001b[0;34m\u001b[0m\n\u001b[0;32m----> 1\u001b[0;31m \u001b[0ms\u001b[0m\u001b[0;34m.\u001b[0m\u001b[0mlindex\u001b[0m\u001b[0;34m(\u001b[0m\u001b[0;34m'i'\u001b[0m\u001b[0;34m)\u001b[0m\u001b[0;34m\u001b[0m\u001b[0;34m\u001b[0m\u001b[0m\n\u001b[0m",
            "\u001b[0;31mAttributeError\u001b[0m: 'str' object has no attribute 'lindex'"
          ]
        }
      ]
    },
    {
      "cell_type": "code",
      "source": [
        "s.index('i', 4, len(s))"
      ],
      "metadata": {
        "colab": {
          "base_uri": "https://localhost:8080/"
        },
        "id": "EYBL9LGEPbI8",
        "outputId": "af912602-55a0-4c46-ab13-9402f05ebf5b"
      },
      "execution_count": 47,
      "outputs": [
        {
          "output_type": "execute_result",
          "data": {
            "text/plain": [
              "15"
            ]
          },
          "metadata": {},
          "execution_count": 47
        }
      ]
    },
    {
      "cell_type": "code",
      "source": [
        "s.index('i', 16, len(s))\n",
        "\n",
        "\n",
        "# 두번째논항과 세번째논항으로 정한 범위 안에 i가 없으므로 오류 발생"
      ],
      "metadata": {
        "colab": {
          "base_uri": "https://localhost:8080/",
          "height": 224
        },
        "id": "MKt2X1DUPkTr",
        "outputId": "0d5a0cb5-e7a7-4b11-9f00-506033575907"
      },
      "execution_count": 48,
      "outputs": [
        {
          "output_type": "error",
          "ename": "ValueError",
          "evalue": "ignored",
          "traceback": [
            "\u001b[0;31m---------------------------------------------------------------------------\u001b[0m",
            "\u001b[0;31mValueError\u001b[0m                                Traceback (most recent call last)",
            "\u001b[0;32m<ipython-input-48-5d6670e9e29a>\u001b[0m in \u001b[0;36m<module>\u001b[0;34m\u001b[0m\n\u001b[0;32m----> 1\u001b[0;31m \u001b[0ms\u001b[0m\u001b[0;34m.\u001b[0m\u001b[0mindex\u001b[0m\u001b[0;34m(\u001b[0m\u001b[0;34m'i'\u001b[0m\u001b[0;34m,\u001b[0m \u001b[0;36m16\u001b[0m\u001b[0;34m,\u001b[0m \u001b[0mlen\u001b[0m\u001b[0;34m(\u001b[0m\u001b[0ms\u001b[0m\u001b[0;34m)\u001b[0m\u001b[0;34m)\u001b[0m\u001b[0;34m\u001b[0m\u001b[0;34m\u001b[0m\u001b[0m\n\u001b[0m\u001b[1;32m      2\u001b[0m \u001b[0;34m\u001b[0m\u001b[0m\n\u001b[1;32m      3\u001b[0m \u001b[0;34m\u001b[0m\u001b[0m\n\u001b[1;32m      4\u001b[0m \u001b[0;31m# 두번째논항과 세번째논항으로 정한 범위 안에 i가 없으므로 오류 발생\u001b[0m\u001b[0;34m\u001b[0m\u001b[0;34m\u001b[0m\u001b[0;34m\u001b[0m\u001b[0m\n",
            "\u001b[0;31mValueError\u001b[0m: substring not found"
          ]
        }
      ]
    },
    {
      "cell_type": "code",
      "source": [
        "s.rindex('i', 1, 4)"
      ],
      "metadata": {
        "colab": {
          "base_uri": "https://localhost:8080/"
        },
        "id": "_QWHlNmKQJpX",
        "outputId": "c421aee8-1423-4a14-b9ee-139efc764b1f"
      },
      "execution_count": 68,
      "outputs": [
        {
          "output_type": "execute_result",
          "data": {
            "text/plain": [
              "3"
            ]
          },
          "metadata": {},
          "execution_count": 68
        }
      ]
    },
    {
      "cell_type": "markdown",
      "source": [
        "#### endswith"
      ],
      "metadata": {
        "id": "Cj1SCKgpQamd"
      }
    },
    {
      "cell_type": "code",
      "source": [
        "s = 'i like programming.'"
      ],
      "metadata": {
        "id": "OpVzk14FQiGR"
      },
      "execution_count": 69,
      "outputs": []
    },
    {
      "cell_type": "code",
      "source": [
        "s.endswith('g.')\n",
        "\n",
        "# bool type 값 출력"
      ],
      "metadata": {
        "colab": {
          "base_uri": "https://localhost:8080/"
        },
        "id": "_SGN5_0dQk1S",
        "outputId": "64ec9e4b-1c4b-4a5f-bb67-440f237bf9cb"
      },
      "execution_count": 70,
      "outputs": [
        {
          "output_type": "execute_result",
          "data": {
            "text/plain": [
              "True"
            ]
          },
          "metadata": {},
          "execution_count": 70
        }
      ]
    },
    {
      "cell_type": "code",
      "source": [
        "s.endswith('ng')"
      ],
      "metadata": {
        "colab": {
          "base_uri": "https://localhost:8080/"
        },
        "id": "4SSsL7vsQsXM",
        "outputId": "f43dc15e-2057-4b49-f92d-4ea14559ee6f"
      },
      "execution_count": 71,
      "outputs": [
        {
          "output_type": "execute_result",
          "data": {
            "text/plain": [
              "False"
            ]
          },
          "metadata": {},
          "execution_count": 71
        }
      ]
    },
    {
      "cell_type": "markdown",
      "source": [
        "#### startswith"
      ],
      "metadata": {
        "id": "VOfOemG2Qw3x"
      }
    },
    {
      "cell_type": "code",
      "source": [
        "s.startswith('i l')"
      ],
      "metadata": {
        "colab": {
          "base_uri": "https://localhost:8080/"
        },
        "id": "0oMCks6JQzjy",
        "outputId": "51165cf7-66a6-485f-a7d1-cb3463dad3ac"
      },
      "execution_count": 72,
      "outputs": [
        {
          "output_type": "execute_result",
          "data": {
            "text/plain": [
              "True"
            ]
          },
          "metadata": {},
          "execution_count": 72
        }
      ]
    },
    {
      "cell_type": "code",
      "source": [
        "s.startswith('il')"
      ],
      "metadata": {
        "colab": {
          "base_uri": "https://localhost:8080/"
        },
        "id": "degNNEbQQ5Rf",
        "outputId": "99b67b53-ea30-4b19-991e-e9d50e270816"
      },
      "execution_count": 73,
      "outputs": [
        {
          "output_type": "execute_result",
          "data": {
            "text/plain": [
              "False"
            ]
          },
          "metadata": {},
          "execution_count": 73
        }
      ]
    },
    {
      "cell_type": "markdown",
      "source": [
        "#### 메소드의 출력값 인식하는 것 중요"
      ],
      "metadata": {
        "id": "YRFmmN3lQ9kj"
      }
    },
    {
      "cell_type": "code",
      "source": [
        "s.find('i').count(0)\n",
        "\n",
        "# count는 문자열 메소드인데 find의 출력값의 data type이 숫자이므로 오류"
      ],
      "metadata": {
        "id": "jbAQwAMPRAYk",
        "colab": {
          "base_uri": "https://localhost:8080/",
          "height": 206
        },
        "outputId": "e2d1f128-52d6-463d-b5eb-b1a98e499029"
      },
      "execution_count": 74,
      "outputs": [
        {
          "output_type": "error",
          "ename": "AttributeError",
          "evalue": "ignored",
          "traceback": [
            "\u001b[0;31m---------------------------------------------------------------------------\u001b[0m",
            "\u001b[0;31mAttributeError\u001b[0m                            Traceback (most recent call last)",
            "\u001b[0;32m<ipython-input-74-7a4b14e812e6>\u001b[0m in \u001b[0;36m<module>\u001b[0;34m\u001b[0m\n\u001b[0;32m----> 1\u001b[0;31m \u001b[0ms\u001b[0m\u001b[0;34m.\u001b[0m\u001b[0mfind\u001b[0m\u001b[0;34m(\u001b[0m\u001b[0;34m'i'\u001b[0m\u001b[0;34m)\u001b[0m\u001b[0;34m.\u001b[0m\u001b[0mcount\u001b[0m\u001b[0;34m(\u001b[0m\u001b[0;36m0\u001b[0m\u001b[0;34m)\u001b[0m\u001b[0;34m\u001b[0m\u001b[0;34m\u001b[0m\u001b[0m\n\u001b[0m\u001b[1;32m      2\u001b[0m \u001b[0;34m\u001b[0m\u001b[0m\n\u001b[1;32m      3\u001b[0m \u001b[0;31m# count는 문자열 메소드인데 find의 출력값의 data type이 숫자이므로 오류\u001b[0m\u001b[0;34m\u001b[0m\u001b[0;34m\u001b[0m\u001b[0;34m\u001b[0m\u001b[0m\n",
            "\u001b[0;31mAttributeError\u001b[0m: 'int' object has no attribute 'count'"
          ]
        }
      ]
    },
    {
      "cell_type": "code",
      "source": [
        "s.count('i').find(3)\n",
        "\n",
        "# find는 문자열 메소드인데 count 출력값의 data type이 숫자이므로 오류"
      ],
      "metadata": {
        "id": "H7SQHDcpRDVL",
        "colab": {
          "base_uri": "https://localhost:8080/",
          "height": 206
        },
        "outputId": "6fbe7f9f-ef54-4241-c9bc-6e8b7a29dcbe"
      },
      "execution_count": 75,
      "outputs": [
        {
          "output_type": "error",
          "ename": "AttributeError",
          "evalue": "ignored",
          "traceback": [
            "\u001b[0;31m---------------------------------------------------------------------------\u001b[0m",
            "\u001b[0;31mAttributeError\u001b[0m                            Traceback (most recent call last)",
            "\u001b[0;32m<ipython-input-75-951d319c6fe0>\u001b[0m in \u001b[0;36m<module>\u001b[0;34m\u001b[0m\n\u001b[0;32m----> 1\u001b[0;31m \u001b[0ms\u001b[0m\u001b[0;34m.\u001b[0m\u001b[0mcount\u001b[0m\u001b[0;34m(\u001b[0m\u001b[0;34m'i'\u001b[0m\u001b[0;34m)\u001b[0m\u001b[0;34m.\u001b[0m\u001b[0mfind\u001b[0m\u001b[0;34m(\u001b[0m\u001b[0;36m3\u001b[0m\u001b[0;34m)\u001b[0m\u001b[0;34m\u001b[0m\u001b[0;34m\u001b[0m\u001b[0m\n\u001b[0m\u001b[1;32m      2\u001b[0m \u001b[0;34m\u001b[0m\u001b[0m\n\u001b[1;32m      3\u001b[0m \u001b[0;31m# find는 문자열 메소드인데 count 출력값의 data type이 숫자이므로 오류\u001b[0m\u001b[0;34m\u001b[0m\u001b[0;34m\u001b[0m\u001b[0;34m\u001b[0m\u001b[0m\n",
            "\u001b[0;31mAttributeError\u001b[0m: 'int' object has no attribute 'find'"
          ]
        }
      ]
    },
    {
      "cell_type": "code",
      "source": [
        "s.upper().count('i')\n",
        "\n",
        "# upper의 출력값의 data type이 문자열이므로 count 메소드 적용 가능"
      ],
      "metadata": {
        "id": "FID6_lhERQSr",
        "colab": {
          "base_uri": "https://localhost:8080/"
        },
        "outputId": "025930af-336c-419d-feed-74f018eab966"
      },
      "execution_count": 76,
      "outputs": [
        {
          "output_type": "execute_result",
          "data": {
            "text/plain": [
              "0"
            ]
          },
          "metadata": {},
          "execution_count": 76
        }
      ]
    },
    {
      "cell_type": "code",
      "source": [
        "s.upper().find('l')"
      ],
      "metadata": {
        "id": "4rWdru2dRayP",
        "colab": {
          "base_uri": "https://localhost:8080/"
        },
        "outputId": "af53fd5a-e7bb-4024-a3c7-24c924973f3e"
      },
      "execution_count": 77,
      "outputs": [
        {
          "output_type": "execute_result",
          "data": {
            "text/plain": [
              "-1"
            ]
          },
          "metadata": {},
          "execution_count": 77
        }
      ]
    },
    {
      "cell_type": "code",
      "source": [
        "s.upper().rfind('l')"
      ],
      "metadata": {
        "id": "wtdTzfg6RcnJ",
        "colab": {
          "base_uri": "https://localhost:8080/"
        },
        "outputId": "c47bdc55-61b2-4781-f28e-3c55afcc23eb"
      },
      "execution_count": 78,
      "outputs": [
        {
          "output_type": "execute_result",
          "data": {
            "text/plain": [
              "-1"
            ]
          },
          "metadata": {},
          "execution_count": 78
        }
      ]
    },
    {
      "cell_type": "markdown",
      "source": [
        "# 문자 유형 판별 메소드\n",
        "\n",
        "* 출력값은 bool type\n",
        "* 문자열에만 적용 가능한 메소드"
      ],
      "metadata": {
        "id": "if97GHoURjZE"
      }
    },
    {
      "cell_type": "markdown",
      "source": [
        "#### isalnum\n",
        "\n",
        ": Returns True if all characters in the string are alphanumeric. (알파벳 또는 수치값)"
      ],
      "metadata": {
        "id": "eXRvJLTMT8P3"
      }
    },
    {
      "cell_type": "markdown",
      "source": [
        "#### isalpha\n",
        ": Returns True if all characters in the string are alphabet.\n",
        "\n",
        "* 알파벳에는 자연어 문자 전체가 포함됨 (한글 등도 다 포함)\n"
      ],
      "metadata": {
        "id": "QlFnRzMIUNZJ"
      }
    },
    {
      "cell_type": "code",
      "source": [
        "'ab12한글'.isalpha()"
      ],
      "metadata": {
        "colab": {
          "base_uri": "https://localhost:8080/"
        },
        "id": "5simfOi3V9C_",
        "outputId": "0a1145d1-05b0-4456-e72c-a37eaad0f320"
      },
      "execution_count": 79,
      "outputs": [
        {
          "output_type": "execute_result",
          "data": {
            "text/plain": [
              "False"
            ]
          },
          "metadata": {},
          "execution_count": 79
        }
      ]
    },
    {
      "cell_type": "code",
      "source": [
        "'ab한글'.isalpha()"
      ],
      "metadata": {
        "colab": {
          "base_uri": "https://localhost:8080/"
        },
        "id": "PWoGERQLWBiQ",
        "outputId": "f428c1a2-5a28-40f7-fb7d-f968fea08242"
      },
      "execution_count": 80,
      "outputs": [
        {
          "output_type": "execute_result",
          "data": {
            "text/plain": [
              "True"
            ]
          },
          "metadata": {},
          "execution_count": 80
        }
      ]
    },
    {
      "cell_type": "markdown",
      "source": [
        "#### isdigit\n",
        ": Returns True if all characters in the string are digits."
      ],
      "metadata": {
        "id": "ie90-WxgURe8"
      }
    },
    {
      "cell_type": "markdown",
      "source": [
        "#### islower\n",
        ": Returns True if all characters in the string are lower case."
      ],
      "metadata": {
        "id": "s-BKGyGUUTCB"
      }
    },
    {
      "cell_type": "markdown",
      "source": [
        "#### isupper\n",
        ": Returns True if all characters in the string are upper case."
      ],
      "metadata": {
        "id": "vjD3W0A0UZN4"
      }
    },
    {
      "cell_type": "markdown",
      "source": [
        "#### isprintable\n",
        ": Returns True if all characters in the string are printable. (whitespaces 외의 문자들)"
      ],
      "metadata": {
        "id": "w7WFAmZ5UUL7"
      }
    },
    {
      "cell_type": "code",
      "source": [
        "'12ab;'.isprintable()"
      ],
      "metadata": {
        "colab": {
          "base_uri": "https://localhost:8080/"
        },
        "id": "Y4NQpZkoWO7l",
        "outputId": "48f4fc39-8802-43f2-dc38-f7ad2e79c169"
      },
      "execution_count": 81,
      "outputs": [
        {
          "output_type": "execute_result",
          "data": {
            "text/plain": [
              "True"
            ]
          },
          "metadata": {},
          "execution_count": 81
        }
      ]
    },
    {
      "cell_type": "code",
      "source": [
        "'12ab;\\n'.isprintable()"
      ],
      "metadata": {
        "colab": {
          "base_uri": "https://localhost:8080/"
        },
        "id": "wk8AW5_4WSSo",
        "outputId": "81b310d5-5bd0-44b9-ff4c-8b8e7d74e77a"
      },
      "execution_count": 82,
      "outputs": [
        {
          "output_type": "execute_result",
          "data": {
            "text/plain": [
              "False"
            ]
          },
          "metadata": {},
          "execution_count": 82
        }
      ]
    },
    {
      "cell_type": "markdown",
      "source": [
        "#### isspace\n",
        ": Returns True if all characters in the string are whitespaces."
      ],
      "metadata": {
        "id": "W_alwTvkUVeE"
      }
    },
    {
      "cell_type": "code",
      "source": [
        "' \\t\\n'.isspace()"
      ],
      "metadata": {
        "colab": {
          "base_uri": "https://localhost:8080/"
        },
        "id": "S9WXQVo9WWCT",
        "outputId": "ed971646-11ea-4753-931c-cad44421501a"
      },
      "execution_count": 83,
      "outputs": [
        {
          "output_type": "execute_result",
          "data": {
            "text/plain": [
              "True"
            ]
          },
          "metadata": {},
          "execution_count": 83
        }
      ]
    },
    {
      "cell_type": "code",
      "source": [
        "' \\t\\nab'.isspace()"
      ],
      "metadata": {
        "colab": {
          "base_uri": "https://localhost:8080/"
        },
        "id": "VFbfLfmiWYsg",
        "outputId": "82e92c38-a498-4ebc-9ba2-5eddbd9748ed"
      },
      "execution_count": 84,
      "outputs": [
        {
          "output_type": "execute_result",
          "data": {
            "text/plain": [
              "False"
            ]
          },
          "metadata": {},
          "execution_count": 84
        }
      ]
    },
    {
      "cell_type": "markdown",
      "source": [
        "#### istitle\n",
        ": Returns True if the string follows the rules of a title."
      ],
      "metadata": {
        "id": "VdXaTZ9uUW3N"
      }
    },
    {
      "cell_type": "markdown",
      "source": [
        "# 제거메서드"
      ],
      "metadata": {
        "id": "z_8G6rfpWeOM"
      }
    },
    {
      "cell_type": "markdown",
      "source": [
        "#### strip"
      ],
      "metadata": {
        "id": "_A_9c1L9WfeX"
      }
    },
    {
      "cell_type": "code",
      "source": [
        "u = '\\tspam\\n and ham\\n '"
      ],
      "metadata": {
        "id": "4BkW8LgMWhjq"
      },
      "execution_count": 85,
      "outputs": []
    },
    {
      "cell_type": "code",
      "source": [
        "print(u)"
      ],
      "metadata": {
        "id": "qrLTvYvnWmnL",
        "colab": {
          "base_uri": "https://localhost:8080/"
        },
        "outputId": "efbfbded-c3a2-4afd-d990-d5dbd20e7424"
      },
      "execution_count": 86,
      "outputs": [
        {
          "output_type": "stream",
          "name": "stdout",
          "text": [
            "\tspam\n",
            " and ham\n",
            " \n"
          ]
        }
      ]
    },
    {
      "cell_type": "code",
      "source": [
        "u.strip()\n",
        "\n",
        "\n",
        "# 논항이 없을 때: 양끝의 whitespaces의 연쇄를 일괄적으로 제거"
      ],
      "metadata": {
        "colab": {
          "base_uri": "https://localhost:8080/",
          "height": 36
        },
        "id": "W9p-alt0WncY",
        "outputId": "f055d425-9428-4075-9d6e-2dde1a498e04"
      },
      "execution_count": 87,
      "outputs": [
        {
          "output_type": "execute_result",
          "data": {
            "text/plain": [
              "'spam\\n and ham'"
            ],
            "application/vnd.google.colaboratory.intrinsic+json": {
              "type": "string"
            }
          },
          "metadata": {},
          "execution_count": 87
        }
      ]
    },
    {
      "cell_type": "code",
      "source": [
        "u.rstrip()\n",
        "\n",
        "# 오른쪽의 whitespaces의 연쇄만 제거"
      ],
      "metadata": {
        "id": "Igu0wKwiWt_N",
        "colab": {
          "base_uri": "https://localhost:8080/",
          "height": 36
        },
        "outputId": "3d1e0148-6907-4234-bca2-27e4d5323131"
      },
      "execution_count": 88,
      "outputs": [
        {
          "output_type": "execute_result",
          "data": {
            "text/plain": [
              "'\\tspam\\n and ham'"
            ],
            "application/vnd.google.colaboratory.intrinsic+json": {
              "type": "string"
            }
          },
          "metadata": {},
          "execution_count": 88
        }
      ]
    },
    {
      "cell_type": "code",
      "source": [
        "u.lstrip()\n",
        "\n",
        "# 왼쪽의 whitespaces의 연쇄만 제거"
      ],
      "metadata": {
        "id": "qRc21N03W1Ci",
        "colab": {
          "base_uri": "https://localhost:8080/",
          "height": 36
        },
        "outputId": "11f6b705-4025-4c37-fe69-b7f52b27e729"
      },
      "execution_count": 89,
      "outputs": [
        {
          "output_type": "execute_result",
          "data": {
            "text/plain": [
              "'spam\\n and ham\\n '"
            ],
            "application/vnd.google.colaboratory.intrinsic+json": {
              "type": "string"
            }
          },
          "metadata": {},
          "execution_count": 89
        }
      ]
    },
    {
      "cell_type": "code",
      "source": [
        "k = '><<ab<><><<\\t\\n'"
      ],
      "metadata": {
        "id": "1QA4aNhGXCtH"
      },
      "execution_count": 90,
      "outputs": []
    },
    {
      "cell_type": "code",
      "source": [
        "k.strip('><')\n",
        "\n",
        "# 논항이 있을 때: 논항 내의 문자가 양쪽 끝에 있는 경우 해당 문자들의 연쇄를 일괄적으로 제거"
      ],
      "metadata": {
        "colab": {
          "base_uri": "https://localhost:8080/",
          "height": 36
        },
        "id": "m_Adxri4XPo-",
        "outputId": "4046d3a2-9934-49fb-ff87-6f536cefdbb1"
      },
      "execution_count": 91,
      "outputs": [
        {
          "output_type": "execute_result",
          "data": {
            "text/plain": [
              "'ab<><><<\\t\\n'"
            ],
            "application/vnd.google.colaboratory.intrinsic+json": {
              "type": "string"
            }
          },
          "metadata": {},
          "execution_count": 91
        }
      ]
    },
    {
      "cell_type": "code",
      "source": [
        "k.strip('\\t\\n<>')\n",
        "\n",
        "# 논항 내의 문자는 따로 봐야 함. (문자열 내에 논항 값이 순서 그대로 있어야 제거할 수 있는 것 x)"
      ],
      "metadata": {
        "id": "nepwmEYsXdNS",
        "colab": {
          "base_uri": "https://localhost:8080/",
          "height": 36
        },
        "outputId": "6a85a468-6f37-44e8-c006-4d84c3ca0395"
      },
      "execution_count": 92,
      "outputs": [
        {
          "output_type": "execute_result",
          "data": {
            "text/plain": [
              "'ab'"
            ],
            "application/vnd.google.colaboratory.intrinsic+json": {
              "type": "string"
            }
          },
          "metadata": {},
          "execution_count": 92
        }
      ]
    },
    {
      "cell_type": "code",
      "source": [
        "'www.example.com'.strip('cmxwoaz.')"
      ],
      "metadata": {
        "colab": {
          "base_uri": "https://localhost:8080/",
          "height": 36
        },
        "id": "qYmPD7ZjXp75",
        "outputId": "2f3834d3-b2be-49e3-c83b-431d381faee2"
      },
      "execution_count": 93,
      "outputs": [
        {
          "output_type": "execute_result",
          "data": {
            "text/plain": [
              "'example'"
            ],
            "application/vnd.google.colaboratory.intrinsic+json": {
              "type": "string"
            }
          },
          "metadata": {},
          "execution_count": 93
        }
      ]
    },
    {
      "cell_type": "markdown",
      "source": [
        "# 치환 메소드 (replace method)"
      ],
      "metadata": {
        "id": "pRDq1oarXvrM"
      }
    },
    {
      "cell_type": "code",
      "source": [
        "u = 'spam and ham'"
      ],
      "metadata": {
        "id": "SOE104roXyPv"
      },
      "execution_count": 94,
      "outputs": []
    },
    {
      "cell_type": "code",
      "source": [
        "u.replace('spam and', '스팸')\n",
        "\n",
        "# 첫번째 논항에는 '찾을 문자열', 두번째 논항에는 '바뀐결과 문자열'"
      ],
      "metadata": {
        "id": "vGC5cNxpXzwt",
        "colab": {
          "base_uri": "https://localhost:8080/",
          "height": 36
        },
        "outputId": "0a7115de-fdf8-47ca-c596-5dfa089e6c34"
      },
      "execution_count": 95,
      "outputs": [
        {
          "output_type": "execute_result",
          "data": {
            "text/plain": [
              "'스팸 ham'"
            ],
            "application/vnd.google.colaboratory.intrinsic+json": {
              "type": "string"
            }
          },
          "metadata": {},
          "execution_count": 95
        }
      ]
    },
    {
      "cell_type": "code",
      "source": [
        "u.replace('a', 'A', 1)\n",
        "\n",
        "\n",
        "# 첫번째 'A'까지를 'a'로 치환\n",
        "# u.replace(a, b, c)에서 문자열 내에서 c번째까지의 b를 a로 치환"
      ],
      "metadata": {
        "id": "hLrqIMytX-2_",
        "outputId": "11d565f7-c9f7-4cfb-bcb0-049d02f28867",
        "colab": {
          "base_uri": "https://localhost:8080/",
          "height": 36
        }
      },
      "execution_count": 96,
      "outputs": [
        {
          "output_type": "execute_result",
          "data": {
            "text/plain": [
              "'spAm and ham'"
            ],
            "application/vnd.google.colaboratory.intrinsic+json": {
              "type": "string"
            }
          },
          "metadata": {},
          "execution_count": 96
        }
      ]
    },
    {
      "cell_type": "code",
      "source": [
        "u.replace('a', 'A', 2)\n",
        "\n",
        "\n",
        "# 두번째 'A'까지를 'a'로 치환"
      ],
      "metadata": {
        "id": "SZ8oLK0FYdIE",
        "outputId": "f0917096-ae68-4bf9-e570-0fb5dd98748a",
        "colab": {
          "base_uri": "https://localhost:8080/",
          "height": 36
        }
      },
      "execution_count": 97,
      "outputs": [
        {
          "output_type": "execute_result",
          "data": {
            "text/plain": [
              "'spAm And ham'"
            ],
            "application/vnd.google.colaboratory.intrinsic+json": {
              "type": "string"
            }
          },
          "metadata": {},
          "execution_count": 97
        }
      ]
    },
    {
      "cell_type": "markdown",
      "source": [
        "# 문자열을 리스트로 분리하는 메소드"
      ],
      "metadata": {
        "id": "Zv1xUu38YrxT"
      }
    },
    {
      "cell_type": "markdown",
      "source": [
        "#### split\n",
        "\n",
        "* 문자열 적용 메소드\n",
        "* 출력값은 리스트"
      ],
      "metadata": {
        "id": "q0nKHiB9YvmS"
      }
    },
    {
      "cell_type": "code",
      "source": [
        "u = '\\tspam\\n and ham\\n '"
      ],
      "metadata": {
        "id": "MoSC4977YrQy"
      },
      "execution_count": 98,
      "outputs": []
    },
    {
      "cell_type": "code",
      "source": [
        "u.split()\n",
        "\n",
        "# 논항이 없을 때: \n",
        "# 1) 양 끝쪽 whitespaces의 연쇄를 제거\n",
        "# 2) 문자 사이사이의 whitespaces의 연쇄가 구분자로 작용하여 문자열을 리스트의 원소로 분리시킴 (구분자는 사라짐)"
      ],
      "metadata": {
        "colab": {
          "base_uri": "https://localhost:8080/"
        },
        "id": "3Nly1SW4Y3gx",
        "outputId": "3ce36e31-30de-41a5-893d-e8b5afd7a5f3"
      },
      "execution_count": 99,
      "outputs": [
        {
          "output_type": "execute_result",
          "data": {
            "text/plain": [
              "['spam', 'and', 'ham']"
            ]
          },
          "metadata": {},
          "execution_count": 99
        }
      ]
    },
    {
      "cell_type": "code",
      "source": [
        "u.split(' ')\n",
        "\n",
        "# 논항이 있을 때: 논항 내의 문자가 구분자 역할을 해서 리스트의 원소로 문자열 분리 (구분자는 사라짐)"
      ],
      "metadata": {
        "colab": {
          "base_uri": "https://localhost:8080/"
        },
        "id": "G5Yk_rfmZK6A",
        "outputId": "c86ba4f5-fca1-4292-98fc-39b8a5a5652e"
      },
      "execution_count": 100,
      "outputs": [
        {
          "output_type": "execute_result",
          "data": {
            "text/plain": [
              "['\\tspam\\n', 'and', 'ham\\n', '']"
            ]
          },
          "metadata": {},
          "execution_count": 100
        }
      ]
    },
    {
      "cell_type": "code",
      "source": [
        "u.split('\\tspam')"
      ],
      "metadata": {
        "colab": {
          "base_uri": "https://localhost:8080/"
        },
        "id": "a_nDQdvOZXwe",
        "outputId": "2b42acb1-1cc1-4318-9b5b-387b26fecbd2"
      },
      "execution_count": 101,
      "outputs": [
        {
          "output_type": "execute_result",
          "data": {
            "text/plain": [
              "['', '\\n and ham\\n ']"
            ]
          },
          "metadata": {},
          "execution_count": 101
        }
      ]
    },
    {
      "cell_type": "code",
      "source": [
        "u.split('\\t\\n')"
      ],
      "metadata": {
        "colab": {
          "base_uri": "https://localhost:8080/"
        },
        "id": "3JZi6E0SZce0",
        "outputId": "387e0ea3-e562-4ab4-f0fd-c03117026658"
      },
      "execution_count": 102,
      "outputs": [
        {
          "output_type": "execute_result",
          "data": {
            "text/plain": [
              "['\\tspam\\n and ham\\n ']"
            ]
          },
          "metadata": {},
          "execution_count": 102
        }
      ]
    },
    {
      "cell_type": "code",
      "source": [
        "u.split('wn', 1)\n",
        "\n",
        "\n",
        "# 두번째 논항: 왼쪽으로부터 몇번째까지를 분리할 것인지 나타냄"
      ],
      "metadata": {
        "colab": {
          "base_uri": "https://localhost:8080/"
        },
        "id": "GJg5JPJkZg7l",
        "outputId": "72b87db3-21ff-40ab-bebe-adfbdd235c59"
      },
      "execution_count": 103,
      "outputs": [
        {
          "output_type": "execute_result",
          "data": {
            "text/plain": [
              "['\\tspam\\n and ham\\n ']"
            ]
          },
          "metadata": {},
          "execution_count": 103
        }
      ]
    },
    {
      "cell_type": "code",
      "source": [
        "u.split('\\n', 2)"
      ],
      "metadata": {
        "colab": {
          "base_uri": "https://localhost:8080/"
        },
        "id": "k6OQ6yXWZ4TD",
        "outputId": "fc1cd599-faee-48c4-8637-486220095e73"
      },
      "execution_count": 104,
      "outputs": [
        {
          "output_type": "execute_result",
          "data": {
            "text/plain": [
              "['\\tspam', ' and ham', ' ']"
            ]
          },
          "metadata": {},
          "execution_count": 104
        }
      ]
    },
    {
      "cell_type": "code",
      "source": [
        "u.split('wn', 3)"
      ],
      "metadata": {
        "colab": {
          "base_uri": "https://localhost:8080/"
        },
        "id": "6nlU5wH-Z7To",
        "outputId": "07d1bf29-71a3-4c91-d9a3-7f32b78be0a2"
      },
      "execution_count": 105,
      "outputs": [
        {
          "output_type": "execute_result",
          "data": {
            "text/plain": [
              "['\\tspam\\n and ham\\n ']"
            ]
          },
          "metadata": {},
          "execution_count": 105
        }
      ]
    },
    {
      "cell_type": "code",
      "source": [
        "u.split('wn', -1)\n",
        "\n",
        "# 두번째 논항의 default값이 -1 (= -1인 경우 문자열 전체를 구분자를 통해 분리)"
      ],
      "metadata": {
        "id": "5wgAhKKCZvV4",
        "colab": {
          "base_uri": "https://localhost:8080/"
        },
        "outputId": "ad864ba0-6f7a-4431-d37f-f0c593799786"
      },
      "execution_count": 106,
      "outputs": [
        {
          "output_type": "execute_result",
          "data": {
            "text/plain": [
              "['\\tspam\\n and ham\\n ']"
            ]
          },
          "metadata": {},
          "execution_count": 106
        }
      ]
    },
    {
      "cell_type": "code",
      "source": [
        "u.split('\\n')"
      ],
      "metadata": {
        "colab": {
          "base_uri": "https://localhost:8080/"
        },
        "id": "1xULRUnkZ9fv",
        "outputId": "285d8394-3b6c-4f74-c6de-82be2c776385"
      },
      "execution_count": 107,
      "outputs": [
        {
          "output_type": "execute_result",
          "data": {
            "text/plain": [
              "['\\tspam', ' and ham', ' ']"
            ]
          },
          "metadata": {},
          "execution_count": 107
        }
      ]
    },
    {
      "cell_type": "code",
      "source": [
        "u.rsplit('\\n')\n",
        "\n",
        "# 오른쪽부터 분리"
      ],
      "metadata": {
        "id": "oPIwwFR1aITY",
        "colab": {
          "base_uri": "https://localhost:8080/"
        },
        "outputId": "483752c1-41db-4aac-8a07-c2a462d24c28"
      },
      "execution_count": 108,
      "outputs": [
        {
          "output_type": "execute_result",
          "data": {
            "text/plain": [
              "['\\tspam', ' and ham', ' ']"
            ]
          },
          "metadata": {},
          "execution_count": 108
        }
      ]
    },
    {
      "cell_type": "code",
      "source": [
        "u.rsplit('\\n', 1)\n",
        "\n",
        "# 오른쪽에서부터 첫번째까지만 분리"
      ],
      "metadata": {
        "id": "IXuUyXNmaLtV",
        "colab": {
          "base_uri": "https://localhost:8080/"
        },
        "outputId": "ed563015-2875-40ef-d2c7-885062f04d1f"
      },
      "execution_count": 109,
      "outputs": [
        {
          "output_type": "execute_result",
          "data": {
            "text/plain": [
              "['\\tspam\\n and ham', ' ']"
            ]
          },
          "metadata": {},
          "execution_count": 109
        }
      ]
    },
    {
      "cell_type": "code",
      "source": [
        "u.rsplit('wn', 2)"
      ],
      "metadata": {
        "colab": {
          "base_uri": "https://localhost:8080/"
        },
        "id": "I0_pZEs_akLT",
        "outputId": "2c8955f3-c0a0-4e0a-989e-49ee3a66c021"
      },
      "execution_count": 110,
      "outputs": [
        {
          "output_type": "execute_result",
          "data": {
            "text/plain": [
              "['\\tspam\\n and ham\\n ']"
            ]
          },
          "metadata": {},
          "execution_count": 110
        }
      ]
    },
    {
      "cell_type": "code",
      "source": [
        "u.rsplit('wn', 1, 3)\n",
        "\n",
        "# split은 세번째 논항 없음!"
      ],
      "metadata": {
        "colab": {
          "base_uri": "https://localhost:8080/",
          "height": 206
        },
        "id": "DiZTVVZ0aSGH",
        "outputId": "8b219d3c-1bbd-41ad-9931-eb05fd04886d"
      },
      "execution_count": 111,
      "outputs": [
        {
          "output_type": "error",
          "ename": "TypeError",
          "evalue": "ignored",
          "traceback": [
            "\u001b[0;31m---------------------------------------------------------------------------\u001b[0m",
            "\u001b[0;31mTypeError\u001b[0m                                 Traceback (most recent call last)",
            "\u001b[0;32m<ipython-input-111-0193fc2678bd>\u001b[0m in \u001b[0;36m<module>\u001b[0;34m\u001b[0m\n\u001b[0;32m----> 1\u001b[0;31m \u001b[0mu\u001b[0m\u001b[0;34m.\u001b[0m\u001b[0mrsplit\u001b[0m\u001b[0;34m(\u001b[0m\u001b[0;34m'wn'\u001b[0m\u001b[0;34m,\u001b[0m \u001b[0;36m1\u001b[0m\u001b[0;34m,\u001b[0m \u001b[0;36m3\u001b[0m\u001b[0;34m)\u001b[0m\u001b[0;34m\u001b[0m\u001b[0;34m\u001b[0m\u001b[0m\n\u001b[0m\u001b[1;32m      2\u001b[0m \u001b[0;34m\u001b[0m\u001b[0m\n\u001b[1;32m      3\u001b[0m \u001b[0;31m# split은 세번째 논항 없음!\u001b[0m\u001b[0;34m\u001b[0m\u001b[0;34m\u001b[0m\u001b[0;34m\u001b[0m\u001b[0m\n",
            "\u001b[0;31mTypeError\u001b[0m: rsplit() takes at most 2 arguments (3 given)"
          ]
        }
      ]
    },
    {
      "cell_type": "code",
      "source": [
        "u.lsplit()\n",
        "\n",
        "\n",
        "# split은 default가 왼쪽부터 이므로 lsplit 없음 "
      ],
      "metadata": {
        "colab": {
          "base_uri": "https://localhost:8080/",
          "height": 224
        },
        "id": "3D6sDenmaR_d",
        "outputId": "d2d20f28-81ea-4a8d-bec4-b0ffda7dfeb8"
      },
      "execution_count": 112,
      "outputs": [
        {
          "output_type": "error",
          "ename": "AttributeError",
          "evalue": "ignored",
          "traceback": [
            "\u001b[0;31m---------------------------------------------------------------------------\u001b[0m",
            "\u001b[0;31mAttributeError\u001b[0m                            Traceback (most recent call last)",
            "\u001b[0;32m<ipython-input-112-712cfca38bab>\u001b[0m in \u001b[0;36m<module>\u001b[0;34m\u001b[0m\n\u001b[0;32m----> 1\u001b[0;31m \u001b[0mu\u001b[0m\u001b[0;34m.\u001b[0m\u001b[0mlsplit\u001b[0m\u001b[0;34m(\u001b[0m\u001b[0;34m)\u001b[0m\u001b[0;34m\u001b[0m\u001b[0;34m\u001b[0m\u001b[0m\n\u001b[0m\u001b[1;32m      2\u001b[0m \u001b[0;34m\u001b[0m\u001b[0m\n\u001b[1;32m      3\u001b[0m \u001b[0;34m\u001b[0m\u001b[0m\n\u001b[1;32m      4\u001b[0m \u001b[0;31m# split은 default가 왼쪽부터 이므로 lsplit 없음\u001b[0m\u001b[0;34m\u001b[0m\u001b[0;34m\u001b[0m\u001b[0;34m\u001b[0m\u001b[0m\n",
            "\u001b[0;31mAttributeError\u001b[0m: 'str' object has no attribute 'lsplit'"
          ]
        }
      ]
    },
    {
      "cell_type": "markdown",
      "source": [
        "#### splitlines\n",
        "* '\\n'만 구분자로 사용 가능\n",
        "* 문자열을 리스트로 분리"
      ],
      "metadata": {
        "id": "u3ksNmd-a2Hh"
      }
    },
    {
      "cell_type": "code",
      "source": [
        "u = '\\tspam\\n and ham\\n '"
      ],
      "metadata": {
        "id": "xMzpVM2baW1-"
      },
      "execution_count": 113,
      "outputs": []
    },
    {
      "cell_type": "code",
      "source": [
        "u.splitlines()"
      ],
      "metadata": {
        "colab": {
          "base_uri": "https://localhost:8080/"
        },
        "id": "n7TFNc0Xa9wF",
        "outputId": "88b06cd6-a102-44be-e818-5c996e16b21a"
      },
      "execution_count": 114,
      "outputs": [
        {
          "output_type": "execute_result",
          "data": {
            "text/plain": [
              "['\\tspam', ' and ham', ' ']"
            ]
          },
          "metadata": {},
          "execution_count": 114
        }
      ]
    },
    {
      "cell_type": "code",
      "source": [
        "u.splitlines(False)\n",
        "\n",
        "\n",
        "# 논항 내 False가 default 값"
      ],
      "metadata": {
        "id": "kdONFNxsbD3X",
        "colab": {
          "base_uri": "https://localhost:8080/"
        },
        "outputId": "e933e83e-5d26-4790-afe6-f6017e4e85ab"
      },
      "execution_count": 115,
      "outputs": [
        {
          "output_type": "execute_result",
          "data": {
            "text/plain": [
              "['\\tspam', ' and ham', ' ']"
            ]
          },
          "metadata": {},
          "execution_count": 115
        }
      ]
    },
    {
      "cell_type": "code",
      "source": [
        "u.splitlines(True)\n",
        "\n",
        "\n",
        "# 논항에 True를 적어주면 구분자 '\\n'이 선행하는 문자열 뒤에 붙어서 출력됨 "
      ],
      "metadata": {
        "colab": {
          "base_uri": "https://localhost:8080/"
        },
        "id": "AKXb_HK2bJBZ",
        "outputId": "df733297-a11e-4832-fe97-ca9222686b0e"
      },
      "execution_count": 116,
      "outputs": [
        {
          "output_type": "execute_result",
          "data": {
            "text/plain": [
              "['\\tspam\\n', ' and ham\\n', ' ']"
            ]
          },
          "metadata": {},
          "execution_count": 116
        }
      ]
    },
    {
      "cell_type": "code",
      "source": [
        "u.lsplitlines()\n",
        "\n",
        "# lsplitlines는 존재하지 않음"
      ],
      "metadata": {
        "id": "NsLrYyy7bUlq",
        "colab": {
          "base_uri": "https://localhost:8080/",
          "height": 206
        },
        "outputId": "113b1c8a-cdd1-4743-cd74-4fbb412608c7"
      },
      "execution_count": 117,
      "outputs": [
        {
          "output_type": "error",
          "ename": "AttributeError",
          "evalue": "ignored",
          "traceback": [
            "\u001b[0;31m---------------------------------------------------------------------------\u001b[0m",
            "\u001b[0;31mAttributeError\u001b[0m                            Traceback (most recent call last)",
            "\u001b[0;32m<ipython-input-117-9fceb987af7d>\u001b[0m in \u001b[0;36m<module>\u001b[0;34m\u001b[0m\n\u001b[0;32m----> 1\u001b[0;31m \u001b[0mu\u001b[0m\u001b[0;34m.\u001b[0m\u001b[0mlsplitlines\u001b[0m\u001b[0;34m(\u001b[0m\u001b[0;34m)\u001b[0m\u001b[0;34m\u001b[0m\u001b[0;34m\u001b[0m\u001b[0m\n\u001b[0m\u001b[1;32m      2\u001b[0m \u001b[0;34m\u001b[0m\u001b[0m\n\u001b[1;32m      3\u001b[0m \u001b[0;31m# lsplitlines는 존재하지 않음\u001b[0m\u001b[0;34m\u001b[0m\u001b[0;34m\u001b[0m\u001b[0;34m\u001b[0m\u001b[0m\n",
            "\u001b[0;31mAttributeError\u001b[0m: 'str' object has no attribute 'lsplitlines'"
          ]
        }
      ]
    },
    {
      "cell_type": "code",
      "source": [
        "u.rsplitlines()\n",
        "\n",
        "# rsplitlines는 존재하지 않음 "
      ],
      "metadata": {
        "id": "WQUkXR9bbVzh",
        "colab": {
          "base_uri": "https://localhost:8080/",
          "height": 206
        },
        "outputId": "17da2a60-2a64-4856-d887-439a74826958"
      },
      "execution_count": 118,
      "outputs": [
        {
          "output_type": "error",
          "ename": "AttributeError",
          "evalue": "ignored",
          "traceback": [
            "\u001b[0;31m---------------------------------------------------------------------------\u001b[0m",
            "\u001b[0;31mAttributeError\u001b[0m                            Traceback (most recent call last)",
            "\u001b[0;32m<ipython-input-118-1b7e76490044>\u001b[0m in \u001b[0;36m<module>\u001b[0;34m\u001b[0m\n\u001b[0;32m----> 1\u001b[0;31m \u001b[0mu\u001b[0m\u001b[0;34m.\u001b[0m\u001b[0mrsplitlines\u001b[0m\u001b[0;34m(\u001b[0m\u001b[0;34m)\u001b[0m\u001b[0;34m\u001b[0m\u001b[0;34m\u001b[0m\u001b[0m\n\u001b[0m\u001b[1;32m      2\u001b[0m \u001b[0;34m\u001b[0m\u001b[0m\n\u001b[1;32m      3\u001b[0m \u001b[0;31m# rsplitlines는 존재하지 않음\u001b[0m\u001b[0;34m\u001b[0m\u001b[0;34m\u001b[0m\u001b[0;34m\u001b[0m\u001b[0m\n",
            "\u001b[0;31mAttributeError\u001b[0m: 'str' object has no attribute 'rsplitlines'"
          ]
        }
      ]
    },
    {
      "cell_type": "markdown",
      "source": [
        "#### split vs. splitlines"
      ],
      "metadata": {
        "id": "0QeH3bgobklE"
      }
    },
    {
      "cell_type": "code",
      "source": [
        "u = '\\tspam\\n and ham\\n '"
      ],
      "metadata": {
        "id": "UvYhr7PYbmn-"
      },
      "execution_count": 119,
      "outputs": []
    },
    {
      "cell_type": "code",
      "source": [
        "u.splitlines()"
      ],
      "metadata": {
        "id": "IVW3BG_VbqwR",
        "colab": {
          "base_uri": "https://localhost:8080/"
        },
        "outputId": "92021f87-297f-4355-c85e-75db744d3a0c"
      },
      "execution_count": 120,
      "outputs": [
        {
          "output_type": "execute_result",
          "data": {
            "text/plain": [
              "['\\tspam', ' and ham', ' ']"
            ]
          },
          "metadata": {},
          "execution_count": 120
        }
      ]
    },
    {
      "cell_type": "code",
      "source": [
        "u.split()"
      ],
      "metadata": {
        "id": "snMcdMZfbr_j",
        "colab": {
          "base_uri": "https://localhost:8080/"
        },
        "outputId": "77e1474b-a731-4438-88c4-82bd5a802570"
      },
      "execution_count": 121,
      "outputs": [
        {
          "output_type": "execute_result",
          "data": {
            "text/plain": [
              "['spam', 'and', 'ham']"
            ]
          },
          "metadata": {},
          "execution_count": 121
        }
      ]
    },
    {
      "cell_type": "code",
      "source": [
        "u.splitlines(True)"
      ],
      "metadata": {
        "id": "Zwlujglmbtia",
        "colab": {
          "base_uri": "https://localhost:8080/"
        },
        "outputId": "1b66fa4e-3e22-4be7-8958-5e5e8f4796a6"
      },
      "execution_count": 122,
      "outputs": [
        {
          "output_type": "execute_result",
          "data": {
            "text/plain": [
              "['\\tspam\\n', ' and ham\\n', ' ']"
            ]
          },
          "metadata": {},
          "execution_count": 122
        }
      ]
    },
    {
      "cell_type": "code",
      "source": [
        "u.split('\\n')"
      ],
      "metadata": {
        "id": "7tJgh-xWbw3J",
        "colab": {
          "base_uri": "https://localhost:8080/"
        },
        "outputId": "650a71d7-ecc8-4b78-d6f4-f54c0ae15022"
      },
      "execution_count": 123,
      "outputs": [
        {
          "output_type": "execute_result",
          "data": {
            "text/plain": [
              "['\\tspam', ' and ham', ' ']"
            ]
          },
          "metadata": {},
          "execution_count": 123
        }
      ]
    },
    {
      "cell_type": "code",
      "source": [
        "uu = '\\tspam\\n and ham\\n'"
      ],
      "metadata": {
        "id": "HbXctxmHbzJa"
      },
      "execution_count": 124,
      "outputs": []
    },
    {
      "cell_type": "code",
      "source": [
        "uu.splitlines()"
      ],
      "metadata": {
        "colab": {
          "base_uri": "https://localhost:8080/"
        },
        "id": "lHkQiUaJb2Tk",
        "outputId": "d82892ca-8f20-40c0-b661-ee4eb946b8a3"
      },
      "execution_count": 125,
      "outputs": [
        {
          "output_type": "execute_result",
          "data": {
            "text/plain": [
              "['\\tspam', ' and ham']"
            ]
          },
          "metadata": {},
          "execution_count": 125
        }
      ]
    },
    {
      "cell_type": "code",
      "source": [
        "uu.split()\n",
        "\n",
        "# splitlines와 달리 split은 논항이 없는 경우 문자열의 양 끝쪽 whitespaces의 연쇄가 제거됨"
      ],
      "metadata": {
        "colab": {
          "base_uri": "https://localhost:8080/"
        },
        "id": "lh_cMxrrcJkG",
        "outputId": "dbe1bac7-0766-4fdc-8c60-26286fd845c0"
      },
      "execution_count": 126,
      "outputs": [
        {
          "output_type": "execute_result",
          "data": {
            "text/plain": [
              "['spam', 'and', 'ham']"
            ]
          },
          "metadata": {},
          "execution_count": 126
        }
      ]
    },
    {
      "cell_type": "code",
      "source": [
        "uu.splitlines(True)\n",
        "\n",
        "\n",
        "# splitlines는 문자열의 맨 끝이 \\n인 경우에는 해당 \\n이 구분자로 기능하지 않음 (출력 결과에 빈 문자열 원소 출력 x)"
      ],
      "metadata": {
        "colab": {
          "base_uri": "https://localhost:8080/"
        },
        "id": "f-h4KehgccqB",
        "outputId": "bdb25fff-fe64-4b1e-d18e-2d9240a0b7d9"
      },
      "execution_count": 127,
      "outputs": [
        {
          "output_type": "execute_result",
          "data": {
            "text/plain": [
              "['\\tspam\\n', ' and ham\\n']"
            ]
          },
          "metadata": {},
          "execution_count": 127
        }
      ]
    },
    {
      "cell_type": "code",
      "source": [
        "uu.split('\\n')"
      ],
      "metadata": {
        "colab": {
          "base_uri": "https://localhost:8080/"
        },
        "id": "jRqbgtmycVGT",
        "outputId": "b2880dae-bb35-4e17-e910-31cf9e2ab063"
      },
      "execution_count": 128,
      "outputs": [
        {
          "output_type": "execute_result",
          "data": {
            "text/plain": [
              "['\\tspam', ' and ham', '']"
            ]
          },
          "metadata": {},
          "execution_count": 128
        }
      ]
    },
    {
      "cell_type": "markdown",
      "source": [
        "# 문자열을 튜플로 분리\n"
      ],
      "metadata": {
        "id": "xaMMvjXQc2GC"
      }
    },
    {
      "cell_type": "markdown",
      "source": [
        "#### partition\n",
        "* 문자열 적용 메소드이지만 출력값은 튜플 (출력값 살필 때 data type 잘 보고 어떤 메소드 적용된 건지 파악하기)\n",
        "* 하나의 문자열을 크게 3개로 구분되는 튜플로 출력할 때 씀 \n",
        "* 왼쪽부터 검색해서 첫번째 만나는 구분자에서만 문자열 구분"
      ],
      "metadata": {
        "id": "yhG_B90fc4Ub"
      }
    },
    {
      "cell_type": "code",
      "source": [
        "u = '\\tspam\\n and ham\\n '"
      ],
      "metadata": {
        "id": "2ucwIWo3c-I6"
      },
      "execution_count": 129,
      "outputs": []
    },
    {
      "cell_type": "code",
      "source": [
        "u.partition('\\n')"
      ],
      "metadata": {
        "colab": {
          "base_uri": "https://localhost:8080/"
        },
        "id": "ye6AYYyjeJaQ",
        "outputId": "bdd365b5-277b-4204-b35a-a428d65eba52"
      },
      "execution_count": 130,
      "outputs": [
        {
          "output_type": "execute_result",
          "data": {
            "text/plain": [
              "('\\tspam', '\\n', ' and ham\\n ')"
            ]
          },
          "metadata": {},
          "execution_count": 130
        }
      ]
    },
    {
      "cell_type": "code",
      "source": [
        "u.rpartition('\\n')\n",
        "\n",
        "# 오른쪽에서부터 제일 처음 만나는 구분자에서 구분"
      ],
      "metadata": {
        "colab": {
          "base_uri": "https://localhost:8080/"
        },
        "id": "MeW4d5IsekZZ",
        "outputId": "25a23d9f-12ed-4121-b8f5-10d7652e54f5"
      },
      "execution_count": 131,
      "outputs": [
        {
          "output_type": "execute_result",
          "data": {
            "text/plain": [
              "('\\tspam\\n and ham', '\\n', ' ')"
            ]
          },
          "metadata": {},
          "execution_count": 131
        }
      ]
    },
    {
      "cell_type": "code",
      "source": [
        "u.lpartition('wn')\n",
        "\n",
        "#default가 왼쪽부터이므로 lpartition은 존재하지 않음"
      ],
      "metadata": {
        "id": "Y4JUWsr1eo3h",
        "colab": {
          "base_uri": "https://localhost:8080/",
          "height": 206
        },
        "outputId": "1c47b656-779d-4fd6-dcc2-bacd55d07305"
      },
      "execution_count": 132,
      "outputs": [
        {
          "output_type": "error",
          "ename": "AttributeError",
          "evalue": "ignored",
          "traceback": [
            "\u001b[0;31m---------------------------------------------------------------------------\u001b[0m",
            "\u001b[0;31mAttributeError\u001b[0m                            Traceback (most recent call last)",
            "\u001b[0;32m<ipython-input-132-28e132265d5e>\u001b[0m in \u001b[0;36m<module>\u001b[0;34m\u001b[0m\n\u001b[0;32m----> 1\u001b[0;31m \u001b[0mu\u001b[0m\u001b[0;34m.\u001b[0m\u001b[0mlpartition\u001b[0m\u001b[0;34m(\u001b[0m\u001b[0;34m'wn'\u001b[0m\u001b[0;34m)\u001b[0m\u001b[0;34m\u001b[0m\u001b[0;34m\u001b[0m\u001b[0m\n\u001b[0m\u001b[1;32m      2\u001b[0m \u001b[0;34m\u001b[0m\u001b[0m\n\u001b[1;32m      3\u001b[0m \u001b[0;31m#default가 왼쪽부터이므로 lpartition은 존재하지 않음\u001b[0m\u001b[0;34m\u001b[0m\u001b[0;34m\u001b[0m\u001b[0;34m\u001b[0m\u001b[0m\n",
            "\u001b[0;31mAttributeError\u001b[0m: 'str' object has no attribute 'lpartition'"
          ]
        }
      ]
    },
    {
      "cell_type": "code",
      "source": [
        "u.partition()\n",
        "\n",
        "# partition은 논항 없이 사용 불가능"
      ],
      "metadata": {
        "colab": {
          "base_uri": "https://localhost:8080/",
          "height": 206
        },
        "id": "w74vixeleUyn",
        "outputId": "9cfa2b86-db83-4d19-87d7-f84d6df75341"
      },
      "execution_count": 133,
      "outputs": [
        {
          "output_type": "error",
          "ename": "TypeError",
          "evalue": "ignored",
          "traceback": [
            "\u001b[0;31m---------------------------------------------------------------------------\u001b[0m",
            "\u001b[0;31mTypeError\u001b[0m                                 Traceback (most recent call last)",
            "\u001b[0;32m<ipython-input-133-1feb94641efc>\u001b[0m in \u001b[0;36m<module>\u001b[0;34m\u001b[0m\n\u001b[0;32m----> 1\u001b[0;31m \u001b[0mu\u001b[0m\u001b[0;34m.\u001b[0m\u001b[0mpartition\u001b[0m\u001b[0;34m(\u001b[0m\u001b[0;34m)\u001b[0m\u001b[0;34m\u001b[0m\u001b[0;34m\u001b[0m\u001b[0m\n\u001b[0m\u001b[1;32m      2\u001b[0m \u001b[0;34m\u001b[0m\u001b[0m\n\u001b[1;32m      3\u001b[0m \u001b[0;31m# partition은 논항 없이 사용 불가능\u001b[0m\u001b[0;34m\u001b[0m\u001b[0;34m\u001b[0m\u001b[0;34m\u001b[0m\u001b[0m\n",
            "\u001b[0;31mTypeError\u001b[0m: partition() takes exactly one argument (0 given)"
          ]
        }
      ]
    },
    {
      "cell_type": "code",
      "source": [
        "u.partition('wn', 2)\n",
        "\n",
        "# partition은 논항 하나만 사용 가능 "
      ],
      "metadata": {
        "colab": {
          "base_uri": "https://localhost:8080/",
          "height": 206
        },
        "id": "gr4L-grJealR",
        "outputId": "41f5b0de-668a-4698-b027-357410df63d6"
      },
      "execution_count": 134,
      "outputs": [
        {
          "output_type": "error",
          "ename": "TypeError",
          "evalue": "ignored",
          "traceback": [
            "\u001b[0;31m---------------------------------------------------------------------------\u001b[0m",
            "\u001b[0;31mTypeError\u001b[0m                                 Traceback (most recent call last)",
            "\u001b[0;32m<ipython-input-134-9b41d9f527af>\u001b[0m in \u001b[0;36m<module>\u001b[0;34m\u001b[0m\n\u001b[0;32m----> 1\u001b[0;31m \u001b[0mu\u001b[0m\u001b[0;34m.\u001b[0m\u001b[0mpartition\u001b[0m\u001b[0;34m(\u001b[0m\u001b[0;34m'wn'\u001b[0m\u001b[0;34m,\u001b[0m \u001b[0;36m2\u001b[0m\u001b[0;34m)\u001b[0m\u001b[0;34m\u001b[0m\u001b[0;34m\u001b[0m\u001b[0m\n\u001b[0m\u001b[1;32m      2\u001b[0m \u001b[0;34m\u001b[0m\u001b[0m\n\u001b[1;32m      3\u001b[0m \u001b[0;31m# partition은 논항 하나만 사용 가능\u001b[0m\u001b[0;34m\u001b[0m\u001b[0;34m\u001b[0m\u001b[0;34m\u001b[0m\u001b[0m\n",
            "\u001b[0;31mTypeError\u001b[0m: partition() takes exactly one argument (2 given)"
          ]
        }
      ]
    },
    {
      "cell_type": "code",
      "source": [
        "u.rpartition('wn', 2)"
      ],
      "metadata": {
        "colab": {
          "base_uri": "https://localhost:8080/",
          "height": 170
        },
        "id": "ZxFp0tUkeuNg",
        "outputId": "9e52da1c-882b-4b43-9dc7-2619a99acba0"
      },
      "execution_count": 135,
      "outputs": [
        {
          "output_type": "error",
          "ename": "TypeError",
          "evalue": "ignored",
          "traceback": [
            "\u001b[0;31m---------------------------------------------------------------------------\u001b[0m",
            "\u001b[0;31mTypeError\u001b[0m                                 Traceback (most recent call last)",
            "\u001b[0;32m<ipython-input-135-f78c8b3ae1a9>\u001b[0m in \u001b[0;36m<module>\u001b[0;34m\u001b[0m\n\u001b[0;32m----> 1\u001b[0;31m \u001b[0mu\u001b[0m\u001b[0;34m.\u001b[0m\u001b[0mrpartition\u001b[0m\u001b[0;34m(\u001b[0m\u001b[0;34m'wn'\u001b[0m\u001b[0;34m,\u001b[0m \u001b[0;36m2\u001b[0m\u001b[0;34m)\u001b[0m\u001b[0;34m\u001b[0m\u001b[0;34m\u001b[0m\u001b[0m\n\u001b[0m",
            "\u001b[0;31mTypeError\u001b[0m: rpartition() takes exactly one argument (2 given)"
          ]
        }
      ]
    },
    {
      "cell_type": "markdown",
      "source": [
        "# Sequence data를 문자열로 \n",
        "\n",
        ": 튜플, 리스트, 문자열 등의 sequence data의 원소를 하나의 문자열로 연결하여 출력"
      ],
      "metadata": {
        "id": "cpRUNd3ieyFz"
      }
    },
    {
      "cell_type": "markdown",
      "source": [
        "#### join "
      ],
      "metadata": {
        "id": "V5zgP47ge0mx"
      }
    },
    {
      "cell_type": "code",
      "source": [
        "a = 'abc'\n",
        "b = list(a)"
      ],
      "metadata": {
        "id": "JDTvFPoje9bh"
      },
      "execution_count": 136,
      "outputs": []
    },
    {
      "cell_type": "code",
      "source": [
        "''.join(a)\n",
        "\n",
        "# '구분자'.join('문자열')"
      ],
      "metadata": {
        "colab": {
          "base_uri": "https://localhost:8080/",
          "height": 36
        },
        "id": "t9K4o43YfHP5",
        "outputId": "cdb7a2be-f89a-4f44-cf42-6d5319acb9f4"
      },
      "execution_count": 137,
      "outputs": [
        {
          "output_type": "execute_result",
          "data": {
            "text/plain": [
              "'abc'"
            ],
            "application/vnd.google.colaboratory.intrinsic+json": {
              "type": "string"
            }
          },
          "metadata": {},
          "execution_count": 137
        }
      ]
    },
    {
      "cell_type": "code",
      "source": [
        "':'.join(a)"
      ],
      "metadata": {
        "colab": {
          "base_uri": "https://localhost:8080/",
          "height": 36
        },
        "id": "ssfXIeRffBOh",
        "outputId": "3264051a-e904-4cbf-aaf3-3b632ffb5556"
      },
      "execution_count": 138,
      "outputs": [
        {
          "output_type": "execute_result",
          "data": {
            "text/plain": [
              "'a:b:c'"
            ],
            "application/vnd.google.colaboratory.intrinsic+json": {
              "type": "string"
            }
          },
          "metadata": {},
          "execution_count": 138
        }
      ]
    },
    {
      "cell_type": "code",
      "source": [
        "'apple'.join(a)"
      ],
      "metadata": {
        "id": "dRs4A0OIfJsf",
        "colab": {
          "base_uri": "https://localhost:8080/",
          "height": 36
        },
        "outputId": "b6beb9bf-fd68-4a36-8184-d3de4bb9a21d"
      },
      "execution_count": 139,
      "outputs": [
        {
          "output_type": "execute_result",
          "data": {
            "text/plain": [
              "'aapplebapplec'"
            ],
            "application/vnd.google.colaboratory.intrinsic+json": {
              "type": "string"
            }
          },
          "metadata": {},
          "execution_count": 139
        }
      ]
    },
    {
      "cell_type": "code",
      "source": [
        "'apple'.join(b)"
      ],
      "metadata": {
        "id": "jA6yXQU_fRmu",
        "colab": {
          "base_uri": "https://localhost:8080/",
          "height": 36
        },
        "outputId": "7fc2610a-b205-4b6d-87b2-a4a5e5d5e635"
      },
      "execution_count": 140,
      "outputs": [
        {
          "output_type": "execute_result",
          "data": {
            "text/plain": [
              "'aapplebapplec'"
            ],
            "application/vnd.google.colaboratory.intrinsic+json": {
              "type": "string"
            }
          },
          "metadata": {},
          "execution_count": 140
        }
      ]
    },
    {
      "cell_type": "code",
      "source": [
        "'\\n'.join(a)"
      ],
      "metadata": {
        "colab": {
          "base_uri": "https://localhost:8080/",
          "height": 36
        },
        "id": "_7_sn_NHfZmu",
        "outputId": "2eb0a267-fc10-4dba-95d7-cf49f88e2dd4"
      },
      "execution_count": 141,
      "outputs": [
        {
          "output_type": "execute_result",
          "data": {
            "text/plain": [
              "'a\\nb\\nc'"
            ],
            "application/vnd.google.colaboratory.intrinsic+json": {
              "type": "string"
            }
          },
          "metadata": {},
          "execution_count": 141
        }
      ]
    },
    {
      "cell_type": "code",
      "source": [
        "print('\\n'.join(a))"
      ],
      "metadata": {
        "colab": {
          "base_uri": "https://localhost:8080/"
        },
        "id": "f26kLheffT1c",
        "outputId": "c9071503-f2ee-4171-a93a-cd587ea461be"
      },
      "execution_count": 142,
      "outputs": [
        {
          "output_type": "stream",
          "name": "stdout",
          "text": [
            "a\n",
            "b\n",
            "c\n"
          ]
        }
      ]
    }
  ]
}