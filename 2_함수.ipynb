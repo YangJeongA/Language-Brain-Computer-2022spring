{
  "nbformat": 4,
  "nbformat_minor": 0,
  "metadata": {
    "colab": {
      "provenance": [],
      "include_colab_link": true
    },
    "kernelspec": {
      "name": "python3",
      "display_name": "Python 3"
    },
    "language_info": {
      "name": "python"
    }
  },
  "cells": [
    {
      "cell_type": "markdown",
      "metadata": {
        "id": "view-in-github",
        "colab_type": "text"
      },
      "source": [
        "<a href=\"https://colab.research.google.com/github/YangJeongA/Language-Brain-Computer-2022spring/blob/main/2_%ED%95%A8%EC%88%98.ipynb\" target=\"_parent\"><img src=\"https://colab.research.google.com/assets/colab-badge.svg\" alt=\"Open In Colab\"/></a>"
      ]
    },
    {
      "cell_type": "markdown",
      "source": [
        "# sum()"
      ],
      "metadata": {
        "id": "KurCuIySXfCo"
      }
    },
    {
      "cell_type": "code",
      "execution_count": 1,
      "metadata": {
        "id": "rtjYptH3XaIF"
      },
      "outputs": [],
      "source": [
        "X = [1, 2, 3, 4, 5]"
      ]
    },
    {
      "cell_type": "code",
      "source": [
        "sum(X)"
      ],
      "metadata": {
        "id": "m8OOCtLNXobR",
        "colab": {
          "base_uri": "https://localhost:8080/"
        },
        "outputId": "3ccd02b2-901f-4e1b-870b-6b6b8200810a"
      },
      "execution_count": 2,
      "outputs": [
        {
          "output_type": "execute_result",
          "data": {
            "text/plain": [
              "15"
            ]
          },
          "metadata": {},
          "execution_count": 2
        }
      ]
    },
    {
      "cell_type": "code",
      "source": [
        "sum([1,2,3,4,5])"
      ],
      "metadata": {
        "id": "u4c1OYhXXqyb",
        "colab": {
          "base_uri": "https://localhost:8080/"
        },
        "outputId": "0dff56fe-db4b-44cc-e366-fa3919a284a2"
      },
      "execution_count": 3,
      "outputs": [
        {
          "output_type": "execute_result",
          "data": {
            "text/plain": [
              "15"
            ]
          },
          "metadata": {},
          "execution_count": 3
        }
      ]
    },
    {
      "cell_type": "code",
      "source": [
        "sum(X, X)\n",
        "\n",
        "# 논항 두개 불가능"
      ],
      "metadata": {
        "id": "ENog6kAgXtnB",
        "colab": {
          "base_uri": "https://localhost:8080/",
          "height": 206
        },
        "outputId": "bd4ecb49-5abf-47e6-a93d-9d0481f3f991"
      },
      "execution_count": 4,
      "outputs": [
        {
          "output_type": "error",
          "ename": "TypeError",
          "evalue": "ignored",
          "traceback": [
            "\u001b[0;31m---------------------------------------------------------------------------\u001b[0m",
            "\u001b[0;31mTypeError\u001b[0m                                 Traceback (most recent call last)",
            "\u001b[0;32m<ipython-input-4-7c1fc3f9e95f>\u001b[0m in \u001b[0;36m<module>\u001b[0;34m\u001b[0m\n\u001b[0;32m----> 1\u001b[0;31m \u001b[0msum\u001b[0m\u001b[0;34m(\u001b[0m\u001b[0mX\u001b[0m\u001b[0;34m,\u001b[0m \u001b[0mX\u001b[0m\u001b[0;34m)\u001b[0m\u001b[0;34m\u001b[0m\u001b[0;34m\u001b[0m\u001b[0m\n\u001b[0m\u001b[1;32m      2\u001b[0m \u001b[0;34m\u001b[0m\u001b[0m\n\u001b[1;32m      3\u001b[0m \u001b[0;31m# 논항 두개 불가능\u001b[0m\u001b[0;34m\u001b[0m\u001b[0;34m\u001b[0m\u001b[0;34m\u001b[0m\u001b[0m\n",
            "\u001b[0;31mTypeError\u001b[0m: can only concatenate list (not \"int\") to list"
          ]
        }
      ]
    },
    {
      "cell_type": "code",
      "source": [
        "sum('python')\n",
        "\n",
        "# 논항에 문자열 불가능"
      ],
      "metadata": {
        "id": "HttWMRhJXvhf",
        "colab": {
          "base_uri": "https://localhost:8080/",
          "height": 206
        },
        "outputId": "f3742528-8cf5-4169-a7e9-133db83a523f"
      },
      "execution_count": 5,
      "outputs": [
        {
          "output_type": "error",
          "ename": "TypeError",
          "evalue": "ignored",
          "traceback": [
            "\u001b[0;31m---------------------------------------------------------------------------\u001b[0m",
            "\u001b[0;31mTypeError\u001b[0m                                 Traceback (most recent call last)",
            "\u001b[0;32m<ipython-input-5-bdbf9c61a455>\u001b[0m in \u001b[0;36m<module>\u001b[0;34m\u001b[0m\n\u001b[0;32m----> 1\u001b[0;31m \u001b[0msum\u001b[0m\u001b[0;34m(\u001b[0m\u001b[0;34m'python'\u001b[0m\u001b[0;34m)\u001b[0m\u001b[0;34m\u001b[0m\u001b[0;34m\u001b[0m\u001b[0m\n\u001b[0m\u001b[1;32m      2\u001b[0m \u001b[0;34m\u001b[0m\u001b[0m\n\u001b[1;32m      3\u001b[0m \u001b[0;31m# 논항에 문자열 불가능\u001b[0m\u001b[0;34m\u001b[0m\u001b[0;34m\u001b[0m\u001b[0;34m\u001b[0m\u001b[0m\n",
            "\u001b[0;31mTypeError\u001b[0m: unsupported operand type(s) for +: 'int' and 'str'"
          ]
        }
      ]
    },
    {
      "cell_type": "code",
      "source": [
        "sum(3)\n",
        "\n",
        "# 수치값 하나만 논항으로 사용x\n",
        "# 리스트 같은 숫자로 구성된 데이터 구조를 입력해줘야 함"
      ],
      "metadata": {
        "id": "ZwKeVXguXwI7",
        "colab": {
          "base_uri": "https://localhost:8080/",
          "height": 224
        },
        "outputId": "72edab87-2b8a-4f0e-a15a-b125a1918672"
      },
      "execution_count": 6,
      "outputs": [
        {
          "output_type": "error",
          "ename": "TypeError",
          "evalue": "ignored",
          "traceback": [
            "\u001b[0;31m---------------------------------------------------------------------------\u001b[0m",
            "\u001b[0;31mTypeError\u001b[0m                                 Traceback (most recent call last)",
            "\u001b[0;32m<ipython-input-6-dd28867db743>\u001b[0m in \u001b[0;36m<module>\u001b[0;34m\u001b[0m\n\u001b[0;32m----> 1\u001b[0;31m \u001b[0msum\u001b[0m\u001b[0;34m(\u001b[0m\u001b[0;36m3\u001b[0m\u001b[0;34m)\u001b[0m\u001b[0;34m\u001b[0m\u001b[0;34m\u001b[0m\u001b[0m\n\u001b[0m\u001b[1;32m      2\u001b[0m \u001b[0;34m\u001b[0m\u001b[0m\n\u001b[1;32m      3\u001b[0m \u001b[0;31m# 수치값 하나만 논항으로 사용x\u001b[0m\u001b[0;34m\u001b[0m\u001b[0;34m\u001b[0m\u001b[0;34m\u001b[0m\u001b[0m\n\u001b[1;32m      4\u001b[0m \u001b[0;31m# 리스트 같은 숫자로 구성된 데이터 구조를 입력해줘야 함\u001b[0m\u001b[0;34m\u001b[0m\u001b[0;34m\u001b[0m\u001b[0;34m\u001b[0m\u001b[0m\n",
            "\u001b[0;31mTypeError\u001b[0m: 'int' object is not iterable"
          ]
        }
      ]
    },
    {
      "cell_type": "code",
      "source": [
        "sum(3+5)\n",
        "\n",
        "# 불가능"
      ],
      "metadata": {
        "id": "hyvPomIHXyiO",
        "colab": {
          "base_uri": "https://localhost:8080/",
          "height": 206
        },
        "outputId": "e72db21d-543b-4f19-b568-ffa35327d849"
      },
      "execution_count": 8,
      "outputs": [
        {
          "output_type": "error",
          "ename": "TypeError",
          "evalue": "ignored",
          "traceback": [
            "\u001b[0;31m---------------------------------------------------------------------------\u001b[0m",
            "\u001b[0;31mTypeError\u001b[0m                                 Traceback (most recent call last)",
            "\u001b[0;32m<ipython-input-8-5b5c6c623a93>\u001b[0m in \u001b[0;36m<module>\u001b[0;34m\u001b[0m\n\u001b[0;32m----> 1\u001b[0;31m \u001b[0msum\u001b[0m\u001b[0;34m(\u001b[0m\u001b[0;36m3\u001b[0m\u001b[0;34m+\u001b[0m\u001b[0;36m5\u001b[0m\u001b[0;34m)\u001b[0m\u001b[0;34m\u001b[0m\u001b[0;34m\u001b[0m\u001b[0m\n\u001b[0m\u001b[1;32m      2\u001b[0m \u001b[0;34m\u001b[0m\u001b[0m\n\u001b[1;32m      3\u001b[0m \u001b[0;31m# 불가능\u001b[0m\u001b[0;34m\u001b[0m\u001b[0;34m\u001b[0m\u001b[0;34m\u001b[0m\u001b[0m\n",
            "\u001b[0;31mTypeError\u001b[0m: 'int' object is not iterable"
          ]
        }
      ]
    },
    {
      "cell_type": "markdown",
      "source": [
        "# type()\n",
        "\n",
        ": data type 파악"
      ],
      "metadata": {
        "id": "rVt42VgJX4as"
      }
    },
    {
      "cell_type": "code",
      "source": [
        "a = 'python'\n",
        "b = 35\n",
        "c = 35.0\n",
        "d = [a, b, c]\n",
        "d"
      ],
      "metadata": {
        "colab": {
          "base_uri": "https://localhost:8080/"
        },
        "id": "7v_vklCdYH_N",
        "outputId": "6b2f1b5a-7f91-4770-8335-558b38f74732"
      },
      "execution_count": 9,
      "outputs": [
        {
          "output_type": "execute_result",
          "data": {
            "text/plain": [
              "['python', 35, 35.0]"
            ]
          },
          "metadata": {},
          "execution_count": 9
        }
      ]
    },
    {
      "cell_type": "code",
      "source": [
        "type(a)"
      ],
      "metadata": {
        "id": "o9LcB5FuYXao",
        "colab": {
          "base_uri": "https://localhost:8080/"
        },
        "outputId": "e1fff641-9f20-40e3-f4d8-da11533224aa"
      },
      "execution_count": 10,
      "outputs": [
        {
          "output_type": "execute_result",
          "data": {
            "text/plain": [
              "str"
            ]
          },
          "metadata": {},
          "execution_count": 10
        }
      ]
    },
    {
      "cell_type": "code",
      "source": [
        "type(b)\n",
        "\n",
        "# int 정수"
      ],
      "metadata": {
        "id": "B-rlMoJ3YYUy",
        "colab": {
          "base_uri": "https://localhost:8080/"
        },
        "outputId": "88021703-4da5-4985-d3aa-a05c2dba0e26"
      },
      "execution_count": 11,
      "outputs": [
        {
          "output_type": "execute_result",
          "data": {
            "text/plain": [
              "int"
            ]
          },
          "metadata": {},
          "execution_count": 11
        }
      ]
    },
    {
      "cell_type": "code",
      "source": [
        "type(c)\n",
        "\n",
        "# float 실수"
      ],
      "metadata": {
        "id": "NOtvD_ToYZn5",
        "colab": {
          "base_uri": "https://localhost:8080/"
        },
        "outputId": "e3e7fad9-128a-403b-9e5b-975bbcc1088b"
      },
      "execution_count": 12,
      "outputs": [
        {
          "output_type": "execute_result",
          "data": {
            "text/plain": [
              "float"
            ]
          },
          "metadata": {},
          "execution_count": 12
        }
      ]
    },
    {
      "cell_type": "code",
      "source": [
        "type(d)"
      ],
      "metadata": {
        "id": "orqfDeCgYase",
        "colab": {
          "base_uri": "https://localhost:8080/"
        },
        "outputId": "304a48b1-0882-43b2-efc1-ec52271c4526"
      },
      "execution_count": 13,
      "outputs": [
        {
          "output_type": "execute_result",
          "data": {
            "text/plain": [
              "list"
            ]
          },
          "metadata": {},
          "execution_count": 13
        }
      ]
    },
    {
      "cell_type": "code",
      "source": [
        "type(True)"
      ],
      "metadata": {
        "id": "U7iE78f7Zi--",
        "colab": {
          "base_uri": "https://localhost:8080/"
        },
        "outputId": "9b8e5090-9cc4-414b-e9fc-ef8d94bed8f6"
      },
      "execution_count": 14,
      "outputs": [
        {
          "output_type": "execute_result",
          "data": {
            "text/plain": [
              "bool"
            ]
          },
          "metadata": {},
          "execution_count": 14
        }
      ]
    },
    {
      "cell_type": "code",
      "source": [
        "type(False)"
      ],
      "metadata": {
        "id": "cJj8qzbQZkFK",
        "colab": {
          "base_uri": "https://localhost:8080/"
        },
        "outputId": "1ebc042d-4747-4ba4-b301-54ddb2825f45"
      },
      "execution_count": 15,
      "outputs": [
        {
          "output_type": "execute_result",
          "data": {
            "text/plain": [
              "bool"
            ]
          },
          "metadata": {},
          "execution_count": 15
        }
      ]
    },
    {
      "cell_type": "markdown",
      "source": [
        "bool type(True/False) 쓸 때 철자 주의!"
      ],
      "metadata": {
        "id": "GyEZAfIsZlhF"
      }
    },
    {
      "cell_type": "code",
      "source": [
        "TRUE\n",
        "\n",
        "# 철자 틀려서 bool type 값 아님"
      ],
      "metadata": {
        "id": "5s3lNMGOZp0M",
        "colab": {
          "base_uri": "https://localhost:8080/",
          "height": 206
        },
        "outputId": "f604b8a7-bec3-4c52-b74a-67a023e22899"
      },
      "execution_count": 16,
      "outputs": [
        {
          "output_type": "error",
          "ename": "NameError",
          "evalue": "ignored",
          "traceback": [
            "\u001b[0;31m---------------------------------------------------------------------------\u001b[0m",
            "\u001b[0;31mNameError\u001b[0m                                 Traceback (most recent call last)",
            "\u001b[0;32m<ipython-input-16-ba19c98c655e>\u001b[0m in \u001b[0;36m<module>\u001b[0;34m\u001b[0m\n\u001b[0;32m----> 1\u001b[0;31m \u001b[0mTRUE\u001b[0m\u001b[0;34m\u001b[0m\u001b[0;34m\u001b[0m\u001b[0m\n\u001b[0m\u001b[1;32m      2\u001b[0m \u001b[0;34m\u001b[0m\u001b[0m\n\u001b[1;32m      3\u001b[0m \u001b[0;31m# 철자 틀려서 bool type 값 아님\u001b[0m\u001b[0;34m\u001b[0m\u001b[0;34m\u001b[0m\u001b[0;34m\u001b[0m\u001b[0m\n",
            "\u001b[0;31mNameError\u001b[0m: name 'TRUE' is not defined"
          ]
        }
      ]
    },
    {
      "cell_type": "markdown",
      "source": [
        "# 수치형 변환 함수\n",
        ": 논항에 수치형 데이터만 들어갈 수 있음"
      ],
      "metadata": {
        "id": "byVBwqAAYgHj"
      }
    },
    {
      "cell_type": "code",
      "source": [
        "a = 'python'"
      ],
      "metadata": {
        "id": "vLalJjk7YjrV"
      },
      "execution_count": 17,
      "outputs": []
    },
    {
      "cell_type": "code",
      "source": [
        "b = 35"
      ],
      "metadata": {
        "id": "Y13iwz3tYmz_"
      },
      "execution_count": 18,
      "outputs": []
    },
    {
      "cell_type": "code",
      "source": [
        "c = 35.0"
      ],
      "metadata": {
        "id": "l4NBnyfPYn3X"
      },
      "execution_count": 19,
      "outputs": []
    },
    {
      "cell_type": "markdown",
      "source": [
        "### int()\n",
        " : 실수형 -> 정수형"
      ],
      "metadata": {
        "id": "GQyzJ-naYpvf"
      }
    },
    {
      "cell_type": "code",
      "source": [
        "int(c)"
      ],
      "metadata": {
        "id": "4ycANn18Yq_K",
        "colab": {
          "base_uri": "https://localhost:8080/"
        },
        "outputId": "0d2d55fc-a3e3-443d-c92d-93de4e06630b"
      },
      "execution_count": 20,
      "outputs": [
        {
          "output_type": "execute_result",
          "data": {
            "text/plain": [
              "35"
            ]
          },
          "metadata": {},
          "execution_count": 20
        }
      ]
    },
    {
      "cell_type": "code",
      "source": [
        "int(b)"
      ],
      "metadata": {
        "id": "5E0AsauGY7LD",
        "colab": {
          "base_uri": "https://localhost:8080/"
        },
        "outputId": "bff54e27-abcb-4827-c883-87bc4363b7a0"
      },
      "execution_count": 21,
      "outputs": [
        {
          "output_type": "execute_result",
          "data": {
            "text/plain": [
              "35"
            ]
          },
          "metadata": {},
          "execution_count": 21
        }
      ]
    },
    {
      "cell_type": "code",
      "source": [
        "int(c)"
      ],
      "metadata": {
        "id": "UsUtdFvrY8qc",
        "colab": {
          "base_uri": "https://localhost:8080/"
        },
        "outputId": "c2604267-a524-47da-af7d-a9b2b2ac8f7e"
      },
      "execution_count": 22,
      "outputs": [
        {
          "output_type": "execute_result",
          "data": {
            "text/plain": [
              "35"
            ]
          },
          "metadata": {},
          "execution_count": 22
        }
      ]
    },
    {
      "cell_type": "markdown",
      "source": [
        "### float()\n",
        ": 정수형 -> 실수형"
      ],
      "metadata": {
        "id": "l_nIHY7GYwMC"
      }
    },
    {
      "cell_type": "code",
      "source": [
        "float(b)"
      ],
      "metadata": {
        "id": "hZhsjNR_Y1Wf",
        "colab": {
          "base_uri": "https://localhost:8080/"
        },
        "outputId": "21ef0012-1bf2-498b-8745-6c056cdb2ffd"
      },
      "execution_count": 23,
      "outputs": [
        {
          "output_type": "execute_result",
          "data": {
            "text/plain": [
              "35.0"
            ]
          },
          "metadata": {},
          "execution_count": 23
        }
      ]
    },
    {
      "cell_type": "code",
      "source": [
        "float(c)"
      ],
      "metadata": {
        "id": "YV7_VFowY-dT",
        "colab": {
          "base_uri": "https://localhost:8080/"
        },
        "outputId": "73013835-f467-4eb2-bdc5-8ada3039104d"
      },
      "execution_count": 24,
      "outputs": [
        {
          "output_type": "execute_result",
          "data": {
            "text/plain": [
              "35.0"
            ]
          },
          "metadata": {},
          "execution_count": 24
        }
      ]
    },
    {
      "cell_type": "code",
      "source": [
        "float(a)\n",
        "\n",
        "# 논항에 문자열 들어갈 수 없음"
      ],
      "metadata": {
        "id": "3jX2vRvNY_2Y",
        "colab": {
          "base_uri": "https://localhost:8080/",
          "height": 206
        },
        "outputId": "bede5d88-d431-41d8-d3ea-fe253f3e899f"
      },
      "execution_count": 25,
      "outputs": [
        {
          "output_type": "error",
          "ename": "ValueError",
          "evalue": "ignored",
          "traceback": [
            "\u001b[0;31m---------------------------------------------------------------------------\u001b[0m",
            "\u001b[0;31mValueError\u001b[0m                                Traceback (most recent call last)",
            "\u001b[0;32m<ipython-input-25-71e5fbb06945>\u001b[0m in \u001b[0;36m<module>\u001b[0;34m\u001b[0m\n\u001b[0;32m----> 1\u001b[0;31m \u001b[0mfloat\u001b[0m\u001b[0;34m(\u001b[0m\u001b[0ma\u001b[0m\u001b[0;34m)\u001b[0m\u001b[0;34m\u001b[0m\u001b[0;34m\u001b[0m\u001b[0m\n\u001b[0m\u001b[1;32m      2\u001b[0m \u001b[0;34m\u001b[0m\u001b[0m\n\u001b[1;32m      3\u001b[0m \u001b[0;31m# 논항에 문자열 들어갈 수 없음\u001b[0m\u001b[0;34m\u001b[0m\u001b[0;34m\u001b[0m\u001b[0;34m\u001b[0m\u001b[0m\n",
            "\u001b[0;31mValueError\u001b[0m: could not convert string to float: 'python'"
          ]
        }
      ]
    },
    {
      "cell_type": "markdown",
      "source": [
        "# print()\n",
        "\n",
        ": 논항에 들어있는 값의 출력 결과를 사용자들에게 알려주는 역할"
      ],
      "metadata": {
        "id": "ATV6hCZmbqut"
      }
    },
    {
      "cell_type": "code",
      "source": [
        "10"
      ],
      "metadata": {
        "id": "fbBkA7hkbsWz",
        "colab": {
          "base_uri": "https://localhost:8080/"
        },
        "outputId": "b9beb4c5-62cb-4ee3-e99e-97ee08de4493"
      },
      "execution_count": 26,
      "outputs": [
        {
          "output_type": "execute_result",
          "data": {
            "text/plain": [
              "10"
            ]
          },
          "metadata": {},
          "execution_count": 26
        }
      ]
    },
    {
      "cell_type": "code",
      "source": [
        "print(10)"
      ],
      "metadata": {
        "id": "VH3VcODTbyEh",
        "colab": {
          "base_uri": "https://localhost:8080/"
        },
        "outputId": "12319365-b686-42ee-a826-227d4ff12ca5"
      },
      "execution_count": 27,
      "outputs": [
        {
          "output_type": "stream",
          "name": "stdout",
          "text": [
            "10\n"
          ]
        }
      ]
    },
    {
      "cell_type": "code",
      "source": [
        "'apple'"
      ],
      "metadata": {
        "id": "KO7zUEfgbvoT",
        "colab": {
          "base_uri": "https://localhost:8080/",
          "height": 36
        },
        "outputId": "f47f6239-f18c-4872-d082-a7470dc15975"
      },
      "execution_count": 28,
      "outputs": [
        {
          "output_type": "execute_result",
          "data": {
            "text/plain": [
              "'apple'"
            ],
            "application/vnd.google.colaboratory.intrinsic+json": {
              "type": "string"
            }
          },
          "metadata": {},
          "execution_count": 28
        }
      ]
    },
    {
      "cell_type": "code",
      "source": [
        "print('apple')"
      ],
      "metadata": {
        "colab": {
          "base_uri": "https://localhost:8080/"
        },
        "id": "TN8-vjiNbzZl",
        "outputId": "6001492e-716d-4f59-91e6-63855f05aaf8"
      },
      "execution_count": 29,
      "outputs": [
        {
          "output_type": "stream",
          "name": "stdout",
          "text": [
            "apple\n"
          ]
        }
      ]
    },
    {
      "cell_type": "code",
      "source": [
        "True"
      ],
      "metadata": {
        "id": "IDhcuURub1K4",
        "colab": {
          "base_uri": "https://localhost:8080/"
        },
        "outputId": "b28729b4-d1b3-4572-8f64-e1ffa3f42ad7"
      },
      "execution_count": 30,
      "outputs": [
        {
          "output_type": "execute_result",
          "data": {
            "text/plain": [
              "True"
            ]
          },
          "metadata": {},
          "execution_count": 30
        }
      ]
    },
    {
      "cell_type": "code",
      "source": [
        "print(True)"
      ],
      "metadata": {
        "colab": {
          "base_uri": "https://localhost:8080/"
        },
        "id": "6eIqAAeCb1uU",
        "outputId": "cbb15b9c-47fe-4f3a-8f53-44b98a703b09"
      },
      "execution_count": 31,
      "outputs": [
        {
          "output_type": "stream",
          "name": "stdout",
          "text": [
            "True\n"
          ]
        }
      ]
    },
    {
      "cell_type": "code",
      "source": [
        "['1', '2', '3']"
      ],
      "metadata": {
        "colab": {
          "base_uri": "https://localhost:8080/"
        },
        "id": "H_noCufkb5oh",
        "outputId": "d82de5ac-d716-4db2-9adb-40a2c1acbad4"
      },
      "execution_count": 32,
      "outputs": [
        {
          "output_type": "execute_result",
          "data": {
            "text/plain": [
              "['1', '2', '3']"
            ]
          },
          "metadata": {},
          "execution_count": 32
        }
      ]
    },
    {
      "cell_type": "code",
      "source": [
        "print(['1', '2', '3'])"
      ],
      "metadata": {
        "colab": {
          "base_uri": "https://localhost:8080/"
        },
        "id": "IslxZ2Hfb-HF",
        "outputId": "86039959-ae9d-46de-ca95-ed0a9d58e9bc"
      },
      "execution_count": 33,
      "outputs": [
        {
          "output_type": "stream",
          "name": "stdout",
          "text": [
            "['1', '2', '3']\n"
          ]
        }
      ]
    },
    {
      "cell_type": "code",
      "source": [
        "[1, 2, 3]"
      ],
      "metadata": {
        "colab": {
          "base_uri": "https://localhost:8080/"
        },
        "id": "LbXKzgWvb_23",
        "outputId": "048a5308-70ff-4242-b8f4-1b9278b92ddf"
      },
      "execution_count": 34,
      "outputs": [
        {
          "output_type": "execute_result",
          "data": {
            "text/plain": [
              "[1, 2, 3]"
            ]
          },
          "metadata": {},
          "execution_count": 34
        }
      ]
    },
    {
      "cell_type": "code",
      "source": [
        "print([1, 2, 3])"
      ],
      "metadata": {
        "colab": {
          "base_uri": "https://localhost:8080/"
        },
        "id": "Fr0JTqOAcB0R",
        "outputId": "e9abe37d-9953-45d7-a878-9c616276299c"
      },
      "execution_count": 35,
      "outputs": [
        {
          "output_type": "stream",
          "name": "stdout",
          "text": [
            "[1, 2, 3]\n"
          ]
        }
      ]
    },
    {
      "cell_type": "code",
      "source": [
        "print(10, 'apple')"
      ],
      "metadata": {
        "id": "YPzAp_a8cIvl",
        "colab": {
          "base_uri": "https://localhost:8080/"
        },
        "outputId": "a53e5d38-7b95-463f-a614-19749160c2fa"
      },
      "execution_count": 36,
      "outputs": [
        {
          "output_type": "stream",
          "name": "stdout",
          "text": [
            "10 apple\n"
          ]
        }
      ]
    },
    {
      "cell_type": "code",
      "source": [
        "print(10, 'apple', True)"
      ],
      "metadata": {
        "id": "kYrUS56gcVgM",
        "colab": {
          "base_uri": "https://localhost:8080/"
        },
        "outputId": "bc799491-9dff-4ac6-8dc7-d35211b2c894"
      },
      "execution_count": 37,
      "outputs": [
        {
          "output_type": "stream",
          "name": "stdout",
          "text": [
            "10 apple True\n"
          ]
        }
      ]
    },
    {
      "cell_type": "code",
      "source": [
        "x = print(10, 'apple', True)"
      ],
      "metadata": {
        "id": "yqF0Wg-RcYY_",
        "colab": {
          "base_uri": "https://localhost:8080/"
        },
        "outputId": "7ab4d08f-d901-4df9-c0c2-c292769c5416"
      },
      "execution_count": 38,
      "outputs": [
        {
          "output_type": "stream",
          "name": "stdout",
          "text": [
            "10 apple True\n"
          ]
        }
      ]
    },
    {
      "cell_type": "code",
      "source": [
        "x"
      ],
      "metadata": {
        "id": "9hG8cm9McbJM"
      },
      "execution_count": 39,
      "outputs": []
    },
    {
      "cell_type": "code",
      "source": [
        "type(x)\n",
        "\n",
        "# print의 출력값은 아무런 실체를 가지지 않음 (보여주고 끝). 따라서 NoneType\n",
        "# print에 의한 출력값은 출력되고 끝! 형태는 있지만 실체 x"
      ],
      "metadata": {
        "id": "S4HpslEUcb6Y",
        "colab": {
          "base_uri": "https://localhost:8080/"
        },
        "outputId": "5816ed49-e609-40a0-850e-9a8b4f5d6e34"
      },
      "execution_count": 40,
      "outputs": [
        {
          "output_type": "execute_result",
          "data": {
            "text/plain": [
              "NoneType"
            ]
          },
          "metadata": {},
          "execution_count": 40
        }
      ]
    },
    {
      "cell_type": "code",
      "source": [
        "None"
      ],
      "metadata": {
        "id": "GwPTmbZwcpnO"
      },
      "execution_count": 41,
      "outputs": []
    },
    {
      "cell_type": "code",
      "source": [
        "type(None)"
      ],
      "metadata": {
        "id": "S1BFangTcqnr",
        "colab": {
          "base_uri": "https://localhost:8080/"
        },
        "outputId": "411ae031-6c31-42fb-d9f6-41ceb3a7bd58"
      },
      "execution_count": 42,
      "outputs": [
        {
          "output_type": "execute_result",
          "data": {
            "text/plain": [
              "NoneType"
            ]
          },
          "metadata": {},
          "execution_count": 42
        }
      ]
    }
  ]
}