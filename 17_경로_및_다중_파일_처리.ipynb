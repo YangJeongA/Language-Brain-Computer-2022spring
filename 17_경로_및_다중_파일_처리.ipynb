{
  "nbformat": 4,
  "nbformat_minor": 0,
  "metadata": {
    "colab": {
      "provenance": [],
      "include_colab_link": true
    },
    "kernelspec": {
      "name": "python3",
      "display_name": "Python 3"
    },
    "language_info": {
      "name": "python"
    }
  },
  "cells": [
    {
      "cell_type": "markdown",
      "metadata": {
        "id": "view-in-github",
        "colab_type": "text"
      },
      "source": [
        "<a href=\"https://colab.research.google.com/github/YangJeongA/Language-Brain-Computer-2022spring/blob/main/17_%EA%B2%BD%EB%A1%9C_%EB%B0%8F_%EB%8B%A4%EC%A4%91_%ED%8C%8C%EC%9D%BC_%EC%B2%98%EB%A6%AC.ipynb\" target=\"_parent\"><img src=\"https://colab.research.google.com/assets/colab-badge.svg\" alt=\"Open In Colab\"/></a>"
      ]
    },
    {
      "cell_type": "markdown",
      "source": [
        "# os 모듈과 경로 다루기\n",
        "- 가장 기본적인 경로 다루는 방법: os모듈 사용"
      ],
      "metadata": {
        "id": "zlIShwE_bwck"
      }
    },
    {
      "cell_type": "code",
      "source": [
        "import os"
      ],
      "metadata": {
        "id": "CmdSM1xMdkpD"
      },
      "execution_count": 1,
      "outputs": []
    },
    {
      "cell_type": "markdown",
      "source": [
        "##os.getcwd\n"
      ],
      "metadata": {
        "id": "XXWPgL1ocUZp"
      }
    },
    {
      "cell_type": "code",
      "source": [
        "os.getcwd()\n",
        "\n",
        "# 현재 작업 중인 디렉토리(작업폴더)의 전체경로(절대경로) 출력 -> 출력값은 항상 \"문자열\""
      ],
      "metadata": {
        "id": "3aYIVmypcp68",
        "colab": {
          "base_uri": "https://localhost:8080/",
          "height": 36
        },
        "outputId": "9a024425-9556-4b97-9482-aa22a152b0c8"
      },
      "execution_count": 2,
      "outputs": [
        {
          "output_type": "execute_result",
          "data": {
            "text/plain": [
              "'/content'"
            ],
            "application/vnd.google.colaboratory.intrinsic+json": {
              "type": "string"
            }
          },
          "metadata": {},
          "execution_count": 2
        }
      ]
    },
    {
      "cell_type": "markdown",
      "source": [
        "## os.listdir"
      ],
      "metadata": {
        "id": "TpVcuDQpduL0"
      }
    },
    {
      "cell_type": "code",
      "source": [
        "os.listdir()\n",
        "\n",
        "# 현재 작업 폴더 내에 있는 파일명 및 폴더명 및 목록을 \"리스트\"로 출력해주는 함수"
      ],
      "metadata": {
        "id": "QI6BGzFcc1VR",
        "colab": {
          "base_uri": "https://localhost:8080/"
        },
        "outputId": "498bfbcd-c5cb-4442-ede0-7dce4114131c"
      },
      "execution_count": 3,
      "outputs": [
        {
          "output_type": "execute_result",
          "data": {
            "text/plain": [
              "['.config', 'sample_data']"
            ]
          },
          "metadata": {},
          "execution_count": 3
        }
      ]
    },
    {
      "cell_type": "markdown",
      "source": [
        "## os.chdir"
      ],
      "metadata": {
        "id": "N2sGdiyIdx_c"
      }
    },
    {
      "cell_type": "code",
      "source": [
        "os.chdir('c:/Python/txt')\n",
        "\n",
        "# 작업폴더를 변경할 때 사용하는 함수\n",
        "# 이동하고자 하는 폴더의 전체경로를 논항에 입력해주면 됨"
      ],
      "metadata": {
        "id": "gmQFbFAGdz5Y"
      },
      "execution_count": 7,
      "outputs": []
    },
    {
      "cell_type": "code",
      "source": [
        "os.getcwd()"
      ],
      "metadata": {
        "id": "Lz6BszcWeAIb",
        "colab": {
          "base_uri": "https://localhost:8080/",
          "height": 36
        },
        "outputId": "3be80aa2-c4cc-4ae8-fed6-e1923f51fa14"
      },
      "execution_count": 8,
      "outputs": [
        {
          "output_type": "execute_result",
          "data": {
            "text/plain": [
              "'/content'"
            ],
            "application/vnd.google.colaboratory.intrinsic+json": {
              "type": "string"
            }
          },
          "metadata": {},
          "execution_count": 8
        }
      ]
    },
    {
      "cell_type": "code",
      "source": [
        "os.listdir()"
      ],
      "metadata": {
        "id": "5X_8orA5eEYT",
        "colab": {
          "base_uri": "https://localhost:8080/"
        },
        "outputId": "8e9b81ae-c423-4cde-b22d-7c41205af8ee"
      },
      "execution_count": 9,
      "outputs": [
        {
          "output_type": "execute_result",
          "data": {
            "text/plain": [
              "['.config', 'sample_data']"
            ]
          },
          "metadata": {},
          "execution_count": 9
        }
      ]
    },
    {
      "cell_type": "markdown",
      "source": [
        "# 상대 경로\n",
        "- 인접한 폴더 간을 이동하며 작업할 때 사용하기 편리한 경로사용법\n",
        "- 절대경로보다 상대경로 활용하는게 편리"
      ],
      "metadata": {
        "id": "vCUM4ukGeIAZ"
      }
    },
    {
      "cell_type": "code",
      "source": [
        "os.listdir()"
      ],
      "metadata": {
        "id": "UwoqQoPnebpT",
        "colab": {
          "base_uri": "https://localhost:8080/"
        },
        "outputId": "ea3e6122-b5be-4795-9a4e-0643d748c9d8"
      },
      "execution_count": 10,
      "outputs": [
        {
          "output_type": "execute_result",
          "data": {
            "text/plain": [
              "['.config', 'sample_data']"
            ]
          },
          "metadata": {},
          "execution_count": 10
        }
      ]
    },
    {
      "cell_type": "code",
      "source": [
        "os.listdir('.')\n",
        "\n",
        "# 논항에 점 하나 -> 현재 작업 폴더 의미 -> 논항이 없는 경우와 같은 출력값"
      ],
      "metadata": {
        "id": "uzDLI9sRecu5",
        "colab": {
          "base_uri": "https://localhost:8080/"
        },
        "outputId": "77fa51f3-bb3e-4a86-9486-bfe53568fcc2"
      },
      "execution_count": 11,
      "outputs": [
        {
          "output_type": "execute_result",
          "data": {
            "text/plain": [
              "['.config', 'sample_data']"
            ]
          },
          "metadata": {},
          "execution_count": 11
        }
      ]
    },
    {
      "cell_type": "code",
      "source": [
        "os.listdir('..')\n",
        "\n",
        "# 논항에 점 두개 -> 현재 작업폴더의 상위폴더를 의미 "
      ],
      "metadata": {
        "id": "tB-7ISoteqsS",
        "colab": {
          "base_uri": "https://localhost:8080/"
        },
        "outputId": "1895429b-907f-4314-ad73-02ace9a9c136"
      },
      "execution_count": 12,
      "outputs": [
        {
          "output_type": "execute_result",
          "data": {
            "text/plain": [
              "['usr',\n",
              " 'media',\n",
              " 'srv',\n",
              " 'lib',\n",
              " 'proc',\n",
              " 'boot',\n",
              " 'sbin',\n",
              " 'sys',\n",
              " 'libx32',\n",
              " 'dev',\n",
              " 'lib64',\n",
              " 'tmp',\n",
              " 'lib32',\n",
              " 'etc',\n",
              " 'home',\n",
              " 'run',\n",
              " 'opt',\n",
              " 'root',\n",
              " 'bin',\n",
              " 'mnt',\n",
              " 'var',\n",
              " '.dockerenv',\n",
              " 'tools',\n",
              " 'datalab',\n",
              " 'content',\n",
              " 'NGC-DL-CONTAINER-LICENSE']"
            ]
          },
          "metadata": {},
          "execution_count": 12
        }
      ]
    },
    {
      "cell_type": "code",
      "source": [
        "os.listdir('..\\\\pdf')\n",
        "\n",
        "# 현재 작업폴더의 상위폴더에 있는 pdf 폴더 안에 있는 파일명 목록을 출력"
      ],
      "metadata": {
        "id": "0J6qXNYceyDK"
      },
      "execution_count": 14,
      "outputs": []
    },
    {
      "cell_type": "code",
      "source": [
        "os.getcwd()"
      ],
      "metadata": {
        "id": "IVJbC67cfRqG",
        "colab": {
          "base_uri": "https://localhost:8080/",
          "height": 36
        },
        "outputId": "3ca8e7a8-6d97-4af8-fc31-1855cbf9aa09"
      },
      "execution_count": 15,
      "outputs": [
        {
          "output_type": "execute_result",
          "data": {
            "text/plain": [
              "'/content'"
            ],
            "application/vnd.google.colaboratory.intrinsic+json": {
              "type": "string"
            }
          },
          "metadata": {},
          "execution_count": 15
        }
      ]
    },
    {
      "cell_type": "code",
      "source": [
        "os.chdir('..')\n",
        "\n",
        "# 논항에 점 두개 -> 현재 작업폴더의 상위폴더 의미"
      ],
      "metadata": {
        "id": "bFS4QigifTVa"
      },
      "execution_count": 16,
      "outputs": []
    },
    {
      "cell_type": "code",
      "source": [
        "os.getcwd()"
      ],
      "metadata": {
        "id": "yi_BLxeTg1gS",
        "colab": {
          "base_uri": "https://localhost:8080/",
          "height": 36
        },
        "outputId": "e3fa0cba-e854-4fb1-9dc4-7f90af3c083e"
      },
      "execution_count": 17,
      "outputs": [
        {
          "output_type": "execute_result",
          "data": {
            "text/plain": [
              "'/'"
            ],
            "application/vnd.google.colaboratory.intrinsic+json": {
              "type": "string"
            }
          },
          "metadata": {},
          "execution_count": 17
        }
      ]
    },
    {
      "cell_type": "code",
      "source": [
        "os.listdir('.\\\\txt')\n",
        "\n",
        "\n",
        "# 현재 작업폴더 내에 있는 txt폴더 내의 파일명 및 폴더명을 리스트로 출력"
      ],
      "metadata": {
        "id": "FXvaa-Jlg3g9",
        "colab": {
          "base_uri": "https://localhost:8080/",
          "height": 224
        },
        "outputId": "3ffe889d-fcf3-4408-f336-16acb17cde32"
      },
      "execution_count": 18,
      "outputs": [
        {
          "output_type": "error",
          "ename": "FileNotFoundError",
          "evalue": "ignored",
          "traceback": [
            "\u001b[0;31m---------------------------------------------------------------------------\u001b[0m",
            "\u001b[0;31mFileNotFoundError\u001b[0m                         Traceback (most recent call last)",
            "\u001b[0;32m<ipython-input-18-d552398a323d>\u001b[0m in \u001b[0;36m<module>\u001b[0;34m\u001b[0m\n\u001b[0;32m----> 1\u001b[0;31m \u001b[0mos\u001b[0m\u001b[0;34m.\u001b[0m\u001b[0mlistdir\u001b[0m\u001b[0;34m(\u001b[0m\u001b[0;34m'.\\\\txt'\u001b[0m\u001b[0;34m)\u001b[0m\u001b[0;34m\u001b[0m\u001b[0;34m\u001b[0m\u001b[0m\n\u001b[0m\u001b[1;32m      2\u001b[0m \u001b[0;34m\u001b[0m\u001b[0m\n\u001b[1;32m      3\u001b[0m \u001b[0;34m\u001b[0m\u001b[0m\n\u001b[1;32m      4\u001b[0m \u001b[0;31m# 현재 작업폴더 내에 있는 txt폴더 내의 파일명 및 폴더명을 리스트로 출력\u001b[0m\u001b[0;34m\u001b[0m\u001b[0;34m\u001b[0m\u001b[0;34m\u001b[0m\u001b[0m\n",
            "\u001b[0;31mFileNotFoundError\u001b[0m: [Errno 2] No such file or directory: '.\\\\txt'"
          ]
        }
      ]
    },
    {
      "cell_type": "code",
      "source": [
        "os.listdir('.\\\\pdf')\n",
        "\n",
        "# . 하나는 현재 작업폴더를 의미"
      ],
      "metadata": {
        "id": "Y7hW_FBEhAHF"
      },
      "execution_count": null,
      "outputs": []
    },
    {
      "cell_type": "code",
      "source": [
        "os.chdir('.\\\\txt')"
      ],
      "metadata": {
        "id": "dZYgO1pGhGZQ"
      },
      "execution_count": null,
      "outputs": []
    },
    {
      "cell_type": "code",
      "source": [
        "os.getcwd()"
      ],
      "metadata": {
        "id": "GthTxFPxhIZ5"
      },
      "execution_count": null,
      "outputs": []
    },
    {
      "cell_type": "code",
      "source": [
        "os.chdir('.\\\\pdf')\n",
        "\n",
        "# 현재 작업 폴더 내에 해당 폴더가 없으면 error 발생"
      ],
      "metadata": {
        "id": "xw-3da14hJgz"
      },
      "execution_count": null,
      "outputs": []
    },
    {
      "cell_type": "code",
      "source": [
        "os.chdir('..\\\\pdf')"
      ],
      "metadata": {
        "id": "VFOEMmq5hP3G"
      },
      "execution_count": null,
      "outputs": []
    },
    {
      "cell_type": "code",
      "source": [
        "os.getcwd()"
      ],
      "metadata": {
        "id": "7CCpzaaAhRt_"
      },
      "execution_count": null,
      "outputs": []
    },
    {
      "cell_type": "markdown",
      "source": [
        "# 문자열 prefix r\n",
        "- 인용부호 앞에 r 또는 R을 입력해주면 \\을 이스케이프 문자가 아닌 그냥 문자 자체로 인식함 (\\\\의 기능)"
      ],
      "metadata": {
        "id": "bb5lzKPmhZTh"
      }
    },
    {
      "cell_type": "code",
      "source": [
        "'c:\\nbc\\nbc'"
      ],
      "metadata": {
        "id": "4oaFXd9_ha2L"
      },
      "execution_count": null,
      "outputs": []
    },
    {
      "cell_type": "code",
      "source": [
        "r'c:\\nbc\\nbc'"
      ],
      "metadata": {
        "id": "rFBgT4xSh2d5"
      },
      "execution_count": null,
      "outputs": []
    },
    {
      "cell_type": "code",
      "source": [
        "R'c:\\nbc\\nbc'"
      ],
      "metadata": {
        "id": "f4O3hLASh8VD"
      },
      "execution_count": null,
      "outputs": []
    },
    {
      "cell_type": "code",
      "source": [
        "print('c:\\nbc\\nbc')"
      ],
      "metadata": {
        "id": "2O54N4BGhol0"
      },
      "execution_count": null,
      "outputs": []
    },
    {
      "cell_type": "code",
      "source": [
        "print(r'c:\\nbc\\nbc')"
      ],
      "metadata": {
        "id": "bgHy9iaEiB2F"
      },
      "execution_count": null,
      "outputs": []
    },
    {
      "cell_type": "code",
      "source": [
        "print(R'c:\\nbc\\nbc')"
      ],
      "metadata": {
        "id": "h6Kj8erWiW4B"
      },
      "execution_count": null,
      "outputs": []
    },
    {
      "cell_type": "code",
      "source": [
        "print('c:\\\\nbc\\\\nbc')"
      ],
      "metadata": {
        "id": "ON33LEa_hszY"
      },
      "execution_count": null,
      "outputs": []
    },
    {
      "cell_type": "code",
      "source": [
        "print(R'c:\\\\nbc\\\\nbc')"
      ],
      "metadata": {
        "id": "f1pN0NcsidGF"
      },
      "execution_count": null,
      "outputs": []
    },
    {
      "cell_type": "markdown",
      "source": [
        "# 경로명 사용 방법"
      ],
      "metadata": {
        "id": "z3BxScPMjgTw"
      }
    },
    {
      "cell_type": "markdown",
      "source": [
        "###1"
      ],
      "metadata": {
        "id": "Bt9WjVkpj-6o"
      }
    },
    {
      "cell_type": "code",
      "source": [
        "'c:\\abc\\kleist'"
      ],
      "metadata": {
        "id": "H7l7tH1ljivY"
      },
      "execution_count": null,
      "outputs": []
    },
    {
      "cell_type": "code",
      "source": [
        "'c:\\bc\\kleist'"
      ],
      "metadata": {
        "id": "ZESJslq-jy0c"
      },
      "execution_count": null,
      "outputs": []
    },
    {
      "cell_type": "code",
      "source": [
        "'c:\\c\\kleist'"
      ],
      "metadata": {
        "id": "WG8P_3Lgj4xV"
      },
      "execution_count": null,
      "outputs": []
    },
    {
      "cell_type": "code",
      "source": [
        "'c:\\Users\\kleist'"
      ],
      "metadata": {
        "id": "9gamYQXoj68w"
      },
      "execution_count": null,
      "outputs": []
    },
    {
      "cell_type": "markdown",
      "source": [
        "###2"
      ],
      "metadata": {
        "id": "fHalewKYkAJ8"
      }
    },
    {
      "cell_type": "code",
      "source": [
        "'c:\\\\abc\\\\kleist'"
      ],
      "metadata": {
        "id": "OVDZFaGOkAwP"
      },
      "execution_count": null,
      "outputs": []
    },
    {
      "cell_type": "code",
      "source": [
        "'c:\\\\Users\\\\kleist'"
      ],
      "metadata": {
        "id": "bRI1TGcXkFL6"
      },
      "execution_count": null,
      "outputs": []
    },
    {
      "cell_type": "markdown",
      "source": [
        "- \\를 이스케이프 문자와 그냥 문자로 일일이 구분하기 힘든 경우 prefix r 사용하면 좋음"
      ],
      "metadata": {
        "id": "rqmFKQ7TkJIN"
      }
    },
    {
      "cell_type": "code",
      "source": [
        "r'c:\\abc\\kleist'"
      ],
      "metadata": {
        "id": "Z4pZBa5nkPeW"
      },
      "execution_count": null,
      "outputs": []
    },
    {
      "cell_type": "code",
      "source": [
        "R'c:\\\\abc\\\\kleist'"
      ],
      "metadata": {
        "id": "VczIo__5kYeb"
      },
      "execution_count": null,
      "outputs": []
    },
    {
      "cell_type": "code",
      "source": [
        "'c:/Users/kleist'"
      ],
      "metadata": {
        "id": "9NKBVfuskayd"
      },
      "execution_count": null,
      "outputs": []
    },
    {
      "cell_type": "markdown",
      "source": [
        "###3"
      ],
      "metadata": {
        "id": "lHe39FGRkgNg"
      }
    },
    {
      "cell_type": "code",
      "source": [
        "os.getcwd()"
      ],
      "metadata": {
        "id": "KV2dMg_ekibv"
      },
      "execution_count": null,
      "outputs": []
    },
    {
      "cell_type": "code",
      "source": [
        "os.chdir(r'c:\\Python\\txt')"
      ],
      "metadata": {
        "id": "-X2josdikjeu"
      },
      "execution_count": null,
      "outputs": []
    },
    {
      "cell_type": "code",
      "source": [
        "os.getcwd()"
      ],
      "metadata": {
        "id": "YPVcapOPknEe"
      },
      "execution_count": null,
      "outputs": []
    },
    {
      "cell_type": "code",
      "source": [
        "os.chdir('c:/Python/txt')"
      ],
      "metadata": {
        "id": "tuqEgK8okn_V"
      },
      "execution_count": null,
      "outputs": []
    },
    {
      "cell_type": "code",
      "source": [
        "os.getcwd()"
      ],
      "metadata": {
        "id": "bKXNqljkkq4T"
      },
      "execution_count": null,
      "outputs": []
    },
    {
      "cell_type": "markdown",
      "source": [
        "# 폴더 생성 및 삭제"
      ],
      "metadata": {
        "id": "lH56-eAmi3aB"
      }
    },
    {
      "cell_type": "markdown",
      "source": [
        "### os.mkdir()\n",
        "- 폴더 생성 함수"
      ],
      "metadata": {
        "id": "7AKJtHGWi61t"
      }
    },
    {
      "cell_type": "code",
      "source": [
        "os.mkdir('out')\n",
        "\n",
        "# 논항에 내가 만든 폴더명\n",
        "# 기존에 동일 폴더가 없는 경우에만 생성 가능"
      ],
      "metadata": {
        "id": "0wPCuigqi4n2"
      },
      "execution_count": null,
      "outputs": []
    },
    {
      "cell_type": "code",
      "source": [
        "os.listdir()"
      ],
      "metadata": {
        "id": "NfpZB_MNjZzf"
      },
      "execution_count": null,
      "outputs": []
    },
    {
      "cell_type": "markdown",
      "source": [
        "### os.rmdir()\n",
        "- 폴더 제거 함수"
      ],
      "metadata": {
        "id": "xmbkzjnojFNi"
      }
    },
    {
      "cell_type": "code",
      "source": [
        "os.rmdir('out')\n",
        "\n",
        "# 논항에 제거할 폴더명 \n",
        "# 폴더 내에 파일이 없는 경우에만 삭제 가능"
      ],
      "metadata": {
        "id": "sevviSncjL0Q"
      },
      "execution_count": null,
      "outputs": []
    },
    {
      "cell_type": "code",
      "source": [
        "os.listdir()"
      ],
      "metadata": {
        "id": "GmnlTqfkjYWM"
      },
      "execution_count": null,
      "outputs": []
    }
  ]
}