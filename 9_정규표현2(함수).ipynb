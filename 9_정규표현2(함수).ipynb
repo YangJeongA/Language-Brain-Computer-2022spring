{
  "nbformat": 4,
  "nbformat_minor": 0,
  "metadata": {
    "colab": {
      "provenance": [],
      "include_colab_link": true
    },
    "kernelspec": {
      "name": "python3",
      "display_name": "Python 3"
    },
    "language_info": {
      "name": "python"
    }
  },
  "cells": [
    {
      "cell_type": "markdown",
      "metadata": {
        "id": "view-in-github",
        "colab_type": "text"
      },
      "source": [
        "<a href=\"https://colab.research.google.com/github/YangJeongA/Language-Brain-Computer-2022spring/blob/main/9_%EC%A0%95%EA%B7%9C%ED%91%9C%ED%98%842(%ED%95%A8%EC%88%98).ipynb\" target=\"_parent\"><img src=\"https://colab.research.google.com/assets/colab-badge.svg\" alt=\"Open In Colab\"/></a>"
      ]
    },
    {
      "cell_type": "markdown",
      "source": [
        "# re.match()\n",
        "- re모듈 함수\n",
        "- 두번째 논항의 문자열의 시작이 첫번째 논항의 값으로 시작됐는지를 체크해주는 함수 \n",
        "  \n",
        "  -> match 되지 않으면 출력값이 없음\n",
        "- match object 출력"
      ],
      "metadata": {
        "id": "t8nvJiW0b_Ug"
      }
    },
    {
      "cell_type": "markdown",
      "source": [
        "###1"
      ],
      "metadata": {
        "id": "U2QeGqq4eHQR"
      }
    },
    {
      "cell_type": "code",
      "execution_count": 1,
      "metadata": {
        "id": "s81wdqL6bWIA"
      },
      "outputs": [],
      "source": [
        "import re\n",
        "\n",
        "#정규표현 함수 사용하기 위해서는 import 해줘야 함"
      ]
    },
    {
      "cell_type": "code",
      "source": [
        "re.match('1', '1234')"
      ],
      "metadata": {
        "colab": {
          "base_uri": "https://localhost:8080/"
        },
        "id": "FIXArYmvchXj",
        "outputId": "ccf0a3ca-8884-4541-b22e-977e620d46d7"
      },
      "execution_count": 2,
      "outputs": [
        {
          "output_type": "execute_result",
          "data": {
            "text/plain": [
              "<re.Match object; span=(0, 1), match='1'>"
            ]
          },
          "metadata": {},
          "execution_count": 2
        }
      ]
    },
    {
      "cell_type": "markdown",
      "source": [
        "- 정규표현의 메타문자들은 첫번째 논항에서만 적용됨 (첫번째 논항에서만 메타문자의 기능 수행). 만약 두번째 논항에서 메타문자가 나오면 그것은 문장부호로서만 인식됨.\n",
        "- 정규표현은 문자열에만 적용 가능하기 때문에 두번째 논항에는 문자열 값만 들어갈 수 있음"
      ],
      "metadata": {
        "id": "wtp9ht8ycsIa"
      }
    },
    {
      "cell_type": "code",
      "source": [
        "type(re.match('1', '1234'))\n",
        "\n",
        "\n",
        "# match datatype"
      ],
      "metadata": {
        "colab": {
          "base_uri": "https://localhost:8080/"
        },
        "id": "dTv4n-_ldhVq",
        "outputId": "1d45307b-3b03-4d57-e236-6f57e9cecdc7"
      },
      "execution_count": 3,
      "outputs": [
        {
          "output_type": "execute_result",
          "data": {
            "text/plain": [
              "re.Match"
            ]
          },
          "metadata": {},
          "execution_count": 3
        }
      ]
    },
    {
      "cell_type": "code",
      "source": [
        "re.match('2', '1234')\n",
        "\n",
        "# 두번째 논항이 '2'로 시작하지 않기 때문에 아무런 값도 출력되지 않음"
      ],
      "metadata": {
        "id": "u_h3fuT3dnvz"
      },
      "execution_count": 4,
      "outputs": []
    },
    {
      "cell_type": "code",
      "source": [
        "type(re.match('2', '1234'))"
      ],
      "metadata": {
        "colab": {
          "base_uri": "https://localhost:8080/"
        },
        "id": "8iO4UYAyds43",
        "outputId": "6290d403-dc05-4275-81a9-7b9c354ffdc3"
      },
      "execution_count": 5,
      "outputs": [
        {
          "output_type": "execute_result",
          "data": {
            "text/plain": [
              "NoneType"
            ]
          },
          "metadata": {},
          "execution_count": 5
        }
      ]
    },
    {
      "cell_type": "markdown",
      "source": [
        "###2"
      ],
      "metadata": {
        "id": "jYA0OWJceJsR"
      }
    },
    {
      "cell_type": "code",
      "source": [
        "re.match('[0-9]', '1234')"
      ],
      "metadata": {
        "colab": {
          "base_uri": "https://localhost:8080/"
        },
        "id": "hjlklgEMeLFq",
        "outputId": "220c73fa-0378-4c25-85a2-e2856d4eb4ee"
      },
      "execution_count": 6,
      "outputs": [
        {
          "output_type": "execute_result",
          "data": {
            "text/plain": [
              "<re.Match object; span=(0, 1), match='1'>"
            ]
          },
          "metadata": {},
          "execution_count": 6
        }
      ]
    },
    {
      "cell_type": "code",
      "source": [
        "re.match('[0-9]', '3456')"
      ],
      "metadata": {
        "colab": {
          "base_uri": "https://localhost:8080/"
        },
        "id": "g-ZUJUMDeZIt",
        "outputId": "0f712d2f-03f4-4f2d-f54e-99dfe84b2460"
      },
      "execution_count": 7,
      "outputs": [
        {
          "output_type": "execute_result",
          "data": {
            "text/plain": [
              "<re.Match object; span=(0, 1), match='3'>"
            ]
          },
          "metadata": {},
          "execution_count": 7
        }
      ]
    },
    {
      "cell_type": "code",
      "source": [
        "re.match('[0-9]+', '3456')\n",
        "\n",
        "# '0-9' 사이 어떤 문자이든 하나 이상 반복"
      ],
      "metadata": {
        "colab": {
          "base_uri": "https://localhost:8080/"
        },
        "id": "INIEQOgRejKd",
        "outputId": "85ff81d0-c424-40e2-e647-d6da82bc9b7d"
      },
      "execution_count": 8,
      "outputs": [
        {
          "output_type": "execute_result",
          "data": {
            "text/plain": [
              "<re.Match object; span=(0, 4), match='3456'>"
            ]
          },
          "metadata": {},
          "execution_count": 8
        }
      ]
    },
    {
      "cell_type": "code",
      "source": [
        "re.match('[0-9]+', '1234')"
      ],
      "metadata": {
        "colab": {
          "base_uri": "https://localhost:8080/"
        },
        "id": "Ipl5fXL0es_A",
        "outputId": "e4bf7471-71ea-4189-a706-f027e13dc2b7"
      },
      "execution_count": 9,
      "outputs": [
        {
          "output_type": "execute_result",
          "data": {
            "text/plain": [
              "<re.Match object; span=(0, 4), match='1234'>"
            ]
          },
          "metadata": {},
          "execution_count": 9
        }
      ]
    },
    {
      "cell_type": "markdown",
      "source": [
        "###3"
      ],
      "metadata": {
        "id": "VKtfK8BRfEst"
      }
    },
    {
      "cell_type": "code",
      "source": [
        "re.match('345', '3456')"
      ],
      "metadata": {
        "colab": {
          "base_uri": "https://localhost:8080/"
        },
        "id": "SuRBHTubfFSe",
        "outputId": "b9c94091-ba50-4255-bed5-a77931c92427"
      },
      "execution_count": 10,
      "outputs": [
        {
          "output_type": "execute_result",
          "data": {
            "text/plain": [
              "<re.Match object; span=(0, 3), match='345'>"
            ]
          },
          "metadata": {},
          "execution_count": 10
        }
      ]
    },
    {
      "cell_type": "code",
      "source": [
        "re.match('346', '3456')"
      ],
      "metadata": {
        "id": "crUoOQIxfK59"
      },
      "execution_count": 11,
      "outputs": []
    },
    {
      "cell_type": "code",
      "source": [
        "re.match('[345]', '3456')"
      ],
      "metadata": {
        "colab": {
          "base_uri": "https://localhost:8080/"
        },
        "id": "tobRTvGRfPDO",
        "outputId": "e62eff80-f429-42db-ec4c-dd3d51dfbc2e"
      },
      "execution_count": 12,
      "outputs": [
        {
          "output_type": "execute_result",
          "data": {
            "text/plain": [
              "<re.Match object; span=(0, 1), match='3'>"
            ]
          },
          "metadata": {},
          "execution_count": 12
        }
      ]
    },
    {
      "cell_type": "code",
      "source": [
        "re.match('[345]+', '3456')"
      ],
      "metadata": {
        "colab": {
          "base_uri": "https://localhost:8080/"
        },
        "id": "mN41LlTdfUmA",
        "outputId": "20eab9a9-3870-4dd6-cfc5-ea205a418186"
      },
      "execution_count": 13,
      "outputs": [
        {
          "output_type": "execute_result",
          "data": {
            "text/plain": [
              "<re.Match object; span=(0, 3), match='345'>"
            ]
          },
          "metadata": {},
          "execution_count": 13
        }
      ]
    },
    {
      "cell_type": "markdown",
      "source": [
        "###4"
      ],
      "metadata": {
        "id": "xAEOvqE3ffSA"
      }
    },
    {
      "cell_type": "code",
      "source": [
        "re.match('[0-9]*', '3456')"
      ],
      "metadata": {
        "colab": {
          "base_uri": "https://localhost:8080/"
        },
        "id": "YN_bMEcIfgH3",
        "outputId": "604707cf-342e-4d72-efce-9c314a212c51"
      },
      "execution_count": 14,
      "outputs": [
        {
          "output_type": "execute_result",
          "data": {
            "text/plain": [
              "<re.Match object; span=(0, 4), match='3456'>"
            ]
          },
          "metadata": {},
          "execution_count": 14
        }
      ]
    },
    {
      "cell_type": "markdown",
      "source": [
        "- 반복 메타 문자가 있을 때 여러 개의 문자열과 매칭이 되는 경우 그 중 가장 길게 매칭되는 문자열 하나만이 출력됨\n",
        "\n",
        "  -> 반복 메타 문자와 관련해 정규표현이 적용되는 기본원리!! (중요)\n",
        "\n",
        "  -> 반복 메타 문자가 포함돼있는 경우 먼저 '최장 일치'인지 따져봐야함\n",
        "\n",
        "  -> e.g., *이 있으면 빈 문자열부터 '3', '34' 등 여러개의 문자열과 매칭되지만 가장 긴 '3456'만이 출력됨"
      ],
      "metadata": {
        "id": "sTGl1HZEfr7O"
      }
    },
    {
      "cell_type": "code",
      "source": [
        "re.match('[0-9]?', '3456')"
      ],
      "metadata": {
        "colab": {
          "base_uri": "https://localhost:8080/"
        },
        "id": "b4AeaWrFgAyq",
        "outputId": "2bec5bfd-7d61-4654-bdbe-b24eb451ad8d"
      },
      "execution_count": 15,
      "outputs": [
        {
          "output_type": "execute_result",
          "data": {
            "text/plain": [
              "<re.Match object; span=(0, 1), match='3'>"
            ]
          },
          "metadata": {},
          "execution_count": 15
        }
      ]
    },
    {
      "cell_type": "code",
      "source": [
        "re.match('.', '3456')"
      ],
      "metadata": {
        "id": "nlGD-II8geOf",
        "colab": {
          "base_uri": "https://localhost:8080/"
        },
        "outputId": "c7efd5e6-e91a-49bc-fa00-3b63d0df53e2"
      },
      "execution_count": 16,
      "outputs": [
        {
          "output_type": "execute_result",
          "data": {
            "text/plain": [
              "<re.Match object; span=(0, 1), match='3'>"
            ]
          },
          "metadata": {},
          "execution_count": 16
        }
      ]
    },
    {
      "cell_type": "code",
      "source": [
        "re.match('..', '3456')"
      ],
      "metadata": {
        "id": "rdXiMtUAgiz0",
        "colab": {
          "base_uri": "https://localhost:8080/"
        },
        "outputId": "d1ef0c2d-afb9-426f-e358-51c356b4bf0f"
      },
      "execution_count": 17,
      "outputs": [
        {
          "output_type": "execute_result",
          "data": {
            "text/plain": [
              "<re.Match object; span=(0, 2), match='34'>"
            ]
          },
          "metadata": {},
          "execution_count": 17
        }
      ]
    },
    {
      "cell_type": "code",
      "source": [
        "re.match('.+', '3456')"
      ],
      "metadata": {
        "colab": {
          "base_uri": "https://localhost:8080/"
        },
        "id": "OalEaZzVgmK9",
        "outputId": "160f22c2-74a1-45a2-aae1-38678e47322d"
      },
      "execution_count": 18,
      "outputs": [
        {
          "output_type": "execute_result",
          "data": {
            "text/plain": [
              "<re.Match object; span=(0, 4), match='3456'>"
            ]
          },
          "metadata": {},
          "execution_count": 18
        }
      ]
    },
    {
      "cell_type": "markdown",
      "source": [
        "# 정규표현은 문자열에 대해서만"
      ],
      "metadata": {
        "id": "q6idOaD5hIQM"
      }
    },
    {
      "cell_type": "code",
      "source": [
        "re.match('1', 1234)\n",
        "\n",
        "# 정규표현은 문자열에만 적용 가능\n",
        "# 모든 함수에 정규표현 적용 가능한 것도 x. re모듈에서 지원하는 함수에는 정규표현 사용 가능 "
      ],
      "metadata": {
        "id": "3mlkSridhLhg",
        "colab": {
          "base_uri": "https://localhost:8080/",
          "height": 385
        },
        "outputId": "c88f94c2-32d2-4ec3-b8a9-d6a5e0dbc598"
      },
      "execution_count": 19,
      "outputs": [
        {
          "output_type": "error",
          "ename": "TypeError",
          "evalue": "ignored",
          "traceback": [
            "\u001b[0;31m---------------------------------------------------------------------------\u001b[0m",
            "\u001b[0;31mTypeError\u001b[0m                                 Traceback (most recent call last)",
            "\u001b[0;32m<ipython-input-19-614ce5f01ff2>\u001b[0m in \u001b[0;36m<module>\u001b[0;34m\u001b[0m\n\u001b[0;32m----> 1\u001b[0;31m \u001b[0mre\u001b[0m\u001b[0;34m.\u001b[0m\u001b[0mmatch\u001b[0m\u001b[0;34m(\u001b[0m\u001b[0;34m'1'\u001b[0m\u001b[0;34m,\u001b[0m \u001b[0;36m1234\u001b[0m\u001b[0;34m)\u001b[0m\u001b[0;34m\u001b[0m\u001b[0;34m\u001b[0m\u001b[0m\n\u001b[0m\u001b[1;32m      2\u001b[0m \u001b[0;34m\u001b[0m\u001b[0m\n\u001b[1;32m      3\u001b[0m \u001b[0;31m# 정규표현은 문자열에만 적용 가능\u001b[0m\u001b[0;34m\u001b[0m\u001b[0;34m\u001b[0m\u001b[0;34m\u001b[0m\u001b[0m\n\u001b[1;32m      4\u001b[0m \u001b[0;31m# 모든 함수에 정규표현 적용 가능한 것도 x. re모듈에서 지원하는 함수에는 정규표현 사용 가능\u001b[0m\u001b[0;34m\u001b[0m\u001b[0;34m\u001b[0m\u001b[0;34m\u001b[0m\u001b[0m\n",
            "\u001b[0;32m/usr/lib/python3.8/re.py\u001b[0m in \u001b[0;36mmatch\u001b[0;34m(pattern, string, flags)\u001b[0m\n\u001b[1;32m    189\u001b[0m     \"\"\"Try to apply the pattern at the start of the string, returning\n\u001b[1;32m    190\u001b[0m     a Match object, or None if no match was found.\"\"\"\n\u001b[0;32m--> 191\u001b[0;31m     \u001b[0;32mreturn\u001b[0m \u001b[0m_compile\u001b[0m\u001b[0;34m(\u001b[0m\u001b[0mpattern\u001b[0m\u001b[0;34m,\u001b[0m \u001b[0mflags\u001b[0m\u001b[0;34m)\u001b[0m\u001b[0;34m.\u001b[0m\u001b[0mmatch\u001b[0m\u001b[0;34m(\u001b[0m\u001b[0mstring\u001b[0m\u001b[0;34m)\u001b[0m\u001b[0;34m\u001b[0m\u001b[0;34m\u001b[0m\u001b[0m\n\u001b[0m\u001b[1;32m    192\u001b[0m \u001b[0;34m\u001b[0m\u001b[0m\n\u001b[1;32m    193\u001b[0m \u001b[0;32mdef\u001b[0m \u001b[0mfullmatch\u001b[0m\u001b[0;34m(\u001b[0m\u001b[0mpattern\u001b[0m\u001b[0;34m,\u001b[0m \u001b[0mstring\u001b[0m\u001b[0;34m,\u001b[0m \u001b[0mflags\u001b[0m\u001b[0;34m=\u001b[0m\u001b[0;36m0\u001b[0m\u001b[0;34m)\u001b[0m\u001b[0;34m:\u001b[0m\u001b[0;34m\u001b[0m\u001b[0;34m\u001b[0m\u001b[0m\n",
            "\u001b[0;31mTypeError\u001b[0m: expected string or bytes-like object"
          ]
        }
      ]
    },
    {
      "cell_type": "code",
      "source": [
        "re.match(1, 1234)\n",
        "\n",
        "# 첫번째, 두번째 논항 모두 문자열 datatype만 올 수 있음"
      ],
      "metadata": {
        "id": "Wram4k7GiJFo",
        "colab": {
          "base_uri": "https://localhost:8080/",
          "height": 373
        },
        "outputId": "62375cbf-2feb-4eed-b01c-37fd142526af"
      },
      "execution_count": 20,
      "outputs": [
        {
          "output_type": "error",
          "ename": "TypeError",
          "evalue": "ignored",
          "traceback": [
            "\u001b[0;31m---------------------------------------------------------------------------\u001b[0m",
            "\u001b[0;31mTypeError\u001b[0m                                 Traceback (most recent call last)",
            "\u001b[0;32m<ipython-input-20-a190525f1689>\u001b[0m in \u001b[0;36m<module>\u001b[0;34m\u001b[0m\n\u001b[0;32m----> 1\u001b[0;31m \u001b[0mre\u001b[0m\u001b[0;34m.\u001b[0m\u001b[0mmatch\u001b[0m\u001b[0;34m(\u001b[0m\u001b[0;36m1\u001b[0m\u001b[0;34m,\u001b[0m \u001b[0;36m1234\u001b[0m\u001b[0;34m)\u001b[0m\u001b[0;34m\u001b[0m\u001b[0;34m\u001b[0m\u001b[0m\n\u001b[0m\u001b[1;32m      2\u001b[0m \u001b[0;34m\u001b[0m\u001b[0m\n\u001b[1;32m      3\u001b[0m \u001b[0;31m# 첫번째, 두번째 논항 모두 문자열 datatype만 올 수 있음\u001b[0m\u001b[0;34m\u001b[0m\u001b[0;34m\u001b[0m\u001b[0;34m\u001b[0m\u001b[0m\n",
            "\u001b[0;32m/usr/lib/python3.8/re.py\u001b[0m in \u001b[0;36mmatch\u001b[0;34m(pattern, string, flags)\u001b[0m\n\u001b[1;32m    189\u001b[0m     \"\"\"Try to apply the pattern at the start of the string, returning\n\u001b[1;32m    190\u001b[0m     a Match object, or None if no match was found.\"\"\"\n\u001b[0;32m--> 191\u001b[0;31m     \u001b[0;32mreturn\u001b[0m \u001b[0m_compile\u001b[0m\u001b[0;34m(\u001b[0m\u001b[0mpattern\u001b[0m\u001b[0;34m,\u001b[0m \u001b[0mflags\u001b[0m\u001b[0;34m)\u001b[0m\u001b[0;34m.\u001b[0m\u001b[0mmatch\u001b[0m\u001b[0;34m(\u001b[0m\u001b[0mstring\u001b[0m\u001b[0;34m)\u001b[0m\u001b[0;34m\u001b[0m\u001b[0;34m\u001b[0m\u001b[0m\n\u001b[0m\u001b[1;32m    192\u001b[0m \u001b[0;34m\u001b[0m\u001b[0m\n\u001b[1;32m    193\u001b[0m \u001b[0;32mdef\u001b[0m \u001b[0mfullmatch\u001b[0m\u001b[0;34m(\u001b[0m\u001b[0mpattern\u001b[0m\u001b[0;34m,\u001b[0m \u001b[0mstring\u001b[0m\u001b[0;34m,\u001b[0m \u001b[0mflags\u001b[0m\u001b[0;34m=\u001b[0m\u001b[0;36m0\u001b[0m\u001b[0;34m)\u001b[0m\u001b[0;34m:\u001b[0m\u001b[0;34m\u001b[0m\u001b[0;34m\u001b[0m\u001b[0m\n",
            "\u001b[0;32m/usr/lib/python3.8/re.py\u001b[0m in \u001b[0;36m_compile\u001b[0;34m(pattern, flags)\u001b[0m\n\u001b[1;32m    301\u001b[0m         \u001b[0;32mreturn\u001b[0m \u001b[0mpattern\u001b[0m\u001b[0;34m\u001b[0m\u001b[0;34m\u001b[0m\u001b[0m\n\u001b[1;32m    302\u001b[0m     \u001b[0;32mif\u001b[0m \u001b[0;32mnot\u001b[0m \u001b[0msre_compile\u001b[0m\u001b[0;34m.\u001b[0m\u001b[0misstring\u001b[0m\u001b[0;34m(\u001b[0m\u001b[0mpattern\u001b[0m\u001b[0;34m)\u001b[0m\u001b[0;34m:\u001b[0m\u001b[0;34m\u001b[0m\u001b[0;34m\u001b[0m\u001b[0m\n\u001b[0;32m--> 303\u001b[0;31m         \u001b[0;32mraise\u001b[0m \u001b[0mTypeError\u001b[0m\u001b[0;34m(\u001b[0m\u001b[0;34m\"first argument must be string or compiled pattern\"\u001b[0m\u001b[0;34m)\u001b[0m\u001b[0;34m\u001b[0m\u001b[0;34m\u001b[0m\u001b[0m\n\u001b[0m\u001b[1;32m    304\u001b[0m     \u001b[0mp\u001b[0m \u001b[0;34m=\u001b[0m \u001b[0msre_compile\u001b[0m\u001b[0;34m.\u001b[0m\u001b[0mcompile\u001b[0m\u001b[0;34m(\u001b[0m\u001b[0mpattern\u001b[0m\u001b[0;34m,\u001b[0m \u001b[0mflags\u001b[0m\u001b[0;34m)\u001b[0m\u001b[0;34m\u001b[0m\u001b[0;34m\u001b[0m\u001b[0m\n\u001b[1;32m    305\u001b[0m     \u001b[0;32mif\u001b[0m \u001b[0;32mnot\u001b[0m \u001b[0;34m(\u001b[0m\u001b[0mflags\u001b[0m \u001b[0;34m&\u001b[0m \u001b[0mDEBUG\u001b[0m\u001b[0;34m)\u001b[0m\u001b[0;34m:\u001b[0m\u001b[0;34m\u001b[0m\u001b[0;34m\u001b[0m\u001b[0m\n",
            "\u001b[0;31mTypeError\u001b[0m: first argument must be string or compiled pattern"
          ]
        }
      ]
    },
    {
      "cell_type": "markdown",
      "source": [
        "#re.search()\n",
        "- re모듈 함수\n",
        "- 왼쪽에서부터 검색해서 가장 먼저 일치하는 것 하나를 추출\n",
        "  - 첫번째 논항: 정규표현식\n",
        "  - 두번째 논항: 검색의 대상이 되는 문자열\n",
        "- match object 출력"
      ],
      "metadata": {
        "id": "hTaeeEziBd5q"
      }
    },
    {
      "cell_type": "code",
      "source": [
        "import re"
      ],
      "metadata": {
        "id": "ki0g1GIhC7QS"
      },
      "execution_count": 21,
      "outputs": []
    },
    {
      "cell_type": "code",
      "source": [
        "re.search('\\s+', '\\t\\n123\\t\\nabc\\t\\n')"
      ],
      "metadata": {
        "colab": {
          "base_uri": "https://localhost:8080/"
        },
        "id": "V2j2SJrVBg7i",
        "outputId": "e1906564-6ada-407a-c669-c2fc968f59aa"
      },
      "execution_count": 22,
      "outputs": [
        {
          "output_type": "execute_result",
          "data": {
            "text/plain": [
              "<re.Match object; span=(0, 2), match='\\t\\n'>"
            ]
          },
          "metadata": {},
          "execution_count": 22
        }
      ]
    },
    {
      "cell_type": "code",
      "source": [
        "re.search('\\s+$', '\\t\\n123\\n\\tabc\\n\\n\\n')\n",
        "\n",
        "#일치하는 것 중 가장 긴 문자열 출력"
      ],
      "metadata": {
        "colab": {
          "base_uri": "https://localhost:8080/"
        },
        "id": "n_UXnWWrC_Js",
        "outputId": "313ffd74-bf94-4cfd-e3eb-8a57f8a2a10e"
      },
      "execution_count": 23,
      "outputs": [
        {
          "output_type": "execute_result",
          "data": {
            "text/plain": [
              "<re.Match object; span=(10, 13), match='\\n\\n\\n'>"
            ]
          },
          "metadata": {},
          "execution_count": 23
        }
      ]
    },
    {
      "cell_type": "code",
      "source": [
        "re.search('\\s+$', '\\t\\n123\\n\\tabc\\n\\n\\n').group()"
      ],
      "metadata": {
        "colab": {
          "base_uri": "https://localhost:8080/",
          "height": 36
        },
        "id": "0hy9PlsJDN0a",
        "outputId": "8a8c54d1-d7c0-4a41-9f5c-1cf678b22faa"
      },
      "execution_count": 24,
      "outputs": [
        {
          "output_type": "execute_result",
          "data": {
            "text/plain": [
              "'\\n\\n\\n'"
            ],
            "application/vnd.google.colaboratory.intrinsic+json": {
              "type": "string"
            }
          },
          "metadata": {},
          "execution_count": 24
        }
      ]
    },
    {
      "cell_type": "code",
      "source": [
        "re.search('(\\s+)$', '\\t\\n123\\n\\tabc\\n\\n\\n').groups()"
      ],
      "metadata": {
        "colab": {
          "base_uri": "https://localhost:8080/"
        },
        "id": "7qrFMstQDxhx",
        "outputId": "5c9057ea-27ee-43e0-cc4f-5d7b189250d0"
      },
      "execution_count": 25,
      "outputs": [
        {
          "output_type": "execute_result",
          "data": {
            "text/plain": [
              "('\\n\\n\\n',)"
            ]
          },
          "metadata": {},
          "execution_count": 25
        }
      ]
    },
    {
      "cell_type": "code",
      "source": [
        "re.search('(\\s)+$', '\\t\\n123\\n\\tabc\\n\\n\\n').groups()"
      ],
      "metadata": {
        "colab": {
          "base_uri": "https://localhost:8080/"
        },
        "id": "VCpN78tKD6uP",
        "outputId": "55dd2e88-dc4c-46e5-dbdb-4207b18ea7e4"
      },
      "execution_count": 26,
      "outputs": [
        {
          "output_type": "execute_result",
          "data": {
            "text/plain": [
              "('\\n',)"
            ]
          },
          "metadata": {},
          "execution_count": 26
        }
      ]
    },
    {
      "cell_type": "markdown",
      "source": [
        "# 최소 매칭"
      ],
      "metadata": {
        "id": "oWYHZ-O9HAhe"
      }
    },
    {
      "cell_type": "code",
      "source": [
        "a = '<a href=\"in.html\">HERE<a href=\"out.html\">'"
      ],
      "metadata": {
        "id": "7OtiT7GoHCjE"
      },
      "execution_count": 27,
      "outputs": []
    },
    {
      "cell_type": "code",
      "source": [
        "re.search('href=\".*\"', a).group()\n",
        "\n",
        "#최장일치하는 문자열이 출력됨"
      ],
      "metadata": {
        "colab": {
          "base_uri": "https://localhost:8080/",
          "height": 36
        },
        "id": "Fof9cI2EHGcH",
        "outputId": "87794bfb-54b8-4d98-cdfc-bd2acabda232"
      },
      "execution_count": 28,
      "outputs": [
        {
          "output_type": "execute_result",
          "data": {
            "text/plain": [
              "'href=\"in.html\">HERE<a href=\"out.html\"'"
            ],
            "application/vnd.google.colaboratory.intrinsic+json": {
              "type": "string"
            }
          },
          "metadata": {},
          "execution_count": 28
        }
      ]
    },
    {
      "cell_type": "code",
      "source": [
        "re.search('href=\".*?\"', a).group()\n",
        "\n",
        "# ?를 반복메타문자 뒤에 사용 -> \"최소매칭\"을 의미 -> 일치하는 것 중 가장 짧은 것 출력"
      ],
      "metadata": {
        "id": "vbrTGv7mHPUu",
        "colab": {
          "base_uri": "https://localhost:8080/",
          "height": 36
        },
        "outputId": "895d3931-0366-4fd2-f0dc-e1bc680b46b1"
      },
      "execution_count": 29,
      "outputs": [
        {
          "output_type": "execute_result",
          "data": {
            "text/plain": [
              "'href=\"in.html\"'"
            ],
            "application/vnd.google.colaboratory.intrinsic+json": {
              "type": "string"
            }
          },
          "metadata": {},
          "execution_count": 29
        }
      ]
    },
    {
      "cell_type": "code",
      "source": [
        "re.search('href=\".+?\"', a).group()"
      ],
      "metadata": {
        "colab": {
          "base_uri": "https://localhost:8080/",
          "height": 36
        },
        "id": "bdCNhc50f7td",
        "outputId": "b5568079-da6e-4af8-aa2d-9186dcddcf52"
      },
      "execution_count": 30,
      "outputs": [
        {
          "output_type": "execute_result",
          "data": {
            "text/plain": [
              "'href=\"in.html\"'"
            ],
            "application/vnd.google.colaboratory.intrinsic+json": {
              "type": "string"
            }
          },
          "metadata": {},
          "execution_count": 30
        }
      ]
    },
    {
      "cell_type": "markdown",
      "source": [
        "# re.findall()\n",
        "- re모듈 함수\n",
        "- 일치하는 모든 것을 출력\n",
        "- 기본적으로는 리스트로 출력됨\n",
        "  - grouping 되어있는 것이 하나이면 리스트로 출력\n",
        "  - grouping 되어있는 것이 2개 이상이면 튜플로 출력"
      ],
      "metadata": {
        "id": "KK2C8SWxHaMi"
      }
    },
    {
      "cell_type": "markdown",
      "source": [
        "###1"
      ],
      "metadata": {
        "id": "_lcg5XYPIPQ_"
      }
    },
    {
      "cell_type": "code",
      "source": [
        "re.findall('href=\".*?\"', a)\n",
        "\n",
        "\n",
        "#최소매칭"
      ],
      "metadata": {
        "id": "Q6i1H2sNH1fU",
        "colab": {
          "base_uri": "https://localhost:8080/"
        },
        "outputId": "fe813662-44ac-415a-fba6-878033e1ae3d"
      },
      "execution_count": 31,
      "outputs": [
        {
          "output_type": "execute_result",
          "data": {
            "text/plain": [
              "['href=\"in.html\"', 'href=\"out.html\"']"
            ]
          },
          "metadata": {},
          "execution_count": 31
        }
      ]
    },
    {
      "cell_type": "code",
      "source": [
        "re.findall('href=\"(.*?)\"', a)"
      ],
      "metadata": {
        "id": "6CDE_O8_IC7i",
        "colab": {
          "base_uri": "https://localhost:8080/"
        },
        "outputId": "318b7f0d-08aa-4573-dc40-a25cfef6018f"
      },
      "execution_count": 32,
      "outputs": [
        {
          "output_type": "execute_result",
          "data": {
            "text/plain": [
              "['in.html', 'out.html']"
            ]
          },
          "metadata": {},
          "execution_count": 32
        }
      ]
    },
    {
      "cell_type": "code",
      "source": [
        "re.findall('href=\".*\"', a)"
      ],
      "metadata": {
        "id": "92PR4MJQIHIw",
        "colab": {
          "base_uri": "https://localhost:8080/"
        },
        "outputId": "17487dc0-3777-4853-9b55-47c793e8dd26"
      },
      "execution_count": 33,
      "outputs": [
        {
          "output_type": "execute_result",
          "data": {
            "text/plain": [
              "['href=\"in.html\">HERE<a href=\"out.html\"']"
            ]
          },
          "metadata": {},
          "execution_count": 33
        }
      ]
    },
    {
      "cell_type": "code",
      "source": [
        "re.findall('\\w+', a)"
      ],
      "metadata": {
        "id": "e1ZaSg5KILsk",
        "colab": {
          "base_uri": "https://localhost:8080/"
        },
        "outputId": "2cbd34d6-5b4f-4431-b33d-1a1f87046a74"
      },
      "execution_count": 34,
      "outputs": [
        {
          "output_type": "execute_result",
          "data": {
            "text/plain": [
              "['a', 'href', 'in', 'html', 'HERE', 'a', 'href', 'out', 'html']"
            ]
          },
          "metadata": {},
          "execution_count": 34
        }
      ]
    },
    {
      "cell_type": "markdown",
      "source": [
        "###2"
      ],
      "metadata": {
        "id": "6U6HAKYoIQJu"
      }
    },
    {
      "cell_type": "code",
      "source": [
        "re.findall('\\\\b.+\\\\b', '\\t\\n123\\n\\tabc\\n\\n\\n')"
      ],
      "metadata": {
        "id": "4JaZyn0RIQ3y",
        "colab": {
          "base_uri": "https://localhost:8080/"
        },
        "outputId": "798c936a-53b1-4336-889e-a52cbd6e7c0e"
      },
      "execution_count": 35,
      "outputs": [
        {
          "output_type": "execute_result",
          "data": {
            "text/plain": [
              "['123', 'abc']"
            ]
          },
          "metadata": {},
          "execution_count": 35
        }
      ]
    },
    {
      "cell_type": "code",
      "source": [
        "re.findall('\\\\b.+\\\\b', '\\t\\n123abc\\n\\n\\n')"
      ],
      "metadata": {
        "id": "J6TDGEaMI4dh",
        "colab": {
          "base_uri": "https://localhost:8080/"
        },
        "outputId": "bbbe6c60-0d9c-42ab-8afc-a28b7af8e41a"
      },
      "execution_count": 36,
      "outputs": [
        {
          "output_type": "execute_result",
          "data": {
            "text/plain": [
              "['123abc']"
            ]
          },
          "metadata": {},
          "execution_count": 36
        }
      ]
    },
    {
      "cell_type": "code",
      "source": [
        "re.findall('\\\\b.+\\\\b', '\\t\\n123..abc..\\n\\n\\n')"
      ],
      "metadata": {
        "id": "f5zLODWII4kk",
        "colab": {
          "base_uri": "https://localhost:8080/"
        },
        "outputId": "05a44c8c-2c71-4648-9313-74502a9f015c"
      },
      "execution_count": 37,
      "outputs": [
        {
          "output_type": "execute_result",
          "data": {
            "text/plain": [
              "['123..abc']"
            ]
          },
          "metadata": {},
          "execution_count": 37
        }
      ]
    },
    {
      "cell_type": "markdown",
      "source": [
        "###3"
      ],
      "metadata": {
        "id": "SIhwDGBUJCdS"
      }
    },
    {
      "cell_type": "code",
      "source": [
        "re.findall('\\\\b.', '\\t123.abc.\\n')"
      ],
      "metadata": {
        "id": "VFN9gTa3JDC-",
        "colab": {
          "base_uri": "https://localhost:8080/"
        },
        "outputId": "8fc432a0-2550-4b8d-b2cb-85dc0c6aef18"
      },
      "execution_count": 38,
      "outputs": [
        {
          "output_type": "execute_result",
          "data": {
            "text/plain": [
              "['1', '.', 'a', '.']"
            ]
          },
          "metadata": {},
          "execution_count": 38
        }
      ]
    },
    {
      "cell_type": "code",
      "source": [
        "re.findall('.\\\\b', '\\t123.abc.\\n')"
      ],
      "metadata": {
        "id": "qRMxet-7JG49",
        "colab": {
          "base_uri": "https://localhost:8080/"
        },
        "outputId": "284ff38a-afa2-4e35-86b8-e4c456e01ac3"
      },
      "execution_count": 39,
      "outputs": [
        {
          "output_type": "execute_result",
          "data": {
            "text/plain": [
              "['\\t', '3', '.', 'c']"
            ]
          },
          "metadata": {},
          "execution_count": 39
        }
      ]
    },
    {
      "cell_type": "markdown",
      "source": [
        "###4"
      ],
      "metadata": {
        "id": "OTmb2_UJJQlo"
      }
    },
    {
      "cell_type": "code",
      "source": [
        "re.findall('(\\w+)\\s+(\\d+[-]\\d+[-]\\d+)', \"park 010-1234-5678\")\n",
        "\n",
        "#대괄호 안에 넣어주면 문장부호로 사용됨"
      ],
      "metadata": {
        "colab": {
          "base_uri": "https://localhost:8080/"
        },
        "id": "Sg5H_M3KJRxX",
        "outputId": "09446db2-ccbf-477a-ed1a-bba0ad5523e1"
      },
      "execution_count": 40,
      "outputs": [
        {
          "output_type": "execute_result",
          "data": {
            "text/plain": [
              "[('park', '010-1234-5678')]"
            ]
          },
          "metadata": {},
          "execution_count": 40
        }
      ]
    },
    {
      "cell_type": "code",
      "source": [
        "re.findall('(\\w+)\\s+(\\d+[-](\\d+[-]\\d+))', \"park 010-1234-5678\")\n",
        "\n",
        "#가장 바깥쪽 그룹부터 출력됨"
      ],
      "metadata": {
        "colab": {
          "base_uri": "https://localhost:8080/"
        },
        "id": "cg5Vn9e8JkF8",
        "outputId": "f0cf1ced-420e-4f0e-ec7a-a9ca2e816694"
      },
      "execution_count": 41,
      "outputs": [
        {
          "output_type": "execute_result",
          "data": {
            "text/plain": [
              "[('park', '010-1234-5678', '1234-5678')]"
            ]
          },
          "metadata": {},
          "execution_count": 41
        }
      ]
    },
    {
      "cell_type": "code",
      "source": [
        "re.findall('(\\w+)\\s+(\\d+[-](\\d+)[-](\\d+))', \"park 010-1234-5678\")"
      ],
      "metadata": {
        "colab": {
          "base_uri": "https://localhost:8080/"
        },
        "id": "pAYyHCnOJqtB",
        "outputId": "4738edfe-a382-4f8a-92a7-065fe279d853"
      },
      "execution_count": 42,
      "outputs": [
        {
          "output_type": "execute_result",
          "data": {
            "text/plain": [
              "[('park', '010-1234-5678', '1234', '5678')]"
            ]
          },
          "metadata": {},
          "execution_count": 42
        }
      ]
    },
    {
      "cell_type": "markdown",
      "source": [
        "###5"
      ],
      "metadata": {
        "id": "ecQ6AB94J8H2"
      }
    },
    {
      "cell_type": "code",
      "source": [
        "re.search('(\\w+)\\s+(\\d+[-](\\d+)[-](\\d+))', \"park 010-1234-5678\").group(1, 2, 3, 4)\n",
        "\n",
        "\n",
        "# group의 순서를 지정하고 싶은 경우 search 함수 이용\n",
        "\n",
        "# 출력값 데이터구조 주의하기"
      ],
      "metadata": {
        "colab": {
          "base_uri": "https://localhost:8080/"
        },
        "id": "f_0q1zf7J971",
        "outputId": "a4f892e2-6480-4b52-c236-13a19e56f2a3"
      },
      "execution_count": 43,
      "outputs": [
        {
          "output_type": "execute_result",
          "data": {
            "text/plain": [
              "('park', '010-1234-5678', '1234', '5678')"
            ]
          },
          "metadata": {},
          "execution_count": 43
        }
      ]
    },
    {
      "cell_type": "code",
      "source": [
        "re.search('(\\w+)\\s+(\\d+[-](\\d+)[-](\\d+))', \"park 010-1234-5678\").group(3, 2, 1, 4)"
      ],
      "metadata": {
        "colab": {
          "base_uri": "https://localhost:8080/"
        },
        "id": "E8HgRqmSnJes",
        "outputId": "b83012ed-c370-481c-88a4-58f938068b57"
      },
      "execution_count": 44,
      "outputs": [
        {
          "output_type": "execute_result",
          "data": {
            "text/plain": [
              "('1234', '010-1234-5678', 'park', '5678')"
            ]
          },
          "metadata": {},
          "execution_count": 44
        }
      ]
    },
    {
      "cell_type": "markdown",
      "source": [
        "###6"
      ],
      "metadata": {
        "id": "g6TWDBU1Ka54"
      }
    },
    {
      "cell_type": "code",
      "source": [
        "re.findall('[\\w\\W]$', '\\t123.abc.\\n')\n",
        "\n",
        "# 끝문자가 \\n인 경우 그 왼쪽 문자도 문자열 끝문자에 포함됨"
      ],
      "metadata": {
        "colab": {
          "base_uri": "https://localhost:8080/"
        },
        "id": "PI2IrX_dKbm9",
        "outputId": "4d4f5b42-576a-4aa1-da55-2d875b96ee27"
      },
      "execution_count": 45,
      "outputs": [
        {
          "output_type": "execute_result",
          "data": {
            "text/plain": [
              "['.', '\\n']"
            ]
          },
          "metadata": {},
          "execution_count": 45
        }
      ]
    },
    {
      "cell_type": "code",
      "source": [
        "re.findall('[\\w\\W]$', '\\t123.abc.\\n\\n')"
      ],
      "metadata": {
        "id": "9jMPsNSPKis_",
        "colab": {
          "base_uri": "https://localhost:8080/"
        },
        "outputId": "7e5040de-b5f4-4608-b246-060f3c50a544"
      },
      "execution_count": 46,
      "outputs": [
        {
          "output_type": "execute_result",
          "data": {
            "text/plain": [
              "['\\n', '\\n']"
            ]
          },
          "metadata": {},
          "execution_count": 46
        }
      ]
    },
    {
      "cell_type": "code",
      "source": [
        "re.findall('[\\w\\W]$', '\\t123.abc.\\n\\t')"
      ],
      "metadata": {
        "colab": {
          "base_uri": "https://localhost:8080/"
        },
        "id": "bQUDFIUNKoK6",
        "outputId": "2c54edb2-7365-429f-8963-55a511c3f8b2"
      },
      "execution_count": 47,
      "outputs": [
        {
          "output_type": "execute_result",
          "data": {
            "text/plain": [
              "['\\t']"
            ]
          },
          "metadata": {},
          "execution_count": 47
        }
      ]
    },
    {
      "cell_type": "markdown",
      "source": [
        "#re.split()\n",
        "- 출력결과 항상 리스트\n",
        "- 첫번째 논항이 구분자가 되어서 두번째 논항의 문자열을 분리\n",
        "  - 세번째 논항: 왼쪽에서부터 몇번째 구분자까지 분리할 것인지 결정\n",
        "- 구분자(첫번째 논항)가 두번째 논항에 포함되어 있지 않으면 두번째 논항 그대로 출력\n",
        "- 문자열 method인 split method와 잘 구분하기"
      ],
      "metadata": {
        "id": "uj_6iu9AK6pJ"
      }
    },
    {
      "cell_type": "markdown",
      "source": [
        "###1"
      ],
      "metadata": {
        "id": "ZRuGt9tINNc5"
      }
    },
    {
      "cell_type": "code",
      "source": [
        "re.split('\\W+', '\\t\\n123..abc..\\n\\n\\n')"
      ],
      "metadata": {
        "colab": {
          "base_uri": "https://localhost:8080/"
        },
        "id": "IkR2uhUPK6Hi",
        "outputId": "ac23c4ef-188b-40e2-f80d-1d82d0b95728"
      },
      "execution_count": 48,
      "outputs": [
        {
          "output_type": "execute_result",
          "data": {
            "text/plain": [
              "['', '123', 'abc', '']"
            ]
          },
          "metadata": {},
          "execution_count": 48
        }
      ]
    },
    {
      "cell_type": "code",
      "source": [
        "re.split('\\W+', '\\t\\n123..abc..\\n\\n\\n', 1)"
      ],
      "metadata": {
        "colab": {
          "base_uri": "https://localhost:8080/"
        },
        "id": "jSY4Bxj3NEgR",
        "outputId": "1a60313c-0116-4835-ea1f-5899d5ec2df8"
      },
      "execution_count": 49,
      "outputs": [
        {
          "output_type": "execute_result",
          "data": {
            "text/plain": [
              "['', '123..abc..\\n\\n\\n']"
            ]
          },
          "metadata": {},
          "execution_count": 49
        }
      ]
    },
    {
      "cell_type": "code",
      "source": [
        "re.split('\\W+', '\\t\\n123..abc..\\n\\n\\n', 2)"
      ],
      "metadata": {
        "id": "U2OB4yVgNHkg",
        "colab": {
          "base_uri": "https://localhost:8080/"
        },
        "outputId": "4c0afad5-4295-4646-9edc-1f635858b42c"
      },
      "execution_count": 50,
      "outputs": [
        {
          "output_type": "execute_result",
          "data": {
            "text/plain": [
              "['', '123', 'abc..\\n\\n\\n']"
            ]
          },
          "metadata": {},
          "execution_count": 50
        }
      ]
    },
    {
      "cell_type": "code",
      "source": [
        "re.split('\\W+', '\\t\\n123..abc..\\n\\n\\n', 3)"
      ],
      "metadata": {
        "id": "2uPf-e_TNItJ",
        "colab": {
          "base_uri": "https://localhost:8080/"
        },
        "outputId": "e650c7e0-0206-4c83-cc7b-cef1a2962a1a"
      },
      "execution_count": 51,
      "outputs": [
        {
          "output_type": "execute_result",
          "data": {
            "text/plain": [
              "['', '123', 'abc', '']"
            ]
          },
          "metadata": {},
          "execution_count": 51
        }
      ]
    },
    {
      "cell_type": "markdown",
      "source": [
        "###2"
      ],
      "metadata": {
        "id": "JF0USRoINO5X"
      }
    },
    {
      "cell_type": "code",
      "source": [
        "re.split('(\\W+)', '\\t\\n123..abc..\\n\\n\\n')\n",
        "\n",
        "\n",
        "# re.split함수의 첫번째 논항을 grouping하면 grouping 되어있는 구분자도 출력됨"
      ],
      "metadata": {
        "id": "qG8pKjoFNPsb",
        "colab": {
          "base_uri": "https://localhost:8080/"
        },
        "outputId": "b5f51804-fbbc-48eb-8b0b-71c420ca4889"
      },
      "execution_count": 52,
      "outputs": [
        {
          "output_type": "execute_result",
          "data": {
            "text/plain": [
              "['', '\\t\\n', '123', '..', 'abc', '..\\n\\n\\n', '']"
            ]
          },
          "metadata": {},
          "execution_count": 52
        }
      ]
    },
    {
      "cell_type": "code",
      "source": [
        "re.split('(\\W)+', '\\t\\n123..abc..\\n\\n\\n')"
      ],
      "metadata": {
        "id": "D0Q4jGo1Nc46",
        "colab": {
          "base_uri": "https://localhost:8080/"
        },
        "outputId": "a4a577a9-6988-457c-daea-a18ce9ee2f5c"
      },
      "execution_count": 53,
      "outputs": [
        {
          "output_type": "execute_result",
          "data": {
            "text/plain": [
              "['', '\\n', '123', '.', 'abc', '\\n', '']"
            ]
          },
          "metadata": {},
          "execution_count": 53
        }
      ]
    },
    {
      "cell_type": "code",
      "source": [
        "re.split('\\W+(\\w+)', '\\t\\n123..abc..\\n\\n\\n')"
      ],
      "metadata": {
        "colab": {
          "base_uri": "https://localhost:8080/"
        },
        "id": "BQ67HJxgNiPl",
        "outputId": "5903daa2-1093-4bf1-a8e8-1bb4a6525b20"
      },
      "execution_count": 54,
      "outputs": [
        {
          "output_type": "execute_result",
          "data": {
            "text/plain": [
              "['', '123', '', 'abc', '..\\n\\n\\n']"
            ]
          },
          "metadata": {},
          "execution_count": 54
        }
      ]
    },
    {
      "cell_type": "code",
      "source": [
        "re.split('\\W+(\\w+)', '\\t\\n123..abc..\\n\\n\\n', 1)"
      ],
      "metadata": {
        "colab": {
          "base_uri": "https://localhost:8080/"
        },
        "id": "AjU2LWhANr_T",
        "outputId": "4c2b6b5a-da40-421c-d939-854924697e6e"
      },
      "execution_count": 55,
      "outputs": [
        {
          "output_type": "execute_result",
          "data": {
            "text/plain": [
              "['', '123', '..abc..\\n\\n\\n']"
            ]
          },
          "metadata": {},
          "execution_count": 55
        }
      ]
    },
    {
      "cell_type": "code",
      "source": [
        "re.split('(\\W+)(\\w+)', '\\t\\n123..abc..\\n\\n\\n')"
      ],
      "metadata": {
        "colab": {
          "base_uri": "https://localhost:8080/"
        },
        "id": "v-Q0PSaoNuQ-",
        "outputId": "4f80c9fd-d87c-443f-97b5-9d8d66e2ecb8"
      },
      "execution_count": 56,
      "outputs": [
        {
          "output_type": "execute_result",
          "data": {
            "text/plain": [
              "['', '\\t\\n', '123', '', '..', 'abc', '..\\n\\n\\n']"
            ]
          },
          "metadata": {},
          "execution_count": 56
        }
      ]
    },
    {
      "cell_type": "markdown",
      "source": [
        "# re.sub함수\n",
        "\n",
        "- '찾아 바꾸기' 함수\n",
        "- 첫번째 논항의 문자열을 두번째 논항의 문자열로 바꿈"
      ],
      "metadata": {
        "id": "hBqAWYx5NyPu"
      }
    },
    {
      "cell_type": "code",
      "source": [
        "re.sub('red|blue', 'white', \"red and blue painting\")\n",
        "\n",
        "# | -> 또는"
      ],
      "metadata": {
        "colab": {
          "base_uri": "https://localhost:8080/",
          "height": 36
        },
        "id": "KzKOE8_TN-hg",
        "outputId": "42e6f2bc-de41-49bc-a90e-5959b038eaee"
      },
      "execution_count": 57,
      "outputs": [
        {
          "output_type": "execute_result",
          "data": {
            "text/plain": [
              "'white and white painting'"
            ],
            "application/vnd.google.colaboratory.intrinsic+json": {
              "type": "string"
            }
          },
          "metadata": {},
          "execution_count": 57
        }
      ]
    },
    {
      "cell_type": "code",
      "source": [
        "re.sub('red|blue', 'white', \"red and blue painting\", 1)\n",
        "\n",
        "\n",
        "# 세번째 논항: 왼쪽에서부터 몇번째 것 까지를 바꿀 것인지"
      ],
      "metadata": {
        "id": "wiLpWEWWO6Bk",
        "colab": {
          "base_uri": "https://localhost:8080/",
          "height": 36
        },
        "outputId": "fb26bcf9-f60a-4a48-ccbb-f3296d05f545"
      },
      "execution_count": 58,
      "outputs": [
        {
          "output_type": "execute_result",
          "data": {
            "text/plain": [
              "'white and blue painting'"
            ],
            "application/vnd.google.colaboratory.intrinsic+json": {
              "type": "string"
            }
          },
          "metadata": {},
          "execution_count": 58
        }
      ]
    },
    {
      "cell_type": "code",
      "source": [
        "re.sub('(red|blue) and', 'white', \"red and blue painting\")\n"
      ],
      "metadata": {
        "colab": {
          "base_uri": "https://localhost:8080/",
          "height": 36
        },
        "id": "JDvKgEjAPBto",
        "outputId": "93435a1c-d963-49da-a7b0-2a855f3f9dc8"
      },
      "execution_count": 59,
      "outputs": [
        {
          "output_type": "execute_result",
          "data": {
            "text/plain": [
              "'white blue painting'"
            ],
            "application/vnd.google.colaboratory.intrinsic+json": {
              "type": "string"
            }
          },
          "metadata": {},
          "execution_count": 59
        }
      ]
    },
    {
      "cell_type": "code",
      "source": [
        "re.sub('and (red|blue)', 'white', \"red and blue painting\")\n"
      ],
      "metadata": {
        "id": "fanhU6iKPGfD",
        "colab": {
          "base_uri": "https://localhost:8080/",
          "height": 36
        },
        "outputId": "c4db17b4-b37a-4011-e49e-830d4920070b"
      },
      "execution_count": 60,
      "outputs": [
        {
          "output_type": "execute_result",
          "data": {
            "text/plain": [
              "'red white painting'"
            ],
            "application/vnd.google.colaboratory.intrinsic+json": {
              "type": "string"
            }
          },
          "metadata": {},
          "execution_count": 60
        }
      ]
    },
    {
      "cell_type": "markdown",
      "source": [
        "#re.compile()\n",
        "- 정규표현을 convert 시키는 함수\n",
        "- 정규표현 함수를 더 간편하게 사용하고, 동일한 정규표현을 반복해서 사용하지 않아도 되게 해줌\n",
        "- 논항에는 정규표현식만 들어갈 수 있음"
      ],
      "metadata": {
        "id": "8cwCp0uFPKzA"
      }
    },
    {
      "cell_type": "code",
      "source": [
        "p = re.compile('(\\w+)\\s+=\\s+(\\w+)')"
      ],
      "metadata": {
        "id": "ghpFXLvfPVPr"
      },
      "execution_count": 61,
      "outputs": []
    },
    {
      "cell_type": "code",
      "source": [
        "p"
      ],
      "metadata": {
        "colab": {
          "base_uri": "https://localhost:8080/"
        },
        "id": "Ip4a3rjCPeMb",
        "outputId": "84317b5d-99b5-4d73-ca22-70c285208a9a"
      },
      "execution_count": 62,
      "outputs": [
        {
          "output_type": "execute_result",
          "data": {
            "text/plain": [
              "re.compile(r'(\\w+)\\s+=\\s+(\\w+)', re.UNICODE)"
            ]
          },
          "metadata": {},
          "execution_count": 62
        }
      ]
    },
    {
      "cell_type": "code",
      "source": [
        "p.match('abc = 1234').groups()\n",
        "\n",
        "\n",
        "# re.compile 함수를 이용해서 변수에 정규표현식을 저장한 후 함수에서 re대신에 변수명을 써주면, 함수의 첫번째 논항에 정규표현식을 사용하지 않아도 됨"
      ],
      "metadata": {
        "id": "j56_JdARPjff",
        "colab": {
          "base_uri": "https://localhost:8080/"
        },
        "outputId": "1eaaba1d-5e0f-4e37-b84e-17d1ce5e4382"
      },
      "execution_count": 63,
      "outputs": [
        {
          "output_type": "execute_result",
          "data": {
            "text/plain": [
              "('abc', '1234')"
            ]
          },
          "metadata": {},
          "execution_count": 63
        }
      ]
    },
    {
      "cell_type": "code",
      "source": [
        "p.search('bc = 12').groups()"
      ],
      "metadata": {
        "colab": {
          "base_uri": "https://localhost:8080/"
        },
        "id": "gguFw5oZQnUC",
        "outputId": "5d98c3a4-c807-4cde-c71d-46599fa42b55"
      },
      "execution_count": 64,
      "outputs": [
        {
          "output_type": "execute_result",
          "data": {
            "text/plain": [
              "('bc', '12')"
            ]
          },
          "metadata": {},
          "execution_count": 64
        }
      ]
    },
    {
      "cell_type": "code",
      "source": [
        "p.findall('abc = 1234 bc = 12')"
      ],
      "metadata": {
        "colab": {
          "base_uri": "https://localhost:8080/"
        },
        "id": "BnuIXcvqQxXo",
        "outputId": "43c7beae-666b-4629-ab28-ef5c2edc2690"
      },
      "execution_count": 65,
      "outputs": [
        {
          "output_type": "execute_result",
          "data": {
            "text/plain": [
              "[('abc', '1234'), ('bc', '12')]"
            ]
          },
          "metadata": {},
          "execution_count": 65
        }
      ]
    },
    {
      "cell_type": "markdown",
      "source": [
        "# 정규표현 flags\n",
        "\n",
        "- 정규표현식에 특수한 기능을 부가시키는 표식"
      ],
      "metadata": {
        "id": "Qx8yNYjPQ2fN"
      }
    },
    {
      "cell_type": "markdown",
      "source": [
        "###1"
      ],
      "metadata": {
        "id": "FvlGe1HHSKQ5"
      }
    },
    {
      "cell_type": "code",
      "source": [
        "re.match('.+', 'ab\\ncd').group()"
      ],
      "metadata": {
        "colab": {
          "base_uri": "https://localhost:8080/",
          "height": 36
        },
        "id": "CxkB4ODEQ6qM",
        "outputId": "08a2ba89-380d-4fc4-aca6-876cad3dc943"
      },
      "execution_count": 66,
      "outputs": [
        {
          "output_type": "execute_result",
          "data": {
            "text/plain": [
              "'ab'"
            ],
            "application/vnd.google.colaboratory.intrinsic+json": {
              "type": "string"
            }
          },
          "metadata": {},
          "execution_count": 66
        }
      ]
    },
    {
      "cell_type": "code",
      "source": [
        "re.match('.+', 'ab\\ncd', re.DOTALL).group()\n",
        "\n",
        "# 정규표현 .이 \\n까지 포함하도록 하는 flag"
      ],
      "metadata": {
        "colab": {
          "base_uri": "https://localhost:8080/",
          "height": 36
        },
        "id": "ca7IYWkAROir",
        "outputId": "2c2b71bd-1172-450c-bbf5-d0376b20813e"
      },
      "execution_count": 67,
      "outputs": [
        {
          "output_type": "execute_result",
          "data": {
            "text/plain": [
              "'ab\\ncd'"
            ],
            "application/vnd.google.colaboratory.intrinsic+json": {
              "type": "string"
            }
          },
          "metadata": {},
          "execution_count": 67
        }
      ]
    },
    {
      "cell_type": "code",
      "source": [
        "re.match('.+', 'ab\\ncd', re.S).group()\n",
        "\n",
        "# 정규표현 .이 \\n까지 포함하도록 하는 flag"
      ],
      "metadata": {
        "id": "vP88hWihRXqr",
        "colab": {
          "base_uri": "https://localhost:8080/",
          "height": 36
        },
        "outputId": "fd2b59fd-d6a6-4cb9-934d-492520d3d530"
      },
      "execution_count": 68,
      "outputs": [
        {
          "output_type": "execute_result",
          "data": {
            "text/plain": [
              "'ab\\ncd'"
            ],
            "application/vnd.google.colaboratory.intrinsic+json": {
              "type": "string"
            }
          },
          "metadata": {},
          "execution_count": 68
        }
      ]
    },
    {
      "cell_type": "markdown",
      "source": [
        "###2"
      ],
      "metadata": {
        "id": "49mcfmFASLa0"
      }
    },
    {
      "cell_type": "code",
      "source": [
        "re.match('[a-z]+', 'pyTHon').group()"
      ],
      "metadata": {
        "colab": {
          "base_uri": "https://localhost:8080/",
          "height": 36
        },
        "id": "re08LvlUSOlI",
        "outputId": "997ac0be-c91a-4fa2-e429-8b8c9e6337eb"
      },
      "execution_count": 69,
      "outputs": [
        {
          "output_type": "execute_result",
          "data": {
            "text/plain": [
              "'py'"
            ],
            "application/vnd.google.colaboratory.intrinsic+json": {
              "type": "string"
            }
          },
          "metadata": {},
          "execution_count": 69
        }
      ]
    },
    {
      "cell_type": "code",
      "source": [
        "re.match('[A-Z]+', 'pyTHon').group()"
      ],
      "metadata": {
        "colab": {
          "base_uri": "https://localhost:8080/",
          "height": 170
        },
        "id": "8z6u8qIXSzTm",
        "outputId": "57184efa-abb4-452e-f802-834520b4f75a"
      },
      "execution_count": 70,
      "outputs": [
        {
          "output_type": "error",
          "ename": "AttributeError",
          "evalue": "ignored",
          "traceback": [
            "\u001b[0;31m---------------------------------------------------------------------------\u001b[0m",
            "\u001b[0;31mAttributeError\u001b[0m                            Traceback (most recent call last)",
            "\u001b[0;32m<ipython-input-70-8175f8844870>\u001b[0m in \u001b[0;36m<module>\u001b[0;34m\u001b[0m\n\u001b[0;32m----> 1\u001b[0;31m \u001b[0mre\u001b[0m\u001b[0;34m.\u001b[0m\u001b[0mmatch\u001b[0m\u001b[0;34m(\u001b[0m\u001b[0;34m'[A-Z]+'\u001b[0m\u001b[0;34m,\u001b[0m \u001b[0;34m'pyTHon'\u001b[0m\u001b[0;34m)\u001b[0m\u001b[0;34m.\u001b[0m\u001b[0mgroup\u001b[0m\u001b[0;34m(\u001b[0m\u001b[0;34m)\u001b[0m\u001b[0;34m\u001b[0m\u001b[0;34m\u001b[0m\u001b[0m\n\u001b[0m",
            "\u001b[0;31mAttributeError\u001b[0m: 'NoneType' object has no attribute 'group'"
          ]
        }
      ]
    },
    {
      "cell_type": "code",
      "source": [
        "re.match('[A-Z]+', 'pyTHon', re.IGNORECASE).group()\n",
        "\n",
        "# 정규표현식의 대소문자 구분이 사라짐"
      ],
      "metadata": {
        "colab": {
          "base_uri": "https://localhost:8080/",
          "height": 36
        },
        "id": "m8x7ObwoTIQU",
        "outputId": "c55c58f7-4f8d-4b89-9284-c6678584101f"
      },
      "execution_count": 71,
      "outputs": [
        {
          "output_type": "execute_result",
          "data": {
            "text/plain": [
              "'pyTHon'"
            ],
            "application/vnd.google.colaboratory.intrinsic+json": {
              "type": "string"
            }
          },
          "metadata": {},
          "execution_count": 71
        }
      ]
    },
    {
      "cell_type": "code",
      "source": [
        "re.match('[A-Z]+', 'pyTHon', re.I).group()\n",
        "\n",
        "# 정규표현식의 대소문자 구분이 사라짐"
      ],
      "metadata": {
        "id": "b2szdg5tTSz0",
        "colab": {
          "base_uri": "https://localhost:8080/",
          "height": 36
        },
        "outputId": "ee5a35b8-c71a-4e69-e0d3-1e95aad28464"
      },
      "execution_count": 72,
      "outputs": [
        {
          "output_type": "execute_result",
          "data": {
            "text/plain": [
              "'pyTHon'"
            ],
            "application/vnd.google.colaboratory.intrinsic+json": {
              "type": "string"
            }
          },
          "metadata": {},
          "execution_count": 72
        }
      ]
    },
    {
      "cell_type": "markdown",
      "source": [
        "###3"
      ],
      "metadata": {
        "id": "ohXz4KyaTb5Q"
      }
    },
    {
      "cell_type": "code",
      "source": [
        "re.findall('^[a-z]+', 'ab\\ncd\\nef')"
      ],
      "metadata": {
        "colab": {
          "base_uri": "https://localhost:8080/"
        },
        "id": "iHqKoH6bTci9",
        "outputId": "0921062a-134a-4253-c04a-61704af19e2d"
      },
      "execution_count": 73,
      "outputs": [
        {
          "output_type": "execute_result",
          "data": {
            "text/plain": [
              "['ab']"
            ]
          },
          "metadata": {},
          "execution_count": 73
        }
      ]
    },
    {
      "cell_type": "code",
      "source": [
        "re.findall('^[a-z]+', 'ab\\ncd\\nef', re.MULTILINE)\n",
        "\n",
        "# 라인 단위로 문자열의 시작과 끝을 구분하게 해줌 = \\n 다음도 문자열의 시작으로 인식됨(\\n 이전은 문자열의 끝)"
      ],
      "metadata": {
        "colab": {
          "base_uri": "https://localhost:8080/"
        },
        "id": "0jJiOusgTcnZ",
        "outputId": "9f124411-e60b-4d51-ba37-048ac9bdcc23"
      },
      "execution_count": 74,
      "outputs": [
        {
          "output_type": "execute_result",
          "data": {
            "text/plain": [
              "['ab', 'cd', 'ef']"
            ]
          },
          "metadata": {},
          "execution_count": 74
        }
      ]
    },
    {
      "cell_type": "code",
      "source": [
        "re.findall('^[a-z]+', 'ab\\ncd\\nef', re.M)\n",
        "\n",
        "# 라인 단위로 문자열의 시작과 끝을 구분하게 해줌 = \\n 다음도 문자열의 시작으로 인식됨(\\n 이전은 문자열의 끝)"
      ],
      "metadata": {
        "colab": {
          "base_uri": "https://localhost:8080/"
        },
        "id": "7UTf7-khT3r0",
        "outputId": "26094508-e0a3-4176-82ad-37adc3903580"
      },
      "execution_count": 75,
      "outputs": [
        {
          "output_type": "execute_result",
          "data": {
            "text/plain": [
              "['ab', 'cd', 'ef']"
            ]
          },
          "metadata": {},
          "execution_count": 75
        }
      ]
    },
    {
      "cell_type": "code",
      "source": [
        "re.findall('[a-z]+$', 'ab\\ncd\\nef')"
      ],
      "metadata": {
        "colab": {
          "base_uri": "https://localhost:8080/"
        },
        "id": "ES2eDYxwUNxp",
        "outputId": "4a2e2932-5b6b-4f11-e7e3-96d319cbdc1c"
      },
      "execution_count": 76,
      "outputs": [
        {
          "output_type": "execute_result",
          "data": {
            "text/plain": [
              "['ef']"
            ]
          },
          "metadata": {},
          "execution_count": 76
        }
      ]
    },
    {
      "cell_type": "code",
      "source": [
        "re.findall('[a-z]+$', 'ab\\ncd\\nef', re.M)"
      ],
      "metadata": {
        "colab": {
          "base_uri": "https://localhost:8080/"
        },
        "id": "ENMkep_cUToI",
        "outputId": "92d8e398-9384-46c0-b4d2-9d19e04ffc8a"
      },
      "execution_count": 77,
      "outputs": [
        {
          "output_type": "execute_result",
          "data": {
            "text/plain": [
              "['ab', 'cd', 'ef']"
            ]
          },
          "metadata": {},
          "execution_count": 77
        }
      ]
    },
    {
      "cell_type": "markdown",
      "source": [
        "# 정규표현 함수의 논항수와 flags\n",
        "- re.match, re.search, re.findall 등의 함수와 달리 re.sub 또는 re.split의 경우는 논항이 3개인 경우가 있음. 이 경우 \"flags\"라는 key를 명시하지 않으면 flags가 적용되지 않음"
      ],
      "metadata": {
        "id": "Pv-Kk3doUaS-"
      }
    },
    {
      "cell_type": "code",
      "source": [
        "re.match('[A-Z]+', 'pyTHon', re.I).group()"
      ],
      "metadata": {
        "colab": {
          "base_uri": "https://localhost:8080/",
          "height": 36
        },
        "id": "_AZ9xPpfUmWn",
        "outputId": "d527cb5b-a02a-4cc8-dbf1-50fd63d8815b"
      },
      "execution_count": 78,
      "outputs": [
        {
          "output_type": "execute_result",
          "data": {
            "text/plain": [
              "'pyTHon'"
            ],
            "application/vnd.google.colaboratory.intrinsic+json": {
              "type": "string"
            }
          },
          "metadata": {},
          "execution_count": 78
        }
      ]
    },
    {
      "cell_type": "code",
      "source": [
        "re.match('[A-Z]+', 'pyTHon', flags=re.I).group()"
      ],
      "metadata": {
        "colab": {
          "base_uri": "https://localhost:8080/",
          "height": 36
        },
        "id": "KDEJRE_7VbAy",
        "outputId": "7cd88645-af17-4572-8050-590bb100080b"
      },
      "execution_count": 79,
      "outputs": [
        {
          "output_type": "execute_result",
          "data": {
            "text/plain": [
              "'pyTHon'"
            ],
            "application/vnd.google.colaboratory.intrinsic+json": {
              "type": "string"
            }
          },
          "metadata": {},
          "execution_count": 79
        }
      ]
    },
    {
      "cell_type": "code",
      "source": [
        "re.sub('[A-Z]+', '***', 'pyTHon')"
      ],
      "metadata": {
        "colab": {
          "base_uri": "https://localhost:8080/",
          "height": 36
        },
        "id": "y0yWsjOPVg3f",
        "outputId": "95aa6a34-2630-4136-8122-09cfe4a80555"
      },
      "execution_count": 80,
      "outputs": [
        {
          "output_type": "execute_result",
          "data": {
            "text/plain": [
              "'py***on'"
            ],
            "application/vnd.google.colaboratory.intrinsic+json": {
              "type": "string"
            }
          },
          "metadata": {},
          "execution_count": 80
        }
      ]
    },
    {
      "cell_type": "code",
      "source": [
        "re.sub('[A-Z]+', '***', 'pyTHon', re.I)"
      ],
      "metadata": {
        "colab": {
          "base_uri": "https://localhost:8080/",
          "height": 36
        },
        "id": "xtt6ZC1qVujq",
        "outputId": "bd20797f-5bc4-4700-883c-20b0fc5c0d5c"
      },
      "execution_count": 81,
      "outputs": [
        {
          "output_type": "execute_result",
          "data": {
            "text/plain": [
              "'py***on'"
            ],
            "application/vnd.google.colaboratory.intrinsic+json": {
              "type": "string"
            }
          },
          "metadata": {},
          "execution_count": 81
        }
      ]
    },
    {
      "cell_type": "code",
      "source": [
        "re.sub('[A-Z]+', '***', 'pyTHon', flags=re.I)"
      ],
      "metadata": {
        "colab": {
          "base_uri": "https://localhost:8080/",
          "height": 36
        },
        "id": "5vNd3YN1Vw3j",
        "outputId": "c36968fd-98d3-48a0-d4df-338f5d21b15c"
      },
      "execution_count": 82,
      "outputs": [
        {
          "output_type": "execute_result",
          "data": {
            "text/plain": [
              "'***'"
            ],
            "application/vnd.google.colaboratory.intrinsic+json": {
              "type": "string"
            }
          },
          "metadata": {},
          "execution_count": 82
        }
      ]
    }
  ]
}