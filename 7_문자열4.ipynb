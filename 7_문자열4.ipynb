{
  "nbformat": 4,
  "nbformat_minor": 0,
  "metadata": {
    "colab": {
      "provenance": [],
      "include_colab_link": true
    },
    "kernelspec": {
      "name": "python3",
      "display_name": "Python 3"
    },
    "language_info": {
      "name": "python"
    }
  },
  "cells": [
    {
      "cell_type": "markdown",
      "metadata": {
        "id": "view-in-github",
        "colab_type": "text"
      },
      "source": [
        "<a href=\"https://colab.research.google.com/github/YangJeongA/Language-Brain-Computer-2022spring/blob/main/7_%EB%AC%B8%EC%9E%90%EC%97%B44.ipynb\" target=\"_parent\"><img src=\"https://colab.research.google.com/assets/colab-badge.svg\" alt=\"Open In Colab\"/></a>"
      ]
    },
    {
      "cell_type": "markdown",
      "source": [
        "# 문자열의 파일 입출력"
      ],
      "metadata": {
        "id": "2X1JT5g_gu31"
      }
    },
    {
      "cell_type": "markdown",
      "source": [
        "## 문자열을 텍스트파일에 출력\n",
        "1) open 함수 이용해서 파일 열어주기\n",
        "\n",
        "2) write method 이용해서 파일에 문자열 출력\n",
        "\n",
        "3) 출력 작업이 완료되면 close method 사용"
      ],
      "metadata": {
        "id": "5UaFLn-Fguu-"
      }
    },
    {
      "cell_type": "markdown",
      "source": [
        "####1."
      ],
      "metadata": {
        "id": "TDVSarfhhh7z"
      }
    },
    {
      "cell_type": "code",
      "execution_count": null,
      "metadata": {
        "id": "lkTyU5Apf88e"
      },
      "outputs": [],
      "source": [
        "s = 'Programming language\\nPython\\n'"
      ]
    },
    {
      "cell_type": "code",
      "source": [
        "print(s)"
      ],
      "metadata": {
        "colab": {
          "base_uri": "https://localhost:8080/"
        },
        "id": "c2TWOYaAg5u7",
        "outputId": "fbf782c3-2a2b-415e-b5b0-25064a6a3048"
      },
      "execution_count": null,
      "outputs": [
        {
          "output_type": "stream",
          "name": "stdout",
          "text": [
            "Programming language\n",
            "Python\n",
            "\n"
          ]
        }
      ]
    },
    {
      "cell_type": "code",
      "source": [
        "f = open('test.txt', 'w')\n",
        "\n",
        "\n",
        "# txt 파일을 쓰기 전용으로 불러옴\n",
        "# open()의 첫번째 논항은 파일명, 두번째 논항은 읽기전용('r' or 비워두기)인지 쓰기전용('w')인지\n",
        "# 파일을 입력 or 출력할 때 open 함수 이용\n",
        "# open함수의 출력값은 io (inputoutput) data type"
      ],
      "metadata": {
        "id": "Voy3KiqYhQtg"
      },
      "execution_count": null,
      "outputs": []
    },
    {
      "cell_type": "code",
      "source": [
        "f.write(s)\n",
        "\n",
        "\n",
        "# write method는 io data type에 적용 가능한 method\n",
        "# write의 논항에는 문자열만 들어갈 수 있음!!!! -> 불러온 파일에 입력할 str 적어줌 "
      ],
      "metadata": {
        "id": "GSILuZs-hb8C",
        "colab": {
          "base_uri": "https://localhost:8080/"
        },
        "outputId": "e0b7861f-d71f-4c1b-ff4a-fe04dbe0df16"
      },
      "execution_count": null,
      "outputs": [
        {
          "output_type": "execute_result",
          "data": {
            "text/plain": [
              "28"
            ]
          },
          "metadata": {},
          "execution_count": 4
        }
      ]
    },
    {
      "cell_type": "code",
      "source": [
        "f.close()"
      ],
      "metadata": {
        "id": "rciXx9RGhdiG"
      },
      "execution_count": null,
      "outputs": []
    },
    {
      "cell_type": "markdown",
      "source": [
        "####2."
      ],
      "metadata": {
        "id": "e_1rvjmYhjYm"
      }
    },
    {
      "cell_type": "code",
      "source": [
        "f = open('out.txt', 'w')\n",
        "f.write(s)\n",
        "f.write(s.upper())\n",
        "f.write(s.title())\n",
        "f.close()"
      ],
      "metadata": {
        "id": "3oXcs-1Fhks9"
      },
      "execution_count": null,
      "outputs": []
    },
    {
      "cell_type": "markdown",
      "source": [
        "#### 3."
      ],
      "metadata": {
        "id": "9LvgwLuyh0eq"
      }
    },
    {
      "cell_type": "code",
      "source": [
        "s = 123\n",
        "f = open('test1.txt', 'w')\n",
        "f.write(s)\n",
        "f.close()\n",
        "\n",
        "# wrtie()의 논항에는 문자열만 들어갈 수 있으므로 오류 발생 (수치값 사용 불가능)"
      ],
      "metadata": {
        "id": "7ER11T7ThzoD",
        "colab": {
          "base_uri": "https://localhost:8080/",
          "height": 241
        },
        "outputId": "4e7b51d4-cb5d-4c5c-88da-1e8b344d1ae3"
      },
      "execution_count": null,
      "outputs": [
        {
          "output_type": "error",
          "ename": "TypeError",
          "evalue": "ignored",
          "traceback": [
            "\u001b[0;31m---------------------------------------------------------------------------\u001b[0m",
            "\u001b[0;31mTypeError\u001b[0m                                 Traceback (most recent call last)",
            "\u001b[0;32m<ipython-input-7-bd82c415a942>\u001b[0m in \u001b[0;36m<module>\u001b[0;34m\u001b[0m\n\u001b[1;32m      1\u001b[0m \u001b[0ms\u001b[0m \u001b[0;34m=\u001b[0m \u001b[0;36m123\u001b[0m\u001b[0;34m\u001b[0m\u001b[0;34m\u001b[0m\u001b[0m\n\u001b[1;32m      2\u001b[0m \u001b[0mf\u001b[0m \u001b[0;34m=\u001b[0m \u001b[0mopen\u001b[0m\u001b[0;34m(\u001b[0m\u001b[0;34m'test1.txt'\u001b[0m\u001b[0;34m,\u001b[0m \u001b[0;34m'w'\u001b[0m\u001b[0;34m)\u001b[0m\u001b[0;34m\u001b[0m\u001b[0;34m\u001b[0m\u001b[0m\n\u001b[0;32m----> 3\u001b[0;31m \u001b[0mf\u001b[0m\u001b[0;34m.\u001b[0m\u001b[0mwrite\u001b[0m\u001b[0;34m(\u001b[0m\u001b[0ms\u001b[0m\u001b[0;34m)\u001b[0m\u001b[0;34m\u001b[0m\u001b[0;34m\u001b[0m\u001b[0m\n\u001b[0m\u001b[1;32m      4\u001b[0m \u001b[0mf\u001b[0m\u001b[0;34m.\u001b[0m\u001b[0mclose\u001b[0m\u001b[0;34m(\u001b[0m\u001b[0;34m)\u001b[0m\u001b[0;34m\u001b[0m\u001b[0;34m\u001b[0m\u001b[0m\n\u001b[1;32m      5\u001b[0m \u001b[0;34m\u001b[0m\u001b[0m\n",
            "\u001b[0;31mTypeError\u001b[0m: write() argument must be str, not int"
          ]
        }
      ]
    },
    {
      "cell_type": "code",
      "source": [
        "s = 123\n",
        "f = open('test1.txt', 'w')\n",
        "f.write(str(s))\n",
        "f.close()\n",
        "\n",
        "\n",
        "# str method 사용해서 write 논항에 넣어주기"
      ],
      "metadata": {
        "id": "g1AwflHwh_ko"
      },
      "execution_count": null,
      "outputs": []
    },
    {
      "cell_type": "markdown",
      "source": [
        "#### 4."
      ],
      "metadata": {
        "id": "1S6A5KRMiL5Z"
      }
    },
    {
      "cell_type": "code",
      "source": [
        "open('test1.txt', 'w').write(list('abc'))\n",
        "\n",
        "\n",
        "# write 논항에는 문자열만 들어갈 수 있으므로 오류 발생"
      ],
      "metadata": {
        "colab": {
          "base_uri": "https://localhost:8080/",
          "height": 224
        },
        "id": "UtQsEzYqiMdy",
        "outputId": "72a877ef-fb3c-4ad6-f82e-b66feec11764"
      },
      "execution_count": null,
      "outputs": [
        {
          "output_type": "error",
          "ename": "TypeError",
          "evalue": "ignored",
          "traceback": [
            "\u001b[0;31m---------------------------------------------------------------------------\u001b[0m",
            "\u001b[0;31mTypeError\u001b[0m                                 Traceback (most recent call last)",
            "\u001b[0;32m<ipython-input-9-6e7b66c7a732>\u001b[0m in \u001b[0;36m<module>\u001b[0;34m\u001b[0m\n\u001b[0;32m----> 1\u001b[0;31m \u001b[0mopen\u001b[0m\u001b[0;34m(\u001b[0m\u001b[0;34m'test1.txt'\u001b[0m\u001b[0;34m,\u001b[0m \u001b[0;34m'w'\u001b[0m\u001b[0;34m)\u001b[0m\u001b[0;34m.\u001b[0m\u001b[0mwrite\u001b[0m\u001b[0;34m(\u001b[0m\u001b[0mlist\u001b[0m\u001b[0;34m(\u001b[0m\u001b[0;34m'abc'\u001b[0m\u001b[0;34m)\u001b[0m\u001b[0;34m)\u001b[0m\u001b[0;34m\u001b[0m\u001b[0;34m\u001b[0m\u001b[0m\n\u001b[0m\u001b[1;32m      2\u001b[0m \u001b[0;34m\u001b[0m\u001b[0m\n\u001b[1;32m      3\u001b[0m \u001b[0;34m\u001b[0m\u001b[0m\n\u001b[1;32m      4\u001b[0m \u001b[0;31m# write 논항에는 문자열만 들어갈 수 있으므로 오류 발생\u001b[0m\u001b[0;34m\u001b[0m\u001b[0;34m\u001b[0m\u001b[0;34m\u001b[0m\u001b[0m\n",
            "\u001b[0;31mTypeError\u001b[0m: write() argument must be str, not list"
          ]
        }
      ]
    },
    {
      "cell_type": "code",
      "source": [
        "open('test1.txt', 'w').write(''join(list('abc')))\n",
        "\n",
        "\n",
        "# join method 사용해서 write method 안에 넣어주기\n",
        "\n",
        "# 불러온 txt 파일을 변수명에 따로 할당하지 않고 이렇게 바로 코드를 진행시켜주면 close()를 따로 안 해줘도 file에 출력되고 file에 출력되고 끝남 \n",
        "# = 변수에 open()에 의한 출력값을 저장한 경우에는 write를 여러 번 쓸 수 있지만 저장하지 않은 경우에는 한 번만 write를 해도 값이 완전히 출력된 후 결과값이 작업폴더에 저장되고, 종료됨"
      ],
      "metadata": {
        "id": "VvGbWKsziRuf",
        "colab": {
          "base_uri": "https://localhost:8080/",
          "height": 134
        },
        "outputId": "021c0088-0407-4c33-93c9-4f024a3a5acb"
      },
      "execution_count": null,
      "outputs": [
        {
          "output_type": "error",
          "ename": "SyntaxError",
          "evalue": "ignored",
          "traceback": [
            "\u001b[0;36m  File \u001b[0;32m\"<ipython-input-11-3926ce5634e8>\"\u001b[0;36m, line \u001b[0;32m1\u001b[0m\n\u001b[0;31m    open('test1.txt', 'w').write(''join(list('abc')))\u001b[0m\n\u001b[0m                                   ^\u001b[0m\n\u001b[0;31mSyntaxError\u001b[0m\u001b[0;31m:\u001b[0m invalid syntax\n"
          ]
        }
      ]
    },
    {
      "cell_type": "markdown",
      "source": [
        "## 텍스트 파일 열기 "
      ],
      "metadata": {
        "id": "41jmn6zbi5LN"
      }
    },
    {
      "cell_type": "markdown",
      "source": [
        "####1."
      ],
      "metadata": {
        "id": "SWSunniGkH_D"
      }
    },
    {
      "cell_type": "code",
      "source": [
        "f = open('test.txt')\n",
        "f\n",
        "\n",
        "# 파일을 읽기 전용으로 불러옴. 'r' (읽기 전용)은 default 값"
      ],
      "metadata": {
        "id": "4koBONfzi7st",
        "colab": {
          "base_uri": "https://localhost:8080/"
        },
        "outputId": "ac227bd3-3907-410f-dddd-239ad60fe618"
      },
      "execution_count": null,
      "outputs": [
        {
          "output_type": "execute_result",
          "data": {
            "text/plain": [
              "<_io.TextIOWrapper name='test.txt' mode='r' encoding='UTF-8'>"
            ]
          },
          "metadata": {},
          "execution_count": 12
        }
      ]
    },
    {
      "cell_type": "code",
      "source": [
        "s = f.read()\n",
        "s\n",
        "\n",
        "# read -> 파일 전체 내용을 하나의 문자열로 불러오는 method\n",
        "# read는 io data type에만 적용 가능한 method"
      ],
      "metadata": {
        "colab": {
          "base_uri": "https://localhost:8080/",
          "height": 36
        },
        "id": "kVoZ1UJzjS3Y",
        "outputId": "bcedfb92-7bf3-4f48-8db2-082baaa45d7d"
      },
      "execution_count": null,
      "outputs": [
        {
          "output_type": "execute_result",
          "data": {
            "text/plain": [
              "'Programming language\\nPython\\n'"
            ],
            "application/vnd.google.colaboratory.intrinsic+json": {
              "type": "string"
            }
          },
          "metadata": {},
          "execution_count": 13
        }
      ]
    },
    {
      "cell_type": "code",
      "source": [
        "print(s)"
      ],
      "metadata": {
        "colab": {
          "base_uri": "https://localhost:8080/"
        },
        "id": "eNhxTQU-jXrZ",
        "outputId": "7cbfa835-7bac-4355-8ac7-b31b671a61e9"
      },
      "execution_count": null,
      "outputs": [
        {
          "output_type": "stream",
          "name": "stdout",
          "text": [
            "Programming language\n",
            "Python\n",
            "\n"
          ]
        }
      ]
    },
    {
      "cell_type": "markdown",
      "source": [
        "읽기 전용 파일은 close method를 사용하지 않아도 큰 문제 없지만, 변수 f를 기존 파일이 아닌 다른 txt 파일로 불러오거나 쓰려면 close method를 사용해서 f를 memory에서 지우고 다시 f에 파일을 지정해줘야 함"
      ],
      "metadata": {
        "id": "52bWFlSLajYa"
      }
    },
    {
      "cell_type": "markdown",
      "source": [
        "####2."
      ],
      "metadata": {
        "id": "CeoGBro9kKE8"
      }
    },
    {
      "cell_type": "code",
      "source": [
        "f = open('test.txt', 'r')\n",
        "s = f.read()"
      ],
      "metadata": {
        "id": "CMEom3jYkK04"
      },
      "execution_count": null,
      "outputs": []
    },
    {
      "cell_type": "code",
      "source": [
        "s"
      ],
      "metadata": {
        "id": "EwFdDsItkOYP",
        "colab": {
          "base_uri": "https://localhost:8080/",
          "height": 36
        },
        "outputId": "4c3f406d-d23c-49f9-9b21-f790966ef402"
      },
      "execution_count": null,
      "outputs": [
        {
          "output_type": "execute_result",
          "data": {
            "text/plain": [
              "'Programming language\\nPython\\n'"
            ],
            "application/vnd.google.colaboratory.intrinsic+json": {
              "type": "string"
            }
          },
          "metadata": {},
          "execution_count": 16
        }
      ]
    },
    {
      "cell_type": "code",
      "source": [
        "print(s)"
      ],
      "metadata": {
        "id": "grvBYzcWkPZ7",
        "colab": {
          "base_uri": "https://localhost:8080/"
        },
        "outputId": "d8c018e1-1792-45c7-e56c-8764c405cc60"
      },
      "execution_count": null,
      "outputs": [
        {
          "output_type": "stream",
          "name": "stdout",
          "text": [
            "Programming language\n",
            "Python\n",
            "\n"
          ]
        }
      ]
    },
    {
      "cell_type": "markdown",
      "source": [
        "#### 3."
      ],
      "metadata": {
        "id": "kA42zUwUkQoy"
      }
    },
    {
      "cell_type": "code",
      "source": [
        "print(open('test.txt', 'r').read())\n",
        "\n",
        "\n",
        "# 한줄코드 사용하면 메모리 아낄 수 있음"
      ],
      "metadata": {
        "id": "5BifRxM2kQM-",
        "colab": {
          "base_uri": "https://localhost:8080/"
        },
        "outputId": "5ad07664-fb9c-4919-c2dd-f6dcc22c7b48"
      },
      "execution_count": null,
      "outputs": [
        {
          "output_type": "stream",
          "name": "stdout",
          "text": [
            "Programming language\n",
            "Python\n",
            "\n"
          ]
        }
      ]
    },
    {
      "cell_type": "markdown",
      "source": [
        "# 파일 라인 단위 처리"
      ],
      "metadata": {
        "id": "c7g4tDOZlJLT"
      }
    },
    {
      "cell_type": "markdown",
      "source": [
        "### readlines\n",
        "\n",
        "- 읽기 전용 io datatype에만 적용가능. 출력값의 datatype은 list\n",
        "- 파일의 내용을 line 단위로 불러오고, 각 line 단위(=맨 끝이 \\n인지의 여부)가 리스트의 원소가 됨.\n",
        "  - txt 파일을 **리스트**로 불러오고, line단위로 불러오고, 맨 뒤에 \\n이 결합된 형태로 출력하고 싶다면 readlines 사용\n",
        "  - read()함수 사용 후에 splitlines(True) method 적용하면 readlines의 출력값과 같음"
      ],
      "metadata": {
        "id": "Z-VOocHnl2zO"
      }
    },
    {
      "cell_type": "code",
      "source": [
        "f = open('test.txt', 'r').readlines()"
      ],
      "metadata": {
        "id": "3_ZgN9xRl52h"
      },
      "execution_count": null,
      "outputs": []
    },
    {
      "cell_type": "code",
      "source": [
        "f"
      ],
      "metadata": {
        "id": "SA_luu_Gl9jn",
        "colab": {
          "base_uri": "https://localhost:8080/"
        },
        "outputId": "ffe67e0a-a174-4a8b-ebc7-4f1f28694e8e"
      },
      "execution_count": null,
      "outputs": [
        {
          "output_type": "execute_result",
          "data": {
            "text/plain": [
              "['Programming language\\n', 'Python\\n']"
            ]
          },
          "metadata": {},
          "execution_count": 20
        }
      ]
    },
    {
      "cell_type": "code",
      "source": [
        "print(f)"
      ],
      "metadata": {
        "id": "2K6LeHNZl_GG",
        "colab": {
          "base_uri": "https://localhost:8080/"
        },
        "outputId": "84a5d168-d192-460d-a7fb-956287b13eac"
      },
      "execution_count": null,
      "outputs": [
        {
          "output_type": "stream",
          "name": "stdout",
          "text": [
            "['Programming language\\n', 'Python\\n']\n"
          ]
        }
      ]
    },
    {
      "cell_type": "code",
      "source": [
        "f[1]"
      ],
      "metadata": {
        "id": "--AaWBzFmABN",
        "colab": {
          "base_uri": "https://localhost:8080/",
          "height": 36
        },
        "outputId": "0d5edeca-1247-4895-ea7c-c27d09f3b848"
      },
      "execution_count": null,
      "outputs": [
        {
          "output_type": "execute_result",
          "data": {
            "text/plain": [
              "'Python\\n'"
            ],
            "application/vnd.google.colaboratory.intrinsic+json": {
              "type": "string"
            }
          },
          "metadata": {},
          "execution_count": 22
        }
      ]
    },
    {
      "cell_type": "code",
      "source": [
        "f[:1]"
      ],
      "metadata": {
        "id": "k2M-4ymCmBEE",
        "colab": {
          "base_uri": "https://localhost:8080/"
        },
        "outputId": "366f181d-c997-4ba5-bf11-eb4147f9796c"
      },
      "execution_count": null,
      "outputs": [
        {
          "output_type": "execute_result",
          "data": {
            "text/plain": [
              "['Programming language\\n']"
            ]
          },
          "metadata": {},
          "execution_count": 23
        }
      ]
    },
    {
      "cell_type": "markdown",
      "source": [
        "### readlines vs. splitlines"
      ],
      "metadata": {
        "id": "7URWEeUwmIW4"
      }
    },
    {
      "cell_type": "code",
      "source": [
        "s.splitlines()"
      ],
      "metadata": {
        "id": "6N0HUSBhmL5U",
        "colab": {
          "base_uri": "https://localhost:8080/"
        },
        "outputId": "deade0ff-513a-4160-9da0-0135517b82bf"
      },
      "execution_count": null,
      "outputs": [
        {
          "output_type": "execute_result",
          "data": {
            "text/plain": [
              "['Programming language', 'Python']"
            ]
          },
          "metadata": {},
          "execution_count": 24
        }
      ]
    },
    {
      "cell_type": "code",
      "source": [
        "s.splitlines(True)"
      ],
      "metadata": {
        "id": "1ZuQDNMbmN0u",
        "colab": {
          "base_uri": "https://localhost:8080/"
        },
        "outputId": "40318d5e-6248-48f6-b157-93d3c4573f84"
      },
      "execution_count": null,
      "outputs": [
        {
          "output_type": "execute_result",
          "data": {
            "text/plain": [
              "['Programming language\\n', 'Python\\n']"
            ]
          },
          "metadata": {},
          "execution_count": 25
        }
      ]
    },
    {
      "cell_type": "code",
      "source": [
        "s.readlines()"
      ],
      "metadata": {
        "id": "F8rUqfITmQVI",
        "colab": {
          "base_uri": "https://localhost:8080/",
          "height": 170
        },
        "outputId": "e781b60f-a344-4554-ac06-e3ca6edf14d1"
      },
      "execution_count": null,
      "outputs": [
        {
          "output_type": "error",
          "ename": "AttributeError",
          "evalue": "ignored",
          "traceback": [
            "\u001b[0;31m---------------------------------------------------------------------------\u001b[0m",
            "\u001b[0;31mAttributeError\u001b[0m                            Traceback (most recent call last)",
            "\u001b[0;32m<ipython-input-26-5b7b6d785c1c>\u001b[0m in \u001b[0;36m<module>\u001b[0;34m\u001b[0m\n\u001b[0;32m----> 1\u001b[0;31m \u001b[0ms\u001b[0m\u001b[0;34m.\u001b[0m\u001b[0mreadlines\u001b[0m\u001b[0;34m(\u001b[0m\u001b[0;34m)\u001b[0m\u001b[0;34m\u001b[0m\u001b[0;34m\u001b[0m\u001b[0m\n\u001b[0m",
            "\u001b[0;31mAttributeError\u001b[0m: 'str' object has no attribute 'readlines'"
          ]
        }
      ]
    },
    {
      "cell_type": "code",
      "source": [
        "open('test.txt', 'r').splitlines()"
      ],
      "metadata": {
        "id": "SGD6B7VgmRXX",
        "colab": {
          "base_uri": "https://localhost:8080/",
          "height": 170
        },
        "outputId": "e5d7f356-038f-4990-8e93-ed65b6c7b9c5"
      },
      "execution_count": null,
      "outputs": [
        {
          "output_type": "error",
          "ename": "AttributeError",
          "evalue": "ignored",
          "traceback": [
            "\u001b[0;31m---------------------------------------------------------------------------\u001b[0m",
            "\u001b[0;31mAttributeError\u001b[0m                            Traceback (most recent call last)",
            "\u001b[0;32m<ipython-input-27-15a36bf80178>\u001b[0m in \u001b[0;36m<module>\u001b[0;34m\u001b[0m\n\u001b[0;32m----> 1\u001b[0;31m \u001b[0mopen\u001b[0m\u001b[0;34m(\u001b[0m\u001b[0;34m'test.txt'\u001b[0m\u001b[0;34m,\u001b[0m \u001b[0;34m'r'\u001b[0m\u001b[0;34m)\u001b[0m\u001b[0;34m.\u001b[0m\u001b[0msplitlines\u001b[0m\u001b[0;34m(\u001b[0m\u001b[0;34m)\u001b[0m\u001b[0;34m\u001b[0m\u001b[0;34m\u001b[0m\u001b[0m\n\u001b[0m",
            "\u001b[0;31mAttributeError\u001b[0m: '_io.TextIOWrapper' object has no attribute 'splitlines'"
          ]
        }
      ]
    },
    {
      "cell_type": "markdown",
      "source": [
        "### writelines\n",
        "\n",
        "- 쓰기전용 파일에만 적용 가능\n",
        "- 한꺼번에 모든 line을 파일에 씀: sequence data type의 원소들을 하나의 문자열로 이어붙여서 file에 출력\n",
        "- write의 method의 논항에는 문자열만 올 수 있지만 writelines의 논항에는 sequence data가 모두 올 수 있음\n",
        "- join method와 비슷하지만 writelines는 출력값을 반드시 file로 출력한다는 점에서 차이가 있음"
      ],
      "metadata": {
        "id": "-1zLwMnfmWJN"
      }
    },
    {
      "cell_type": "code",
      "source": [
        "s = '100\\n\\t200\\t\\n\\n300\\n'"
      ],
      "metadata": {
        "id": "E5vMqQgLmXnX"
      },
      "execution_count": null,
      "outputs": []
    },
    {
      "cell_type": "code",
      "source": [
        "open('test2.txt', 'w').writelines(s.split('\\t'))\n",
        "open('test3.txt', 'w').writelines(s.split('\\n'))\n",
        "open('test4.txt', 'w').writelines(s)\n",
        "\n",
        "\n",
        "# writelines에 의해 출력된 값이 각 파일에 저장되고 close된 것"
      ],
      "metadata": {
        "id": "mrT2UeJbmbc1"
      },
      "execution_count": null,
      "outputs": []
    },
    {
      "cell_type": "code",
      "source": [
        "s.split('\\t')"
      ],
      "metadata": {
        "id": "cz3m4gqWnTWB",
        "colab": {
          "base_uri": "https://localhost:8080/"
        },
        "outputId": "334f902a-0e30-4fc4-dc0f-d134ee29cccd"
      },
      "execution_count": null,
      "outputs": [
        {
          "output_type": "execute_result",
          "data": {
            "text/plain": [
              "['100\\n', '200', '\\n\\n300\\n']"
            ]
          },
          "metadata": {},
          "execution_count": 30
        }
      ]
    },
    {
      "cell_type": "code",
      "source": [
        "s.split('\\n')"
      ],
      "metadata": {
        "id": "8Ls8HfqRnVVA",
        "colab": {
          "base_uri": "https://localhost:8080/"
        },
        "outputId": "38fe696e-6d44-466f-8686-6b6baab14a19"
      },
      "execution_count": null,
      "outputs": [
        {
          "output_type": "execute_result",
          "data": {
            "text/plain": [
              "['100', '\\t200\\t', '', '300', '']"
            ]
          },
          "metadata": {},
          "execution_count": 31
        }
      ]
    },
    {
      "cell_type": "code",
      "source": [
        "open('test2.txt').read()\n",
        "\n",
        "# writelines에 의한 출력값을 읽기 전용 파일로 엶"
      ],
      "metadata": {
        "id": "Paqi5vLCm23Z",
        "colab": {
          "base_uri": "https://localhost:8080/",
          "height": 36
        },
        "outputId": "26637b88-2cb3-47a6-a3a2-e8184a68fb23"
      },
      "execution_count": null,
      "outputs": [
        {
          "output_type": "execute_result",
          "data": {
            "text/plain": [
              "'100\\n200\\n\\n300\\n'"
            ],
            "application/vnd.google.colaboratory.intrinsic+json": {
              "type": "string"
            }
          },
          "metadata": {},
          "execution_count": 32
        }
      ]
    },
    {
      "cell_type": "code",
      "source": [
        "open('test3.txt').read()"
      ],
      "metadata": {
        "id": "YkclL8LJnABU",
        "colab": {
          "base_uri": "https://localhost:8080/",
          "height": 36
        },
        "outputId": "cc50d9c7-6ff6-4836-8265-4e593f69843e"
      },
      "execution_count": null,
      "outputs": [
        {
          "output_type": "execute_result",
          "data": {
            "text/plain": [
              "'100\\t200\\t300'"
            ],
            "application/vnd.google.colaboratory.intrinsic+json": {
              "type": "string"
            }
          },
          "metadata": {},
          "execution_count": 33
        }
      ]
    },
    {
      "cell_type": "code",
      "source": [
        "open('test4.txt').read()"
      ],
      "metadata": {
        "id": "SaZySuJUnQ71",
        "colab": {
          "base_uri": "https://localhost:8080/",
          "height": 36
        },
        "outputId": "d5103d85-bed2-403a-c1db-f029c894e560"
      },
      "execution_count": null,
      "outputs": [
        {
          "output_type": "execute_result",
          "data": {
            "text/plain": [
              "'100\\n\\t200\\t\\n\\n300\\n'"
            ],
            "application/vnd.google.colaboratory.intrinsic+json": {
              "type": "string"
            }
          },
          "metadata": {},
          "execution_count": 34
        }
      ]
    },
    {
      "cell_type": "code",
      "source": [
        "open('test4.txt', 'w').writelines(123)\n",
        "\n",
        "# writelines의 논항에 수치값 사용 불가 (sequence data type만 쓸 수 있음)"
      ],
      "metadata": {
        "id": "99hv4w2PnZdS",
        "colab": {
          "base_uri": "https://localhost:8080/",
          "height": 206
        },
        "outputId": "fc64b5ff-12f9-4793-b360-022f43fa8fb1"
      },
      "execution_count": null,
      "outputs": [
        {
          "output_type": "error",
          "ename": "TypeError",
          "evalue": "ignored",
          "traceback": [
            "\u001b[0;31m---------------------------------------------------------------------------\u001b[0m",
            "\u001b[0;31mTypeError\u001b[0m                                 Traceback (most recent call last)",
            "\u001b[0;32m<ipython-input-35-7c21fb7db39b>\u001b[0m in \u001b[0;36m<module>\u001b[0;34m\u001b[0m\n\u001b[0;32m----> 1\u001b[0;31m \u001b[0mopen\u001b[0m\u001b[0;34m(\u001b[0m\u001b[0;34m'test4.txt'\u001b[0m\u001b[0;34m,\u001b[0m \u001b[0;34m'w'\u001b[0m\u001b[0;34m)\u001b[0m\u001b[0;34m.\u001b[0m\u001b[0mwritelines\u001b[0m\u001b[0;34m(\u001b[0m\u001b[0;36m123\u001b[0m\u001b[0;34m)\u001b[0m\u001b[0;34m\u001b[0m\u001b[0;34m\u001b[0m\u001b[0m\n\u001b[0m\u001b[1;32m      2\u001b[0m \u001b[0;34m\u001b[0m\u001b[0m\n\u001b[1;32m      3\u001b[0m \u001b[0;31m# writelines의 논항에 수치값 사용 불가 (sequence data type만 쓸 수 있음)\u001b[0m\u001b[0;34m\u001b[0m\u001b[0;34m\u001b[0m\u001b[0;34m\u001b[0m\u001b[0m\n",
            "\u001b[0;31mTypeError\u001b[0m: 'int' object is not iterable"
          ]
        }
      ]
    },
    {
      "cell_type": "markdown",
      "source": [
        "# 문자열코드\n",
        "\n",
        "- file을 **읽기 위해 불러올 때** (읽기 전용), 파일의 문자코드가 정해져 있다면 문자코드도 명시해줘야 함\n",
        "- 문자코드\n",
        "  - cp949 -> 한글코드 \n",
        "  - utf-8 -> 유니코드"
      ],
      "metadata": {
        "id": "pu-7Yfqhg8S8"
      }
    },
    {
      "cell_type": "code",
      "source": [
        "open(\"02_data02.txt\")\n",
        "\n",
        "\n",
        "# \"02_data02.txt\"의 문자코드는 UTF-8  ->  위 코드로 쓰면 오류뜸"
      ],
      "metadata": {
        "id": "xaW3B1XVkbdO",
        "colab": {
          "base_uri": "https://localhost:8080/",
          "height": 224
        },
        "outputId": "3c05c446-b0dd-4fb7-a059-0a219f5dfd82"
      },
      "execution_count": null,
      "outputs": [
        {
          "output_type": "error",
          "ename": "FileNotFoundError",
          "evalue": "ignored",
          "traceback": [
            "\u001b[0;31m---------------------------------------------------------------------------\u001b[0m",
            "\u001b[0;31mFileNotFoundError\u001b[0m                         Traceback (most recent call last)",
            "\u001b[0;32m<ipython-input-36-a400a6ae2be6>\u001b[0m in \u001b[0;36m<module>\u001b[0;34m\u001b[0m\n\u001b[0;32m----> 1\u001b[0;31m \u001b[0mopen\u001b[0m\u001b[0;34m(\u001b[0m\u001b[0;34m\"02_data02.txt\"\u001b[0m\u001b[0;34m)\u001b[0m\u001b[0;34m\u001b[0m\u001b[0;34m\u001b[0m\u001b[0m\n\u001b[0m\u001b[1;32m      2\u001b[0m \u001b[0;34m\u001b[0m\u001b[0m\n\u001b[1;32m      3\u001b[0m \u001b[0;34m\u001b[0m\u001b[0m\n\u001b[1;32m      4\u001b[0m \u001b[0;31m# \"02_data02.txt\"의 문자코드는 UTF-8  ->  위 코드로 쓰면 오류뜸\u001b[0m\u001b[0;34m\u001b[0m\u001b[0;34m\u001b[0m\u001b[0;34m\u001b[0m\u001b[0m\n",
            "\u001b[0;31mFileNotFoundError\u001b[0m: [Errno 2] No such file or directory: '02_data02.txt'"
          ]
        }
      ]
    },
    {
      "cell_type": "code",
      "source": [
        "open(\"02_data02.txt\", encoding = 'utf8')\n",
        "\n",
        "# 문자코드 명시 -> 쓰는 형식은 다양"
      ],
      "metadata": {
        "id": "bRbasDdskr5m"
      },
      "execution_count": null,
      "outputs": []
    },
    {
      "cell_type": "code",
      "source": [
        "open(\"02_data02.txt\", encoding = 'utf-8')"
      ],
      "metadata": {
        "id": "viCgXDuYlBuP"
      },
      "execution_count": null,
      "outputs": []
    },
    {
      "cell_type": "code",
      "source": [
        "open(\"02_data02.txt\", encoding = 'utf8').read()[:10]\n",
        "\n",
        "# read() 출력값 datatype이 문자열이므로 slicing 가능"
      ],
      "metadata": {
        "id": "sSV4UiXrlOha"
      },
      "execution_count": null,
      "outputs": []
    },
    {
      "cell_type": "markdown",
      "source": [
        "# 정리"
      ],
      "metadata": {
        "id": "U2q379cFhhuJ"
      }
    },
    {
      "cell_type": "code",
      "source": [
        "변수f -> io datatype\n",
        "\n",
        "<파일을 불러옴>\n",
        "f.read() -> 문자열로 불러옴\n",
        "f.readlines() -> \\n을 기준으로 line 단위로 구분된 리스트로 불러옴\n",
        "# read와 readlines는 마지막에 print 해줘야 화면에서 확인가능! \n",
        "# read, readlines에 의한 출력값은 각각 문자열, 리스트이므로 slicing, indexing 가능\n",
        "\n",
        "\n",
        "<파일에 텍스트 출력>\n",
        "f.write() -> 논항에 문자열만 들어갈 수 있음. \n",
        "f.writelines() -> 논항에 sequence data 모두 들어갈 수 있음. 하나의 이어진 문자열로 파일에 출력됨."
      ],
      "metadata": {
        "id": "GN4iPMiPhi0f"
      },
      "execution_count": null,
      "outputs": []
    }
  ]
}