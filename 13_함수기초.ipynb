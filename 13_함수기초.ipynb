{
  "nbformat": 4,
  "nbformat_minor": 0,
  "metadata": {
    "colab": {
      "provenance": [],
      "include_colab_link": true
    },
    "kernelspec": {
      "name": "python3",
      "display_name": "Python 3"
    },
    "language_info": {
      "name": "python"
    }
  },
  "cells": [
    {
      "cell_type": "markdown",
      "metadata": {
        "id": "view-in-github",
        "colab_type": "text"
      },
      "source": [
        "<a href=\"https://colab.research.google.com/github/YangJeongA/Language-Brain-Computer-2022spring/blob/main/13_%ED%95%A8%EC%88%98%EA%B8%B0%EC%B4%88.ipynb\" target=\"_parent\"><img src=\"https://colab.research.google.com/assets/colab-badge.svg\" alt=\"Open In Colab\"/></a>"
      ]
    },
    {
      "cell_type": "markdown",
      "source": [
        "#내장 함수 (built-in function)"
      ],
      "metadata": {
        "id": "nY1bc0BGAaub"
      }
    },
    {
      "cell_type": "markdown",
      "source": [
        "###int()"
      ],
      "metadata": {
        "id": "FiAi0nWLA1AR"
      }
    },
    {
      "cell_type": "code",
      "source": [
        "int('123')"
      ],
      "metadata": {
        "colab": {
          "base_uri": "https://localhost:8080/"
        },
        "id": "CWhNMN66AaWK",
        "outputId": "92aeb6b4-d43c-4675-f1c2-f92c17e22717"
      },
      "execution_count": 1,
      "outputs": [
        {
          "output_type": "execute_result",
          "data": {
            "text/plain": [
              "123"
            ]
          },
          "metadata": {},
          "execution_count": 1
        }
      ]
    },
    {
      "cell_type": "markdown",
      "source": [
        "###str()"
      ],
      "metadata": {
        "id": "XTEADjJwA24h"
      }
    },
    {
      "cell_type": "code",
      "source": [
        "str(123)"
      ],
      "metadata": {
        "colab": {
          "base_uri": "https://localhost:8080/",
          "height": 36
        },
        "id": "DhS-dDEFAjfy",
        "outputId": "6f29e422-9b44-4760-8f95-52981165b1da"
      },
      "execution_count": 2,
      "outputs": [
        {
          "output_type": "execute_result",
          "data": {
            "text/plain": [
              "'123'"
            ],
            "application/vnd.google.colaboratory.intrinsic+json": {
              "type": "string"
            }
          },
          "metadata": {},
          "execution_count": 2
        }
      ]
    },
    {
      "cell_type": "markdown",
      "source": [
        "###sum()"
      ],
      "metadata": {
        "id": "_9bWI4GpA4Mm"
      }
    },
    {
      "cell_type": "code",
      "source": [
        "sum((1,5,7))"
      ],
      "metadata": {
        "colab": {
          "base_uri": "https://localhost:8080/"
        },
        "id": "d1n0VWvJAknE",
        "outputId": "103e1903-6b61-4b07-cb25-d982724e2333"
      },
      "execution_count": 3,
      "outputs": [
        {
          "output_type": "execute_result",
          "data": {
            "text/plain": [
              "13"
            ]
          },
          "metadata": {},
          "execution_count": 3
        }
      ]
    },
    {
      "cell_type": "code",
      "source": [
        "mean([1,5,7])\n",
        "\n",
        "#mean 함수는 존재하지 않음"
      ],
      "metadata": {
        "colab": {
          "base_uri": "https://localhost:8080/",
          "height": 206
        },
        "id": "A4nR13qzAm6a",
        "outputId": "a5677994-d45d-4161-87c2-7625663a7844"
      },
      "execution_count": 4,
      "outputs": [
        {
          "output_type": "error",
          "ename": "NameError",
          "evalue": "ignored",
          "traceback": [
            "\u001b[0;31m---------------------------------------------------------------------------\u001b[0m",
            "\u001b[0;31mNameError\u001b[0m                                 Traceback (most recent call last)",
            "\u001b[0;32m<ipython-input-4-b74d91188e9b>\u001b[0m in \u001b[0;36m<module>\u001b[0;34m\u001b[0m\n\u001b[0;32m----> 1\u001b[0;31m \u001b[0mmean\u001b[0m\u001b[0;34m(\u001b[0m\u001b[0;34m[\u001b[0m\u001b[0;36m1\u001b[0m\u001b[0;34m,\u001b[0m\u001b[0;36m5\u001b[0m\u001b[0;34m,\u001b[0m\u001b[0;36m7\u001b[0m\u001b[0;34m]\u001b[0m\u001b[0;34m)\u001b[0m\u001b[0;34m\u001b[0m\u001b[0;34m\u001b[0m\u001b[0m\n\u001b[0m\u001b[1;32m      2\u001b[0m \u001b[0;34m\u001b[0m\u001b[0m\n\u001b[1;32m      3\u001b[0m \u001b[0;31m#mean 함수는 존재하지 않음\u001b[0m\u001b[0;34m\u001b[0m\u001b[0;34m\u001b[0m\u001b[0;34m\u001b[0m\u001b[0m\n",
            "\u001b[0;31mNameError\u001b[0m: name 'mean' is not defined"
          ]
        }
      ]
    },
    {
      "cell_type": "markdown",
      "source": [
        "###len()"
      ],
      "metadata": {
        "id": "Am1xNt5IA6Xe"
      }
    },
    {
      "cell_type": "code",
      "source": [
        "len('123')"
      ],
      "metadata": {
        "colab": {
          "base_uri": "https://localhost:8080/"
        },
        "id": "ept11mOjAqgl",
        "outputId": "d891fd5e-d92c-4856-834b-a2678f78169b"
      },
      "execution_count": 5,
      "outputs": [
        {
          "output_type": "execute_result",
          "data": {
            "text/plain": [
              "3"
            ]
          },
          "metadata": {},
          "execution_count": 5
        }
      ]
    },
    {
      "cell_type": "code",
      "source": [
        "len([1,2,3])"
      ],
      "metadata": {
        "colab": {
          "base_uri": "https://localhost:8080/"
        },
        "id": "E6cZWyroAtEi",
        "outputId": "9be777c7-9344-48f8-b1b3-d16268ca2b6e"
      },
      "execution_count": 6,
      "outputs": [
        {
          "output_type": "execute_result",
          "data": {
            "text/plain": [
              "3"
            ]
          },
          "metadata": {},
          "execution_count": 6
        }
      ]
    },
    {
      "cell_type": "code",
      "source": [
        "len((1,2,3))"
      ],
      "metadata": {
        "id": "wk7Jr5OVAuPv",
        "colab": {
          "base_uri": "https://localhost:8080/"
        },
        "outputId": "08868be7-a030-405d-bfc8-1ede0697e860"
      },
      "execution_count": 7,
      "outputs": [
        {
          "output_type": "execute_result",
          "data": {
            "text/plain": [
              "3"
            ]
          },
          "metadata": {},
          "execution_count": 7
        }
      ]
    },
    {
      "cell_type": "code",
      "source": [
        "len(123)"
      ],
      "metadata": {
        "colab": {
          "base_uri": "https://localhost:8080/",
          "height": 170
        },
        "id": "TV4FHOWOAwa_",
        "outputId": "380e69ec-e3ba-46d9-f7f4-70b0965a1470"
      },
      "execution_count": 8,
      "outputs": [
        {
          "output_type": "error",
          "ename": "TypeError",
          "evalue": "ignored",
          "traceback": [
            "\u001b[0;31m---------------------------------------------------------------------------\u001b[0m",
            "\u001b[0;31mTypeError\u001b[0m                                 Traceback (most recent call last)",
            "\u001b[0;32m<ipython-input-8-a95e54e61f62>\u001b[0m in \u001b[0;36m<module>\u001b[0;34m\u001b[0m\n\u001b[0;32m----> 1\u001b[0;31m \u001b[0mlen\u001b[0m\u001b[0;34m(\u001b[0m\u001b[0;36m123\u001b[0m\u001b[0;34m)\u001b[0m\u001b[0;34m\u001b[0m\u001b[0;34m\u001b[0m\u001b[0m\n\u001b[0m",
            "\u001b[0;31mTypeError\u001b[0m: object of type 'int' has no len()"
          ]
        }
      ]
    },
    {
      "cell_type": "code",
      "source": [
        "len('1', '2')"
      ],
      "metadata": {
        "colab": {
          "base_uri": "https://localhost:8080/",
          "height": 170
        },
        "id": "ZVCtZ_2vAymz",
        "outputId": "3a3bf91f-d1da-4e29-c22d-cf2f0062b266"
      },
      "execution_count": 10,
      "outputs": [
        {
          "output_type": "error",
          "ename": "TypeError",
          "evalue": "ignored",
          "traceback": [
            "\u001b[0;31m---------------------------------------------------------------------------\u001b[0m",
            "\u001b[0;31mTypeError\u001b[0m                                 Traceback (most recent call last)",
            "\u001b[0;32m<ipython-input-10-753d6b2769dd>\u001b[0m in \u001b[0;36m<module>\u001b[0;34m\u001b[0m\n\u001b[0;32m----> 1\u001b[0;31m \u001b[0mlen\u001b[0m\u001b[0;34m(\u001b[0m\u001b[0;34m'1'\u001b[0m\u001b[0;34m,\u001b[0m \u001b[0;34m'2'\u001b[0m\u001b[0;34m)\u001b[0m\u001b[0;34m\u001b[0m\u001b[0;34m\u001b[0m\u001b[0m\n\u001b[0m",
            "\u001b[0;31mTypeError\u001b[0m: len() takes exactly one argument (2 given)"
          ]
        }
      ]
    },
    {
      "cell_type": "markdown",
      "source": [
        "###pow()\n",
        "- 거듭제곱 함수"
      ],
      "metadata": {
        "id": "rZvpct-5A8RH"
      }
    },
    {
      "cell_type": "code",
      "source": [
        "pow(2, 4)"
      ],
      "metadata": {
        "colab": {
          "base_uri": "https://localhost:8080/"
        },
        "id": "qsOzRA-lA_Nn",
        "outputId": "93d139e7-2c30-443b-f923-05cb1fa4826f"
      },
      "execution_count": 11,
      "outputs": [
        {
          "output_type": "execute_result",
          "data": {
            "text/plain": [
              "16"
            ]
          },
          "metadata": {},
          "execution_count": 11
        }
      ]
    },
    {
      "cell_type": "markdown",
      "source": [
        "###divmod()\n",
        "- 몫과 나머지가 튜플로 출력"
      ],
      "metadata": {
        "id": "hX4Xevq3BBHS"
      }
    },
    {
      "cell_type": "code",
      "source": [
        "divmod(10, 3)"
      ],
      "metadata": {
        "colab": {
          "base_uri": "https://localhost:8080/"
        },
        "id": "DoF5Aj0TBD9s",
        "outputId": "02280f58-e028-43df-b5ec-a93bc7a31652"
      },
      "execution_count": 12,
      "outputs": [
        {
          "output_type": "execute_result",
          "data": {
            "text/plain": [
              "(3, 1)"
            ]
          },
          "metadata": {},
          "execution_count": 12
        }
      ]
    },
    {
      "cell_type": "markdown",
      "source": [
        "# 사용자 정의 함수 (user-defined function)"
      ],
      "metadata": {
        "id": "ZmoPlDjYBHRD"
      }
    },
    {
      "cell_type": "code",
      "source": [
        "def numeric(x):\n",
        "  if type(x) == int:\n",
        "    x = float(x)\n",
        "  elif type(x) == float:\n",
        "    x = int(x)\n",
        "  return x"
      ],
      "metadata": {
        "id": "EpJ0chPZBKL8"
      },
      "execution_count": 13,
      "outputs": []
    },
    {
      "cell_type": "code",
      "source": [
        "numeric(3)"
      ],
      "metadata": {
        "colab": {
          "base_uri": "https://localhost:8080/"
        },
        "id": "AoMelCzmBT8u",
        "outputId": "272742ec-8139-4fef-e3b2-f8ea5f091d83"
      },
      "execution_count": 14,
      "outputs": [
        {
          "output_type": "execute_result",
          "data": {
            "text/plain": [
              "3.0"
            ]
          },
          "metadata": {},
          "execution_count": 14
        }
      ]
    },
    {
      "cell_type": "code",
      "source": [
        "numeric(3.5)"
      ],
      "metadata": {
        "colab": {
          "base_uri": "https://localhost:8080/"
        },
        "id": "P0AF5tIIBVOL",
        "outputId": "b8653605-231f-4397-dc74-51b9d515b1cc"
      },
      "execution_count": 15,
      "outputs": [
        {
          "output_type": "execute_result",
          "data": {
            "text/plain": [
              "3"
            ]
          },
          "metadata": {},
          "execution_count": 15
        }
      ]
    },
    {
      "cell_type": "code",
      "source": [
        "numeric('3.4')\n",
        "\n",
        "#int도 float도 아닌 경우 그대로 return 됨"
      ],
      "metadata": {
        "colab": {
          "base_uri": "https://localhost:8080/",
          "height": 36
        },
        "id": "WS7pctYpBXLZ",
        "outputId": "08e7af2c-4235-441d-ce9d-e87e15d9a95e"
      },
      "execution_count": 16,
      "outputs": [
        {
          "output_type": "execute_result",
          "data": {
            "text/plain": [
              "'3.4'"
            ],
            "application/vnd.google.colaboratory.intrinsic+json": {
              "type": "string"
            }
          },
          "metadata": {},
          "execution_count": 16
        }
      ]
    },
    {
      "cell_type": "code",
      "source": [
        "numeric (3, 3.5)\n",
        "\n",
        "# 논항에 하나만 들어갈 수 있도록 정의했기 때문에 오류 발생"
      ],
      "metadata": {
        "colab": {
          "base_uri": "https://localhost:8080/",
          "height": 206
        },
        "id": "VrgcQSnBBdq2",
        "outputId": "a6a4043a-8cb9-4b3f-a196-5fb37f89df92"
      },
      "execution_count": 17,
      "outputs": [
        {
          "output_type": "error",
          "ename": "TypeError",
          "evalue": "ignored",
          "traceback": [
            "\u001b[0;31m---------------------------------------------------------------------------\u001b[0m",
            "\u001b[0;31mTypeError\u001b[0m                                 Traceback (most recent call last)",
            "\u001b[0;32m<ipython-input-17-c284f3d6c31b>\u001b[0m in \u001b[0;36m<module>\u001b[0;34m\u001b[0m\n\u001b[0;32m----> 1\u001b[0;31m \u001b[0mnumeric\u001b[0m \u001b[0;34m(\u001b[0m\u001b[0;36m3\u001b[0m\u001b[0;34m,\u001b[0m \u001b[0;36m3.5\u001b[0m\u001b[0;34m)\u001b[0m\u001b[0;34m\u001b[0m\u001b[0;34m\u001b[0m\u001b[0m\n\u001b[0m\u001b[1;32m      2\u001b[0m \u001b[0;34m\u001b[0m\u001b[0m\n\u001b[1;32m      3\u001b[0m \u001b[0;31m# 논항에 하나만 들어갈 수 있도록 정의했기 때문에 오류 발생\u001b[0m\u001b[0;34m\u001b[0m\u001b[0;34m\u001b[0m\u001b[0;34m\u001b[0m\u001b[0m\n",
            "\u001b[0;31mTypeError\u001b[0m: numeric() takes 1 positional argument but 2 were given"
          ]
        }
      ]
    },
    {
      "cell_type": "markdown",
      "source": [
        "# 함수 속의 함수"
      ],
      "metadata": {
        "id": "VwChHGhmBlE8"
      }
    },
    {
      "cell_type": "code",
      "source": [
        "def add(a, b):\n",
        "  return a + b\n",
        "def myabs(a):\n",
        "  if a < 0:\n",
        "    a = -a\n",
        "  return a\n",
        "def addabs(a, b):\n",
        "  return myabs(add(a, b))\n",
        "  \n",
        "\n",
        "# 함수 안에 이전에 만들었던 함수를 포함하기 "
      ],
      "metadata": {
        "id": "IQW2jkT8Bl83"
      },
      "execution_count": 18,
      "outputs": []
    },
    {
      "cell_type": "code",
      "source": [
        "add(1, 3)"
      ],
      "metadata": {
        "colab": {
          "base_uri": "https://localhost:8080/"
        },
        "id": "kf9p-wbcB0hg",
        "outputId": "69b35fbe-e6c4-488c-c619-acc37f70e21b"
      },
      "execution_count": 19,
      "outputs": [
        {
          "output_type": "execute_result",
          "data": {
            "text/plain": [
              "4"
            ]
          },
          "metadata": {},
          "execution_count": 19
        }
      ]
    },
    {
      "cell_type": "code",
      "source": [
        "myabs(-10)"
      ],
      "metadata": {
        "colab": {
          "base_uri": "https://localhost:8080/"
        },
        "id": "H6rjugNaB5S4",
        "outputId": "1f770249-de35-4121-800d-20180f269b7a"
      },
      "execution_count": 20,
      "outputs": [
        {
          "output_type": "execute_result",
          "data": {
            "text/plain": [
              "10"
            ]
          },
          "metadata": {},
          "execution_count": 20
        }
      ]
    },
    {
      "cell_type": "code",
      "source": [
        "addabs(-10, -20)"
      ],
      "metadata": {
        "colab": {
          "base_uri": "https://localhost:8080/"
        },
        "id": "n1Ru1XuOB6vN",
        "outputId": "054fc4c6-0e06-4a79-f446-9e6031a3ac0f"
      },
      "execution_count": 21,
      "outputs": [
        {
          "output_type": "execute_result",
          "data": {
            "text/plain": [
              "30"
            ]
          },
          "metadata": {},
          "execution_count": 21
        }
      ]
    },
    {
      "cell_type": "markdown",
      "source": [
        "# return 없는 함수\n",
        "- return: 함수에서 연산 결과를 출력할 때 사용하는 구문"
      ],
      "metadata": {
        "id": "iJoxzIz6CACk"
      }
    },
    {
      "cell_type": "code",
      "source": [
        "def addmember(x, y):\n",
        "  if x not in y:\n",
        "    y += [x]"
      ],
      "metadata": {
        "id": "0C_1oZzkCD-n"
      },
      "execution_count": 22,
      "outputs": []
    },
    {
      "cell_type": "code",
      "source": [
        "members = ['kim', 'lee']"
      ],
      "metadata": {
        "id": "y3sxElYjCIEo"
      },
      "execution_count": 23,
      "outputs": []
    },
    {
      "cell_type": "code",
      "source": [
        "addmember('park', members)\n",
        "\n",
        "# return이 없는 함수의 경우 output cell에 결과 출력 x"
      ],
      "metadata": {
        "id": "GBUnu-J7CTyi"
      },
      "execution_count": 24,
      "outputs": []
    },
    {
      "cell_type": "code",
      "source": [
        "members"
      ],
      "metadata": {
        "colab": {
          "base_uri": "https://localhost:8080/"
        },
        "id": "OXoZLfK1CdN6",
        "outputId": "e7d16e94-9f62-4c8e-8ed3-ca3d720fa32b"
      },
      "execution_count": 25,
      "outputs": [
        {
          "output_type": "execute_result",
          "data": {
            "text/plain": [
              "['kim', 'lee', 'park']"
            ]
          },
          "metadata": {},
          "execution_count": 25
        }
      ]
    },
    {
      "cell_type": "code",
      "source": [
        "addmember('lee', members)\n",
        "members"
      ],
      "metadata": {
        "colab": {
          "base_uri": "https://localhost:8080/"
        },
        "id": "vcE1Cv-aCfr4",
        "outputId": "62f9f814-5d6d-465e-daa0-ea1ea385e1b4"
      },
      "execution_count": 26,
      "outputs": [
        {
          "output_type": "execute_result",
          "data": {
            "text/plain": [
              "['kim', 'lee', 'park']"
            ]
          },
          "metadata": {},
          "execution_count": 26
        }
      ]
    },
    {
      "cell_type": "markdown",
      "source": [
        "#return의 기능\n",
        "- return이 없는 경우 함수의 연산결과를 output cell에 출력할 수 없음 "
      ],
      "metadata": {
        "id": "oWvWLzljCotT"
      }
    },
    {
      "cell_type": "markdown",
      "source": [
        "###return이 없는 경우"
      ],
      "metadata": {
        "id": "wqMmLrTEDtZE"
      }
    },
    {
      "cell_type": "code",
      "source": [
        "def no_return(x,y):\n",
        "  c = x + y"
      ],
      "metadata": {
        "id": "PEvtqv1wCqpG"
      },
      "execution_count": 29,
      "outputs": []
    },
    {
      "cell_type": "code",
      "source": [
        "no_return(4, 5)"
      ],
      "metadata": {
        "id": "eUtpmqxoD6hZ"
      },
      "execution_count": 31,
      "outputs": []
    },
    {
      "cell_type": "code",
      "source": [
        "print(no_return(4, 5))"
      ],
      "metadata": {
        "colab": {
          "base_uri": "https://localhost:8080/"
        },
        "id": "xMnZWKzKD85T",
        "outputId": "ec7a2e9b-80b1-41eb-8343-0a8fef57209a"
      },
      "execution_count": 32,
      "outputs": [
        {
          "output_type": "stream",
          "name": "stdout",
          "text": [
            "None\n"
          ]
        }
      ]
    },
    {
      "cell_type": "code",
      "source": [
        "type(no_return(4, 5))"
      ],
      "metadata": {
        "colab": {
          "base_uri": "https://localhost:8080/"
        },
        "id": "7MkX-9D_EBTL",
        "outputId": "90f734e8-0d6b-4288-b29a-b2aa0773a21a"
      },
      "execution_count": 33,
      "outputs": [
        {
          "output_type": "execute_result",
          "data": {
            "text/plain": [
              "NoneType"
            ]
          },
          "metadata": {},
          "execution_count": 33
        }
      ]
    },
    {
      "cell_type": "code",
      "source": [
        "z = no_return(4, 5)"
      ],
      "metadata": {
        "id": "T4SyZru2EFrW"
      },
      "execution_count": 34,
      "outputs": []
    },
    {
      "cell_type": "code",
      "source": [
        "z"
      ],
      "metadata": {
        "id": "-MqJZ8jIEHfh"
      },
      "execution_count": 35,
      "outputs": []
    },
    {
      "cell_type": "code",
      "source": [
        "type(z)"
      ],
      "metadata": {
        "colab": {
          "base_uri": "https://localhost:8080/"
        },
        "id": "WEjjgzTBEIff",
        "outputId": "5b728c16-78e7-48dc-c52d-be3a4f13965d"
      },
      "execution_count": 36,
      "outputs": [
        {
          "output_type": "execute_result",
          "data": {
            "text/plain": [
              "NoneType"
            ]
          },
          "metadata": {},
          "execution_count": 36
        }
      ]
    },
    {
      "cell_type": "markdown",
      "source": [
        "### return이 있는 경우"
      ],
      "metadata": {
        "id": "XfM-nJhDEJtE"
      }
    },
    {
      "cell_type": "code",
      "source": [
        "def no_return(x, y):\n",
        "  c = x + y\n",
        "  return c"
      ],
      "metadata": {
        "id": "4d6Acl7VEK3z"
      },
      "execution_count": 37,
      "outputs": []
    },
    {
      "cell_type": "code",
      "source": [
        "no_return(4, 5)"
      ],
      "metadata": {
        "colab": {
          "base_uri": "https://localhost:8080/"
        },
        "id": "kgiCIyqiEQh5",
        "outputId": "e599809a-2846-4bc4-cf2b-d78e0243354e"
      },
      "execution_count": 38,
      "outputs": [
        {
          "output_type": "execute_result",
          "data": {
            "text/plain": [
              "9"
            ]
          },
          "metadata": {},
          "execution_count": 38
        }
      ]
    },
    {
      "cell_type": "code",
      "source": [
        "print(no_return(4, 5))"
      ],
      "metadata": {
        "colab": {
          "base_uri": "https://localhost:8080/"
        },
        "id": "iU000nBtESSJ",
        "outputId": "3756766a-81d6-4f90-9e97-da7512ce4aa1"
      },
      "execution_count": 39,
      "outputs": [
        {
          "output_type": "stream",
          "name": "stdout",
          "text": [
            "9\n"
          ]
        }
      ]
    },
    {
      "cell_type": "code",
      "source": [
        "type(no_return(4, 5))"
      ],
      "metadata": {
        "colab": {
          "base_uri": "https://localhost:8080/"
        },
        "id": "xS9eK7INEUdX",
        "outputId": "56cdc95c-0e5d-459e-9791-395a72a989d0"
      },
      "execution_count": 40,
      "outputs": [
        {
          "output_type": "execute_result",
          "data": {
            "text/plain": [
              "int"
            ]
          },
          "metadata": {},
          "execution_count": 40
        }
      ]
    },
    {
      "cell_type": "code",
      "source": [
        "z = no_return(4, 5)\n",
        "z"
      ],
      "metadata": {
        "colab": {
          "base_uri": "https://localhost:8080/"
        },
        "id": "ZCc_Op8pEXxm",
        "outputId": "df8da375-d077-4266-dbad-b3433c198c2d"
      },
      "execution_count": 41,
      "outputs": [
        {
          "output_type": "execute_result",
          "data": {
            "text/plain": [
              "9"
            ]
          },
          "metadata": {},
          "execution_count": 41
        }
      ]
    },
    {
      "cell_type": "markdown",
      "source": [
        "# print에 의한 출력값과 return에 의한 출력값을 구분할 줄 알기\n",
        "- print의 결과와 return에 의한 결과를 구분할 줄 알아야 하고, return에 의한 출력값은 Jupyter notebook에서 [out]이라고 표시되고 이 값은 변수에 저장 가능함"
      ],
      "metadata": {
        "id": "Tj3lVmzBEjtR"
      }
    },
    {
      "cell_type": "markdown",
      "source": [
        "###1. print에 의한 출력\n",
        "- print에 의한 출력값은 nonetype 값"
      ],
      "metadata": {
        "id": "wVTlw621EnvO"
      }
    },
    {
      "cell_type": "code",
      "source": [
        "def element(x):\n",
        "  for i in x:\n",
        "    print(i)"
      ],
      "metadata": {
        "id": "yxlZQP_MEpGz"
      },
      "execution_count": 42,
      "outputs": []
    },
    {
      "cell_type": "code",
      "source": [
        "element([1, 2, 3])"
      ],
      "metadata": {
        "colab": {
          "base_uri": "https://localhost:8080/"
        },
        "id": "bs8v5FNZEsYT",
        "outputId": "06277292-fea7-474c-c4a5-45b06a57cbdb"
      },
      "execution_count": 43,
      "outputs": [
        {
          "output_type": "stream",
          "name": "stdout",
          "text": [
            "1\n",
            "2\n",
            "3\n"
          ]
        }
      ]
    },
    {
      "cell_type": "code",
      "source": [
        "print(element([1, 2, 3]))"
      ],
      "metadata": {
        "colab": {
          "base_uri": "https://localhost:8080/"
        },
        "id": "p5oFmnAhEv-z",
        "outputId": "f9679881-d33f-4d81-e88f-3eba6d633167"
      },
      "execution_count": 44,
      "outputs": [
        {
          "output_type": "stream",
          "name": "stdout",
          "text": [
            "1\n",
            "2\n",
            "3\n",
            "None\n"
          ]
        }
      ]
    },
    {
      "cell_type": "markdown",
      "source": [
        "### 2. return에 의한 출력"
      ],
      "metadata": {
        "id": "o_F8Ym6mE8A7"
      }
    },
    {
      "cell_type": "code",
      "source": [
        "def element(x):\n",
        "  for i in x:\n",
        "    print(i)\n",
        "  return(i)"
      ],
      "metadata": {
        "id": "pxYNkXsnE-F7"
      },
      "execution_count": 45,
      "outputs": []
    },
    {
      "cell_type": "code",
      "source": [
        "element([1, 2, 3])"
      ],
      "metadata": {
        "colab": {
          "base_uri": "https://localhost:8080/"
        },
        "id": "HbnJnIOXFDS-",
        "outputId": "711ba948-078a-4e33-cb98-0b15b37b932c"
      },
      "execution_count": 46,
      "outputs": [
        {
          "output_type": "stream",
          "name": "stdout",
          "text": [
            "1\n",
            "2\n",
            "3\n"
          ]
        },
        {
          "output_type": "execute_result",
          "data": {
            "text/plain": [
              "3"
            ]
          },
          "metadata": {},
          "execution_count": 46
        }
      ]
    },
    {
      "cell_type": "code",
      "source": [
        "print(element([1, 2, 3]))"
      ],
      "metadata": {
        "colab": {
          "base_uri": "https://localhost:8080/"
        },
        "id": "QU-OKMGhFH3e",
        "outputId": "2114a0fa-2087-437a-c703-ae0df6966aae"
      },
      "execution_count": 47,
      "outputs": [
        {
          "output_type": "stream",
          "name": "stdout",
          "text": [
            "1\n",
            "2\n",
            "3\n",
            "3\n"
          ]
        }
      ]
    },
    {
      "cell_type": "markdown",
      "source": [
        "###3. \n",
        "- print에 의한 출력값은 화면 출력만 가능하고, return에 의한 출력값은 변수에 저장 가능!"
      ],
      "metadata": {
        "id": "YyAVqGTqFx9m"
      }
    },
    {
      "cell_type": "code",
      "source": [
        "def element(x):\n",
        "  for i in x:\n",
        "    print(i)\n",
        "  return(i)"
      ],
      "metadata": {
        "id": "9dbi2glVF33k"
      },
      "execution_count": 48,
      "outputs": []
    },
    {
      "cell_type": "code",
      "source": [
        "a = element([1, 2, 3])"
      ],
      "metadata": {
        "colab": {
          "base_uri": "https://localhost:8080/"
        },
        "id": "hR6-g-rpGw96",
        "outputId": "abca767c-a2b5-4bd7-e072-4b4f6ada9b09"
      },
      "execution_count": 49,
      "outputs": [
        {
          "output_type": "stream",
          "name": "stdout",
          "text": [
            "1\n",
            "2\n",
            "3\n"
          ]
        }
      ]
    },
    {
      "cell_type": "code",
      "source": [
        "a"
      ],
      "metadata": {
        "colab": {
          "base_uri": "https://localhost:8080/"
        },
        "id": "4kYgyztyG35i",
        "outputId": "2baf1f1e-13c3-4581-8dfe-022ba921ad00"
      },
      "execution_count": 50,
      "outputs": [
        {
          "output_type": "execute_result",
          "data": {
            "text/plain": [
              "3"
            ]
          },
          "metadata": {},
          "execution_count": 50
        }
      ]
    },
    {
      "cell_type": "code",
      "source": [
        "print(a)"
      ],
      "metadata": {
        "colab": {
          "base_uri": "https://localhost:8080/"
        },
        "id": "hRfkvGR_HAwx",
        "outputId": "b545fe02-bd1d-49c7-d1c5-83b67e9cef6b"
      },
      "execution_count": 51,
      "outputs": [
        {
          "output_type": "stream",
          "name": "stdout",
          "text": [
            "3\n"
          ]
        }
      ]
    },
    {
      "cell_type": "markdown",
      "source": [
        "###4. for구문 안에 return"
      ],
      "metadata": {
        "id": "K5_Wzu2hHIj_"
      }
    },
    {
      "cell_type": "markdown",
      "source": [
        "####1)"
      ],
      "metadata": {
        "id": "yEJBSllIHsPt"
      }
    },
    {
      "cell_type": "code",
      "source": [
        "def element(x):\n",
        "  for i in x:\n",
        "    print(i)\n",
        "    return(i)\n",
        "\n",
        "\n",
        "# 함수 실행할 때 return은 한번만 실행됨 -> return이 한번 실행되면 함수는 더이상 실행되지 않음"
      ],
      "metadata": {
        "id": "1NtcnmyLHHfD"
      },
      "execution_count": 52,
      "outputs": []
    },
    {
      "cell_type": "code",
      "source": [
        "element([1, 2, 3])"
      ],
      "metadata": {
        "colab": {
          "base_uri": "https://localhost:8080/"
        },
        "id": "gOP2FgBvHYd7",
        "outputId": "f7a797f7-27e2-4a0b-e86b-f8ebf698bdba"
      },
      "execution_count": 53,
      "outputs": [
        {
          "output_type": "stream",
          "name": "stdout",
          "text": [
            "1\n"
          ]
        },
        {
          "output_type": "execute_result",
          "data": {
            "text/plain": [
              "1"
            ]
          },
          "metadata": {},
          "execution_count": 53
        }
      ]
    },
    {
      "cell_type": "code",
      "source": [
        "a = element([1, 2, 3])"
      ],
      "metadata": {
        "colab": {
          "base_uri": "https://localhost:8080/"
        },
        "id": "XHd0hJvXHoRV",
        "outputId": "8907e7ff-38b9-4b38-dc1e-90a55ffb3e12"
      },
      "execution_count": 54,
      "outputs": [
        {
          "output_type": "stream",
          "name": "stdout",
          "text": [
            "1\n"
          ]
        }
      ]
    },
    {
      "cell_type": "code",
      "source": [
        "a"
      ],
      "metadata": {
        "colab": {
          "base_uri": "https://localhost:8080/"
        },
        "id": "4iqKYBwNHqun",
        "outputId": "7ba09d02-0cfb-411b-f603-53d0adec4331"
      },
      "execution_count": 55,
      "outputs": [
        {
          "output_type": "execute_result",
          "data": {
            "text/plain": [
              "1"
            ]
          },
          "metadata": {},
          "execution_count": 55
        }
      ]
    },
    {
      "cell_type": "markdown",
      "source": [
        "####2)"
      ],
      "metadata": {
        "id": "mxgKWFWKHumM"
      }
    },
    {
      "cell_type": "code",
      "source": [
        "def element(x):\n",
        "  for i in x:\n",
        "    print(i)\n",
        "    if i > 1:\n",
        "      return(i)"
      ],
      "metadata": {
        "id": "xJRz_tlzHvQD"
      },
      "execution_count": 56,
      "outputs": []
    },
    {
      "cell_type": "code",
      "source": [
        "element([1, 2, 3])"
      ],
      "metadata": {
        "colab": {
          "base_uri": "https://localhost:8080/"
        },
        "id": "nClgGFblH197",
        "outputId": "9ffcc683-6293-4739-c2cf-40b292b6fa76"
      },
      "execution_count": 57,
      "outputs": [
        {
          "output_type": "stream",
          "name": "stdout",
          "text": [
            "1\n",
            "2\n"
          ]
        },
        {
          "output_type": "execute_result",
          "data": {
            "text/plain": [
              "2"
            ]
          },
          "metadata": {},
          "execution_count": 57
        }
      ]
    },
    {
      "cell_type": "code",
      "source": [
        "def element(x):\n",
        "  for i in x:\n",
        "    print(i)\n",
        "    if i > 2:\n",
        "      return(i)"
      ],
      "metadata": {
        "id": "IZIaQ34KH5JH"
      },
      "execution_count": 58,
      "outputs": []
    },
    {
      "cell_type": "code",
      "source": [
        "element([1, 2, 3])"
      ],
      "metadata": {
        "colab": {
          "base_uri": "https://localhost:8080/"
        },
        "id": "X_8adhA2H9im",
        "outputId": "820d367a-a86e-45b1-a7f4-c95623d980c7"
      },
      "execution_count": 59,
      "outputs": [
        {
          "output_type": "stream",
          "name": "stdout",
          "text": [
            "1\n",
            "2\n",
            "3\n"
          ]
        },
        {
          "output_type": "execute_result",
          "data": {
            "text/plain": [
              "3"
            ]
          },
          "metadata": {},
          "execution_count": 59
        }
      ]
    },
    {
      "cell_type": "markdown",
      "source": [
        "####3) 함수 안에 return 2개"
      ],
      "metadata": {
        "id": "LEMnIYrEH_pf"
      }
    },
    {
      "cell_type": "code",
      "source": [
        "def numeric(x):\n",
        "  if type(x) == int:\n",
        "    return('integer')\n",
        "  else:\n",
        "    return 'float'"
      ],
      "metadata": {
        "id": "dFtT6Pg1IBO_"
      },
      "execution_count": 60,
      "outputs": []
    },
    {
      "cell_type": "code",
      "source": [
        "numeric(10)"
      ],
      "metadata": {
        "colab": {
          "base_uri": "https://localhost:8080/",
          "height": 36
        },
        "id": "_UPfjS8aIGVE",
        "outputId": "0c6e3a73-86e8-4f92-b863-fbd941ba843b"
      },
      "execution_count": 61,
      "outputs": [
        {
          "output_type": "execute_result",
          "data": {
            "text/plain": [
              "'integer'"
            ],
            "application/vnd.google.colaboratory.intrinsic+json": {
              "type": "string"
            }
          },
          "metadata": {},
          "execution_count": 61
        }
      ]
    },
    {
      "cell_type": "code",
      "source": [
        "numeric(10.4)"
      ],
      "metadata": {
        "colab": {
          "base_uri": "https://localhost:8080/",
          "height": 36
        },
        "id": "cIr6cMFeIIEk",
        "outputId": "895300f6-fd79-4b5c-a4cd-708cd42b3930"
      },
      "execution_count": 62,
      "outputs": [
        {
          "output_type": "execute_result",
          "data": {
            "text/plain": [
              "'float'"
            ],
            "application/vnd.google.colaboratory.intrinsic+json": {
              "type": "string"
            }
          },
          "metadata": {},
          "execution_count": 62
        }
      ]
    },
    {
      "cell_type": "markdown",
      "source": [
        "# 전역(global)변수와 지역(local)변수\n",
        "- 함수 구축할 때 사용된 변수가 전역변수인지 지역변수인지 식별해야 함"
      ],
      "metadata": {
        "id": "p3IWQwKxILvz"
      }
    },
    {
      "cell_type": "markdown",
      "source": [
        "## 지역변수\n",
        "- 함수 내부에서 정의\n",
        "- 함수 내에서만 유효\n",
        "- 변수가 작용하는 scope가 함수 내에 국한된 변수"
      ],
      "metadata": {
        "id": "YDdY1njcIZeF"
      }
    },
    {
      "cell_type": "code",
      "source": [
        "def f():\n",
        "  s = 'java'\n",
        "  print(s)"
      ],
      "metadata": {
        "id": "8ZsfbtUmIOp1"
      },
      "execution_count": 63,
      "outputs": []
    },
    {
      "cell_type": "code",
      "source": [
        "s = 'python'"
      ],
      "metadata": {
        "id": "swjT0pd2JupQ"
      },
      "execution_count": 64,
      "outputs": []
    },
    {
      "cell_type": "code",
      "source": [
        "f()\n",
        "\n",
        "# 함수 실행 단계에서는 변수 유효"
      ],
      "metadata": {
        "colab": {
          "base_uri": "https://localhost:8080/"
        },
        "id": "9XRRH6TFJxdr",
        "outputId": "b7bbe9ff-2b59-444f-c9ce-99fea853fb72"
      },
      "execution_count": 65,
      "outputs": [
        {
          "output_type": "stream",
          "name": "stdout",
          "text": [
            "java\n"
          ]
        }
      ]
    },
    {
      "cell_type": "code",
      "source": [
        "s\n",
        "\n",
        "# 함수 실행 이외에서는 함수 내의 지역변수 유효x. 전역변수만 유효함"
      ],
      "metadata": {
        "colab": {
          "base_uri": "https://localhost:8080/",
          "height": 36
        },
        "id": "oYJcoagEKbe-",
        "outputId": "4e8f2a26-2faa-4782-d051-f84f4d4cf94c"
      },
      "execution_count": 66,
      "outputs": [
        {
          "output_type": "execute_result",
          "data": {
            "text/plain": [
              "'python'"
            ],
            "application/vnd.google.colaboratory.intrinsic+json": {
              "type": "string"
            }
          },
          "metadata": {},
          "execution_count": 66
        }
      ]
    },
    {
      "cell_type": "code",
      "source": [
        "def f():\n",
        "  j = 'java'\n",
        "  print(j)"
      ],
      "metadata": {
        "id": "IQcd4an7LRr3"
      },
      "execution_count": 67,
      "outputs": []
    },
    {
      "cell_type": "code",
      "source": [
        "f()"
      ],
      "metadata": {
        "colab": {
          "base_uri": "https://localhost:8080/"
        },
        "id": "ceYutyLhLU9t",
        "outputId": "4bdbef36-4376-47f6-8ace-10cbd49f7423"
      },
      "execution_count": 68,
      "outputs": [
        {
          "output_type": "stream",
          "name": "stdout",
          "text": [
            "java\n"
          ]
        }
      ]
    },
    {
      "cell_type": "code",
      "source": [
        "j\n",
        "\n",
        "# 지역변수는 함수 내에서만 유효"
      ],
      "metadata": {
        "colab": {
          "base_uri": "https://localhost:8080/",
          "height": 206
        },
        "id": "j5B20ZKLLV49",
        "outputId": "46a65572-9768-44fe-8f1e-82ef6a50fa3b"
      },
      "execution_count": 69,
      "outputs": [
        {
          "output_type": "error",
          "ename": "NameError",
          "evalue": "ignored",
          "traceback": [
            "\u001b[0;31m---------------------------------------------------------------------------\u001b[0m",
            "\u001b[0;31mNameError\u001b[0m                                 Traceback (most recent call last)",
            "\u001b[0;32m<ipython-input-69-eac36d078e63>\u001b[0m in \u001b[0;36m<module>\u001b[0;34m\u001b[0m\n\u001b[0;32m----> 1\u001b[0;31m \u001b[0mj\u001b[0m\u001b[0;34m\u001b[0m\u001b[0;34m\u001b[0m\u001b[0m\n\u001b[0m\u001b[1;32m      2\u001b[0m \u001b[0;34m\u001b[0m\u001b[0m\n\u001b[1;32m      3\u001b[0m \u001b[0;31m# 지역변수는 함수 내에서만 유효\u001b[0m\u001b[0;34m\u001b[0m\u001b[0;34m\u001b[0m\u001b[0;34m\u001b[0m\u001b[0m\n",
            "\u001b[0;31mNameError\u001b[0m: name 'j' is not defined"
          ]
        }
      ]
    },
    {
      "cell_type": "markdown",
      "source": [
        "##전역변수\n",
        "- 함수 외부에서 정의\n",
        "- 함수 내에서도 유효\n",
        "- python을 실행한 전체 공간에서 유효한 변수"
      ],
      "metadata": {
        "id": "TnA5OjQEIdw9"
      }
    },
    {
      "cell_type": "code",
      "source": [
        "def f():\n",
        "  print(s)"
      ],
      "metadata": {
        "id": "TomP_okYKkpS"
      },
      "execution_count": 70,
      "outputs": []
    },
    {
      "cell_type": "code",
      "source": [
        "s = 'python'"
      ],
      "metadata": {
        "id": "BPijCaemK8Y-"
      },
      "execution_count": 71,
      "outputs": []
    },
    {
      "cell_type": "code",
      "source": [
        "f()"
      ],
      "metadata": {
        "colab": {
          "base_uri": "https://localhost:8080/"
        },
        "id": "258jPyLwK_Xx",
        "outputId": "31264bc2-cebf-40ae-ab96-5fa0d542f7bb"
      },
      "execution_count": 72,
      "outputs": [
        {
          "output_type": "stream",
          "name": "stdout",
          "text": [
            "python\n"
          ]
        }
      ]
    },
    {
      "cell_type": "markdown",
      "source": [
        "## global\n",
        "- global 명령어를 사용하면 지역변수를 전역변수와 연계해서 사용 가능"
      ],
      "metadata": {
        "id": "4fNEOX2LLZLU"
      }
    },
    {
      "cell_type": "code",
      "source": [
        "def f():\n",
        "  global a\n",
        "  a = 'java'\n",
        "  print(a)\n",
        "\n",
        "\n",
        "# 명령어 global를 사용하면 전역변수가 지역변수와 연계됨 -> 전역변수의 값도 지역변수인 'java'로 바뀜"
      ],
      "metadata": {
        "id": "vUI6t_4mLfwO"
      },
      "execution_count": 73,
      "outputs": []
    },
    {
      "cell_type": "code",
      "source": [
        "a = 'cat'"
      ],
      "metadata": {
        "id": "48IeGJj_LsMc"
      },
      "execution_count": 74,
      "outputs": []
    },
    {
      "cell_type": "code",
      "source": [
        "f()"
      ],
      "metadata": {
        "colab": {
          "base_uri": "https://localhost:8080/"
        },
        "id": "gHNC1Kl9Lt0Y",
        "outputId": "075a990f-628a-49fa-bae7-31f5140ce8e5"
      },
      "execution_count": 75,
      "outputs": [
        {
          "output_type": "stream",
          "name": "stdout",
          "text": [
            "java\n"
          ]
        }
      ]
    },
    {
      "cell_type": "code",
      "source": [
        "a"
      ],
      "metadata": {
        "colab": {
          "base_uri": "https://localhost:8080/",
          "height": 36
        },
        "id": "WJ52BihPLvja",
        "outputId": "6ddd3a47-118d-4ac2-b97c-bc8abff49066"
      },
      "execution_count": 76,
      "outputs": [
        {
          "output_type": "execute_result",
          "data": {
            "text/plain": [
              "'java'"
            ],
            "application/vnd.google.colaboratory.intrinsic+json": {
              "type": "string"
            }
          },
          "metadata": {},
          "execution_count": 76
        }
      ]
    },
    {
      "cell_type": "code",
      "source": [
        "def f():\n",
        "  global aa\n",
        "  aa = 'cat'\n",
        "  print(aa)"
      ],
      "metadata": {
        "id": "LxFFHt6sLz-T"
      },
      "execution_count": 77,
      "outputs": []
    },
    {
      "cell_type": "code",
      "source": [
        "aa\n",
        "\n",
        "# 지역변수를 명령어 global를 통해 전역변수로 인식시키는 것은 함수를 실행시킨 후에 가능함"
      ],
      "metadata": {
        "colab": {
          "base_uri": "https://localhost:8080/",
          "height": 224
        },
        "id": "5r9rfn-tL5WR",
        "outputId": "a2e3109a-d212-49e8-cdd9-504ecf7cf828"
      },
      "execution_count": 78,
      "outputs": [
        {
          "output_type": "error",
          "ename": "NameError",
          "evalue": "ignored",
          "traceback": [
            "\u001b[0;31m---------------------------------------------------------------------------\u001b[0m",
            "\u001b[0;31mNameError\u001b[0m                                 Traceback (most recent call last)",
            "\u001b[0;32m<ipython-input-78-745c6f55dccc>\u001b[0m in \u001b[0;36m<module>\u001b[0;34m\u001b[0m\n\u001b[0;32m----> 1\u001b[0;31m \u001b[0maa\u001b[0m\u001b[0;34m\u001b[0m\u001b[0;34m\u001b[0m\u001b[0m\n\u001b[0m\u001b[1;32m      2\u001b[0m \u001b[0;34m\u001b[0m\u001b[0m\n\u001b[1;32m      3\u001b[0m \u001b[0;31m# 지역변수를 명령어 global를 통해 전역변수로 인식시키는 것은 함수를 실행시킨 후에 가능함\u001b[0m\u001b[0;34m\u001b[0m\u001b[0;34m\u001b[0m\u001b[0;34m\u001b[0m\u001b[0m\n",
            "\u001b[0;31mNameError\u001b[0m: name 'aa' is not defined"
          ]
        }
      ]
    },
    {
      "cell_type": "code",
      "source": [
        "f()"
      ],
      "metadata": {
        "id": "L2VrHIkmMBMj",
        "outputId": "c1e4d652-3f75-4ef9-d760-844175b61954",
        "colab": {
          "base_uri": "https://localhost:8080/"
        }
      },
      "execution_count": 79,
      "outputs": [
        {
          "output_type": "stream",
          "name": "stdout",
          "text": [
            "cat\n"
          ]
        }
      ]
    },
    {
      "cell_type": "code",
      "source": [
        "aa"
      ],
      "metadata": {
        "id": "mVlcwWoUMCfl",
        "outputId": "522de98b-0776-4dcc-a7eb-e3525447195b",
        "colab": {
          "base_uri": "https://localhost:8080/",
          "height": 36
        }
      },
      "execution_count": 80,
      "outputs": [
        {
          "output_type": "execute_result",
          "data": {
            "text/plain": [
              "'cat'"
            ],
            "application/vnd.google.colaboratory.intrinsic+json": {
              "type": "string"
            }
          },
          "metadata": {},
          "execution_count": 80
        }
      ]
    }
  ]
}