{
  "nbformat": 4,
  "nbformat_minor": 0,
  "metadata": {
    "colab": {
      "provenance": [],
      "include_colab_link": true
    },
    "kernelspec": {
      "name": "python3",
      "display_name": "Python 3"
    },
    "language_info": {
      "name": "python"
    }
  },
  "cells": [
    {
      "cell_type": "markdown",
      "metadata": {
        "id": "view-in-github",
        "colab_type": "text"
      },
      "source": [
        "<a href=\"https://colab.research.google.com/github/YangJeongA/Language-Brain-Computer-2022spring/blob/main/3_%EC%A0%9C%EC%96%B4%EB%AC%B8.ipynb\" target=\"_parent\"><img src=\"https://colab.research.google.com/assets/colab-badge.svg\" alt=\"Open In Colab\"/></a>"
      ]
    },
    {
      "cell_type": "markdown",
      "source": [
        "# 제어문\n",
        "\n",
        "1) 조건(해당 조건에 부합하면 코드 실행): if, while\n",
        "\n",
        "2) 반복(반복적으로 어떤 명령문을 실행): for, while"
      ],
      "metadata": {
        "id": "PsF_JR4fczsj"
      }
    },
    {
      "cell_type": "markdown",
      "source": [
        "# 제어문: if\n",
        ": 어떤 조건에 부합하면 if 구문 안의 명령 코드를 실행하고, 부합하지 않으면 실행하지 말라고 코드의 흐름을 제어하는 구문"
      ],
      "metadata": {
        "id": "dsBcO5Wpc_4N"
      }
    },
    {
      "cell_type": "code",
      "execution_count": null,
      "metadata": {
        "id": "-8R2CdZFcx1h"
      },
      "outputs": [],
      "source": [
        "if 조건식:\n",
        "  명령문\n",
        "elif 조건식2:\n",
        "  명령문\n",
        "elif 조건식3:\n",
        "  명령문\n",
        "   ...\n",
        "\n",
        "else:\n",
        "  명령문\n",
        "\n",
        "\n",
        "# 조건식에는 True/False가 출력되는 코드를 입력해주는 것이 원칙\n",
        "# else 옆에는 조건식 써주지 않음"
      ]
    },
    {
      "cell_type": "code",
      "source": [
        "score = 95\n",
        "\n",
        "if score >= 90:\n",
        "  print('축하합니다')\n",
        "else:\n",
        "  print('다음 기회에')"
      ],
      "metadata": {
        "id": "HboT97JLd16_",
        "colab": {
          "base_uri": "https://localhost:8080/"
        },
        "outputId": "563e1362-dfb9-420a-d9f0-52d915c5481d"
      },
      "execution_count": 1,
      "outputs": [
        {
          "output_type": "stream",
          "name": "stdout",
          "text": [
            "축하합니다\n"
          ]
        }
      ]
    },
    {
      "cell_type": "code",
      "source": [
        "score = 80\n",
        "\n",
        "if score >= 90:\n",
        "  print('축하합니다')\n",
        "else:\n",
        "  print('다음 기회에')"
      ],
      "metadata": {
        "id": "djx5wLzUd8Ce",
        "colab": {
          "base_uri": "https://localhost:8080/"
        },
        "outputId": "830e073d-b056-4b27-9c6c-094873e62707"
      },
      "execution_count": 2,
      "outputs": [
        {
          "output_type": "stream",
          "name": "stdout",
          "text": [
            "다음 기회에\n"
          ]
        }
      ]
    },
    {
      "cell_type": "markdown",
      "source": [
        "- if는 반드시 있어야 하지만, elif나 else는 있어도 되고 없어도 됨"
      ],
      "metadata": {
        "id": "dn1uXdnUeOr4"
      }
    },
    {
      "cell_type": "code",
      "source": [
        "score = 95\n",
        "\n",
        "if score >= 90:\n",
        "  print('축하합니다')"
      ],
      "metadata": {
        "id": "51i3TFHBeF1P",
        "colab": {
          "base_uri": "https://localhost:8080/"
        },
        "outputId": "493b6ad5-65cc-4d78-fcd3-54fa8338b1a5"
      },
      "execution_count": 3,
      "outputs": [
        {
          "output_type": "stream",
          "name": "stdout",
          "text": [
            "축하합니다\n"
          ]
        }
      ]
    },
    {
      "cell_type": "code",
      "source": [
        "score = 80\n",
        "\n",
        "if score >= 90:\n",
        "  print('축하합니다')"
      ],
      "metadata": {
        "id": "UBVP080eeJGY"
      },
      "execution_count": 4,
      "outputs": []
    },
    {
      "cell_type": "code",
      "source": [
        "score = 80\n",
        "\n",
        "if score >= 90:\n",
        "  print('축하합니다')\n",
        "elif score < 90 and score >= 80:\n",
        "  print('다음 기회에')"
      ],
      "metadata": {
        "id": "Lwaj_IXLeMaJ",
        "colab": {
          "base_uri": "https://localhost:8080/"
        },
        "outputId": "74ebabb4-be4e-4edc-e679-e61f1a1a3c13"
      },
      "execution_count": 5,
      "outputs": [
        {
          "output_type": "stream",
          "name": "stdout",
          "text": [
            "다음 기회에\n"
          ]
        }
      ]
    },
    {
      "cell_type": "code",
      "source": [
        "score = 45\n",
        "\n",
        "if score >= 90:\n",
        "  print('A학점')\n",
        "elif score >= 80:\n",
        "  print('B학점')\n",
        "elif score >= 70:\n",
        "  print('C학점')\n",
        "elif score >= 60:\n",
        "  print('D학점')\n",
        "else:\n",
        "  print('F학점')"
      ],
      "metadata": {
        "id": "DswVKqkNecwk",
        "colab": {
          "base_uri": "https://localhost:8080/"
        },
        "outputId": "41cb6e54-136c-416d-d790-9e7f0e838b3f"
      },
      "execution_count": 6,
      "outputs": [
        {
          "output_type": "stream",
          "name": "stdout",
          "text": [
            "F학점\n"
          ]
        }
      ]
    },
    {
      "cell_type": "markdown",
      "source": [
        "* 중첩 if문"
      ],
      "metadata": {
        "id": "7OMVQCnfevVD"
      }
    },
    {
      "cell_type": "code",
      "source": [
        "score = 80\n",
        "\n",
        "if score >= 80:\n",
        "  if score >= 90:\n",
        "    print('축하합니다')\n",
        "  else:\n",
        "    print('더 노력을!')"
      ],
      "metadata": {
        "id": "31-LrKqEe44i",
        "colab": {
          "base_uri": "https://localhost:8080/"
        },
        "outputId": "55642ea1-73d7-4e1a-ef19-6e9bd9c41ccd"
      },
      "execution_count": 7,
      "outputs": [
        {
          "output_type": "stream",
          "name": "stdout",
          "text": [
            "더 노력을!\n"
          ]
        }
      ]
    },
    {
      "cell_type": "code",
      "source": [
        "score = 95\n",
        "\n",
        "if score >= 80:\n",
        "  if score >= 90:\n",
        "    if score >= 95:\n",
        "      print('아주 훌륭하네요!')\n",
        "    else:\n",
        "      print('더 노력을!')"
      ],
      "metadata": {
        "id": "w8k3TwQFfB54",
        "colab": {
          "base_uri": "https://localhost:8080/"
        },
        "outputId": "91569e90-6582-4b82-ff98-857617bd1518"
      },
      "execution_count": 8,
      "outputs": [
        {
          "output_type": "stream",
          "name": "stdout",
          "text": [
            "아주 훌륭하네요!\n"
          ]
        }
      ]
    },
    {
      "cell_type": "markdown",
      "source": [
        "# 조건식의 자격\n",
        "\n",
        "- 조건식: True 또는 False가 출력되는 코드\n",
        "- if나 elif 옆에는 조건식을 입력해야 하는데, True 또는 False를 직접 입력해도 됨"
      ],
      "metadata": {
        "id": "sWmzPhbdfMl3"
      }
    },
    {
      "cell_type": "markdown",
      "source": [
        "#### 1."
      ],
      "metadata": {
        "id": "tzqs0miljR-4"
      }
    },
    {
      "cell_type": "code",
      "source": [
        "if True:\n",
        "  print('성공')\n",
        "\n",
        "# 무조건 실행됨"
      ],
      "metadata": {
        "colab": {
          "base_uri": "https://localhost:8080/"
        },
        "id": "Z5nqLUbGiQsW",
        "outputId": "bfee2375-b772-4ab8-a14f-cae010a5f76d"
      },
      "execution_count": 9,
      "outputs": [
        {
          "output_type": "stream",
          "name": "stdout",
          "text": [
            "성공\n"
          ]
        }
      ]
    },
    {
      "cell_type": "code",
      "source": [
        "if False:\n",
        "  print('실패')\n",
        "\n",
        "# 어떤 경우에도 실행x"
      ],
      "metadata": {
        "id": "S5b7Cv9oiTuF"
      },
      "execution_count": 10,
      "outputs": []
    },
    {
      "cell_type": "code",
      "source": [
        "if 1:\n",
        "  print('성공')\n",
        "\n",
        "# 1은 True로 인식됨"
      ],
      "metadata": {
        "id": "VlzaNjeufPV3",
        "colab": {
          "base_uri": "https://localhost:8080/"
        },
        "outputId": "95245d30-1126-4e8f-a6ed-3ee830434fa1"
      },
      "execution_count": 11,
      "outputs": [
        {
          "output_type": "stream",
          "name": "stdout",
          "text": [
            "성공\n"
          ]
        }
      ]
    },
    {
      "cell_type": "code",
      "source": [
        "if 0:\n",
        "  print('실패')\n",
        "\n",
        "# 0은 False로 인식됨"
      ],
      "metadata": {
        "id": "GdXgvwTmik3l"
      },
      "execution_count": 12,
      "outputs": []
    },
    {
      "cell_type": "code",
      "source": [
        "if 'a':\n",
        "  print('성공')\n",
        "\n",
        "# 조건식이 문자열 -> 문자열을 구성하는 문자가 하나 이상이라도 있으면 True로 처리됨"
      ],
      "metadata": {
        "id": "y8_jVQ0niqby",
        "colab": {
          "base_uri": "https://localhost:8080/"
        },
        "outputId": "6134953e-5b18-414f-9da6-ceed5cb6b759"
      },
      "execution_count": 13,
      "outputs": [
        {
          "output_type": "stream",
          "name": "stdout",
          "text": [
            "성공\n"
          ]
        }
      ]
    },
    {
      "cell_type": "code",
      "source": [
        "if \"\":\n",
        "  print('실패')\n",
        "\n",
        "# 빈 문자열인 경우 -> False로 인식"
      ],
      "metadata": {
        "id": "DBnnBS2giyoG"
      },
      "execution_count": 14,
      "outputs": []
    },
    {
      "cell_type": "code",
      "source": [
        "if ['']:\n",
        "  print('성공')\n",
        "\n",
        "# 리스트의 원소가 하나라도 있으면 -> True"
      ],
      "metadata": {
        "id": "I2fB4LKyi3At",
        "colab": {
          "base_uri": "https://localhost:8080/"
        },
        "outputId": "2653cd6d-1b58-43bb-ad23-18cea7376cbd"
      },
      "execution_count": 15,
      "outputs": [
        {
          "output_type": "stream",
          "name": "stdout",
          "text": [
            "성공\n"
          ]
        }
      ]
    },
    {
      "cell_type": "code",
      "source": [
        "if []:\n",
        "  print('실패')\n",
        "\n",
        "# 리스트의 원소가 하나도 없으면 -> False"
      ],
      "metadata": {
        "id": "z8oc9FzJi8eJ"
      },
      "execution_count": 16,
      "outputs": []
    },
    {
      "cell_type": "markdown",
      "source": [
        "- python에서는 어떤 데이터 구조가 빈 데이터 구조이면 False로 처리됨. 그러나 데이터 구조에 원소가 하나 이상 있으면 True로 처리됨"
      ],
      "metadata": {
        "id": "UNzRHSN7jEIK"
      }
    },
    {
      "cell_type": "markdown",
      "source": [
        "#### 2."
      ],
      "metadata": {
        "id": "tOzCddVyjTo-"
      }
    },
    {
      "cell_type": "code",
      "source": [
        "a = 10\n",
        "b = 20"
      ],
      "metadata": {
        "id": "zxHMO2nFjUOY"
      },
      "execution_count": 17,
      "outputs": []
    },
    {
      "cell_type": "code",
      "source": [
        "a != 10"
      ],
      "metadata": {
        "id": "nSIPeM6LjVp3",
        "colab": {
          "base_uri": "https://localhost:8080/"
        },
        "outputId": "8de1a2c8-ef14-4650-9e16-e6c430fa3ec6"
      },
      "execution_count": 18,
      "outputs": [
        {
          "output_type": "execute_result",
          "data": {
            "text/plain": [
              "False"
            ]
          },
          "metadata": {},
          "execution_count": 18
        }
      ]
    },
    {
      "cell_type": "code",
      "source": [
        "a == b"
      ],
      "metadata": {
        "id": "D9svCcAGjW-f",
        "colab": {
          "base_uri": "https://localhost:8080/"
        },
        "outputId": "622ab936-f517-4444-f6e4-3b41e6e9acb8"
      },
      "execution_count": 19,
      "outputs": [
        {
          "output_type": "execute_result",
          "data": {
            "text/plain": [
              "False"
            ]
          },
          "metadata": {},
          "execution_count": 19
        }
      ]
    },
    {
      "cell_type": "code",
      "source": [
        "a < b"
      ],
      "metadata": {
        "id": "V4wO0BoxjXiP",
        "colab": {
          "base_uri": "https://localhost:8080/"
        },
        "outputId": "aa8cfee7-4812-41b8-e296-35253297bc41"
      },
      "execution_count": 20,
      "outputs": [
        {
          "output_type": "execute_result",
          "data": {
            "text/plain": [
              "True"
            ]
          },
          "metadata": {},
          "execution_count": 20
        }
      ]
    },
    {
      "cell_type": "code",
      "source": [
        "a==b or a!=b"
      ],
      "metadata": {
        "id": "tvVuk7D_jYCe",
        "colab": {
          "base_uri": "https://localhost:8080/"
        },
        "outputId": "d359c535-f05d-4166-aa6e-32eb31945f4f"
      },
      "execution_count": 21,
      "outputs": [
        {
          "output_type": "execute_result",
          "data": {
            "text/plain": [
              "True"
            ]
          },
          "metadata": {},
          "execution_count": 21
        }
      ]
    },
    {
      "cell_type": "code",
      "source": [
        "if a > b:\n",
        "  print('a는 b보다 크다')\n",
        "else:\n",
        "  print('a는 b보다 같거나 작다')"
      ],
      "metadata": {
        "id": "kgDyEzZOjZvR",
        "colab": {
          "base_uri": "https://localhost:8080/"
        },
        "outputId": "69f345df-6e4d-49aa-f870-1d33e4d216e4"
      },
      "execution_count": 22,
      "outputs": [
        {
          "output_type": "stream",
          "name": "stdout",
          "text": [
            "a는 b보다 같거나 작다\n"
          ]
        }
      ]
    },
    {
      "cell_type": "code",
      "source": [
        "if not a == b:\n",
        "  print('a==b', '는 거짓이다')"
      ],
      "metadata": {
        "id": "D8KZOX_pjf_g",
        "colab": {
          "base_uri": "https://localhost:8080/"
        },
        "outputId": "3af710ba-f38a-402e-d6f4-6590efefd162"
      },
      "execution_count": 23,
      "outputs": [
        {
          "output_type": "stream",
          "name": "stdout",
          "text": [
            "a==b 는 거짓이다\n"
          ]
        }
      ]
    },
    {
      "cell_type": "markdown",
      "source": [
        "# pass\n",
        "\n",
        "- 아무것도 하지 않고 싶을 때 사용 -> 아무 일도 일어나지 않고 다음 코드로 넘어감\n",
        "- 실행할 코드가 없다는 것을 의미함"
      ],
      "metadata": {
        "id": "zQSXsz6Ujj8U"
      }
    },
    {
      "cell_type": "code",
      "source": [
        "a = 'apple'\n",
        "\n",
        "if a == 'apple':\n",
        "  pass\n",
        "else:\n",
        "  print('banana')"
      ],
      "metadata": {
        "id": "9B2giLTZjlXI"
      },
      "execution_count": 24,
      "outputs": []
    },
    {
      "cell_type": "code",
      "source": [
        "a = 'apple'\n",
        "\n",
        "if a != 'apple':\n",
        "  pass\n",
        "else:\n",
        "  print('banana')"
      ],
      "metadata": {
        "colab": {
          "base_uri": "https://localhost:8080/"
        },
        "id": "qRqN96r1jvWz",
        "outputId": "15979bf3-d612-40ff-faca-66aeb6138101"
      },
      "execution_count": 25,
      "outputs": [
        {
          "output_type": "stream",
          "name": "stdout",
          "text": [
            "banana\n"
          ]
        }
      ]
    },
    {
      "cell_type": "markdown",
      "source": [
        "#### 예시 "
      ],
      "metadata": {
        "id": "CFF6B3dyFg1M"
      }
    },
    {
      "cell_type": "markdown",
      "source": [
        "#### 1)"
      ],
      "metadata": {
        "id": "esINDEc_F3OH"
      }
    },
    {
      "cell_type": "code",
      "source": [
        "a = 0\n",
        "while a < 10:\n",
        "  a += 1\n",
        "  if a== 10:\n",
        "    print(a)"
      ],
      "metadata": {
        "id": "GB_hjzM_Fold",
        "colab": {
          "base_uri": "https://localhost:8080/"
        },
        "outputId": "cd3f6182-0ea2-4511-c11a-ff786e0ffc07"
      },
      "execution_count": 26,
      "outputs": [
        {
          "output_type": "stream",
          "name": "stdout",
          "text": [
            "10\n"
          ]
        }
      ]
    },
    {
      "cell_type": "code",
      "source": [
        "a = 0\n",
        "while a < 10:\n",
        "  a += 1\n",
        "  if a == 10:\n",
        "    pass\n",
        "  print(a)"
      ],
      "metadata": {
        "id": "anddWn1qF0wH",
        "colab": {
          "base_uri": "https://localhost:8080/"
        },
        "outputId": "493d6800-968b-45a8-9c1f-64127a1d8e60"
      },
      "execution_count": 27,
      "outputs": [
        {
          "output_type": "stream",
          "name": "stdout",
          "text": [
            "1\n",
            "2\n",
            "3\n",
            "4\n",
            "5\n",
            "6\n",
            "7\n",
            "8\n",
            "9\n",
            "10\n"
          ]
        }
      ]
    },
    {
      "cell_type": "markdown",
      "source": [
        "#### 2)"
      ],
      "metadata": {
        "id": "SJRrZeYqF_-q"
      }
    },
    {
      "cell_type": "code",
      "source": [
        "a = 0\n",
        "while a < 10:\n",
        "  a += 1\n",
        "  if a == 5:\n",
        "    pass\n",
        "  elif a == 7:\n",
        "    pass\n",
        "  else:\n",
        "    print(a)"
      ],
      "metadata": {
        "id": "j3aKursvGAqi",
        "colab": {
          "base_uri": "https://localhost:8080/"
        },
        "outputId": "86bee02b-41b2-47fd-f594-32fab76637b2"
      },
      "execution_count": 28,
      "outputs": [
        {
          "output_type": "stream",
          "name": "stdout",
          "text": [
            "1\n",
            "2\n",
            "3\n",
            "4\n",
            "6\n",
            "8\n",
            "9\n",
            "10\n"
          ]
        }
      ]
    },
    {
      "cell_type": "code",
      "source": [
        "a = 0\n",
        "while a < 10:\n",
        "  a += 1\n",
        "  if a ==5 or a == 7:\n",
        "    continue\n",
        "  print(a)"
      ],
      "metadata": {
        "id": "s-slrrNUGKMC",
        "colab": {
          "base_uri": "https://localhost:8080/"
        },
        "outputId": "bba124ac-c285-46a8-b253-fc128f26352c"
      },
      "execution_count": 29,
      "outputs": [
        {
          "output_type": "stream",
          "name": "stdout",
          "text": [
            "1\n",
            "2\n",
            "3\n",
            "4\n",
            "6\n",
            "8\n",
            "9\n",
            "10\n"
          ]
        }
      ]
    },
    {
      "cell_type": "code",
      "source": [
        "a = 0\n",
        "while a < 10:\n",
        "  a += 1\n",
        "  if a != 5 and a != 7:\n",
        "    print(a)"
      ],
      "metadata": {
        "id": "JkGCWZ45GQGt",
        "colab": {
          "base_uri": "https://localhost:8080/"
        },
        "outputId": "d13a8644-c80a-4373-cd9f-af8f34ceeb27"
      },
      "execution_count": 30,
      "outputs": [
        {
          "output_type": "stream",
          "name": "stdout",
          "text": [
            "1\n",
            "2\n",
            "3\n",
            "4\n",
            "6\n",
            "8\n",
            "9\n",
            "10\n"
          ]
        }
      ]
    },
    {
      "cell_type": "markdown",
      "source": [
        "#### 3)"
      ],
      "metadata": {
        "id": "eq90gp_AGXYO"
      }
    },
    {
      "cell_type": "code",
      "source": [
        "a = ['a', 'b']\n",
        "b = ['A', 'B']"
      ],
      "metadata": {
        "id": "tozitl_IGoXS"
      },
      "execution_count": 31,
      "outputs": []
    },
    {
      "cell_type": "code",
      "source": [
        "for i in a:\n",
        "  for j in b:\n",
        "    if j == 'A':\n",
        "      pass\n",
        "    print(j)\n",
        "  print(i+j)"
      ],
      "metadata": {
        "id": "zO-vLyxIGYs6",
        "colab": {
          "base_uri": "https://localhost:8080/"
        },
        "outputId": "c6d5fea5-e67a-46e1-db7d-c5f34ddbb0b2"
      },
      "execution_count": 32,
      "outputs": [
        {
          "output_type": "stream",
          "name": "stdout",
          "text": [
            "A\n",
            "B\n",
            "aB\n",
            "A\n",
            "B\n",
            "bB\n"
          ]
        }
      ]
    },
    {
      "cell_type": "code",
      "source": [
        "for i in a:\n",
        "  for j in b:\n",
        "    if j == 'A':\n",
        "      continue\n",
        "    print(j)\n",
        "  print(i+j)"
      ],
      "metadata": {
        "id": "bn6cwWqCGlMk",
        "colab": {
          "base_uri": "https://localhost:8080/"
        },
        "outputId": "b1173886-2c2c-41f6-e629-11bb43b92528"
      },
      "execution_count": 33,
      "outputs": [
        {
          "output_type": "stream",
          "name": "stdout",
          "text": [
            "B\n",
            "aB\n",
            "B\n",
            "bB\n"
          ]
        }
      ]
    },
    {
      "cell_type": "markdown",
      "source": [
        "# 제어문: for문\n",
        "- 반복구문\n",
        "- 변수명을 이용해서 데이터구조 내의 원소를 왼쪽에서부터 오른쪽으로 하나씩 인출하며 명령문을 반복함"
      ],
      "metadata": {
        "id": "ERfNMUPMkLPu"
      }
    },
    {
      "cell_type": "code",
      "source": [
        "for 변수명 in 데이터구조:\n",
        "  명령문\n",
        "\n",
        "\n",
        "# '데이터구조'에는 모든 것이 올 수 있음 -> 리스트, 문자열, 튜플 등등"
      ],
      "metadata": {
        "id": "N67mu_bVkNsQ"
      },
      "execution_count": 35,
      "outputs": []
    },
    {
      "cell_type": "code",
      "source": [
        "a = ['cat', 'cow', 'tiger']\n",
        "\n",
        "for x in a:\n",
        "  print(x, '\\t', len(x))"
      ],
      "metadata": {
        "colab": {
          "base_uri": "https://localhost:8080/"
        },
        "id": "xS70_pW8kwia",
        "outputId": "e91b2d71-8735-474e-f7c8-8201d9fa87c5"
      },
      "execution_count": 36,
      "outputs": [
        {
          "output_type": "stream",
          "name": "stdout",
          "text": [
            "cat \t 3\n",
            "cow \t 3\n",
            "tiger \t 5\n"
          ]
        }
      ]
    },
    {
      "cell_type": "code",
      "source": [
        "a = ['cat', 'cow', 'tiger']\n",
        "\n",
        "for x in a:\n",
        "  if len(x) == 3:\n",
        "    print(x)"
      ],
      "metadata": {
        "id": "FwlNoZNvk7kN",
        "colab": {
          "base_uri": "https://localhost:8080/"
        },
        "outputId": "f2b8e017-8216-4c4c-c05f-d19388b5903a"
      },
      "execution_count": 37,
      "outputs": [
        {
          "output_type": "stream",
          "name": "stdout",
          "text": [
            "cat\n",
            "cow\n"
          ]
        }
      ]
    },
    {
      "cell_type": "markdown",
      "source": [
        "* for 구문 사용시 고려할 점\n",
        "  - 내가 원하는 결과를 도출하기 위해 변수가 몇개 필요한지\n",
        "  - for 구문에서는 in 다음에는 이미 갖고 있는 데이터 구조가 있어야 함 (in 다음에 사용할 변수(데이터구조)가 없으면 for 구문 사용 불가능)"
      ],
      "metadata": {
        "id": "48mBIU7ylEYq"
      }
    },
    {
      "cell_type": "code",
      "source": [
        "a = 0\n",
        "b = [1, 2, 3, 4, 5]\n",
        "\n",
        "for x in b:\n",
        "  a += x\n",
        "  print(x, a)\n",
        "\n",
        "\n",
        "# 변수 a -> 우리가 여기서 for 구문을 쓰는 이유는 리스트 b의 합산 값을 구하기 위함임. 따라서 이 '합'(구하고자 하는 값)을 저장할 변수 필요"
      ],
      "metadata": {
        "id": "RUUJH3_JlDXF",
        "colab": {
          "base_uri": "https://localhost:8080/"
        },
        "outputId": "92fc17b7-d8d8-4f99-c2e7-71520e95e5cb"
      },
      "execution_count": 38,
      "outputs": [
        {
          "output_type": "stream",
          "name": "stdout",
          "text": [
            "1 1\n",
            "2 3\n",
            "3 6\n",
            "4 10\n",
            "5 15\n"
          ]
        }
      ]
    },
    {
      "cell_type": "code",
      "source": [
        "x = ''\n",
        "y = ['나는', '학교에', '간다']\n",
        "\n",
        "for z in y:\n",
        "  x += z\n",
        "print(z, x)"
      ],
      "metadata": {
        "id": "A2E0mJq_lpWh",
        "colab": {
          "base_uri": "https://localhost:8080/"
        },
        "outputId": "5c843e2c-73db-4701-831e-2c18d4750268"
      },
      "execution_count": 39,
      "outputs": [
        {
          "output_type": "stream",
          "name": "stdout",
          "text": [
            "간다 나는학교에간다\n"
          ]
        }
      ]
    },
    {
      "cell_type": "code",
      "source": [
        "a = 0\n",
        "b = [1, 2, 3, 4, 5]\n",
        "\n",
        "for x in b:\n",
        "  a += x\n",
        "  if x % 2 == 0:\n",
        "    print(x, a)"
      ],
      "metadata": {
        "id": "fk7935gkl15t",
        "colab": {
          "base_uri": "https://localhost:8080/"
        },
        "outputId": "8350fdaf-e10c-4017-974b-2a3727075835"
      },
      "execution_count": 40,
      "outputs": [
        {
          "output_type": "stream",
          "name": "stdout",
          "text": [
            "2 3\n",
            "4 10\n"
          ]
        }
      ]
    },
    {
      "cell_type": "markdown",
      "source": [
        "# 제어문: while문\n",
        "\n",
        "- for 구문과 if 구문이 합쳐진 형태"
      ],
      "metadata": {
        "id": "5XT0Eyd4l8qN"
      }
    },
    {
      "cell_type": "code",
      "source": [
        "while 조건:\n",
        "  명령문\n",
        "else:\n",
        "  명령문\n",
        "\n",
        "\n",
        "# '조건'의 결과가 True이면 while에 해당하는 명령문 실행, False이면 else로 넘어감"
      ],
      "metadata": {
        "id": "pzxuPe32nPej"
      },
      "execution_count": 42,
      "outputs": []
    },
    {
      "cell_type": "code",
      "source": [
        "a = 0\n",
        "while a < 10:\n",
        "  a += 1\n",
        "  print(a)"
      ],
      "metadata": {
        "id": "rHv3QLYRnZ2M",
        "colab": {
          "base_uri": "https://localhost:8080/"
        },
        "outputId": "704ed5eb-b76a-4fe5-ab31-638483fd610e"
      },
      "execution_count": 43,
      "outputs": [
        {
          "output_type": "stream",
          "name": "stdout",
          "text": [
            "1\n",
            "2\n",
            "3\n",
            "4\n",
            "5\n",
            "6\n",
            "7\n",
            "8\n",
            "9\n",
            "10\n"
          ]
        }
      ]
    },
    {
      "cell_type": "code",
      "source": [
        "a = 0\n",
        "while a < 10:\n",
        "  a += 1\n",
        "print(a)"
      ],
      "metadata": {
        "colab": {
          "base_uri": "https://localhost:8080/"
        },
        "id": "nmVzGfTh1vqq",
        "outputId": "99976c2b-2605-4f3b-c0ed-46191444efb8"
      },
      "execution_count": 44,
      "outputs": [
        {
          "output_type": "stream",
          "name": "stdout",
          "text": [
            "10\n"
          ]
        }
      ]
    },
    {
      "cell_type": "markdown",
      "source": [
        "# break, continue\n",
        "\n",
        "- break, continue는 for구문, while구문 등의 반복구문 내에서 if구문과 함께 많이 사용됨\n",
        "- break: 구문 종료\n",
        "- continue: 다음 코드로 넘어가지 않고 처음으로 올라가서 반복구문 실행"
      ],
      "metadata": {
        "id": "Ey2BaEzxneSv"
      }
    },
    {
      "cell_type": "code",
      "source": [
        "a = 0\n",
        "while a < 10:\n",
        "  a = a + 1\n",
        "  if a == 10: break\n",
        "  if a % 2 == 0: continue\n",
        "  print(a)"
      ],
      "metadata": {
        "id": "GiLNjwoyoMNl",
        "colab": {
          "base_uri": "https://localhost:8080/"
        },
        "outputId": "08ba21f9-ffba-4828-fad8-7b2a7e0c23eb"
      },
      "execution_count": 45,
      "outputs": [
        {
          "output_type": "stream",
          "name": "stdout",
          "text": [
            "1\n",
            "3\n",
            "5\n",
            "7\n",
            "9\n"
          ]
        }
      ]
    },
    {
      "cell_type": "code",
      "source": [
        "a = 0\n",
        "b = [1, 2, 3, 4, 5, 6, 7, 8, 9, 10]\n",
        "for x in b:\n",
        "  a += x\n",
        "  if x == 10: break\n",
        "  if x % 2 == 0: continue\n",
        "  print(x, a)"
      ],
      "metadata": {
        "id": "sEl6rPPkoWKa",
        "colab": {
          "base_uri": "https://localhost:8080/"
        },
        "outputId": "d587106b-aac4-4462-e7d9-2056f2d1f1a7"
      },
      "execution_count": 46,
      "outputs": [
        {
          "output_type": "stream",
          "name": "stdout",
          "text": [
            "1 1\n",
            "3 6\n",
            "5 15\n",
            "7 28\n",
            "9 45\n"
          ]
        }
      ]
    },
    {
      "cell_type": "markdown",
      "source": [
        "#### 예시"
      ],
      "metadata": {
        "id": "QB8fHQW_5WEJ"
      }
    },
    {
      "cell_type": "code",
      "source": [
        "a = ['a', 'b']\n",
        "b = ['A', 'B']"
      ],
      "metadata": {
        "id": "e3Yi1Hvh5mdM"
      },
      "execution_count": 47,
      "outputs": []
    },
    {
      "cell_type": "code",
      "source": [
        "for i in a:\n",
        "  for j in b:\n",
        "    print(j)\n",
        "  print(i+j)"
      ],
      "metadata": {
        "colab": {
          "base_uri": "https://localhost:8080/"
        },
        "id": "XaOU9Z9f5XDR",
        "outputId": "54ba12f0-10b9-433d-f5c6-39082c47f409"
      },
      "execution_count": 48,
      "outputs": [
        {
          "output_type": "stream",
          "name": "stdout",
          "text": [
            "A\n",
            "B\n",
            "aB\n",
            "A\n",
            "B\n",
            "bB\n"
          ]
        }
      ]
    },
    {
      "cell_type": "code",
      "source": [
        "for i in a:\n",
        "  for j in b:\n",
        "    if j == 'A':\n",
        "      break\n",
        "    print(j) \n",
        "  print(i+j)\n",
        "\n",
        "\n",
        "# j == A 이면 for j in b 구문이 종료됨 (for i in a 구문만 그대로 실행됨)"
      ],
      "metadata": {
        "colab": {
          "base_uri": "https://localhost:8080/"
        },
        "id": "nyYgN5Y75j_H",
        "outputId": "82ff6d12-44db-4cda-9fcb-adddd44417fb"
      },
      "execution_count": 49,
      "outputs": [
        {
          "output_type": "stream",
          "name": "stdout",
          "text": [
            "aA\n",
            "bA\n"
          ]
        }
      ]
    },
    {
      "cell_type": "code",
      "source": [
        "for i in a:\n",
        "  for j in b:\n",
        "    if j == 'A':\n",
        "      continue\n",
        "    print(j)\n",
        "  print(i+j)\n"
      ],
      "metadata": {
        "colab": {
          "base_uri": "https://localhost:8080/"
        },
        "id": "9DW92X5mAUtt",
        "outputId": "3072147c-264e-43cd-ca69-d1008f4e9ed5"
      },
      "execution_count": 50,
      "outputs": [
        {
          "output_type": "stream",
          "name": "stdout",
          "text": [
            "B\n",
            "aB\n",
            "B\n",
            "bB\n"
          ]
        }
      ]
    }
  ]
}